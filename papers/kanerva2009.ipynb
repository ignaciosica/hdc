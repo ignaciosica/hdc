{
 "cells": [
  {
   "cell_type": "code",
   "execution_count": 952,
   "metadata": {},
   "outputs": [],
   "source": [
    "import numpy as np\n",
    "import math\n",
    "import random\n",
    "from functools import reduce"
   ]
  },
  {
   "cell_type": "code",
   "execution_count": 953,
   "metadata": {},
   "outputs": [],
   "source": [
    "def generateRandomVector(d):\n",
    "    return np.random.randint(2, size = d)"
   ]
  },
  {
   "cell_type": "code",
   "execution_count": 954,
   "metadata": {},
   "outputs": [],
   "source": [
    "dimensions = 10000\n",
    "\n",
    "A = generateRandomVector(dimensions)\n",
    "B = generateRandomVector(dimensions)"
   ]
  },
  {
   "cell_type": "code",
   "execution_count": 955,
   "metadata": {},
   "outputs": [],
   "source": [
    "def similarity(A, B):\n",
    "    if A.size != B.size:\n",
    "        print('A and B have different dimensions.')\n",
    "    \n",
    "    count = 0\n",
    "    for i in range(0,(A.size - 1)):\n",
    "        if A[i]==B[i]:\n",
    "            count += 1\n",
    "    \n",
    "    return count/A.size\n"
   ]
  },
  {
   "cell_type": "code",
   "execution_count": 956,
   "metadata": {},
   "outputs": [],
   "source": [
    "def calculateSTDs(A, B):\n",
    "    return abs((similarity(A,B) * A.size  - 5000) / 50)"
   ]
  },
  {
   "cell_type": "code",
   "execution_count": 957,
   "metadata": {},
   "outputs": [],
   "source": [
    "def applyThreshold(V, n):\n",
    "    if n % 2 == 1:\n",
    "        threshold = lambda x: 1 if x > n/2 else 0\n",
    "    else:\n",
    "        threshold = lambda x: 1 if x > n/2 else (1 if x == n/2 and bool(random.getrandbits(1)) else 0)\n",
    "\n",
    "    vectorized_threshold = np.vectorize(threshold)\n",
    "    return vectorized_threshold(V)"
   ]
  },
  {
   "cell_type": "code",
   "execution_count": 958,
   "metadata": {},
   "outputs": [],
   "source": [
    "def arithmeticSum(A, B):\n",
    "    sum = A + B\n",
    "\n",
    "    return applyThreshold(sum, 2) "
   ]
  },
  {
   "cell_type": "code",
   "execution_count": 959,
   "metadata": {},
   "outputs": [],
   "source": [
    "def arithmeticSubtraction(A, B):\n",
    "    compliment = 1 - B\n",
    "\n",
    "    return arithmeticSum(A, compliment)"
   ]
  },
  {
   "cell_type": "code",
   "execution_count": 971,
   "metadata": {},
   "outputs": [],
   "source": [
    "def arithmeticSumVectors(vectors):\n",
    "    sum = reduce(lambda x, y: x+y, vectors)\n",
    "\n",
    "    return applyThreshold(sum, len(vectors))"
   ]
  },
  {
   "cell_type": "code",
   "execution_count": 961,
   "metadata": {},
   "outputs": [],
   "source": [
    "mean = arithmeticSum(A, B)"
   ]
  },
  {
   "cell_type": "code",
   "execution_count": 962,
   "metadata": {},
   "outputs": [],
   "source": [
    "def comparison(A, B):\n",
    "    dividend = sum(A*B)\n",
    "    divisor = math.sqrt(sum(A**2) * sum(B**2))\n",
    "\n",
    "    return dividend / divisor"
   ]
  },
  {
   "cell_type": "code",
   "execution_count": 963,
   "metadata": {},
   "outputs": [
    {
     "name": "stdout",
     "output_type": "stream",
     "text": [
      "sim  A, A:          0.9999\n",
      "sim  A, B:          0.4985\n",
      "sim  A, mean:       0.7545\n",
      "sim  B, mean:       0.7439\n",
      "comp A, B:          0.5065673784975031\n",
      "comp A, mean:       0.7585714355202725\n",
      "comp B, mean:       0.7506332149763301\n",
      "STDs A, B:          0.3\n",
      "STDs A, mean:      50.899999999999984\n",
      "STDs B, mean:      48.78\n",
      "sim  A, mean - B:   0.6335\n",
      "STDs A, mean - B:  25.58\n",
      "sim  B, mean - B:   0.3759\n",
      "STDs B, mean - B:  26.25999999999999\n"
     ]
    }
   ],
   "source": [
    "print('sim  A, A:         ', similarity(A,A))\n",
    "print('sim  A, B:         ', similarity(A,B))\n",
    "print('sim  A, mean:      ', similarity(A,mean))\n",
    "print('sim  B, mean:      ', similarity(B,mean))\n",
    "\n",
    "print('comp A, B:         ', comparison(A, B))\n",
    "print('comp A, mean:      ', comparison(A, mean))\n",
    "print('comp B, mean:      ', comparison(B, mean))\n",
    "\n",
    "print('STDs A, B:         ', calculateSTDs(A, B))\n",
    "print('STDs A, mean:     ', calculateSTDs(A, mean))\n",
    "print('STDs B, mean:     ', calculateSTDs(B, mean))\n",
    "\n",
    "print('sim  A, mean - B:  ',similarity(A, arithmeticSubtraction(mean, B)))\n",
    "print('STDs A, mean - B: ',calculateSTDs(A, arithmeticSubtraction(mean, B)))\n",
    "\n",
    "print('sim  B, mean - B:  ',similarity(B, arithmeticSubtraction(mean, B)))\n",
    "print('STDs B, mean - B: ',calculateSTDs(B, arithmeticSubtraction(mean, B)))"
   ]
  },
  {
   "cell_type": "code",
   "execution_count": 964,
   "metadata": {},
   "outputs": [],
   "source": [
    "def mult(A, B):\n",
    "    return np.bitwise_xor(A, B)"
   ]
  },
  {
   "cell_type": "code",
   "execution_count": 965,
   "metadata": {},
   "outputs": [
    {
     "name": "stdout",
     "output_type": "stream",
     "text": [
      "[1 1 0 ... 1 0 0]\n",
      "[1 0 0 ... 1 0 1]\n",
      "[0 1 0 ... 0 0 1]\n",
      "1.0\n"
     ]
    }
   ],
   "source": [
    "print(A)\n",
    "print(B)\n",
    "print(mult(A, B))\n",
    "print(comparison(A, mult(mult(A, B), B)))"
   ]
  },
  {
   "cell_type": "code",
   "execution_count": 966,
   "metadata": {},
   "outputs": [],
   "source": [
    "class ItemMemory:\n",
    "    def __init__(self, vectors = []):\n",
    "        self.vectors = vectors\n",
    "    \n",
    "    def addVector(self, label, V):\n",
    "        self.vectors.append((label, V))\n",
    "\n",
    "    def cleanUp(self, V):\n",
    "        return max(self.vectors, key=lambda x: comparison(V, x[1]))\n"
   ]
  },
  {
   "cell_type": "code",
   "execution_count": 967,
   "metadata": {},
   "outputs": [],
   "source": [
    "itemMemory = ItemMemory()\n",
    "itemMemory.addVector('A', A)\n",
    "itemMemory.addVector('B', B)\n",
    "itemMemory.addVector('mean', mean)"
   ]
  },
  {
   "cell_type": "code",
   "execution_count": 968,
   "metadata": {},
   "outputs": [
    {
     "name": "stdout",
     "output_type": "stream",
     "text": [
      "[('A', array([1, 1, 0, ..., 1, 0, 0])), ('B', array([1, 0, 0, ..., 1, 0, 1])), ('mean', array([1, 1, 0, ..., 1, 0, 1]))]\n",
      "('B', array([1, 0, 0, ..., 1, 0, 1]))\n"
     ]
    }
   ],
   "source": [
    "print(itemMemory.vectors)\n",
    "print(itemMemory.cleanUp(B))"
   ]
  },
  {
   "cell_type": "code",
   "execution_count": 978,
   "metadata": {},
   "outputs": [
    {
     "name": "stdout",
     "output_type": "stream",
     "text": [
      "('A', array([0, 0, 0, ..., 0, 0, 0]))\n"
     ]
    },
    {
     "ename": "ValueError",
     "evalue": "setting an array element with a sequence. The requested array has an inhomogeneous shape after 1 dimensions. The detected shape was (2,) + inhomogeneous part.",
     "output_type": "error",
     "traceback": [
      "\u001b[0;31m---------------------------------------------------------------------------\u001b[0m",
      "\u001b[0;31mValueError\u001b[0m                                Traceback (most recent call last)",
      "Cell \u001b[0;32mIn[978], line 25\u001b[0m\n\u001b[1;32m     21\u001b[0m V \u001b[39m=\u001b[39m itemMemory\u001b[39m.\u001b[39mcleanUp(mult(H, X))\n\u001b[1;32m     23\u001b[0m \u001b[39mprint\u001b[39m(V)\n\u001b[0;32m---> 25\u001b[0m \u001b[39mprint\u001b[39m(comparison(V, A))\n",
      "Cell \u001b[0;32mIn[962], line 2\u001b[0m, in \u001b[0;36mcomparison\u001b[0;34m(A, B)\u001b[0m\n\u001b[1;32m      1\u001b[0m \u001b[39mdef\u001b[39;00m \u001b[39mcomparison\u001b[39m(A, B):\n\u001b[0;32m----> 2\u001b[0m     dividend \u001b[39m=\u001b[39m \u001b[39msum\u001b[39m(A\u001b[39m*\u001b[39;49mB)\n\u001b[1;32m      3\u001b[0m     divisor \u001b[39m=\u001b[39m math\u001b[39m.\u001b[39msqrt(\u001b[39msum\u001b[39m(A\u001b[39m*\u001b[39m\u001b[39m*\u001b[39m\u001b[39m2\u001b[39m) \u001b[39m*\u001b[39m \u001b[39msum\u001b[39m(B\u001b[39m*\u001b[39m\u001b[39m*\u001b[39m\u001b[39m2\u001b[39m))\n\u001b[1;32m      5\u001b[0m     \u001b[39mreturn\u001b[39;00m dividend \u001b[39m/\u001b[39m divisor\n",
      "\u001b[0;31mValueError\u001b[0m: setting an array element with a sequence. The requested array has an inhomogeneous shape after 1 dimensions. The detected shape was (2,) + inhomogeneous part."
     ]
    }
   ],
   "source": [
    "itemMemoryA = ItemMemory()\n",
    "\n",
    "X = generateRandomVector(dimensions)\n",
    "A = generateRandomVector(dimensions)\n",
    "\n",
    "Y = generateRandomVector(dimensions)\n",
    "B = generateRandomVector(dimensions)\n",
    "\n",
    "Z = generateRandomVector(dimensions)\n",
    "C = generateRandomVector(dimensions)\n",
    "\n",
    "itemMemoryA.addVector('A', A)\n",
    "itemMemoryA.addVector('B', B)\n",
    "itemMemoryA.addVector('C', C)\n",
    "itemMemoryA.addVector('X', X)\n",
    "itemMemoryA.addVector('Y', Y)\n",
    "itemMemoryA.addVector('Z', Z)\n",
    "\n",
    "H = arithmeticSumVectors([mult(A, X), mult(B, Y), mult(C, Z)])\n",
    "\n",
    "unbinded = itemMemory.cleanUp(mult(H, X))\n",
    "\n",
    "print(unbinded)\n",
    "\n",
    "print(comparison(unbinded, A))"
   ]
  }
 ],
 "metadata": {
  "kernelspec": {
   "display_name": "Python 3",
   "language": "python",
   "name": "python3"
  },
  "language_info": {
   "codemirror_mode": {
    "name": "ipython",
    "version": 3
   },
   "file_extension": ".py",
   "mimetype": "text/x-python",
   "name": "python",
   "nbconvert_exporter": "python",
   "pygments_lexer": "ipython3",
   "version": "3.10.12"
  },
  "orig_nbformat": 4
 },
 "nbformat": 4,
 "nbformat_minor": 2
}
