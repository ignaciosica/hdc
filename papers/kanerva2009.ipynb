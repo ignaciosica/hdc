{
 "cells": [
  {
   "cell_type": "markdown",
   "metadata": {},
   "source": [
    "### KANERVA2009\n",
    "\n",
    "Hyperdimensional Computing: An Introduction to Computing in Distributed Representation with High-Dimensional Random Vectors\n",
    "\n",
    "---\n",
    "\n",
    "**Abstract.** The 1990s saw the emergence of cognitive models that depend on very high dimensionality and randomness. They include Holographic Reduced Representations, Spatter Code, Semantic Vectors, Latent Semantic Analysis, Context-Dependent Thinning, and Vector-Symbolic Architecture. They represent things in high-dimensional vectors that are manipulated by operations that produce new high-dimensional vectors in the style of traditional computing, in what is called here hyper-dimensional computing on account of the very high dimensionality. The paper presents the main ideas behind these models, written as a tutorial essay in hopes of making the ideas accessible and even provocative. A sketch of how we have arrived at these models, with references and pointers to further reading, is given at the end. The thesis of the paper is that hyper-dimensional representation has much to offer to students of cognitive science, theoretical neuroscience, computer science and engineering, and mathematics.\n",
    "\n",
    "---\n"
   ]
  },
  {
   "cell_type": "code",
   "execution_count": 1,
   "metadata": {},
   "outputs": [],
   "source": [
    "import numpy as np\n",
    "import math\n",
    "import random\n",
    "from functools import reduce\n",
    "\n",
    "dimensions = 10000"
   ]
  },
  {
   "cell_type": "code",
   "execution_count": 2,
   "metadata": {},
   "outputs": [],
   "source": [
    "def generateRandomVector(d):\n",
    "    return np.random.randint(2, size=d)"
   ]
  },
  {
   "cell_type": "code",
   "execution_count": 3,
   "metadata": {},
   "outputs": [],
   "source": [
    "A = generateRandomVector(dimensions)\n",
    "B = generateRandomVector(dimensions)"
   ]
  },
  {
   "cell_type": "code",
   "execution_count": 4,
   "metadata": {},
   "outputs": [],
   "source": [
    "def similarity(A, B):\n",
    "    if A.size != B.size:\n",
    "        print(\"A and B have different dimensions.\")\n",
    "\n",
    "    count = 0\n",
    "    for i in range(0, (A.size - 1)):\n",
    "        if A[i] == B[i]:\n",
    "            count += 1\n",
    "\n",
    "    return count / A.size"
   ]
  },
  {
   "cell_type": "code",
   "execution_count": 5,
   "metadata": {},
   "outputs": [],
   "source": [
    "def calculateSTDs(A, B):\n",
    "    return abs((similarity(A, B) * A.size - 5000) / 50)"
   ]
  },
  {
   "cell_type": "code",
   "execution_count": 6,
   "metadata": {},
   "outputs": [],
   "source": [
    "def applyThreshold(V, n):\n",
    "    if n % 2 == 1:\n",
    "        threshold = lambda x: 1 if x > n / 2 else 0\n",
    "    else:\n",
    "        threshold = (\n",
    "            lambda x: 1\n",
    "            if x > n / 2\n",
    "            else (1 if x == n / 2 and bool(random.getrandbits(1)) else 0)\n",
    "        )\n",
    "\n",
    "    vectorized_threshold = np.vectorize(threshold)\n",
    "    return vectorized_threshold(V)"
   ]
  },
  {
   "cell_type": "code",
   "execution_count": 7,
   "metadata": {},
   "outputs": [],
   "source": [
    "def arithmeticSum(A, B):\n",
    "    sum = A + B\n",
    "\n",
    "    return applyThreshold(sum, 2)"
   ]
  },
  {
   "cell_type": "code",
   "execution_count": 8,
   "metadata": {},
   "outputs": [],
   "source": [
    "def arithmeticSubtraction(A, B):\n",
    "    compliment = 1 - B\n",
    "\n",
    "    return arithmeticSum(A, compliment)"
   ]
  },
  {
   "cell_type": "code",
   "execution_count": 9,
   "metadata": {},
   "outputs": [],
   "source": [
    "def arithmeticSumVectors(vectors):\n",
    "    sum = reduce(lambda x, y: x + y, vectors)\n",
    "\n",
    "    return applyThreshold(sum, len(vectors))"
   ]
  },
  {
   "cell_type": "code",
   "execution_count": 10,
   "metadata": {},
   "outputs": [],
   "source": [
    "mean = arithmeticSum(A, B)"
   ]
  },
  {
   "cell_type": "code",
   "execution_count": 11,
   "metadata": {},
   "outputs": [],
   "source": [
    "def comparison(A, B):\n",
    "    dividend = sum(A * B)\n",
    "    divisor = math.sqrt(sum(A**2) * sum(B**2))\n",
    "\n",
    "    return dividend / divisor"
   ]
  },
  {
   "cell_type": "code",
   "execution_count": 12,
   "metadata": {},
   "outputs": [
    {
     "name": "stdout",
     "output_type": "stream",
     "text": [
      "sim  A, A:          0.9999\n",
      "sim  A, B:          0.5021\n",
      "sim  A, mean:       0.7484\n",
      "sim  B, mean:       0.7536\n",
      "comp A, B:          0.507293303285248\n",
      "comp A, mean:       0.7480506418534152\n",
      "comp B, mean:       0.7555862063283526\n",
      "STDs A, B:          0.42\n",
      "STDs A, mean:      49.67999999999998\n",
      "STDs B, mean:      50.72000000000002\n",
      "sim  A, mean - B:   0.6235\n",
      "STDs A, mean - B:  24.02\n",
      "sim  B, mean - B:   0.3788\n",
      "STDs B, mean - B:  24.88\n"
     ]
    }
   ],
   "source": [
    "print(\"sim  A, A:         \", similarity(A, A))\n",
    "print(\"sim  A, B:         \", similarity(A, B))\n",
    "print(\"sim  A, mean:      \", similarity(A, mean))\n",
    "print(\"sim  B, mean:      \", similarity(B, mean))\n",
    "\n",
    "print(\"comp A, B:         \", comparison(A, B))\n",
    "print(\"comp A, mean:      \", comparison(A, mean))\n",
    "print(\"comp B, mean:      \", comparison(B, mean))\n",
    "\n",
    "print(\"STDs A, B:         \", calculateSTDs(A, B))\n",
    "print(\"STDs A, mean:     \", calculateSTDs(A, mean))\n",
    "print(\"STDs B, mean:     \", calculateSTDs(B, mean))\n",
    "\n",
    "print(\"sim  A, mean - B:  \", similarity(A, arithmeticSubtraction(mean, B)))\n",
    "print(\"STDs A, mean - B: \", calculateSTDs(A, arithmeticSubtraction(mean, B)))\n",
    "\n",
    "print(\"sim  B, mean - B:  \", similarity(B, arithmeticSubtraction(mean, B)))\n",
    "print(\"STDs B, mean - B: \", calculateSTDs(B, arithmeticSubtraction(mean, B)))"
   ]
  },
  {
   "cell_type": "code",
   "execution_count": 13,
   "metadata": {},
   "outputs": [],
   "source": [
    "def mult(A, B):\n",
    "    return np.bitwise_xor(A, B)"
   ]
  },
  {
   "cell_type": "code",
   "execution_count": 14,
   "metadata": {},
   "outputs": [],
   "source": [
    "def test_own_inverse_xor():\n",
    "    A = generateRandomVector(dimensions)\n",
    "    B = generateRandomVector(dimensions)\n",
    "\n",
    "    assert comparison(A, mult(mult(A, B), B)) > 0.99"
   ]
  },
  {
   "cell_type": "code",
   "execution_count": 15,
   "metadata": {},
   "outputs": [],
   "source": [
    "class ItemMemory:\n",
    "    def __init__(self, vectors=[]):\n",
    "        self.vectors = vectors\n",
    "\n",
    "    def addVector(self, label, V):\n",
    "        self.vectors.append((label, V))\n",
    "\n",
    "    def cleanUp(self, V):\n",
    "        return max(self.vectors, key=lambda x: comparison(V, x[1]))"
   ]
  },
  {
   "cell_type": "code",
   "execution_count": 16,
   "metadata": {},
   "outputs": [],
   "source": [
    "itemMemory = ItemMemory()\n",
    "itemMemory.addVector(\"A\", A)\n",
    "itemMemory.addVector(\"B\", B)\n",
    "itemMemory.addVector(\"mean\", mean)"
   ]
  },
  {
   "cell_type": "code",
   "execution_count": 17,
   "metadata": {},
   "outputs": [
    {
     "name": "stdout",
     "output_type": "stream",
     "text": [
      "B\n"
     ]
    }
   ],
   "source": [
    "print(itemMemory.cleanUp(B)[0])"
   ]
  },
  {
   "cell_type": "code",
   "execution_count": 18,
   "metadata": {},
   "outputs": [
    {
     "name": "stdout",
     "output_type": "stream",
     "text": [
      "A\n",
      "0.7576\n"
     ]
    }
   ],
   "source": [
    "itemMemoryA = ItemMemory()\n",
    "\n",
    "X = generateRandomVector(dimensions)\n",
    "A = generateRandomVector(dimensions)\n",
    "\n",
    "Y = generateRandomVector(dimensions)\n",
    "B = generateRandomVector(dimensions)\n",
    "\n",
    "Z = generateRandomVector(dimensions)\n",
    "C = generateRandomVector(dimensions)\n",
    "\n",
    "itemMemoryA.addVector(\"A\", A)\n",
    "itemMemoryA.addVector(\"B\", B)\n",
    "itemMemoryA.addVector(\"C\", C)\n",
    "itemMemoryA.addVector(\"X\", X)\n",
    "itemMemoryA.addVector(\"Y\", Y)\n",
    "itemMemoryA.addVector(\"Z\", Z)\n",
    "\n",
    "H = arithmeticSumVectors([mult(A, X), mult(B, Y), mult(C, Z)])\n",
    "\n",
    "V = itemMemory.cleanUp(mult(H, X))\n",
    "\n",
    "print(V[0])\n",
    "print(similarity(mult(H, X), A))"
   ]
  },
  {
   "cell_type": "code",
   "execution_count": 19,
   "metadata": {},
   "outputs": [],
   "source": [
    "def generatePermutationMatrix(dimensions):\n",
    "    P = np.eye(dimensions)\n",
    "    np.random.shuffle(P)\n",
    "\n",
    "    return P"
   ]
  },
  {
   "cell_type": "code",
   "execution_count": 20,
   "metadata": {},
   "outputs": [],
   "source": [
    "def test_permutation_keeps_distance():\n",
    "    N = generateRandomVector(dimensions)\n",
    "    M = generateRandomVector(dimensions)\n",
    "\n",
    "    nmMean = arithmeticSum(N, M)\n",
    "\n",
    "    P = generatePermutationMatrix(dimensions)\n",
    "\n",
    "    disB = similarity(N, nmMean)\n",
    "    disA = similarity(P.dot(N), P.dot(nmMean))\n",
    "\n",
    "    assert disB - disA < 0.01"
   ]
  },
  {
   "cell_type": "code",
   "execution_count": 21,
   "metadata": {},
   "outputs": [],
   "source": [
    "def inversePermutation(P):\n",
    "    return np.linalg.inv(P)"
   ]
  },
  {
   "cell_type": "code",
   "execution_count": 22,
   "metadata": {},
   "outputs": [],
   "source": [
    "def test_inverse_permutation_cancels():\n",
    "    V = generateRandomVector(dimensions)\n",
    "    P = generatePermutationMatrix(dimensions)\n",
    "    iP = inversePermutation(P)\n",
    "\n",
    "    assert comparison(iP.dot(P.dot(V)), V) > 0.99\n",
    "    assert similarity(iP.dot(P.dot(V)), V) > 0.99"
   ]
  },
  {
   "cell_type": "code",
   "execution_count": 23,
   "metadata": {},
   "outputs": [],
   "source": [
    "test_permutation_keeps_distance()\n",
    "test_inverse_permutation_cancels()\n",
    "test_own_inverse_xor()"
   ]
  }
 ],
 "metadata": {
  "kernelspec": {
   "display_name": "Python 3",
   "language": "python",
   "name": "python3"
  },
  "language_info": {
   "codemirror_mode": {
    "name": "ipython",
    "version": 3
   },
   "file_extension": ".py",
   "mimetype": "text/x-python",
   "name": "python",
   "nbconvert_exporter": "python",
   "pygments_lexer": "ipython3",
   "version": "3.10.12"
  },
  "orig_nbformat": 4
 },
 "nbformat": 4,
 "nbformat_minor": 2
}
