{
 "cells": [
  {
   "cell_type": "code",
   "execution_count": 1007,
   "metadata": {},
   "outputs": [],
   "source": [
    "import numpy as np\n",
    "import math\n",
    "import random\n",
    "from functools import reduce"
   ]
  },
  {
   "cell_type": "code",
   "execution_count": 1008,
   "metadata": {},
   "outputs": [],
   "source": [
    "def generateRandomVector(d):\n",
    "    return np.random.randint(2, size = d)"
   ]
  },
  {
   "cell_type": "code",
   "execution_count": 1009,
   "metadata": {},
   "outputs": [],
   "source": [
    "dimensions = 10000\n",
    "\n",
    "A = generateRandomVector(dimensions)\n",
    "B = generateRandomVector(dimensions)"
   ]
  },
  {
   "cell_type": "code",
   "execution_count": 1010,
   "metadata": {},
   "outputs": [],
   "source": [
    "def similarity(A, B):\n",
    "    if A.size != B.size:\n",
    "        print('A and B have different dimensions.')\n",
    "    \n",
    "    count = 0\n",
    "    for i in range(0,(A.size - 1)):\n",
    "        if A[i]==B[i]:\n",
    "            count += 1\n",
    "    \n",
    "    return count/A.size\n"
   ]
  },
  {
   "cell_type": "code",
   "execution_count": 1011,
   "metadata": {},
   "outputs": [],
   "source": [
    "def calculateSTDs(A, B):\n",
    "    return abs((similarity(A,B) * A.size  - 5000) / 50)"
   ]
  },
  {
   "cell_type": "code",
   "execution_count": 1012,
   "metadata": {},
   "outputs": [],
   "source": [
    "def applyThreshold(V, n):\n",
    "    if n % 2 == 1:\n",
    "        threshold = lambda x: 1 if x > n/2 else 0\n",
    "    else:\n",
    "        threshold = lambda x: 1 if x > n/2 else (1 if x == n/2 and bool(random.getrandbits(1)) else 0)\n",
    "\n",
    "    vectorized_threshold = np.vectorize(threshold)\n",
    "    return vectorized_threshold(V)"
   ]
  },
  {
   "cell_type": "code",
   "execution_count": 1013,
   "metadata": {},
   "outputs": [],
   "source": [
    "def arithmeticSum(A, B):\n",
    "    sum = A + B\n",
    "\n",
    "    return applyThreshold(sum, 2) "
   ]
  },
  {
   "cell_type": "code",
   "execution_count": 1014,
   "metadata": {},
   "outputs": [],
   "source": [
    "def arithmeticSubtraction(A, B):\n",
    "    compliment = 1 - B\n",
    "\n",
    "    return arithmeticSum(A, compliment)"
   ]
  },
  {
   "cell_type": "code",
   "execution_count": 1015,
   "metadata": {},
   "outputs": [],
   "source": [
    "def arithmeticSumVectors(vectors):\n",
    "    sum = reduce(lambda x, y: x+y, vectors)\n",
    "\n",
    "    return applyThreshold(sum, len(vectors))"
   ]
  },
  {
   "cell_type": "code",
   "execution_count": 1016,
   "metadata": {},
   "outputs": [],
   "source": [
    "mean = arithmeticSum(A, B)"
   ]
  },
  {
   "cell_type": "code",
   "execution_count": 1017,
   "metadata": {},
   "outputs": [],
   "source": [
    "def comparison(A, B):\n",
    "    dividend = sum(A*B)\n",
    "    divisor = math.sqrt(sum(A**2) * sum(B**2))\n",
    "\n",
    "    return dividend / divisor"
   ]
  },
  {
   "cell_type": "code",
   "execution_count": 1018,
   "metadata": {},
   "outputs": [
    {
     "name": "stdout",
     "output_type": "stream",
     "text": [
      "sim  A, A:          0.9999\n",
      "sim  A, B:          0.4929\n",
      "sim  A, mean:       0.7446\n",
      "sim  B, mean:       0.7482\n",
      "comp A, B:          0.48460281706487074\n",
      "comp A, mean:       0.7407356055339365\n",
      "comp B, mean:       0.7447285498772511\n",
      "STDs A, B:          1.42\n",
      "STDs A, mean:      48.92\n",
      "STDs B, mean:      49.64\n",
      "sim  A, mean - B:   0.6263\n",
      "STDs A, mean - B:  24.700000000000017\n",
      "sim  B, mean - B:   0.367\n",
      "STDs B, mean - B:  25.9\n"
     ]
    }
   ],
   "source": [
    "print('sim  A, A:         ', similarity(A,A))\n",
    "print('sim  A, B:         ', similarity(A,B))\n",
    "print('sim  A, mean:      ', similarity(A,mean))\n",
    "print('sim  B, mean:      ', similarity(B,mean))\n",
    "\n",
    "print('comp A, B:         ', comparison(A, B))\n",
    "print('comp A, mean:      ', comparison(A, mean))\n",
    "print('comp B, mean:      ', comparison(B, mean))\n",
    "\n",
    "print('STDs A, B:         ', calculateSTDs(A, B))\n",
    "print('STDs A, mean:     ', calculateSTDs(A, mean))\n",
    "print('STDs B, mean:     ', calculateSTDs(B, mean))\n",
    "\n",
    "print('sim  A, mean - B:  ',similarity(A, arithmeticSubtraction(mean, B)))\n",
    "print('STDs A, mean - B: ',calculateSTDs(A, arithmeticSubtraction(mean, B)))\n",
    "\n",
    "print('sim  B, mean - B:  ',similarity(B, arithmeticSubtraction(mean, B)))\n",
    "print('STDs B, mean - B: ',calculateSTDs(B, arithmeticSubtraction(mean, B)))"
   ]
  },
  {
   "cell_type": "code",
   "execution_count": 1019,
   "metadata": {},
   "outputs": [],
   "source": [
    "def mult(A, B):\n",
    "    return np.bitwise_xor(A, B)"
   ]
  },
  {
   "cell_type": "code",
   "execution_count": 1020,
   "metadata": {},
   "outputs": [
    {
     "name": "stdout",
     "output_type": "stream",
     "text": [
      "[1 0 0 ... 1 0 1]\n",
      "[0 1 1 ... 1 1 0]\n",
      "[1 1 1 ... 0 1 1]\n",
      "1.0\n"
     ]
    }
   ],
   "source": [
    "print(A)\n",
    "print(B)\n",
    "print(mult(A, B))\n",
    "print(comparison(A, mult(mult(A, B), B)))"
   ]
  },
  {
   "cell_type": "code",
   "execution_count": 1021,
   "metadata": {},
   "outputs": [],
   "source": [
    "class ItemMemory:\n",
    "    def __init__(self, vectors = []):\n",
    "        self.vectors = vectors\n",
    "    \n",
    "    def addVector(self, label, V):\n",
    "        self.vectors.append((label, V))\n",
    "\n",
    "    def cleanUp(self, V):\n",
    "        return max(self.vectors, key=lambda x: comparison(V, x[1]))\n"
   ]
  },
  {
   "cell_type": "code",
   "execution_count": 1022,
   "metadata": {},
   "outputs": [],
   "source": [
    "itemMemory = ItemMemory()\n",
    "itemMemory.addVector('A', A)\n",
    "itemMemory.addVector('B', B)\n",
    "itemMemory.addVector('mean', mean)"
   ]
  },
  {
   "cell_type": "code",
   "execution_count": 1023,
   "metadata": {},
   "outputs": [
    {
     "name": "stdout",
     "output_type": "stream",
     "text": [
      "[('A', array([1, 0, 0, ..., 1, 0, 1])), ('B', array([0, 1, 1, ..., 1, 1, 0])), ('mean', array([0, 0, 1, ..., 1, 1, 1]))]\n",
      "('B', array([0, 1, 1, ..., 1, 1, 0]))\n"
     ]
    }
   ],
   "source": [
    "print(itemMemory.vectors)\n",
    "print(itemMemory.cleanUp(B))"
   ]
  },
  {
   "cell_type": "code",
   "execution_count": 1028,
   "metadata": {},
   "outputs": [
    {
     "name": "stdout",
     "output_type": "stream",
     "text": [
      "A\n",
      "0.749\n"
     ]
    }
   ],
   "source": [
    "itemMemoryA = ItemMemory()\n",
    "\n",
    "X = generateRandomVector(dimensions)\n",
    "A = generateRandomVector(dimensions)\n",
    "\n",
    "Y = generateRandomVector(dimensions)\n",
    "B = generateRandomVector(dimensions)\n",
    "\n",
    "Z = generateRandomVector(dimensions)\n",
    "C = generateRandomVector(dimensions)\n",
    "\n",
    "itemMemoryA.addVector('A', A)\n",
    "itemMemoryA.addVector('B', B)\n",
    "itemMemoryA.addVector('C', C)\n",
    "itemMemoryA.addVector('X', X)\n",
    "itemMemoryA.addVector('Y', Y)\n",
    "itemMemoryA.addVector('Z', Z)\n",
    "\n",
    "H = arithmeticSumVectors([mult(A, X), mult(B, Y), mult(C, Z)])\n",
    "\n",
    "V = itemMemory.cleanUp(mult(H, X))\n",
    "\n",
    "print(V[0])\n",
    "print(similarity(mult(H, X), A))"
   ]
  }
 ],
 "metadata": {
  "kernelspec": {
   "display_name": "Python 3",
   "language": "python",
   "name": "python3"
  },
  "language_info": {
   "codemirror_mode": {
    "name": "ipython",
    "version": 3
   },
   "file_extension": ".py",
   "mimetype": "text/x-python",
   "name": "python",
   "nbconvert_exporter": "python",
   "pygments_lexer": "ipython3",
   "version": "3.10.12"
  },
  "orig_nbformat": 4
 },
 "nbformat": 4,
 "nbformat_minor": 2
}
