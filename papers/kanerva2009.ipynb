{
 "cells": [
  {
   "cell_type": "code",
   "execution_count": 630,
   "metadata": {},
   "outputs": [],
   "source": [
    "import numpy as np\n",
    "import math\n",
    "import random"
   ]
  },
  {
   "cell_type": "code",
   "execution_count": 631,
   "metadata": {},
   "outputs": [],
   "source": [
    "def generateRandomVector(d):\n",
    "    return np.random.randint(2, size = d)"
   ]
  },
  {
   "cell_type": "code",
   "execution_count": 632,
   "metadata": {},
   "outputs": [],
   "source": [
    "dimensions = 10000\n",
    "\n",
    "A = generateRandomVector(dimensions)\n",
    "B = generateRandomVector(dimensions)"
   ]
  },
  {
   "cell_type": "code",
   "execution_count": 633,
   "metadata": {},
   "outputs": [],
   "source": [
    "def similarity(A, B):\n",
    "    if A.size != B.size:\n",
    "        print('A and B have different dimensions.')\n",
    "    \n",
    "    count = 0\n",
    "    for i in range(0,(A.size - 1)):\n",
    "        if A[i]==B[i]:\n",
    "            count += 1\n",
    "    \n",
    "    return count/A.size\n"
   ]
  },
  {
   "cell_type": "code",
   "execution_count": 634,
   "metadata": {},
   "outputs": [],
   "source": [
    "def calculateSTDs(A, B):\n",
    "    return (similarity(A,B) * A.size  - 5000) / 50"
   ]
  },
  {
   "cell_type": "code",
   "execution_count": 635,
   "metadata": {},
   "outputs": [],
   "source": [
    "def applyThreshold(V, n):\n",
    "    if n % 2 == 1:\n",
    "        threshold = lambda x: 1 if x > n/2 else 0\n",
    "    else:\n",
    "        threshold = lambda x: 1 if x > n/2 else (1 if x == n/2 and bool(random.getrandbits(1)) else 0)\n",
    "\n",
    "    vectorized_threshold = np.vectorize(threshold)\n",
    "    return vectorized_threshold(V)"
   ]
  },
  {
   "cell_type": "code",
   "execution_count": 636,
   "metadata": {},
   "outputs": [],
   "source": [
    "def arithmeticSum(A, B):\n",
    "    sum = A + B\n",
    "\n",
    "    return applyThreshold(sum, 2) "
   ]
  },
  {
   "cell_type": "code",
   "execution_count": 637,
   "metadata": {},
   "outputs": [],
   "source": [
    "def vectorsArithmeticSum(vectors):\n",
    "    return 3"
   ]
  },
  {
   "cell_type": "code",
   "execution_count": 638,
   "metadata": {},
   "outputs": [],
   "source": [
    "mean = arithmeticSum(A, B)"
   ]
  },
  {
   "cell_type": "code",
   "execution_count": 639,
   "metadata": {},
   "outputs": [],
   "source": [
    "def comparison(A, B):\n",
    "    dividend = sum(A*B)\n",
    "    divisor = math.sqrt(sum(A**2) * sum(B**2))\n",
    "\n",
    "    return dividend / divisor"
   ]
  },
  {
   "cell_type": "code",
   "execution_count": 640,
   "metadata": {},
   "outputs": [
    {
     "name": "stdout",
     "output_type": "stream",
     "text": [
      "sim  A, A:       0.9999\n",
      "sim  A, B:       0.5039\n",
      "sim  A, mean:    0.7517\n",
      "sim  B, mean:    0.7521\n",
      "comp A, B:       0.5063840323173302\n",
      "comp A, mean:    0.7511297380029301\n",
      "comp B, mean:    0.7553756039766878\n",
      "STDs A, B:       0.78\n",
      "STDs A, mean:   50.34\n",
      "STDs B, mean:   50.42\n"
     ]
    }
   ],
   "source": [
    "print('sim  A, A:      ', similarity(A,A))\n",
    "print('sim  A, B:      ', similarity(A,B))\n",
    "print('sim  A, mean:   ', similarity(A,mean))\n",
    "print('sim  B, mean:   ', similarity(B,mean))\n",
    "\n",
    "print('comp A, B:      ', comparison(A, B))\n",
    "print('comp A, mean:   ', comparison(A, mean))\n",
    "print('comp B, mean:   ', comparison(B, mean))\n",
    "\n",
    "print('STDs A, B:      ', calculateSTDs(A, B))\n",
    "print('STDs A, mean:  ', calculateSTDs(A, mean))\n",
    "print('STDs B, mean:  ', calculateSTDs(B, mean))"
   ]
  },
  {
   "cell_type": "code",
   "execution_count": 641,
   "metadata": {},
   "outputs": [],
   "source": [
    "def arithmeticSubtraction(A, B):\n",
    "    compliment = 1 - B\n",
    "\n",
    "    return arithmeticSum(A, compliment)"
   ]
  },
  {
   "cell_type": "code",
   "execution_count": 642,
   "metadata": {},
   "outputs": [
    {
     "data": {
      "text/plain": [
       "25.54"
      ]
     },
     "execution_count": 642,
     "metadata": {},
     "output_type": "execute_result"
    }
   ],
   "source": [
    "similarity(A, arithmeticSubtraction(mean, B))\n",
    "calculateSTDs(A, arithmeticSubtraction(mean, B))"
   ]
  }
 ],
 "metadata": {
  "kernelspec": {
   "display_name": "Python 3",
   "language": "python",
   "name": "python3"
  },
  "language_info": {
   "codemirror_mode": {
    "name": "ipython",
    "version": 3
   },
   "file_extension": ".py",
   "mimetype": "text/x-python",
   "name": "python",
   "nbconvert_exporter": "python",
   "pygments_lexer": "ipython3",
   "version": "3.10.12"
  },
  "orig_nbformat": 4
 },
 "nbformat": 4,
 "nbformat_minor": 2
}
