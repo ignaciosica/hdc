{
 "cells": [
  {
   "cell_type": "markdown",
   "metadata": {},
   "source": [
    "# KANERVA2009\n",
    "\n",
    "**Hyperdimensional Computing: An Introduction to Computing in Distributed Representation with High-Dimensional Random Vectors**\n",
    "\n",
    "---\n",
    "\n",
    "**Abstract.** The 1990s saw the emergence of cognitive models that depend on very high dimensionality and randomness. They include Holographic Reduced Representations, Spatter Code, Semantic Vectors, Latent Semantic Analysis, Context-Dependent Thinning, and Vector-Symbolic Architecture. They represent things in high-dimensional vectors that are manipulated by operations that produce new high-dimensional vectors in the style of traditional computing, in what is called here hyper-dimensional computing on account of the very high dimensionality. The paper presents the main ideas behind these models, written as a tutorial essay in hopes of making the ideas accessible and even provocative. A sketch of how we have arrived at these models, with references and pointers to further reading, is given at the end. The thesis of the paper is that hyper-dimensional representation has much to offer to students of cognitive science, theoretical neuroscience, computer science and engineering, and mathematics.\n",
    "\n",
    "---\n"
   ]
  },
  {
   "cell_type": "markdown",
   "metadata": {},
   "source": [
    "### Setup\n"
   ]
  },
  {
   "cell_type": "code",
   "execution_count": 1,
   "metadata": {},
   "outputs": [],
   "source": [
    "import numpy as np\n",
    "import math\n",
    "import random\n",
    "import functools as ft"
   ]
  },
  {
   "cell_type": "markdown",
   "metadata": {},
   "source": [
    "### Logging\n"
   ]
  },
  {
   "cell_type": "code",
   "execution_count": 2,
   "metadata": {},
   "outputs": [],
   "source": [
    "import logging, sys\n",
    "\n",
    "logging.basicConfig(\n",
    "    stream=sys.stderr, level=logging.DEBUG, format=\"[%(levelname)s] %(message)s\"\n",
    ")"
   ]
  },
  {
   "cell_type": "markdown",
   "metadata": {},
   "source": [
    "## Hyperdimensional Computer\n"
   ]
  },
  {
   "cell_type": "markdown",
   "metadata": {},
   "source": [
    "### Hyperdimensional Representation\n"
   ]
  },
  {
   "cell_type": "code",
   "execution_count": 3,
   "metadata": {},
   "outputs": [],
   "source": [
    "DIMENSIONS = 10000"
   ]
  },
  {
   "cell_type": "code",
   "execution_count": 4,
   "metadata": {},
   "outputs": [],
   "source": [
    "def generateRandomVector(d):\n",
    "    return np.random.randint(2, size=d)"
   ]
  },
  {
   "cell_type": "code",
   "execution_count": 5,
   "metadata": {},
   "outputs": [],
   "source": [
    "def similarity(A, B):\n",
    "    if A.size != B.size:\n",
    "        raise Exception(\"A and B have different dimensions.\")\n",
    "\n",
    "    count = 0\n",
    "    for i in range(0, (A.size - 1)):\n",
    "        if A[i] == B[i]:\n",
    "            count += 1\n",
    "\n",
    "    return count / A.size"
   ]
  },
  {
   "cell_type": "code",
   "execution_count": 6,
   "metadata": {},
   "outputs": [],
   "source": [
    "def calculateSTDs(A, B):\n",
    "    return abs((similarity(A, B) * A.size - 5000) / 50)"
   ]
  },
  {
   "cell_type": "markdown",
   "metadata": {},
   "source": [
    "#### Tests\n"
   ]
  },
  {
   "cell_type": "code",
   "execution_count": 7,
   "metadata": {},
   "outputs": [],
   "source": [
    "def test_random_vector():\n",
    "    logging.debug(\"test_random_vector\")\n",
    "\n",
    "    A = generateRandomVector(DIMENSIONS)\n",
    "\n",
    "    similarityAA = similarity(A, A)\n",
    "    calculateSTDsAA = calculateSTDs(A, A)\n",
    "\n",
    "    logging.debug(\"  similarity (A, A): %s\", similarityAA)\n",
    "    assert similarityAA > 0.98\n",
    "    logging.debug(\"  calulateSTDs (A, A): %s\", calculateSTDsAA)\n",
    "    assert calculateSTDsAA > 98"
   ]
  },
  {
   "cell_type": "code",
   "execution_count": 8,
   "metadata": {},
   "outputs": [],
   "source": [
    "def test_random_vectors():\n",
    "    logging.debug(\"test_random_vectors\")\n",
    "\n",
    "    A = generateRandomVector(DIMENSIONS)\n",
    "    B = generateRandomVector(DIMENSIONS)\n",
    "\n",
    "    similarityAB = similarity(A, B)\n",
    "    calculateSTDsAB = calculateSTDs(A, B)\n",
    "\n",
    "    logging.debug(\"  similarity (A, B): %s\", similarityAB)\n",
    "    assert similarityAB > 0.45\n",
    "    assert similarityAB < 0.55\n",
    "    logging.debug(\"  calculateSTDs (A, B): %s\", calculateSTDsAB)\n",
    "    assert calculateSTDsAB < 3"
   ]
  },
  {
   "cell_type": "code",
   "execution_count": 9,
   "metadata": {},
   "outputs": [
    {
     "name": "stderr",
     "output_type": "stream",
     "text": [
      "[DEBUG] test_random_vector\n",
      "[DEBUG]   similarity (A, A): 0.9999\n",
      "[DEBUG]   calulateSTDs (A, A): 99.98\n",
      "[DEBUG] test_random_vectors\n",
      "[DEBUG]   similarity (A, B): 0.5074\n",
      "[DEBUG]   calculateSTDs (A, B): 1.48\n"
     ]
    }
   ],
   "source": [
    "test_random_vector()\n",
    "test_random_vectors()"
   ]
  },
  {
   "cell_type": "markdown",
   "metadata": {},
   "source": [
    "### Hyperdimensional arithmetic\n"
   ]
  },
  {
   "cell_type": "code",
   "execution_count": 10,
   "metadata": {},
   "outputs": [],
   "source": [
    "def comparison(A, B):\n",
    "    dividend = sum(A * B)\n",
    "    divisor = math.sqrt(sum(A**2) * sum(B**2))\n",
    "\n",
    "    return dividend / divisor"
   ]
  },
  {
   "cell_type": "code",
   "execution_count": 11,
   "metadata": {},
   "outputs": [],
   "source": [
    "def applyThreshold(V, n=2):\n",
    "    if n % 2 == 1:\n",
    "        threshold = lambda x: 1 if x > n / 2 else 0\n",
    "    else:\n",
    "        threshold = (\n",
    "            lambda x: 1\n",
    "            if x > n / 2\n",
    "            else (1 if x == n / 2 and bool(random.getrandbits(1)) else 0)\n",
    "        )\n",
    "\n",
    "    vectorized_threshold = np.vectorize(threshold)\n",
    "    return vectorized_threshold(V)"
   ]
  },
  {
   "cell_type": "code",
   "execution_count": 12,
   "metadata": {},
   "outputs": [],
   "source": [
    "def arithmeticSum(A, B):\n",
    "    sum = A + B\n",
    "\n",
    "    return applyThreshold(sum)"
   ]
  },
  {
   "cell_type": "code",
   "execution_count": 13,
   "metadata": {},
   "outputs": [],
   "source": [
    "def arithmeticSumVectors(vectors):\n",
    "    sum = ft.reduce(lambda x, y: x + y, vectors)\n",
    "\n",
    "    return applyThreshold(sum, len(vectors))"
   ]
  },
  {
   "cell_type": "code",
   "execution_count": 14,
   "metadata": {},
   "outputs": [],
   "source": [
    "# TODO: fix arithmetic subtraction\n",
    "def arithmeticSubtraction(A, B):\n",
    "    compliment = 1 - B\n",
    "\n",
    "    return arithmeticSum(A, compliment)"
   ]
  },
  {
   "cell_type": "code",
   "execution_count": 15,
   "metadata": {},
   "outputs": [],
   "source": [
    "def mult(A, B):\n",
    "    return np.bitwise_xor(A, B)"
   ]
  },
  {
   "cell_type": "code",
   "execution_count": 16,
   "metadata": {},
   "outputs": [],
   "source": [
    "def generatePermutationMatrix(dimensions):\n",
    "    P = np.eye(dimensions)\n",
    "    np.random.shuffle(P)\n",
    "\n",
    "    return P"
   ]
  },
  {
   "cell_type": "code",
   "execution_count": 17,
   "metadata": {},
   "outputs": [],
   "source": [
    "def inversePermutationMatrix(P):\n",
    "    return np.linalg.inv(P)"
   ]
  },
  {
   "cell_type": "markdown",
   "metadata": {},
   "source": [
    "#### Tests\n"
   ]
  },
  {
   "cell_type": "code",
   "execution_count": 18,
   "metadata": {},
   "outputs": [],
   "source": [
    "def test_comparison():\n",
    "    logging.debug(\"test_comparison\")\n",
    "    A = generateRandomVector(DIMENSIONS)\n",
    "    B = generateRandomVector(DIMENSIONS)\n",
    "\n",
    "    comparisonAA = comparison(A, A)\n",
    "    comparisonAB = comparison(A, B)\n",
    "\n",
    "    logging.debug(\"  comparison (A, A): %s\", comparisonAA)\n",
    "    assert comparisonAA > 0.99\n",
    "\n",
    "    logging.debug(\"  comparison (A, B): %s\", comparisonAB)\n",
    "    assert comparisonAB > 0.45\n",
    "    assert comparisonAB < 0.55"
   ]
  },
  {
   "cell_type": "code",
   "execution_count": 19,
   "metadata": {},
   "outputs": [],
   "source": [
    "def test_arithemtic_sum():\n",
    "    logging.debug(\"test_arithemtic_sum\")\n",
    "    A = generateRandomVector(DIMENSIONS)\n",
    "    B = generateRandomVector(DIMENSIONS)\n",
    "\n",
    "    S = arithmeticSum(A, B)\n",
    "\n",
    "    comparisonSA = comparison(S, A)\n",
    "    comparisonSB = comparison(S, B)\n",
    "\n",
    "    assert comparisonSA > 0.70\n",
    "    logging.debug(\"  comparison (S, A): %s\", comparisonSA)\n",
    "    assert comparisonSB > 0.70\n",
    "    logging.debug(\"  comparison (S, B): %s\", comparisonSB)"
   ]
  },
  {
   "cell_type": "code",
   "execution_count": 20,
   "metadata": {},
   "outputs": [],
   "source": [
    "def test_arithemtic_sum_vectors():\n",
    "    logging.debug(\"test_arithemtic_sum_vectors\")\n",
    "\n",
    "    A = generateRandomVector(DIMENSIONS)\n",
    "    B = generateRandomVector(DIMENSIONS)\n",
    "    C = generateRandomVector(DIMENSIONS)\n",
    "\n",
    "    S = arithmeticSumVectors([A, B, C])\n",
    "\n",
    "    comparisonSA = comparison(S, A)\n",
    "    comparisonSB = comparison(S, B)\n",
    "    comparisonSC = comparison(S, C)\n",
    "\n",
    "    assert comparisonSA > 0.60\n",
    "    logging.debug(\"  comparison (S, A): %s\", comparisonSA)\n",
    "    assert comparisonSB > 0.60\n",
    "    logging.debug(\"  comparison (S, B): %s\", comparisonSB)\n",
    "    assert comparisonSC > 0.60\n",
    "    logging.debug(\"  comparison (S, C): %s\", comparisonSC)"
   ]
  },
  {
   "cell_type": "code",
   "execution_count": 21,
   "metadata": {},
   "outputs": [],
   "source": [
    "def test_arithemtic_sum_vectors_large():\n",
    "    logging.debug(\"test_arithemtic_sum_vectors\")\n",
    "\n",
    "    n = 100\n",
    "    vectors = []\n",
    "\n",
    "    for i in range(1, n):\n",
    "        vectors.append(generateRandomVector(DIMENSIONS))\n",
    "\n",
    "    S = arithmeticSumVectors(vectors)\n",
    "\n",
    "    comparisonS0 = comparison(S, vectors[0])\n",
    "    calculateSTDsS0 = calculateSTDs(S, vectors[0])\n",
    "    comparisonS1 = comparison(S, vectors[1])\n",
    "    calculateSTDsS1 = calculateSTDs(S, vectors[1])\n",
    "    comparisonS2 = comparison(S, vectors[2])\n",
    "    calculateSTDsS2 = calculateSTDs(S, vectors[2])\n",
    "\n",
    "    assert comparisonS0 > 0.524\n",
    "    logging.debug(\"  comparison (S, vectors[0]): %s\", comparisonS0)\n",
    "    assert comparisonS1 > 0.524\n",
    "    logging.debug(\"  comparison (S, vectors[1]): %s\", comparisonS1)\n",
    "    assert comparisonS2 > 0.524\n",
    "    logging.debug(\"  comparison (S, vectors[2]): %s\", comparisonS2)"
   ]
  },
  {
   "cell_type": "code",
   "execution_count": 22,
   "metadata": {},
   "outputs": [],
   "source": [
    "def test_arithemtic_subtraction():\n",
    "    logging.debug(\"test_arithemtic_subtraction\")\n",
    "\n",
    "    A = generateRandomVector(DIMENSIONS)\n",
    "    B = generateRandomVector(DIMENSIONS)\n",
    "    # mean = np.mean([A, B], axis=0)\n",
    "\n",
    "    M = arithmeticSum(A, B)\n",
    "\n",
    "    S = arithmeticSubtraction(M, B)\n",
    "    U = mult(M, B)\n",
    "\n",
    "    comparisonSA = comparison(S, A)\n",
    "    comparisonSB = comparison(S, B)\n",
    "\n",
    "    logging.debug(\"  comparison (S, A): %s\", comparisonSA)\n",
    "    # assert comparisonSA > 0.70\n",
    "    logging.debug(\"  comparison (S, B): %s\", comparisonSB)\n",
    "    # assert comparisonSB > 0.70\n",
    "\n",
    "    comparisonUA = comparison(U, A)\n",
    "    comparisonUB = comparison(U, B)\n",
    "\n",
    "    logging.debug(\"  comparison (U, A): %s\", comparisonUA)\n",
    "    # assert comparisonSA > 0.70\n",
    "    logging.debug(\"  comparison (U, B): %s\", comparisonUB)\n",
    "    # assert comparisonSB > 0.70"
   ]
  },
  {
   "cell_type": "code",
   "execution_count": 23,
   "metadata": {},
   "outputs": [],
   "source": [
    "def test_own_inverse_xor():\n",
    "    logging.debug(\"test_own_inverse_xor\")\n",
    "\n",
    "    A = generateRandomVector(DIMENSIONS)\n",
    "    B = generateRandomVector(DIMENSIONS)\n",
    "\n",
    "    comparisonAABB = comparison(A, mult(mult(A, B), B))\n",
    "    assert comparisonAABB > 0.99\n",
    "    logging.debug(\"  comparison(A, mult(mult(A, B), B)): %s\", comparisonAABB)"
   ]
  },
  {
   "cell_type": "code",
   "execution_count": 24,
   "metadata": {},
   "outputs": [],
   "source": [
    "def test_permutation_keeps_distance():\n",
    "    logging.debug(\"test_permutation_keeps_distance\")\n",
    "\n",
    "    A = generateRandomVector(DIMENSIONS)\n",
    "    B = generateRandomVector(DIMENSIONS)\n",
    "    P = generatePermutationMatrix(DIMENSIONS)\n",
    "\n",
    "    iA = P.dot(A)\n",
    "    iB = P.dot(B)\n",
    "\n",
    "    comparisonAB = comparison(A, B)\n",
    "    comparisoniAiB = comparison(iA, iB)\n",
    "\n",
    "    logging.debug(\n",
    "        \"  comparison(A, B) - comparison(iA, iB): %s\", comparisonAB - comparisoniAiB\n",
    "    )\n",
    "    assert comparisonAB == comparisoniAiB"
   ]
  },
  {
   "cell_type": "code",
   "execution_count": 25,
   "metadata": {},
   "outputs": [],
   "source": [
    "def test_inverse_permutation_cancels():\n",
    "    logging.debug(\"test_inverse_permutation_cancels\")\n",
    "\n",
    "    V = generateRandomVector(DIMENSIONS)\n",
    "    P = generatePermutationMatrix(DIMENSIONS)\n",
    "    iP = inversePermutationMatrix(P)\n",
    "\n",
    "    comparisonV = comparison(iP.dot(P.dot(V)), V)\n",
    "    similarityV = similarity(iP.dot(P.dot(V)), V)\n",
    "\n",
    "    logging.debug(\"  comparison(iP.dot(P.dot(V)), V): %s\", comparisonV)\n",
    "    assert comparisonV > 0.99\n",
    "\n",
    "    logging.debug(\"  similarity(iP.dot(P.dot(V)), V): %s\", similarityV)\n",
    "    assert similarityV > 0.99"
   ]
  },
  {
   "cell_type": "code",
   "execution_count": 26,
   "metadata": {},
   "outputs": [
    {
     "name": "stderr",
     "output_type": "stream",
     "text": [
      "[DEBUG] test_comparison\n",
      "[DEBUG]   comparison (A, A): 1.0\n",
      "[DEBUG]   comparison (A, B): 0.4943843654623578\n",
      "[DEBUG] test_arithemtic_sum\n",
      "[DEBUG]   comparison (S, A): 0.7479392227715415\n",
      "[DEBUG]   comparison (S, B): 0.754945021776569\n",
      "[DEBUG] test_arithemtic_sum_vectors\n",
      "[DEBUG]   comparison (S, A): 0.7474426871742589\n",
      "[DEBUG]   comparison (S, B): 0.7552402429334132\n",
      "[DEBUG]   comparison (S, C): 0.7469909759919405\n",
      "[DEBUG] test_arithemtic_sum_vectors\n",
      "[DEBUG]   comparison (S, vectors[0]): 0.5356389319071407\n",
      "[DEBUG]   comparison (S, vectors[1]): 0.540711289654036\n",
      "[DEBUG]   comparison (S, vectors[2]): 0.5335216931962784\n",
      "[DEBUG] test_arithemtic_subtraction\n",
      "[DEBUG]   comparison (S, A): 0.6177760595670687\n",
      "[DEBUG]   comparison (S, B): 0.37410286607191295\n",
      "[DEBUG]   comparison (U, A): 0.35221612559412274\n",
      "[DEBUG]   comparison (U, B): 0.353232576291572\n",
      "[DEBUG] test_own_inverse_xor\n",
      "[DEBUG]   comparison(A, mult(mult(A, B), B)): 1.0\n",
      "[DEBUG] test_permutation_keeps_distance\n",
      "[DEBUG]   comparison(A, B) - comparison(iA, iB): 0.0\n",
      "[DEBUG] test_inverse_permutation_cancels\n",
      "[DEBUG]   comparison(iP.dot(P.dot(V)), V): 1.0\n",
      "[DEBUG]   similarity(iP.dot(P.dot(V)), V): 0.9999\n"
     ]
    }
   ],
   "source": [
    "test_comparison()\n",
    "test_arithemtic_sum()\n",
    "test_arithemtic_sum_vectors()\n",
    "test_arithemtic_sum_vectors_large()\n",
    "test_arithemtic_subtraction()\n",
    "test_own_inverse_xor()\n",
    "test_permutation_keeps_distance()\n",
    "test_inverse_permutation_cancels()"
   ]
  },
  {
   "cell_type": "markdown",
   "metadata": {},
   "source": [
    "### Hyperdimensional memory\n"
   ]
  },
  {
   "cell_type": "markdown",
   "metadata": {},
   "source": [
    "**Autoassociative.** Autoassociative storage is achieved by storing each pattern X using X itself as the address. It is useful as it allows the original stored X to be recovered from an approximate or noisy version of it, X'.\n"
   ]
  },
  {
   "cell_type": "code",
   "execution_count": 27,
   "metadata": {},
   "outputs": [],
   "source": [
    "class ItemMemory:\n",
    "    def __init__(self, vectors=[]):\n",
    "        self.vectors = vectors\n",
    "\n",
    "    def addVector(self, label, V):\n",
    "        self.vectors.append((label, V))\n",
    "\n",
    "    def cleanup(self, V):\n",
    "        return max(self.vectors, key=lambda x: comparison(V, x[1]))"
   ]
  },
  {
   "cell_type": "markdown",
   "metadata": {},
   "source": [
    "#### Tests\n"
   ]
  },
  {
   "cell_type": "code",
   "execution_count": 36,
   "metadata": {},
   "outputs": [],
   "source": [
    "def test_cleanup():\n",
    "    logging.debug(\"test_cleanup\")\n",
    "\n",
    "    itemMemory = ItemMemory()\n",
    "\n",
    "    X = generateRandomVector(DIMENSIONS)\n",
    "    A = generateRandomVector(DIMENSIONS)\n",
    "\n",
    "    Y = generateRandomVector(DIMENSIONS)\n",
    "    B = generateRandomVector(DIMENSIONS)\n",
    "\n",
    "    Z = generateRandomVector(DIMENSIONS)\n",
    "    C = generateRandomVector(DIMENSIONS)\n",
    "\n",
    "    itemMemory.addVector(\"A\", A)\n",
    "    itemMemory.addVector(\"B\", B)\n",
    "    itemMemory.addVector(\"C\", C)\n",
    "    itemMemory.addVector(\"X\", X)\n",
    "    itemMemory.addVector(\"Y\", Y)\n",
    "    itemMemory.addVector(\"Z\", Z)\n",
    "\n",
    "    H = arithmeticSumVectors([mult(A, X), mult(B, Y), mult(C, Z)])\n",
    "\n",
    "    V = itemMemory.cleanup(mult(H, X))\n",
    "\n",
    "    logging.debug(\"  V[0]: %s\", V[0])\n",
    "    assert V[0] == \"A\"\n",
    "    logging.debug(\"  similarity(mult(H, X), A): %s\", similarity(mult(H, X), A))"
   ]
  },
  {
   "cell_type": "code",
   "execution_count": 29,
   "metadata": {},
   "outputs": [],
   "source": [
    "def test_one_step_sequence():\n",
    "    logging.debug(\"test_one_step_sequence\")\n",
    "    itemMemory = ItemMemory()\n",
    "    D = generateRandomVector(DIMENSIONS)\n",
    "    E = generateRandomVector(DIMENSIONS)\n",
    "\n",
    "    itemMemory.addVector(\"D\", D)\n",
    "    itemMemory.addVector(\"E\", E)\n",
    "\n",
    "    P = generatePermutationMatrix(DIMENSIONS)\n",
    "    Dp = P.dot(D)\n",
    "\n",
    "    S = arithmeticSum(Dp, E)\n",
    "\n",
    "    itemMemory.addVector(\"S\", S)\n",
    "\n",
    "    Sr = itemMemory.cleanup(Dp)\n",
    "\n",
    "    assert Sr[0] == \"S\"\n",
    "\n",
    "    Es = arithmeticSubtraction(Sr[1], Dp)\n",
    "\n",
    "    Er = itemMemory.cleanup(Es)\n",
    "\n",
    "    assert Er[0] == \"E\""
   ]
  },
  {
   "cell_type": "code",
   "execution_count": 37,
   "metadata": {},
   "outputs": [
    {
     "name": "stderr",
     "output_type": "stream",
     "text": [
      "[DEBUG] test_cleanup\n"
     ]
    },
    {
     "ename": "AttributeError",
     "evalue": "'ItemMemory' object has no attribute 'cleanUp'",
     "output_type": "error",
     "traceback": [
      "\u001b[0;31m---------------------------------------------------------------------------\u001b[0m",
      "\u001b[0;31mAttributeError\u001b[0m                            Traceback (most recent call last)",
      "Cell \u001b[0;32mIn[37], line 1\u001b[0m\n\u001b[0;32m----> 1\u001b[0m test_cleanup()\n\u001b[1;32m      2\u001b[0m test_one_step_sequence()\n",
      "Cell \u001b[0;32mIn[36], line 24\u001b[0m, in \u001b[0;36mtest_cleanup\u001b[0;34m()\u001b[0m\n\u001b[1;32m     20\u001b[0m itemMemory\u001b[39m.\u001b[39maddVector(\u001b[39m\"\u001b[39m\u001b[39mZ\u001b[39m\u001b[39m\"\u001b[39m, Z)\n\u001b[1;32m     22\u001b[0m H \u001b[39m=\u001b[39m arithmeticSumVectors([mult(A, X), mult(B, Y), mult(C, Z)])\n\u001b[0;32m---> 24\u001b[0m V \u001b[39m=\u001b[39m itemMemory\u001b[39m.\u001b[39;49mcleanUp(mult(H, X))\n\u001b[1;32m     26\u001b[0m logging\u001b[39m.\u001b[39mdebug(\u001b[39m\"\u001b[39m\u001b[39m  V[0]: \u001b[39m\u001b[39m%s\u001b[39;00m\u001b[39m\"\u001b[39m, V[\u001b[39m0\u001b[39m])\n\u001b[1;32m     27\u001b[0m \u001b[39massert\u001b[39;00m V[\u001b[39m0\u001b[39m] \u001b[39m==\u001b[39m \u001b[39m\"\u001b[39m\u001b[39mA\u001b[39m\u001b[39m\"\u001b[39m\n",
      "\u001b[0;31mAttributeError\u001b[0m: 'ItemMemory' object has no attribute 'cleanUp'"
     ]
    }
   ],
   "source": [
    "test_cleanup()\n",
    "test_one_step_sequence()"
   ]
  },
  {
   "cell_type": "markdown",
   "metadata": {},
   "source": [
    "#### Representing Sequences by Permuting Sums\n",
    "\n",
    "As with sets, several elements of a sequence can be represented in a single hypervector. This is called flattening or leveling the sequence. In order to preserve the order, the elements can not be flatened with the sum alone but rather the elements must be labeled according to their position in the sequence.\n"
   ]
  },
  {
   "cell_type": "markdown",
   "metadata": {},
   "source": [
    "## Three examples with cognitive connotations\n"
   ]
  },
  {
   "cell_type": "markdown",
   "metadata": {},
   "source": [
    "### Context vectors as examples of sets: Random Indexing\n"
   ]
  }
 ],
 "metadata": {
  "kernelspec": {
   "display_name": "Python 3",
   "language": "python",
   "name": "python3"
  },
  "language_info": {
   "codemirror_mode": {
    "name": "ipython",
    "version": 3
   },
   "file_extension": ".py",
   "mimetype": "text/x-python",
   "name": "python",
   "nbconvert_exporter": "python",
   "pygments_lexer": "ipython3",
   "version": "3.10.12"
  },
  "orig_nbformat": 4
 },
 "nbformat": 4,
 "nbformat_minor": 2
}
