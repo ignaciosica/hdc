{
 "cells": [
  {
   "cell_type": "code",
   "execution_count": 10,
   "metadata": {},
   "outputs": [],
   "source": [
    "# Dependencies\n",
    "\n",
    "\n",
    "import numpy as np\n",
    "import functools as ft\n",
    "import networkx as nx\n",
    "from sklearn.base import BaseEstimator, ClassifierMixin\n",
    "from datasets import load_dataset\n",
    "from sklearn.model_selection import cross_val_score, ShuffleSplit\n",
    "\n",
    "from graph import process_dataset, transform\n",
    "from hdc import hdv, bind, bundle, ItemMemory, hdvw, hdva"
   ]
  },
  {
   "cell_type": "code",
   "execution_count": 2,
   "metadata": {},
   "outputs": [],
   "source": [
    "# encode_graph -> graphHD (graph, vertices, dimensions)\n",
    "\n",
    "\n",
    "def encode_graph(graph, vertices, dimensions):\n",
    "    for node in graph.nodes:\n",
    "        if node not in vertices:\n",
    "            vertices[node] = hdv(dimensions)\n",
    "\n",
    "    Es = []\n",
    "\n",
    "    for edge in graph.edges:\n",
    "        v1 = vertices[edge[0]]\n",
    "        v2 = vertices[edge[1]]\n",
    "        E = bind([v1, v2])\n",
    "        Es.append(E)\n",
    "\n",
    "    return bundle(Es)"
   ]
  },
  {
   "cell_type": "code",
   "execution_count": 7,
   "metadata": {},
   "outputs": [],
   "source": [
    "class GraphHD(BaseEstimator, ClassifierMixin):\n",
    "    def __init__(self, alpha=0.45, digits=4, dimensions=10000, step=20):\n",
    "        self.alpha = alpha\n",
    "        self.digits = digits\n",
    "        self.dimensions = dimensions\n",
    "        self.step = step\n",
    "        self.memory = ItemMemory()\n",
    "        self.vertices = dict()\n",
    "\n",
    "    def fit(self, X, y):\n",
    "        classes = {label: [] for label in set(y)}\n",
    "        graphs = transform(X, self.alpha, self.digits)\n",
    "\n",
    "        for i in range(len(graphs)):\n",
    "            G = encode_graph(graphs[i], self.vertices, self.dimensions)\n",
    "            classes[y[i]].append(G)\n",
    "\n",
    "        for key, value in classes.items():\n",
    "            for i in range(0, len(value), self.step):\n",
    "                H = bundle(value[i : i + self.step])\n",
    "                self.memory.add_vector(str(key), H)\n",
    "\n",
    "        return self\n",
    "\n",
    "    def predict(self, X):\n",
    "        p, s, queries = [], [], transform(X, self.alpha, self.digits)\n",
    "\n",
    "        for query in queries:\n",
    "            query_vector = encode_graph(query, self.vertices, self.dimensions)\n",
    "            (label, _, _) = self.memory.cleanup(query_vector)\n",
    "\n",
    "            p.append(int(label))\n",
    "\n",
    "        return p"
   ]
  },
  {
   "cell_type": "code",
   "execution_count": 4,
   "metadata": {},
   "outputs": [],
   "source": [
    "MUTAG = load_dataset(\"graphs-datasets/MUTAG\")[\"train\"]\n",
    "# PROTEINS = load_dataset(\"graphs-datasets/PROTEINS\")[\"train\"]\n",
    "# IMDB = load_dataset(\"graphs-datasets/IMDB-BINARY\")[\"train\"]"
   ]
  },
  {
   "cell_type": "code",
   "execution_count": 17,
   "metadata": {},
   "outputs": [
    {
     "name": "stdout",
     "output_type": "stream",
     "text": [
      "Acc => 0.85244\n"
     ]
    }
   ],
   "source": [
    "FOLDS, REPS = 10, 3\n",
    "ALPHA, DIGITS, DIMENSIONS, STEP = 0.65, 2, 10000, 4\n",
    "\n",
    "(graphs, labels) = process_dataset(MUTAG)\n",
    "\n",
    "\n",
    "def main():\n",
    "    clf = GraphHD(ALPHA, DIGITS, DIMENSIONS, STEP)\n",
    "    sum = 0\n",
    "    for i in range(REPS):\n",
    "        scores = cross_val_score(clf, graphs, labels, n_jobs=-1, cv=FOLDS, verbose=0)\n",
    "        sum += scores.mean()\n",
    "\n",
    "    print(\"Acc => %.5f\" % (sum / REPS))\n",
    "\n",
    "\n",
    "main()"
   ]
  }
 ],
 "metadata": {
  "kernelspec": {
   "display_name": "Python 3",
   "language": "python",
   "name": "python3"
  },
  "language_info": {
   "codemirror_mode": {
    "name": "ipython",
    "version": 3
   },
   "file_extension": ".py",
   "mimetype": "text/x-python",
   "name": "python",
   "nbconvert_exporter": "python",
   "pygments_lexer": "ipython3",
   "version": "3.10.12"
  },
  "orig_nbformat": 4
 },
 "nbformat": 4,
 "nbformat_minor": 2
}
