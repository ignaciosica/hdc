{
 "cells": [
  {
   "cell_type": "code",
   "execution_count": 1,
   "metadata": {},
   "outputs": [
    {
     "name": "stderr",
     "output_type": "stream",
     "text": [
      "/home/p4ssenger/.local/lib/python3.10/site-packages/tqdm/auto.py:21: TqdmWarning: IProgress not found. Please update jupyter and ipywidgets. See https://ipywidgets.readthedocs.io/en/stable/user_install.html\n",
      "  from .autonotebook import tqdm as notebook_tqdm\n"
     ]
    }
   ],
   "source": [
    "import numpy as np\n",
    "import functools as ft\n",
    "import networkx as nx\n",
    "from sklearn.base import BaseEstimator, ClassifierMixin\n",
    "from datasets import load_dataset\n",
    "from sklearn.model_selection import cross_val_score, ShuffleSplit\n",
    "\n",
    "from graph import processDataset, transform\n",
    "from hdc import hdv, bind, bundle, ItemMemory, hdvW, hdvA"
   ]
  },
  {
   "cell_type": "code",
   "execution_count": 2,
   "metadata": {},
   "outputs": [],
   "source": [
    "def encodeGraph(graph, vertices, dimensions):\n",
    "    for node in graph.nodes:\n",
    "        if node not in vertices:\n",
    "            vertices[node] = hdv(dimensions)\n",
    "\n",
    "    Edges = []\n",
    "\n",
    "    for edge in graph.edges:\n",
    "        v1 = vertices[edge[0]]\n",
    "        v2 = vertices[edge[1]]\n",
    "        E = bind([v1, v2])\n",
    "        Edges.append(E)\n",
    "\n",
    "    Graph = bundle(Edges)\n",
    "\n",
    "    return Graph"
   ]
  },
  {
   "cell_type": "code",
   "execution_count": 3,
   "metadata": {},
   "outputs": [],
   "source": [
    "class GraphHD(BaseEstimator, ClassifierMixin):\n",
    "    def __init__(self, alpha=0.45, digits=4, dimensions=10000, step=20):\n",
    "        self.alpha = alpha\n",
    "        self.digits = digits\n",
    "        self.dimensions = dimensions\n",
    "        self.step = step\n",
    "\n",
    "        self.memory = ItemMemory([])\n",
    "\n",
    "    def fit(self, X, y):\n",
    "        self.vertices = dict()\n",
    "        self.labels = list(set(y))\n",
    "        dictLabels = dict()\n",
    "\n",
    "        graphs = transform(X, self.alpha, self.digits)\n",
    "\n",
    "        for label in self.labels:\n",
    "            dictLabels[label] = []\n",
    "\n",
    "        for i in range(len(graphs)):\n",
    "            Graph = encodeGraph(graphs[i], self.vertices, self.dimensions)\n",
    "            dictLabels[y[i]].append(Graph)\n",
    "\n",
    "        for key, value in dictLabels.items():\n",
    "            for i in range(0, len(value), self.step):\n",
    "                H = bundle(value[i : i + self.step])\n",
    "                self.memory.addVector(str(key), H)\n",
    "\n",
    "        return self\n",
    "\n",
    "    def predict(self, X):\n",
    "        p = []\n",
    "        s = []\n",
    "\n",
    "        graphs = transform(X, self.alpha, self.digits)\n",
    "\n",
    "        for testGraph in graphs:\n",
    "            queryVector = encodeGraph(testGraph, self.vertices, self.dimensions)\n",
    "            cleanVector = self.memory.cleanup(queryVector)\n",
    "\n",
    "            p.append(int(cleanVector[0]))\n",
    "            # s.append(cosine_similarity(queryVector, cleanVector[1]))\n",
    "\n",
    "        # print(\"%.5f\" % round(np.mean(s), 5), \"0:\", p.count(0), \"1:\", p.count(1))\n",
    "        return p"
   ]
  },
  {
   "cell_type": "code",
   "execution_count": 4,
   "metadata": {},
   "outputs": [],
   "source": [
    "MUTAG = load_dataset(\"graphs-datasets/MUTAG\")[\"train\"]\n",
    "PROTEINS = load_dataset(\"graphs-datasets/PROTEINS\")[\"train\"]\n",
    "IMDB = load_dataset(\"graphs-datasets/IMDB-BINARY\")[\"train\"]"
   ]
  },
  {
   "cell_type": "code",
   "execution_count": 5,
   "metadata": {},
   "outputs": [],
   "source": [
    "(graphs, labels) = processDataset(MUTAG)"
   ]
  },
  {
   "cell_type": "code",
   "execution_count": 10,
   "metadata": {},
   "outputs": [
    {
     "name": "stdout",
     "output_type": "stream",
     "text": [
      "0 -> 0.67865\n",
      "1 -> 0.71228\n",
      "2 -> 0.65263\n",
      "3 -> 0.72310\n",
      "4 -> 0.65322\n",
      "5 -> 0.68070\n",
      "6 -> 0.68480\n",
      "7 -> 0.65789\n",
      "8 -> 0.65848\n",
      "9 -> 0.65263\n",
      "S => 0.67544\n"
     ]
    }
   ],
   "source": [
    "FOLDS, REPS = 10, 10\n",
    "ALPHA, DIGITS, DIMENSIONS, STEP = 0.85, 8, 10000, 50\n",
    "CV = FOLDS\n",
    "\n",
    "\n",
    "def main():\n",
    "    clf = GraphHD(ALPHA, DIGITS, DIMENSIONS, STEP)\n",
    "    sum = 0\n",
    "    for i in range(REPS):\n",
    "        # CV = ShuffleSplit(n_splits=5, test_size=0.25)  # random_state=0\n",
    "        scores = cross_val_score(clf, graphs, labels, n_jobs=-1, cv=CV, verbose=0)\n",
    "        sum += scores.mean()\n",
    "        print(i, \"->\", \"%.5f\" % scores.mean())\n",
    "        del scores\n",
    "\n",
    "    print(\"S => %.5f\" % (sum / REPS))\n",
    "\n",
    "\n",
    "main()"
   ]
  }
 ],
 "metadata": {
  "kernelspec": {
   "display_name": "Python 3",
   "language": "python",
   "name": "python3"
  },
  "language_info": {
   "codemirror_mode": {
    "name": "ipython",
    "version": 3
   },
   "file_extension": ".py",
   "mimetype": "text/x-python",
   "name": "python",
   "nbconvert_exporter": "python",
   "pygments_lexer": "ipython3",
   "version": "3.10.12"
  },
  "orig_nbformat": 4
 },
 "nbformat": 4,
 "nbformat_minor": 2
}
