{
 "cells": [
  {
   "cell_type": "code",
   "execution_count": 1,
   "metadata": {},
   "outputs": [],
   "source": [
    "# Dependencies\n",
    "\n",
    "\n",
    "import sys\n",
    "\n",
    "sys.path.append(\"../\")\n",
    "\n",
    "import numpy as np\n",
    "import functools as ft\n",
    "import networkx as nx\n",
    "from graph.graph import process_dataset, transform\n",
    "from hdc import hdv, bind, bundle, sbundle, ItemMemory, hdvw, hdva, cosim"
   ]
  },
  {
   "cell_type": "code",
   "execution_count": 2,
   "metadata": {},
   "outputs": [],
   "source": [
    "def init_vertices(graph, d=10000):\n",
    "    for n in graph:\n",
    "        graph.nodes[n][\"hdv\"] = hdv(d)"
   ]
  },
  {
   "cell_type": "code",
   "execution_count": 3,
   "metadata": {},
   "outputs": [],
   "source": [
    "def init_node_mem(graph, memory):\n",
    "    for n in graph:\n",
    "        xs = map(lambda x: graph.nodes[x][\"hdv\"], list(graph.neighbors(n)))\n",
    "        graph.nodes[n][\"mem\"] = bundle(xs)\n",
    "        memory.add_vector(f\"mem{n}\", graph.nodes[n][\"mem\"])"
   ]
  },
  {
   "cell_type": "code",
   "execution_count": 4,
   "metadata": {},
   "outputs": [],
   "source": [
    "def retrain(graph, memory, threshold, iter=15):\n",
    "    count = 0\n",
    "    for i in range(iter):\n",
    "        for n in graph:\n",
    "            mem = graph.nodes[n][\"mem\"]\n",
    "            finish = True\n",
    "            for neighbor in map(\n",
    "                lambda x: graph.nodes[x][\"hdv\"], list(nx.neighbors(graph, n))\n",
    "            ):\n",
    "                if cosim(mem, neighbor) < threshold:\n",
    "                    mem = bundle([mem, neighbor])\n",
    "                    finish = False\n",
    "                    print(\"here\")\n",
    "\n",
    "            for non_neighbor in map(\n",
    "                lambda x: graph.nodes[x][\"hdv\"], list(nx.non_neighbors(graph, n))\n",
    "            ):\n",
    "                if cosim(mem, non_neighbor) > threshold:\n",
    "                    mem = bundle([mem, -non_neighbor])\n",
    "                    finish = False\n",
    "                    print(\"here\")\n",
    "\n",
    "            if finish:\n",
    "                return\n",
    "\n",
    "            graph.nodes[n][\"mem\"] = mem\n",
    "            memory.add_vector(f\"mem{n}_{i}\", mem)"
   ]
  },
  {
   "cell_type": "code",
   "execution_count": 5,
   "metadata": {},
   "outputs": [],
   "source": [
    "def init_graph(graph, memory):\n",
    "    G = []\n",
    "    for n in graph.nodes():\n",
    "        G.append(bind([graph.nodes[n][\"hdv\"], graph.nodes[n][\"mem\"]]))\n",
    "    G = bundle(G) / 2\n",
    "    memory.add_vector(\"G\", G)\n",
    "    return G"
   ]
  },
  {
   "cell_type": "code",
   "execution_count": 6,
   "metadata": {},
   "outputs": [],
   "source": [
    "def check_edge(G, A, B, threshold):\n",
    "    return cosim(B, bind([G, A])) > threshold"
   ]
  },
  {
   "cell_type": "code",
   "execution_count": 7,
   "metadata": {},
   "outputs": [],
   "source": [
    "def node_memory_reconstruction(G, xs, iter=15):\n",
    "    if iter == 0:\n",
    "        return list(map(lambda H: bind([G, H]), xs))\n",
    "\n",
    "    mems = node_memory_reconstruction(G, xs, iter - 1)\n",
    "\n",
    "    newMems = []\n",
    "    b = [bind(x) for x in zip(mems, xs)]\n",
    "    for i in range(len(xs)):\n",
    "        bmem = bundle(b[:i] + b[i + 1 :])\n",
    "        newMems.append(bind([xs[i], bundle([G, -bmem])]))\n",
    "\n",
    "    return newMems"
   ]
  },
  {
   "cell_type": "code",
   "execution_count": 8,
   "metadata": {},
   "outputs": [],
   "source": [
    "def graph_memory_reconstruction(G, xs, iter=15):\n",
    "    raise NotImplementedError\n",
    "    if iter == 0:\n",
    "        return (G, zeros(len(G)))\n",
    "\n",
    "    (Gi, Ni) = graph_memory_reconstruction(G, xs, iter - 1)\n",
    "    Gii = bundle([Gi, -Ni])\n",
    "\n",
    "    for i in range(iter):\n",
    "        print(i)\n",
    "\n",
    "    return bundle([Gi, -edges])"
   ]
  },
  {
   "cell_type": "code",
   "execution_count": 9,
   "metadata": {},
   "outputs": [],
   "source": [
    "def shortest_path(G, A, B, xs, distance, threshold, memory, visited):\n",
    "    label, value, sim = memory.cleanup(bind([G, A]))\n",
    "\n",
    "    if np.array_equiv(A, B):\n",
    "        return 0, label\n",
    "\n",
    "    if label in visited and visited[label][0] <= distance:\n",
    "        return visited[label][1], visited[label][2]\n",
    "\n",
    "    visited[label] = [distance, 99, \"memnill\"]\n",
    "\n",
    "    neighbours = list(filter(lambda x: check_edge(G, A, x, threshold), xs))\n",
    "\n",
    "    dis, lab = min(\n",
    "        list(\n",
    "            map(\n",
    "                lambda a: shortest_path(\n",
    "                    G, a, B, xs, distance + 1, threshold, memory, visited\n",
    "                ),\n",
    "                neighbours,\n",
    "            )\n",
    "        ),\n",
    "        key=lambda x: x[0],\n",
    "    )\n",
    "    visited[label][1] = dis + 1\n",
    "    visited[label][2] = label + lab\n",
    "    return dis + 1, label + lab"
   ]
  },
  {
   "cell_type": "code",
   "execution_count": 10,
   "metadata": {},
   "outputs": [],
   "source": [
    "# Constants\n",
    "\n",
    "\n",
    "NODES, EDGES = 30, 150\n",
    "DIMENSIONS, THRESHOLD, ITER = 10000, 0.047, 4"
   ]
  },
  {
   "cell_type": "code",
   "execution_count": 11,
   "metadata": {},
   "outputs": [],
   "source": [
    "def test_check_edge(G, graph, threshold):\n",
    "    count = 0\n",
    "\n",
    "    for n in graph.nodes():\n",
    "        for m in graph.nodes():\n",
    "            if n == m:\n",
    "                continue\n",
    "            exist = graph.has_edge(n, m)\n",
    "            check = check_edge(\n",
    "                G, graph.nodes[n][\"hdv\"], graph.nodes[m][\"hdv\"], threshold\n",
    "            )\n",
    "            if exist != check:\n",
    "                count += 1\n",
    "                print(n, m, exist, check)\n",
    "\n",
    "    print(count, \"%.5f\" % round(count / EDGES, 5))"
   ]
  },
  {
   "cell_type": "code",
   "execution_count": 12,
   "metadata": {},
   "outputs": [],
   "source": [
    "def test_node_memory_reconstruction(G, graph, iter=15):\n",
    "    for i in range(iter):\n",
    "        memsi = node_memory_reconstruction(\n",
    "            G, list(map(lambda x: graph.nodes[x][\"hdv\"], graph.nodes())), iter=i\n",
    "        )\n",
    "        print(\n",
    "            f\"{0}_{i:02} =>\",\n",
    "            \"%.10f\" % abs(cosim(graph.nodes[0][\"mem\"], memsi[0])),\n",
    "        )"
   ]
  },
  {
   "cell_type": "code",
   "execution_count": 13,
   "metadata": {},
   "outputs": [],
   "source": [
    "def test_retrain():\n",
    "    mem = ItemMemory()\n",
    "\n",
    "    g = nx.gnm_random_graph(NODES, EDGES)\n",
    "    init_vertices(g, DIMENSIONS)\n",
    "    init_node_mem(g, mem)\n",
    "    retrain(g, mem, THRESHOLD)\n",
    "    G = init_graph(g, mem)\n",
    "\n",
    "\n",
    "test_retrain()"
   ]
  },
  {
   "cell_type": "code",
   "execution_count": 14,
   "metadata": {},
   "outputs": [],
   "source": [
    "def test_shortest_path():\n",
    "    mem = ItemMemory()\n",
    "\n",
    "    g = nx.gnm_random_graph(NODES, EDGES)\n",
    "    init_vertices(g, DIMENSIONS)\n",
    "    init_node_mem(g, mem)\n",
    "    G = init_graph(g, mem)\n",
    "\n",
    "    hdvs = list(map(lambda x: g.nodes[x][\"hdv\"], g.nodes()))\n",
    "    origin = 0\n",
    "\n",
    "    test_check_edge(G, g, THRESHOLD)\n",
    "\n",
    "    for m in g.nodes():\n",
    "        if origin == m:\n",
    "            continue\n",
    "        path = nx.shortest_path(g, origin, m)\n",
    "        oracle = len(path) - 1\n",
    "        visited = {}\n",
    "        test = shortest_path(G, hdvs[origin], hdvs[m], hdvs, 0, THRESHOLD, mem, visited)\n",
    "        testPath = list(map(int, test[1].split(\"mem\")[1:]))\n",
    "        print(\n",
    "            f\"{origin}_{m:02} =>\",\n",
    "            oracle,\n",
    "            test[0],\n",
    "            \"T  \" if oracle == test[0] else \"F X\",\n",
    "            path,\n",
    "            testPath,\n",
    "            nx.is_path(g, testPath),\n",
    "        )"
   ]
  },
  {
   "cell_type": "code",
   "execution_count": 15,
   "metadata": {},
   "outputs": [
    {
     "name": "stdout",
     "output_type": "stream",
     "text": [
      "0 0.00000\n"
     ]
    },
    {
     "name": "stdout",
     "output_type": "stream",
     "text": [
      "0_01 => 2 2 T   [0, 26, 1] [0, 26, 1] True\n",
      "0_02 => 2 2 T   [0, 21, 2] [0, 15, 2] True\n",
      "0_03 => 2 2 T   [0, 16, 3] [0, 11, 3] True\n",
      "0_04 => 2 2 T   [0, 19, 4] [0, 14, 4] True\n",
      "0_05 => 2 2 T   [0, 26, 5] [0, 8, 5] True\n",
      "0_06 => 2 2 T   [0, 18, 6] [0, 15, 6] True\n",
      "0_07 => 2 2 T   [0, 15, 7] [0, 15, 7] True\n",
      "0_08 => 1 1 T   [0, 8] [0, 8] True\n",
      "0_09 => 3 3 T   [0, 8, 24, 9] [0, 8, 5, 9] True\n",
      "0_10 => 2 2 T   [0, 19, 10] [0, 11, 10] True\n",
      "0_11 => 1 1 T   [0, 11] [0, 11] True\n",
      "0_12 => 1 1 T   [0, 12] [0, 12] True\n",
      "0_13 => 2 2 T   [0, 26, 13] [0, 15, 13] True\n",
      "0_14 => 1 1 T   [0, 14] [0, 14] True\n",
      "0_15 => 1 1 T   [0, 15] [0, 15] True\n",
      "0_16 => 1 1 T   [0, 16] [0, 16] True\n",
      "0_17 => 2 2 T   [0, 16, 17] [0, 16, 17] True\n",
      "0_18 => 1 1 T   [0, 18] [0, 18] True\n",
      "0_19 => 1 1 T   [0, 19] [0, 19] True\n",
      "0_20 => 2 2 T   [0, 11, 20] [0, 8, 20] True\n",
      "0_21 => 1 1 T   [0, 21] [0, 21] True\n",
      "0_22 => 2 2 T   [0, 21, 22] [0, 18, 22] True\n",
      "0_23 => 2 2 T   [0, 8, 23] [0, 8, 23] True\n",
      "0_24 => 2 2 T   [0, 8, 24] [0, 8, 24] True\n",
      "0_25 => 2 2 T   [0, 19, 25] [0, 8, 25] True\n",
      "0_26 => 1 1 T   [0, 26] [0, 26] True\n",
      "0_27 => 2 2 T   [0, 18, 27] [0, 8, 27] True\n",
      "0_28 => 2 2 T   [0, 11, 28] [0, 8, 28] True\n",
      "0_29 => 2 2 T   [0, 15, 29] [0, 11, 29] True\n"
     ]
    }
   ],
   "source": [
    "def main():\n",
    "    graph = nx.gnm_random_graph(NODES, EDGES)\n",
    "    memory = ItemMemory()\n",
    "\n",
    "    init_vertices(graph, DIMENSIONS)\n",
    "    init_node_mem(graph, memory)\n",
    "    graph = retrain(graph, memory, THRESHOLD, ITER)\n",
    "    G = initGraph(graph, memory)\n",
    "    print(\"G =>\", G)\n",
    "    # test_node_memory_reconstruction(G, graph, 1)\n",
    "    # test_check_edge(G, graph, THRESHOLD)\n",
    "\n",
    "\n",
    "# main()\n",
    "test_shortest_path()"
   ]
  }
 ],
 "metadata": {
  "kernelspec": {
   "display_name": "Python 3",
   "language": "python",
   "name": "python3"
  },
  "language_info": {
   "codemirror_mode": {
    "name": "ipython",
    "version": 3
   },
   "file_extension": ".py",
   "mimetype": "text/x-python",
   "name": "python",
   "nbconvert_exporter": "python",
   "pygments_lexer": "ipython3",
   "version": "3.10.12"
  },
  "orig_nbformat": 4
 },
 "nbformat": 4,
 "nbformat_minor": 2
}
