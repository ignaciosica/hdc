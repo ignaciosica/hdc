{
 "cells": [
  {
   "cell_type": "code",
   "execution_count": 3,
   "metadata": {},
   "outputs": [],
   "source": [
    "import sys\n",
    "\n",
    "sys.path.append(\"../\")\n",
    "\n",
    "import numpy as np\n",
    "import functools as ft\n",
    "import networkx as nx\n",
    "from graph.graph import process_dataset, transform\n",
    "from hdc import hdv, bind, bundle, sbundle, ItemMemory, hdvw, hdva, cosim"
   ]
  },
  {
   "cell_type": "code",
   "execution_count": 4,
   "metadata": {},
   "outputs": [],
   "source": [
    "def init_vertices(graph, d=10000):\n",
    "    for n in graph:\n",
    "        graph.nodes[n][\"hdv\"] = hdv(d)"
   ]
  },
  {
   "cell_type": "code",
   "execution_count": 5,
   "metadata": {},
   "outputs": [],
   "source": [
    "def init_node_mem(graph, memory):\n",
    "    for n in graph:\n",
    "        xs = map(lambda x: graph.nodes[x][\"hdv\"], list(graph.neighbors(n)))\n",
    "        graph.nodes[n][\"mem\"] = bundle(xs)\n",
    "        memory.add_vector(f\"mem{n}\", graph.nodes[n][\"mem\"])"
   ]
  },
  {
   "cell_type": "code",
   "execution_count": 6,
   "metadata": {},
   "outputs": [],
   "source": [
    "def retrain(graph, memory, threshold, iter=15):\n",
    "    count = 0\n",
    "    for i in range(iter):\n",
    "        for n in graph:\n",
    "            mem = graph.nodes[n][\"mem\"]\n",
    "            finish = True\n",
    "            for neighbor in map(\n",
    "                lambda x: graph.nodes[x][\"hdv\"], list(nx.neighbors(graph, n))\n",
    "            ):\n",
    "                if cosim(mem, neighbor) < threshold:\n",
    "                    mem = bundle([mem, neighbor])\n",
    "                    finish = False\n",
    "                    print(\"here\")\n",
    "\n",
    "            for non_neighbor in map(\n",
    "                lambda x: graph.nodes[x][\"hdv\"], list(nx.non_neighbors(graph, n))\n",
    "            ):\n",
    "                if cosim(mem, non_neighbor) > threshold:\n",
    "                    mem = bundle([mem, -non_neighbor])\n",
    "                    finish = False\n",
    "                    print(\"here\")\n",
    "\n",
    "            if finish:\n",
    "                return\n",
    "\n",
    "            graph.nodes[n][\"mem\"] = mem\n",
    "            memory.add_vector(f\"mem{n}_{i}\", mem)"
   ]
  },
  {
   "cell_type": "code",
   "execution_count": 7,
   "metadata": {},
   "outputs": [],
   "source": [
    "def init_graph(graph, memory):\n",
    "    G = []\n",
    "    for n in graph.nodes():\n",
    "        G.append(bind([graph.nodes[n][\"hdv\"], graph.nodes[n][\"mem\"]]))\n",
    "    G = bundle(G) / 2\n",
    "    memory.add_vector(\"G\", G)\n",
    "    return G"
   ]
  },
  {
   "cell_type": "code",
   "execution_count": 8,
   "metadata": {},
   "outputs": [],
   "source": [
    "def check_edge(G, A, B, threshold):\n",
    "    return cosim(B, bind([G, A])) > threshold"
   ]
  },
  {
   "cell_type": "code",
   "execution_count": 9,
   "metadata": {},
   "outputs": [],
   "source": [
    "def node_memory_reconstruction(G, xs, iter=15):\n",
    "    if iter == 0:\n",
    "        return list(map(lambda H: bind([G, H]), xs))\n",
    "\n",
    "    mems = node_memory_reconstruction(G, xs, iter - 1)\n",
    "\n",
    "    newMems = []\n",
    "    b = [bind(x) for x in zip(mems, xs)]\n",
    "    for i in range(len(xs)):\n",
    "        bmem = bundle(b[:i] + b[i + 1 :])\n",
    "        newMems.append(bind([xs[i], bundle([G, -bmem])]))\n",
    "\n",
    "    return newMems"
   ]
  },
  {
   "cell_type": "code",
   "execution_count": 10,
   "metadata": {},
   "outputs": [],
   "source": [
    "def graph_memory_reconstruction(G, xs, iter=15):\n",
    "    raise NotImplementedError\n",
    "    if iter == 0:\n",
    "        return (G, zeros(len(G)))\n",
    "\n",
    "    (Gi, Ni) = graph_memory_reconstruction(G, xs, iter - 1)\n",
    "    Gii = bundle([Gi, -Ni])\n",
    "\n",
    "    for i in range(iter):\n",
    "        print(i)\n",
    "\n",
    "    return bundle([Gi, -edges])"
   ]
  },
  {
   "cell_type": "code",
   "execution_count": 11,
   "metadata": {},
   "outputs": [],
   "source": [
    "# visited = dict()\n",
    "visited = {}\n",
    "\n",
    "\n",
    "def shortest_path(G, A, B, xs, distance, threshold, memory):\n",
    "    label, value, sim = memory.cleanup(bind([G, A]))\n",
    "\n",
    "    if np.array_equiv(A, B):\n",
    "        return 0, label\n",
    "\n",
    "    if label in visited and visited[label][0] <= distance:\n",
    "        return visited[label][1], visited[label][2]\n",
    "\n",
    "    visited[label] = [distance, 99, \"memnill\"]\n",
    "\n",
    "    neighbours = list(filter(lambda x: check_edge(G, A, x, threshold), xs))\n",
    "\n",
    "    if len(neighbours) == 0:\n",
    "        return 99, \"memnill\"\n",
    "\n",
    "    dis, lab = min(\n",
    "        list(\n",
    "            map(\n",
    "                lambda a: shortest_path(G, a, B, xs, distance + 1, threshold, memory),\n",
    "                neighbours,\n",
    "            )\n",
    "        ),\n",
    "        key=lambda x: x[0],\n",
    "    )\n",
    "    visited[label][1] = dis + 1\n",
    "    visited[label][2] = label + lab\n",
    "    return dis + 1, label + lab"
   ]
  },
  {
   "cell_type": "markdown",
   "metadata": {},
   "source": [
    "---\n"
   ]
  },
  {
   "cell_type": "markdown",
   "metadata": {},
   "source": [
    "# Tests\n"
   ]
  },
  {
   "cell_type": "code",
   "execution_count": 12,
   "metadata": {},
   "outputs": [],
   "source": [
    "def test_check_edge(G, graph, threshold):\n",
    "    count = 0\n",
    "\n",
    "    for n in graph.nodes():\n",
    "        for m in graph.nodes():\n",
    "            if n == m:\n",
    "                continue\n",
    "            exist = graph.has_edge(n, m)\n",
    "            check = check_edge(\n",
    "                G, graph.nodes[n][\"hdv\"], graph.nodes[m][\"hdv\"], threshold\n",
    "            )\n",
    "            if exist != check:\n",
    "                count += 1\n",
    "                print(n, m, exist, check)\n",
    "\n",
    "    print(count, \"%.5f\" % round(count / EDGES, 5))"
   ]
  },
  {
   "cell_type": "code",
   "execution_count": 13,
   "metadata": {},
   "outputs": [],
   "source": [
    "def test_node_memory_reconstruction(G, graph, iter=15):\n",
    "    for i in range(iter):\n",
    "        memsi = node_memory_reconstruction(\n",
    "            G, list(map(lambda x: graph.nodes[x][\"hdv\"], graph.nodes())), iter=i\n",
    "        )\n",
    "        print(\n",
    "            f\"{0}_{i:02} =>\",\n",
    "            \"%.10f\" % abs(cosim(graph.nodes[0][\"mem\"], memsi[0])),\n",
    "        )"
   ]
  },
  {
   "cell_type": "code",
   "execution_count": 14,
   "metadata": {},
   "outputs": [],
   "source": [
    "def test_shortest_path():\n",
    "    mem = ItemMemory()\n",
    "\n",
    "    g = nx.gnm_random_graph(NODES, EDGES)\n",
    "    init_vertices(g, DIMENSIONS)\n",
    "    init_node_mem(g, mem)\n",
    "    G = init_graph(g, mem)\n",
    "\n",
    "    for n in g.nodes():\n",
    "        print(g.edges(n))\n",
    "\n",
    "    hdvs = list(map(lambda x: g.nodes[x][\"hdv\"], g.nodes()))\n",
    "    origin = 0\n",
    "\n",
    "    for n in g.nodes():\n",
    "        print(\n",
    "            f\"{n:02} =>\",\n",
    "            \"T\" if mem.cleanup(bind([G, hdvs[n]]))[0] == f\"mem{n}\" else \"F\",\n",
    "            mem.cleanup(bind([G, hdvs[n]]))[0],\n",
    "        )\n",
    "\n",
    "    test_check_edge(G, g, THRESHOLD)\n",
    "\n",
    "    for m in g.nodes():\n",
    "        if origin == m:\n",
    "            continue\n",
    "        path = nx.shortest_path(g, origin, m)\n",
    "        oracle = len(path) - 1\n",
    "        visited = {}\n",
    "        test = shortest_path(G, hdvs[origin], hdvs[m], hdvs, 0, THRESHOLD, mem)\n",
    "        testPath = list(map(int, test[1].split(\"mem\")[1:]))\n",
    "        print(\n",
    "            f\"{origin}_{m:02} =>\",\n",
    "            oracle,\n",
    "            test[0],\n",
    "            \"T  \" if oracle == test[0] else \"F X\",\n",
    "            path,\n",
    "            testPath,\n",
    "            nx.is_path(g, testPath),\n",
    "        )"
   ]
  },
  {
   "cell_type": "markdown",
   "metadata": {},
   "source": [
    "---\n"
   ]
  },
  {
   "cell_type": "markdown",
   "metadata": {},
   "source": [
    "# Main\n"
   ]
  },
  {
   "cell_type": "code",
   "execution_count": 15,
   "metadata": {},
   "outputs": [],
   "source": [
    "NODES, EDGES = 30, 150\n",
    "DIMENSIONS, THRESHOLD, ITER = 10000, 0.047, 4"
   ]
  },
  {
   "cell_type": "code",
   "execution_count": 16,
   "metadata": {},
   "outputs": [
    {
     "name": "stdout",
     "output_type": "stream",
     "text": [
      "[(0, 23), (0, 20), (0, 1), (0, 13), (0, 7), (0, 18), (0, 25), (0, 8), (0, 6), (0, 2)]\n",
      "[(1, 14), (1, 15), (1, 11), (1, 7), (1, 23), (1, 13), (1, 0), (1, 19), (1, 9), (1, 6), (1, 8)]\n",
      "[(2, 22), (2, 13), (2, 28), (2, 21), (2, 10), (2, 24), (2, 14), (2, 3), (2, 5), (2, 25), (2, 9), (2, 0), (2, 19)]\n",
      "[(3, 24), (3, 23), (3, 29), (3, 28), (3, 13), (3, 12), (3, 21), (3, 18), (3, 20), (3, 2), (3, 27), (3, 10), (3, 14)]\n",
      "[(4, 7), (4, 26), (4, 5), (4, 19), (4, 6), (4, 22)]\n",
      "[(5, 16), (5, 9), (5, 11), (5, 4), (5, 17), (5, 25), (5, 2), (5, 15)]\n",
      "[(6, 15), (6, 8), (6, 22), (6, 11), (6, 26), (6, 20), (6, 4), (6, 1), (6, 28), (6, 0), (6, 12)]\n",
      "[(7, 22), (7, 10), (7, 4), (7, 11), (7, 1), (7, 26), (7, 0), (7, 28), (7, 15)]\n",
      "[(8, 6), (8, 26), (8, 12), (8, 14), (8, 13), (8, 11), (8, 18), (8, 29), (8, 0), (8, 1), (8, 25), (8, 19), (8, 10)]\n",
      "[(9, 21), (9, 29), (9, 5), (9, 1), (9, 12), (9, 2)]\n",
      "[(10, 7), (10, 2), (10, 28), (10, 26), (10, 15), (10, 17), (10, 23), (10, 11), (10, 3), (10, 8)]\n",
      "[(11, 16), (11, 13), (11, 1), (11, 6), (11, 7), (11, 8), (11, 5), (11, 25), (11, 19), (11, 22), (11, 28), (11, 10)]\n",
      "[(12, 13), (12, 29), (12, 8), (12, 3), (12, 28), (12, 9), (12, 6), (12, 27), (12, 25)]\n",
      "[(13, 18), (13, 11), (13, 2), (13, 12), (13, 3), (13, 24), (13, 8), (13, 1), (13, 16), (13, 0), (13, 17), (13, 28), (13, 25)]\n",
      "[(14, 24), (14, 1), (14, 25), (14, 8), (14, 2), (14, 16), (14, 15), (14, 29), (14, 26), (14, 3)]\n",
      "[(15, 6), (15, 1), (15, 23), (15, 10), (15, 14), (15, 29), (15, 7), (15, 5), (15, 21)]\n",
      "[(16, 11), (16, 23), (16, 18), (16, 5), (16, 13), (16, 19), (16, 14), (16, 27)]\n",
      "[(17, 26), (17, 13), (17, 24), (17, 19), (17, 10), (17, 5)]\n",
      "[(18, 13), (18, 23), (18, 16), (18, 3), (18, 20), (18, 0), (18, 8), (18, 26), (18, 24), (18, 22)]\n",
      "[(19, 22), (19, 1), (19, 16), (19, 27), (19, 11), (19, 4), (19, 17), (19, 24), (19, 26), (19, 8), (19, 20), (19, 2)]\n",
      "[(20, 0), (20, 6), (20, 24), (20, 3), (20, 18), (20, 27), (20, 19)]\n",
      "[(21, 28), (21, 2), (21, 3), (21, 9), (21, 23), (21, 27), (21, 26), (21, 25), (21, 15)]\n",
      "[(22, 6), (22, 2), (22, 23), (22, 7), (22, 29), (22, 19), (22, 27), (22, 11), (22, 4), (22, 18), (22, 24)]\n",
      "[(23, 18), (23, 15), (23, 0), (23, 24), (23, 22), (23, 3), (23, 16), (23, 1), (23, 29), (23, 21), (23, 10)]\n",
      "[(24, 3), (24, 14), (24, 26), (24, 23), (24, 29), (24, 13), (24, 2), (24, 20), (24, 17), (24, 19), (24, 18), (24, 22)]\n",
      "[(25, 14), (25, 11), (25, 27), (25, 0), (25, 5), (25, 8), (25, 2), (25, 21), (25, 13), (25, 12)]\n",
      "[(26, 24), (26, 8), (26, 6), (26, 17), (26, 7), (26, 4), (26, 10), (26, 28), (26, 18), (26, 21), (26, 19), (26, 14)]\n",
      "[(27, 19), (27, 16), (27, 22), (27, 21), (27, 25), (27, 20), (27, 12), (27, 3)]\n",
      "[(28, 21), (28, 2), (28, 3), (28, 29), (28, 10), (28, 26), (28, 12), (28, 7), (28, 11), (28, 6), (28, 13)]\n",
      "[(29, 3), (29, 24), (29, 12), (29, 28), (29, 22), (29, 9), (29, 23), (29, 8), (29, 15), (29, 14)]\n",
      "00 => T mem0\n",
      "01 => T mem1\n",
      "02 => T mem2\n",
      "03 => T mem3\n",
      "04 => T mem4\n",
      "05 => T mem5\n",
      "06 => T mem6\n",
      "07 => T mem7\n",
      "08 => T mem8\n",
      "09 => T mem9\n",
      "10 => T mem10\n",
      "11 => T mem11\n",
      "12 => T mem12\n",
      "13 => T mem13\n",
      "14 => T mem14\n",
      "15 => T mem15\n",
      "16 => T mem16\n",
      "17 => T mem17\n",
      "18 => T mem18\n",
      "19 => T mem19\n",
      "20 => T mem20\n",
      "21 => T mem21\n",
      "22 => T mem22\n",
      "23 => T mem23\n",
      "24 => T mem24\n",
      "25 => T mem25\n",
      "26 => T mem26\n",
      "27 => T mem27\n",
      "28 => T mem28\n",
      "29 => T mem29\n",
      "0 0.00000\n"
     ]
    },
    {
     "name": "stdout",
     "output_type": "stream",
     "text": [
      "0_01 => 1 1 T   [0, 1] [0, 1] True\n",
      "0_02 => 1 1 T   [0, 2] [0, 1] True\n",
      "0_03 => 2 1 F X [0, 23, 3] [0, 1] True\n",
      "0_04 => 2 1 F X [0, 7, 4] [0, 1] True\n",
      "0_05 => 2 1 F X [0, 25, 5] [0, 1] True\n",
      "0_06 => 1 1 T   [0, 6] [0, 1] True\n",
      "0_07 => 1 1 T   [0, 7] [0, 1] True\n",
      "0_08 => 1 1 T   [0, 8] [0, 1] True\n",
      "0_09 => 2 1 F X [0, 1, 9] [0, 1] True\n",
      "0_10 => 2 1 F X [0, 7, 10] [0, 1] True\n",
      "0_11 => 2 1 F X [0, 13, 11] [0, 1] True\n",
      "0_12 => 2 1 F X [0, 13, 12] [0, 1] True\n",
      "0_13 => 1 1 T   [0, 13] [0, 1] True\n",
      "0_14 => 2 1 F X [0, 1, 14] [0, 1] True\n",
      "0_15 => 2 1 F X [0, 6, 15] [0, 1] True\n",
      "0_16 => 2 1 F X [0, 23, 16] [0, 1] True\n",
      "0_17 => 2 1 F X [0, 13, 17] [0, 1] True\n",
      "0_18 => 1 1 T   [0, 18] [0, 1] True\n",
      "0_19 => 2 1 F X [0, 1, 19] [0, 1] True\n",
      "0_20 => 1 1 T   [0, 20] [0, 1] True\n",
      "0_21 => 2 1 F X [0, 2, 21] [0, 1] True\n",
      "0_22 => 2 1 F X [0, 6, 22] [0, 1] True\n",
      "0_23 => 1 1 T   [0, 23] [0, 1] True\n",
      "0_24 => 2 1 F X [0, 23, 24] [0, 1] True\n",
      "0_25 => 1 1 T   [0, 25] [0, 1] True\n",
      "0_26 => 2 1 F X [0, 8, 26] [0, 1] True\n",
      "0_27 => 2 1 F X [0, 25, 27] [0, 1] True\n",
      "0_28 => 2 1 F X [0, 2, 28] [0, 1] True\n",
      "0_29 => 2 1 F X [0, 23, 29] [0, 1] True\n"
     ]
    }
   ],
   "source": [
    "def main():\n",
    "    graph = nx.gnm_random_graph(NODES, EDGES)\n",
    "    memory = ItemMemory()\n",
    "\n",
    "    init_vertices(graph, DIMENSIONS)\n",
    "    init_node_mem(graph, memory)\n",
    "    retrain(graph, memory, THRESHOLD, ITER)\n",
    "    G = initGraph(graph, memory)\n",
    "    print(\"G =>\", G)\n",
    "    # test_node_memory_reconstruction(G, graph, 1)\n",
    "    # test_check_edge(G, graph, THRESHOLD)\n",
    "\n",
    "\n",
    "# main()\n",
    "test_shortest_path()"
   ]
  },
  {
   "cell_type": "markdown",
   "metadata": {},
   "source": [
    "---\n"
   ]
  }
 ],
 "metadata": {
  "kernelspec": {
   "display_name": "Python 3",
   "language": "python",
   "name": "python3"
  },
  "language_info": {
   "codemirror_mode": {
    "name": "ipython",
    "version": 3
   },
   "file_extension": ".py",
   "mimetype": "text/x-python",
   "name": "python",
   "nbconvert_exporter": "python",
   "pygments_lexer": "ipython3",
   "version": "3.10.12"
  },
  "orig_nbformat": 4
 },
 "nbformat": 4,
 "nbformat_minor": 2
}
