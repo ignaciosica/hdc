{
 "cells": [
  {
   "cell_type": "code",
   "execution_count": 1,
   "metadata": {},
   "outputs": [],
   "source": [
    "# Dependencies\n",
    "\n",
    "\n",
    "import sys\n",
    "\n",
    "sys.path.append(\"../\")\n",
    "\n",
    "import numpy as np\n",
    "import functools as ft\n",
    "import networkx as nx\n",
    "from graph.graph import process_dataset, transform\n",
    "from hdc import hdv, bind, bundle, sbundle, ItemMemory, hdvw, hdva, cosim"
   ]
  },
  {
   "cell_type": "code",
   "execution_count": 2,
   "metadata": {},
   "outputs": [],
   "source": [
    "def init_vertices(graph, d=10000):\n",
    "    for n in graph:\n",
    "        graph.nodes[n][\"hdv\"] = hdv(d)"
   ]
  },
  {
   "cell_type": "code",
   "execution_count": 3,
   "metadata": {},
   "outputs": [],
   "source": [
    "def init_node_mem(graph, memory):\n",
    "    for n in graph:\n",
    "        xs = map(lambda x: graph.nodes[x][\"hdv\"], list(graph.neighbors(n)))\n",
    "        graph.nodes[n][\"mem\"] = bundle(xs)\n",
    "        memory.add_vector(f\"mem{n}\", graph.nodes[n][\"mem\"])"
   ]
  },
  {
   "cell_type": "code",
   "execution_count": 4,
   "metadata": {},
   "outputs": [],
   "source": [
    "def retrain(graph, memory, threshold, iter=15):\n",
    "    count = 0\n",
    "    for i in range(iter):\n",
    "        for n in graph:\n",
    "            mem = graph.nodes[n][\"mem\"]\n",
    "            finish = True\n",
    "            for neighbor in map(\n",
    "                lambda x: graph.nodes[x][\"hdv\"], list(nx.neighbors(graph, n))\n",
    "            ):\n",
    "                if cosim(mem, neighbor) < threshold:\n",
    "                    mem = bundle([mem, neighbor])\n",
    "                    finish = False\n",
    "                    print(\"here\")\n",
    "\n",
    "            for non_neighbor in map(\n",
    "                lambda x: graph.nodes[x][\"hdv\"], list(nx.non_neighbors(graph, n))\n",
    "            ):\n",
    "                if cosim(mem, non_neighbor) > threshold:\n",
    "                    mem = bundle([mem, -non_neighbor])\n",
    "                    finish = False\n",
    "                    print(\"here\")\n",
    "\n",
    "            if finish:\n",
    "                return\n",
    "\n",
    "            graph.nodes[n][\"mem\"] = mem\n",
    "            memory.add_vector(f\"mem{n}_{i}\", mem)"
   ]
  },
  {
   "cell_type": "code",
   "execution_count": 5,
   "metadata": {},
   "outputs": [],
   "source": [
    "def init_graph(graph, memory):\n",
    "    G = []\n",
    "    for n in graph.nodes():\n",
    "        G.append(bind([graph.nodes[n][\"hdv\"], graph.nodes[n][\"mem\"]]))\n",
    "    G = bundle(G) / 2\n",
    "    memory.add_vector(\"G\", G)\n",
    "    return G"
   ]
  },
  {
   "cell_type": "code",
   "execution_count": 6,
   "metadata": {},
   "outputs": [],
   "source": [
    "def check_edge(G, A, B, threshold):\n",
    "    return cosim(B, bind([G, A])) > threshold"
   ]
  },
  {
   "cell_type": "code",
   "execution_count": 7,
   "metadata": {},
   "outputs": [],
   "source": [
    "def node_memory_reconstruction(G, xs, iter=15):\n",
    "    if iter == 0:\n",
    "        return list(map(lambda H: bind([G, H]), xs))\n",
    "\n",
    "    mems = node_memory_reconstruction(G, xs, iter - 1)\n",
    "\n",
    "    newMems = []\n",
    "    b = [bind(x) for x in zip(mems, xs)]\n",
    "    for i in range(len(xs)):\n",
    "        bmem = bundle(b[:i] + b[i + 1 :])\n",
    "        newMems.append(bind([xs[i], bundle([G, -bmem])]))\n",
    "\n",
    "    return newMems"
   ]
  },
  {
   "cell_type": "code",
   "execution_count": 8,
   "metadata": {},
   "outputs": [],
   "source": [
    "def graph_memory_reconstruction(G, xs, iter=15):\n",
    "    raise NotImplementedError\n",
    "    if iter == 0:\n",
    "        return (G, zeros(len(G)))\n",
    "\n",
    "    (Gi, Ni) = graph_memory_reconstruction(G, xs, iter - 1)\n",
    "    Gii = bundle([Gi, -Ni])\n",
    "\n",
    "    for i in range(iter):\n",
    "        print(i)\n",
    "\n",
    "    return bundle([Gi, -edges])"
   ]
  },
  {
   "cell_type": "code",
   "execution_count": 9,
   "metadata": {},
   "outputs": [],
   "source": [
    "# visited = dict()\n",
    "# visited = {}\n",
    "\n",
    "\n",
    "def shortest_path(G, A, B, xs, distance, threshold, memory, visited):\n",
    "    label, value, sim = memory.cleanup(bind([G, A]))\n",
    "\n",
    "    if np.array_equiv(A, B):\n",
    "        return 0, label\n",
    "\n",
    "    if label in visited and visited[label][0] <= distance:\n",
    "        return visited[label][1], visited[label][2]\n",
    "\n",
    "    visited[label] = [distance, 99, \"memnill\"]\n",
    "\n",
    "    neighbours = list(filter(lambda x: check_edge(G, A, x, threshold), xs))\n",
    "\n",
    "    if len(neighbours) == 0:\n",
    "        return 99, \"memnill\"\n",
    "\n",
    "    dis, lab = min(\n",
    "        list(\n",
    "            map(\n",
    "                lambda a: shortest_path(\n",
    "                    G, a, B, xs, distance + 1, threshold, memory, visited\n",
    "                ),\n",
    "                neighbours,\n",
    "            )\n",
    "        ),\n",
    "        key=lambda x: x[0],\n",
    "    )\n",
    "    visited[label][1] = dis + 1\n",
    "    visited[label][2] = label + lab\n",
    "    return dis + 1, label + lab"
   ]
  },
  {
   "cell_type": "code",
   "execution_count": 10,
   "metadata": {},
   "outputs": [],
   "source": [
    "def test_check_edge(G, graph, threshold):\n",
    "    count = 0\n",
    "\n",
    "    for n in graph.nodes():\n",
    "        for m in graph.nodes():\n",
    "            if n == m:\n",
    "                continue\n",
    "            exist = graph.has_edge(n, m)\n",
    "            check = check_edge(\n",
    "                G, graph.nodes[n][\"hdv\"], graph.nodes[m][\"hdv\"], threshold\n",
    "            )\n",
    "            if exist != check:\n",
    "                count += 1\n",
    "                print(n, m, exist, check)\n",
    "\n",
    "    print(count, \"%.5f\" % round(count / EDGES, 5))"
   ]
  },
  {
   "cell_type": "code",
   "execution_count": 11,
   "metadata": {},
   "outputs": [],
   "source": [
    "def test_node_memory_reconstruction(G, graph, iter=15):\n",
    "    for i in range(iter):\n",
    "        memsi = node_memory_reconstruction(\n",
    "            G, list(map(lambda x: graph.nodes[x][\"hdv\"], graph.nodes())), iter=i\n",
    "        )\n",
    "        print(\n",
    "            f\"{0}_{i:02} =>\",\n",
    "            \"%.10f\" % abs(cosim(graph.nodes[0][\"mem\"], memsi[0])),\n",
    "        )"
   ]
  },
  {
   "cell_type": "code",
   "execution_count": 12,
   "metadata": {},
   "outputs": [],
   "source": [
    "def test_shortest_path():\n",
    "    mem = ItemMemory()\n",
    "\n",
    "    g = nx.gnm_random_graph(NODES, EDGES)\n",
    "    init_vertices(g, DIMENSIONS)\n",
    "    init_node_mem(g, mem)\n",
    "    G = init_graph(g, mem)\n",
    "\n",
    "    # for n in g.nodes():\n",
    "    #     print(g.edges(n))\n",
    "\n",
    "    hdvs = list(map(lambda x: g.nodes[x][\"hdv\"], g.nodes()))\n",
    "    origin = 0\n",
    "\n",
    "    # for n in g.nodes():\n",
    "    #     print(\n",
    "    #         f\"{n:02} =>\",\n",
    "    #         \"T\" if mem.cleanup(bind([G, hdvs[n]]))[0] == f\"mem{n}\" else \"F\",\n",
    "    #         mem.cleanup(bind([G, hdvs[n]]))[0],\n",
    "    #     )\n",
    "\n",
    "    # # test_check_edge(G, g, THRESHOLD)\n",
    "\n",
    "    for m in g.nodes():\n",
    "        if origin == m:\n",
    "            continue\n",
    "        path = nx.shortest_path(g, origin, m)\n",
    "        oracle = len(path) - 1\n",
    "        visited = {}\n",
    "        test = shortest_path(G, hdvs[origin], hdvs[m], hdvs, 0, THRESHOLD, mem, visited)\n",
    "        testPath = list(map(int, test[1].split(\"mem\")[1:]))\n",
    "        print(\n",
    "            f\"{origin}_{m:02} =>\",\n",
    "            oracle,\n",
    "            test[0],\n",
    "            \"T  \" if oracle == test[0] else \"F X\",\n",
    "            path,\n",
    "            testPath,\n",
    "            nx.is_path(g, testPath),\n",
    "        )"
   ]
  },
  {
   "cell_type": "code",
   "execution_count": 13,
   "metadata": {},
   "outputs": [],
   "source": [
    "NODES, EDGES = 30, 150\n",
    "DIMENSIONS, THRESHOLD, ITER = 10000, 0.047, 4"
   ]
  },
  {
   "cell_type": "code",
   "execution_count": 14,
   "metadata": {},
   "outputs": [
    {
     "ename": "NameError",
     "evalue": "name 'visited' is not defined",
     "output_type": "error",
     "traceback": [
      "\u001b[0;31m---------------------------------------------------------------------------\u001b[0m",
      "\u001b[0;31mNameError\u001b[0m                                 Traceback (most recent call last)",
      "\u001b[1;32m/home/p4ssenger/Src/hdc/papers/graphd/graphd.ipynb Cell 14\u001b[0m line \u001b[0;36m1\n\u001b[1;32m      <a href='vscode-notebook-cell:/home/p4ssenger/Src/hdc/papers/graphd/graphd.ipynb#X23sZmlsZQ%3D%3D?line=8'>9</a>\u001b[0m     \u001b[39mprint\u001b[39m(\u001b[39m\"\u001b[39m\u001b[39mG =>\u001b[39m\u001b[39m\"\u001b[39m, G)\n\u001b[1;32m     <a href='vscode-notebook-cell:/home/p4ssenger/Src/hdc/papers/graphd/graphd.ipynb#X23sZmlsZQ%3D%3D?line=9'>10</a>\u001b[0m     \u001b[39m# test_node_memory_reconstruction(G, graph, 1)\u001b[39;00m\n\u001b[1;32m     <a href='vscode-notebook-cell:/home/p4ssenger/Src/hdc/papers/graphd/graphd.ipynb#X23sZmlsZQ%3D%3D?line=10'>11</a>\u001b[0m     \u001b[39m# test_check_edge(G, graph, THRESHOLD)\u001b[39;00m\n\u001b[1;32m     <a href='vscode-notebook-cell:/home/p4ssenger/Src/hdc/papers/graphd/graphd.ipynb#X23sZmlsZQ%3D%3D?line=11'>12</a>\u001b[0m \n\u001b[1;32m     <a href='vscode-notebook-cell:/home/p4ssenger/Src/hdc/papers/graphd/graphd.ipynb#X23sZmlsZQ%3D%3D?line=12'>13</a>\u001b[0m \n\u001b[1;32m     <a href='vscode-notebook-cell:/home/p4ssenger/Src/hdc/papers/graphd/graphd.ipynb#X23sZmlsZQ%3D%3D?line=13'>14</a>\u001b[0m \u001b[39m# main()\u001b[39;00m\n\u001b[0;32m---> <a href='vscode-notebook-cell:/home/p4ssenger/Src/hdc/papers/graphd/graphd.ipynb#X23sZmlsZQ%3D%3D?line=14'>15</a>\u001b[0m test_shortest_path()\n",
      "\u001b[1;32m/home/p4ssenger/Src/hdc/papers/graphd/graphd.ipynb Cell 14\u001b[0m line \u001b[0;36m3\n\u001b[1;32m     <a href='vscode-notebook-cell:/home/p4ssenger/Src/hdc/papers/graphd/graphd.ipynb#X23sZmlsZQ%3D%3D?line=27'>28</a>\u001b[0m oracle \u001b[39m=\u001b[39m \u001b[39mlen\u001b[39m(path) \u001b[39m-\u001b[39m \u001b[39m1\u001b[39m\n\u001b[1;32m     <a href='vscode-notebook-cell:/home/p4ssenger/Src/hdc/papers/graphd/graphd.ipynb#X23sZmlsZQ%3D%3D?line=28'>29</a>\u001b[0m visited \u001b[39m=\u001b[39m {}\n\u001b[0;32m---> <a href='vscode-notebook-cell:/home/p4ssenger/Src/hdc/papers/graphd/graphd.ipynb#X23sZmlsZQ%3D%3D?line=29'>30</a>\u001b[0m test \u001b[39m=\u001b[39m shortest_path(G, hdvs[origin], hdvs[m], hdvs, \u001b[39m0\u001b[39;49m, THRESHOLD, mem)\n\u001b[1;32m     <a href='vscode-notebook-cell:/home/p4ssenger/Src/hdc/papers/graphd/graphd.ipynb#X23sZmlsZQ%3D%3D?line=30'>31</a>\u001b[0m testPath \u001b[39m=\u001b[39m \u001b[39mlist\u001b[39m(\u001b[39mmap\u001b[39m(\u001b[39mint\u001b[39m, test[\u001b[39m1\u001b[39m]\u001b[39m.\u001b[39msplit(\u001b[39m\"\u001b[39m\u001b[39mmem\u001b[39m\u001b[39m\"\u001b[39m)[\u001b[39m1\u001b[39m:]))\n\u001b[1;32m     <a href='vscode-notebook-cell:/home/p4ssenger/Src/hdc/papers/graphd/graphd.ipynb#X23sZmlsZQ%3D%3D?line=31'>32</a>\u001b[0m \u001b[39mprint\u001b[39m(\n\u001b[1;32m     <a href='vscode-notebook-cell:/home/p4ssenger/Src/hdc/papers/graphd/graphd.ipynb#X23sZmlsZQ%3D%3D?line=32'>33</a>\u001b[0m     \u001b[39mf\u001b[39m\u001b[39m\"\u001b[39m\u001b[39m{\u001b[39;00morigin\u001b[39m}\u001b[39;00m\u001b[39m_\u001b[39m\u001b[39m{\u001b[39;00mm\u001b[39m:\u001b[39;00m\u001b[39m02\u001b[39m\u001b[39m}\u001b[39;00m\u001b[39m =>\u001b[39m\u001b[39m\"\u001b[39m,\n\u001b[1;32m     <a href='vscode-notebook-cell:/home/p4ssenger/Src/hdc/papers/graphd/graphd.ipynb#X23sZmlsZQ%3D%3D?line=33'>34</a>\u001b[0m     oracle,\n\u001b[0;32m   (...)\u001b[0m\n\u001b[1;32m     <a href='vscode-notebook-cell:/home/p4ssenger/Src/hdc/papers/graphd/graphd.ipynb#X23sZmlsZQ%3D%3D?line=38'>39</a>\u001b[0m     nx\u001b[39m.\u001b[39mis_path(g, testPath),\n\u001b[1;32m     <a href='vscode-notebook-cell:/home/p4ssenger/Src/hdc/papers/graphd/graphd.ipynb#X23sZmlsZQ%3D%3D?line=39'>40</a>\u001b[0m )\n",
      "\u001b[1;32m/home/p4ssenger/Src/hdc/papers/graphd/graphd.ipynb Cell 14\u001b[0m line \u001b[0;36m1\n\u001b[1;32m      <a href='vscode-notebook-cell:/home/p4ssenger/Src/hdc/papers/graphd/graphd.ipynb#X23sZmlsZQ%3D%3D?line=7'>8</a>\u001b[0m \u001b[39mif\u001b[39;00m np\u001b[39m.\u001b[39marray_equiv(A, B):\n\u001b[1;32m      <a href='vscode-notebook-cell:/home/p4ssenger/Src/hdc/papers/graphd/graphd.ipynb#X23sZmlsZQ%3D%3D?line=8'>9</a>\u001b[0m     \u001b[39mreturn\u001b[39;00m \u001b[39m0\u001b[39m, label\n\u001b[0;32m---> <a href='vscode-notebook-cell:/home/p4ssenger/Src/hdc/papers/graphd/graphd.ipynb#X23sZmlsZQ%3D%3D?line=10'>11</a>\u001b[0m \u001b[39mif\u001b[39;00m label \u001b[39min\u001b[39;00m visited \u001b[39mand\u001b[39;00m visited[label][\u001b[39m0\u001b[39m] \u001b[39m<\u001b[39m\u001b[39m=\u001b[39m distance:\n\u001b[1;32m     <a href='vscode-notebook-cell:/home/p4ssenger/Src/hdc/papers/graphd/graphd.ipynb#X23sZmlsZQ%3D%3D?line=11'>12</a>\u001b[0m     \u001b[39mreturn\u001b[39;00m visited[label][\u001b[39m1\u001b[39m], visited[label][\u001b[39m2\u001b[39m]\n\u001b[1;32m     <a href='vscode-notebook-cell:/home/p4ssenger/Src/hdc/papers/graphd/graphd.ipynb#X23sZmlsZQ%3D%3D?line=13'>14</a>\u001b[0m visited[label] \u001b[39m=\u001b[39m [distance, \u001b[39m99\u001b[39m, \u001b[39m\"\u001b[39m\u001b[39mmemnill\u001b[39m\u001b[39m\"\u001b[39m]\n",
      "\u001b[0;31mNameError\u001b[0m: name 'visited' is not defined"
     ]
    }
   ],
   "source": [
    "def main():\n",
    "    graph = nx.gnm_random_graph(NODES, EDGES)\n",
    "    memory = ItemMemory()\n",
    "\n",
    "    init_vertices(graph, DIMENSIONS)\n",
    "    init_node_mem(graph, memory)\n",
    "    retrain(graph, memory, THRESHOLD, ITER)\n",
    "    G = initGraph(graph, memory)\n",
    "    print(\"G =>\", G)\n",
    "    # test_node_memory_reconstruction(G, graph, 1)\n",
    "    # test_check_edge(G, graph, THRESHOLD)\n",
    "\n",
    "\n",
    "# main()\n",
    "test_shortest_path()"
   ]
  }
 ],
 "metadata": {
  "kernelspec": {
   "display_name": "Python 3",
   "language": "python",
   "name": "python3"
  },
  "language_info": {
   "codemirror_mode": {
    "name": "ipython",
    "version": 3
   },
   "file_extension": ".py",
   "mimetype": "text/x-python",
   "name": "python",
   "nbconvert_exporter": "python",
   "pygments_lexer": "ipython3",
   "version": "3.10.12"
  },
  "orig_nbformat": 4
 },
 "nbformat": 4,
 "nbformat_minor": 2
}
