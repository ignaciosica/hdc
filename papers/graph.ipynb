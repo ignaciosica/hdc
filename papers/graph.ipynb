{
 "cells": [
  {
   "cell_type": "code",
   "execution_count": 52,
   "metadata": {},
   "outputs": [],
   "source": [
    "import numpy as np\n",
    "import functools as ft\n",
    "import torch"
   ]
  },
  {
   "cell_type": "code",
   "execution_count": 53,
   "metadata": {},
   "outputs": [],
   "source": [
    "torch.set_default_device(\"cuda\" if torch.cuda.is_available() else \"cpu\")"
   ]
  },
  {
   "cell_type": "code",
   "execution_count": 57,
   "metadata": {},
   "outputs": [],
   "source": [
    "def hdv(d):\n",
    "    return np.random.choice([-1, 1], d)\n",
    "\n",
    "\n",
    "def hdvt(d):\n",
    "    return torch.sign(torch.randint(-100000, 100000, (d,), dtype=torch.float))\n",
    "\n",
    "\n",
    "def bind(xs):\n",
    "    return ft.reduce(lambda x, y: x * y, xs)\n",
    "\n",
    "\n",
    "def bindt(xs):\n",
    "    return torch.prod(torch.cat(xs), axis=0)\n",
    "\n",
    "\n",
    "def bundle(xs):\n",
    "    return ft.reduce(lambda x, y: x + y, xs)\n",
    "\n",
    "\n",
    "def bundlet(xs):\n",
    "    return torch.sum(torch.cat(xs), axis=0)\n",
    "\n",
    "\n",
    "def cosine_similarity(A, B):\n",
    "    dot_product = np.dot(A, B)\n",
    "    norm_A = np.linalg.norm(A)\n",
    "    norm_B = np.linalg.norm(B)\n",
    "\n",
    "    if norm_A == 0 or norm_B == 0:\n",
    "        return 0\n",
    "\n",
    "    return dot_product / (norm_A * norm_B)\n",
    "\n",
    "\n",
    "def cosine_similarityt(A, B):\n",
    "    dot_product = torch.dot(A, B)\n",
    "    norm_A = torch.norm(A)\n",
    "    norm_B = torch.norm(B)\n",
    "\n",
    "    # if norm_A == 0 or norm_B == 0:\n",
    "    #     return 0\n",
    "\n",
    "    return torch.div(dot_product, norm_A * norm_B)"
   ]
  },
  {
   "cell_type": "code",
   "execution_count": 55,
   "metadata": {},
   "outputs": [],
   "source": [
    "class ItemMemory:\n",
    "    def __init__(self, vectors=[]):\n",
    "        self.vectors = vectors\n",
    "\n",
    "    def addVector(self, label, V):\n",
    "        self.vectors.append((label, V))\n",
    "\n",
    "    def cleanup(self, V):\n",
    "        return max(self.vectors, key=lambda x: cosine_similarity(V, x[1]))"
   ]
  },
  {
   "cell_type": "code",
   "execution_count": 58,
   "metadata": {},
   "outputs": [
    {
     "name": "stdout",
     "output_type": "stream",
     "text": [
      "hdv  0.5144559559994377\n",
      "hdvt 0.172560273000272\n",
      "bin  1.1020046439989528\n",
      "bint 0.5964114729977155\n",
      "bun  0.993165197000053\n",
      "bunt 0.5679020170027798\n",
      "cos  1.1996829909985536\n",
      "cost 1.0739103449996037\n"
     ]
    }
   ],
   "source": [
    "import timeit\n",
    "\n",
    "print(\"hdv \", timeit.timeit(\"hdv(10000)\", number=10000, globals=globals()))\n",
    "print(\"hdvt\", timeit.timeit(\"hdvt(10000)\", number=10000, globals=globals()))\n",
    "\n",
    "print(\n",
    "    \"bin \",\n",
    "    timeit.timeit(\"bind([hdv(10000), hdv(10000)])\", number=10000, globals=globals()),\n",
    ")\n",
    "print(\n",
    "    \"bint\",\n",
    "    timeit.timeit(\"bindt([hdvt(10000), hdvt(10000)])\", number=10000, globals=globals()),\n",
    ")\n",
    "\n",
    "print(\n",
    "    \"bun \",\n",
    "    timeit.timeit(\"bundle([hdv(10000), hdv(10000)])\", number=10000, globals=globals()),\n",
    ")\n",
    "print(\n",
    "    \"bunt\",\n",
    "    timeit.timeit(\n",
    "        \"bundlet([hdvt(10000), hdvt(10000)])\", number=10000, globals=globals()\n",
    "    ),\n",
    ")\n",
    "\n",
    "print(\n",
    "    \"cos \",\n",
    "    timeit.timeit(\n",
    "        \"cosine_similarity(hdv(10000), hdv(10000))\", number=10000, globals=globals()\n",
    "    ),\n",
    ")\n",
    "print(\n",
    "    \"cost\",\n",
    "    timeit.timeit(\n",
    "        \"cosine_similarityt(hdvt(10000), hdvt(10000))\", number=10000, globals=globals()\n",
    "    ),\n",
    ")"
   ]
  }
 ],
 "metadata": {
  "kernelspec": {
   "display_name": "Python 3",
   "language": "python",
   "name": "python3"
  },
  "language_info": {
   "codemirror_mode": {
    "name": "ipython",
    "version": 3
   },
   "file_extension": ".py",
   "mimetype": "text/x-python",
   "name": "python",
   "nbconvert_exporter": "python",
   "pygments_lexer": "ipython3",
   "version": "3.10.12"
  },
  "orig_nbformat": 4
 },
 "nbformat": 4,
 "nbformat_minor": 2
}
