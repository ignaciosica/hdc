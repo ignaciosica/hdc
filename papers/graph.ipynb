{
 "cells": [
  {
   "cell_type": "code",
   "execution_count": 25,
   "metadata": {},
   "outputs": [],
   "source": [
    "# Dependencies\n",
    "\n",
    "\n",
    "import numpy as np\n",
    "import networkx as nx\n",
    "from sklearn.base import BaseEstimator, ClassifierMixin\n",
    "from datasets import load_dataset\n",
    "from sklearn.model_selection import cross_val_score, ShuffleSplit\n",
    "\n",
    "from graph import processDataset, transform\n",
    "from hdc import hdv, bind, bundle, ItemMemory, hdvW, hdvA, cosine_similarity"
   ]
  },
  {
   "cell_type": "code",
   "execution_count": 2,
   "metadata": {},
   "outputs": [],
   "source": [
    "# encodeGraph -> graphHD (graph, vertices, dimensions)\n",
    "\n",
    "\n",
    "def encodeGraph(graph, vertices, dimensions):\n",
    "    for node in graph.nodes:\n",
    "        if node not in vertices:\n",
    "            vertices[node] = hdv(dimensions)\n",
    "\n",
    "    Edges = []\n",
    "\n",
    "    for edge in graph.edges:\n",
    "        v1 = vertices[edge[0]]\n",
    "        v2 = vertices[edge[1]]\n",
    "        E = bind([v1, v2])\n",
    "        Edges.append(E)\n",
    "\n",
    "    Graph = bundle(Edges)\n",
    "\n",
    "    return Graph"
   ]
  },
  {
   "cell_type": "code",
   "execution_count": 3,
   "metadata": {},
   "outputs": [],
   "source": [
    "# encodeGraphW -> vertices with hdw and edges (graph, vertices, base)\n",
    "\n",
    "\n",
    "def encodeGraphW(graph, vertices, base):\n",
    "    for node in graph.nodes:\n",
    "        if node not in vertices:\n",
    "            vertices[node] = hdvW(base, float(node))\n",
    "\n",
    "    Edges = []\n",
    "\n",
    "    for edge in graph.edges:\n",
    "        v1 = vertices[edge[0]]\n",
    "        v2 = vertices[edge[1]]\n",
    "        E = bind([v1, v2])\n",
    "        Edges.append(E)\n",
    "\n",
    "    Graph = bundle(Edges)\n",
    "\n",
    "    return Graph"
   ]
  },
  {
   "cell_type": "code",
   "execution_count": 4,
   "metadata": {},
   "outputs": [],
   "source": [
    "# encodeGraphV -> vertices with hdv and no edges (graph, vertices, base)\n",
    "\n",
    "\n",
    "def encodeGraphV(graph, vertices, base):\n",
    "    Vertices = []\n",
    "\n",
    "    for node in graph.nodes:\n",
    "        if node not in vertices:\n",
    "            vertices[node] = hdvW(base, float(node))\n",
    "        Vertices.append(vertices[node])\n",
    "\n",
    "    Graph = bundle(Vertices)\n",
    "\n",
    "    return Graph"
   ]
  },
  {
   "cell_type": "code",
   "execution_count": 5,
   "metadata": {},
   "outputs": [],
   "source": [
    "# encodeGraphVW -> vertices with hdw and no edges (graph, vertices, base)\n",
    "\n",
    "\n",
    "def encodeGraphVW(graph, vertices, base):\n",
    "    Vertices = []\n",
    "\n",
    "    for node in graph.nodes:\n",
    "        if node not in vertices:\n",
    "            vertices[node] = hdvW(base, float(node))\n",
    "        Vertices.append(vertices[node])\n",
    "\n",
    "    Graph = bundle(Vertices)\n",
    "\n",
    "    return Graph"
   ]
  },
  {
   "cell_type": "code",
   "execution_count": 32,
   "metadata": {},
   "outputs": [],
   "source": [
    "class GraphEstimator(BaseEstimator, ClassifierMixin):\n",
    "    def __init__(self, encoder, alpha=0.45, digits=4, step=20):\n",
    "        self.encoder = encoder\n",
    "        self.alpha = alpha\n",
    "        self.digits = digits\n",
    "        self.step = step\n",
    "        self.memory = ItemMemory([])\n",
    "        self.vertices = dict()\n",
    "\n",
    "    def fit(self, X, y):\n",
    "        classes = {label: [] for label in set(y)}\n",
    "        graphs = transform(X, self.alpha, self.digits)\n",
    "\n",
    "        for i in range(len(graphs)):\n",
    "            Graph = self.encoder(graphs[i], self.vertices)\n",
    "            classes[y[i]].append(Graph)\n",
    "\n",
    "        for key, value in classes.items():\n",
    "            for i in range(0, len(value), self.step):\n",
    "                H = bundle(value[i : i + self.step])\n",
    "                self.memory.addVector(str(key), H)\n",
    "\n",
    "        return self\n",
    "\n",
    "    def predict(self, X):\n",
    "        p, s, graphs = [], [], transform(X, self.alpha, self.digits)\n",
    "\n",
    "        for testGraph in graphs:\n",
    "            queryVector = self.encoder(testGraph, self.vertices)\n",
    "            cleanVector = self.memory.cleanup(queryVector)\n",
    "\n",
    "            p.append(int(cleanVector[0]))\n",
    "            # s.append(cosine_similarity(queryVector, cleanVector[1]))\n",
    "\n",
    "        # print(\"%.5f\" % round(np.mean(s), 5), \"0:\", p.count(0), \"1:\", p.count(1))\n",
    "        return p"
   ]
  },
  {
   "cell_type": "code",
   "execution_count": 7,
   "metadata": {},
   "outputs": [],
   "source": [
    "MUTAG = load_dataset(\"graphs-datasets/MUTAG\")[\"train\"]\n",
    "PROTEINS = load_dataset(\"graphs-datasets/PROTEINS\")[\"train\"]\n",
    "AIDS = load_dataset(\"graphs-datasets/AIDS\")[\"full\"]\n",
    "IMDB = load_dataset(\"graphs-datasets/IMDB-BINARY\")[\"train\"]"
   ]
  },
  {
   "cell_type": "code",
   "execution_count": 8,
   "metadata": {},
   "outputs": [],
   "source": [
    "(graphs, labels) = processDataset(MUTAG)"
   ]
  },
  {
   "cell_type": "code",
   "execution_count": 33,
   "metadata": {},
   "outputs": [
    {
     "name": "stdout",
     "output_type": "stream",
     "text": [
      "0 -> 0.81579\n",
      "1 -> 0.84211\n",
      "2 -> 0.77895\n",
      "3 -> 0.75263\n",
      "4 -> 0.76842\n",
      "5 -> 0.80526\n",
      "6 -> 0.80526\n",
      "7 -> 0.86316\n",
      "8 -> 0.86316\n",
      "9 -> 0.81579\n",
      "S => 0.81105\n"
     ]
    }
   ],
   "source": [
    "from functools import partial\n",
    "\n",
    "FOLDS, REPS = 10, 10\n",
    "ALPHA, DIGITS, DIMENSIONS, STEP = 0.85, 8, 10000, 50\n",
    "CV = FOLDS\n",
    "\n",
    "encoders = [\n",
    "    partial(encodeGraph, dimensions=DIMENSIONS),\n",
    "    partial(encodeGraphV, base=hdv(DIMENSIONS)),\n",
    "    partial(encodeGraphW, base=hdv(DIMENSIONS)),\n",
    "    partial(encodeGraphVW, base=hdv(DIMENSIONS)),\n",
    "]\n",
    "\n",
    "\n",
    "def main():\n",
    "    for encoder in encoders:\n",
    "        clf = GraphEstimator(encoder, alpha=ALPHA, digits=DIGITS, step=STEP)\n",
    "        sum = 0\n",
    "        for i in range(REPS):\n",
    "            CV = ShuffleSplit()  # random_state=0\n",
    "            scores = cross_val_score(\n",
    "                clf, graphs, labels, n_jobs=-1, cv=CV, verbose=0, error_score=\"raise\"\n",
    "            )\n",
    "            sum += scores.mean()\n",
    "            print(i, \"->\", \"%.5f\" % scores.mean())\n",
    "            del scores\n",
    "\n",
    "        print(\"S => %.5f\" % (sum / REPS))\n",
    "\n",
    "\n",
    "main()"
   ]
  }
 ],
 "metadata": {
  "kernelspec": {
   "display_name": "Python 3",
   "language": "python",
   "name": "python3"
  },
  "language_info": {
   "codemirror_mode": {
    "name": "ipython",
    "version": 3
   },
   "file_extension": ".py",
   "mimetype": "text/x-python",
   "name": "python",
   "nbconvert_exporter": "python",
   "pygments_lexer": "ipython3",
   "version": "3.10.12"
  },
  "orig_nbformat": 4
 },
 "nbformat": 4,
 "nbformat_minor": 2
}
