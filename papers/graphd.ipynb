{
 "cells": [
  {
   "cell_type": "code",
   "execution_count": 2,
   "metadata": {},
   "outputs": [],
   "source": [
    "import numpy as np\n",
    "import functools as ft\n",
    "import networkx as nx"
   ]
  },
  {
   "cell_type": "code",
   "execution_count": 3,
   "metadata": {},
   "outputs": [],
   "source": [
    "def hdv(d):\n",
    "    return np.random.choice([-1, 1], d)\n",
    "\n",
    "\n",
    "def zero(d):\n",
    "    return np.zeros((d,))\n",
    "\n",
    "\n",
    "def bind(xs):\n",
    "    return ft.reduce(lambda x, y: x * y, xs)\n",
    "\n",
    "\n",
    "def bundle(xs):\n",
    "    return ft.reduce(lambda x, y: x + y, xs)\n",
    "\n",
    "\n",
    "def p(d):\n",
    "    return np.random.shuffle(np.eye(d))\n",
    "\n",
    "\n",
    "def inverse(P):\n",
    "    return np.linalg.inv(P)\n",
    "\n",
    "\n",
    "def permute(P, H):\n",
    "    return P.dot(H)\n",
    "\n",
    "\n",
    "def cosine_similarity(A, B):\n",
    "    norm_A = np.linalg.norm(A)\n",
    "    norm_B = np.linalg.norm(B)\n",
    "\n",
    "    if norm_A == 0 or norm_B == 0:\n",
    "        return 0\n",
    "\n",
    "    return np.dot(A, B) / (norm_A * norm_B)\n",
    "\n",
    "\n",
    "def similarity(A, B):\n",
    "    return np.dot(A, B) / len(A)\n",
    "\n",
    "\n",
    "sim = cosine_similarity"
   ]
  },
  {
   "cell_type": "code",
   "execution_count": 4,
   "metadata": {},
   "outputs": [],
   "source": [
    "class ItemMemory:\n",
    "    def __init__(self, vectors=[]):\n",
    "        self.vectors = vectors\n",
    "\n",
    "    def addVector(self, label, V):\n",
    "        self.vectors.append((label, V))\n",
    "\n",
    "    def getVector(self, label):\n",
    "        return self.vectors[label]\n",
    "\n",
    "    def cleanup(self, V):\n",
    "        return max(self.vectors, key=lambda x: sim(V, x[1]))"
   ]
  },
  {
   "cell_type": "code",
   "execution_count": 5,
   "metadata": {},
   "outputs": [],
   "source": [
    "def initVertices(graph, d=10000):\n",
    "    for n in graph:\n",
    "        graph.nodes[n][\"hdv\"] = hdv(d)"
   ]
  },
  {
   "cell_type": "code",
   "execution_count": 6,
   "metadata": {},
   "outputs": [],
   "source": [
    "def initNodeMem(graph, memory):\n",
    "    for n in graph:\n",
    "        xs = map(lambda x: graph.nodes[x][\"hdv\"], list(graph.neighbors(n)))\n",
    "        graph.nodes[n][\"mem\"] = bundle(xs)\n",
    "        memory.addVector(f\"mem{n}\", graph.nodes[n][\"mem\"])"
   ]
  },
  {
   "cell_type": "code",
   "execution_count": 7,
   "metadata": {},
   "outputs": [],
   "source": [
    "def retrain(graph, memory, threshold, iter=15):\n",
    "    count = 0\n",
    "    for i in range(iter):\n",
    "        for n in graph:\n",
    "            mem = graph.nodes[n][\"mem\"]\n",
    "            finish = True\n",
    "            for neighbor in map(\n",
    "                lambda x: graph.nodes[x][\"hdv\"], list(nx.neighbors(graph, n))\n",
    "            ):\n",
    "                if sim(mem, neighbor) < threshold:\n",
    "                    mem = bundle([mem, neighbor])\n",
    "                    finish = False\n",
    "                    print(\"here\")\n",
    "\n",
    "            for non_neighbor in map(\n",
    "                lambda x: graph.nodes[x][\"hdv\"], list(nx.non_neighbors(graph, n))\n",
    "            ):\n",
    "                if sim(mem, non_neighbor) > threshold:\n",
    "                    mem = bundle([mem, -non_neighbor])\n",
    "                    finish = False\n",
    "                    print(\"here\")\n",
    "\n",
    "            if finish:\n",
    "                return\n",
    "\n",
    "            graph.nodes[n][\"mem\"] = mem\n",
    "            memory.addVector(f\"mem{n}_{i}\", mem)"
   ]
  },
  {
   "cell_type": "code",
   "execution_count": 8,
   "metadata": {},
   "outputs": [],
   "source": [
    "def initGraph(graph, memory):\n",
    "    G = []\n",
    "    for n in graph.nodes():\n",
    "        G.append(bind([graph.nodes[n][\"hdv\"], graph.nodes[n][\"mem\"]]))\n",
    "    G = bundle(G) / 2\n",
    "    memory.addVector(\"G\", G)\n",
    "    return G"
   ]
  },
  {
   "cell_type": "code",
   "execution_count": 9,
   "metadata": {},
   "outputs": [],
   "source": [
    "def checkEdge(G, A, B, threshold):\n",
    "    return sim(B, bind([G, A])) > threshold"
   ]
  },
  {
   "cell_type": "code",
   "execution_count": 10,
   "metadata": {},
   "outputs": [],
   "source": [
    "def nodeMemoryReconstruction(G, xs, iter=15):\n",
    "    if iter == 0:\n",
    "        return list(map(lambda H: bind([G, H]), xs))\n",
    "\n",
    "    mems = nodeMemoryReconstruction(G, xs, iter - 1)\n",
    "\n",
    "    newMems = []\n",
    "    b = [bind(x) for x in zip(mems, xs)]\n",
    "    for i in range(len(xs)):\n",
    "        bmem = bundle(b[:i] + b[i + 1 :])\n",
    "        newMems.append(bind([xs[i], bundle([G, -bmem])]))\n",
    "\n",
    "    return newMems"
   ]
  },
  {
   "cell_type": "code",
   "execution_count": 11,
   "metadata": {},
   "outputs": [],
   "source": [
    "def graphMemoryReconstruction(G, xs, iter=15):\n",
    "    raise NotImplementedError\n",
    "    if iter == 0:\n",
    "        return (G, zeros(len(G)))\n",
    "\n",
    "    (Gi, Ni) = graphMemoryReconstruction(G, xs, iter - 1)\n",
    "    Gii = bundle([Gi, -Ni])\n",
    "\n",
    "    for i in range(iter):\n",
    "        print(i)\n",
    "\n",
    "    return bundle([Gi, -edges])"
   ]
  },
  {
   "cell_type": "code",
   "execution_count": 28,
   "metadata": {},
   "outputs": [],
   "source": [
    "# visited = dict()\n",
    "visited = {}\n",
    "\n",
    "\n",
    "def shortestPath(G, A, B, xs, distance, threshold, memory):\n",
    "    label, value = memory.cleanup(bind([G, A]))\n",
    "\n",
    "    if np.array_equiv(A, B):\n",
    "        return 0, label\n",
    "\n",
    "    if label in visited and visited[label][0] <= distance:\n",
    "        return visited[label][1], visited[label][2]\n",
    "\n",
    "    visited[label] = [distance, 99, \"memnill\"]\n",
    "\n",
    "    neighbours = list(filter(lambda x: checkEdge(G, A, x, threshold), xs))\n",
    "\n",
    "    if len(neighbours) == 0:\n",
    "        return 99, \"memnill\"\n",
    "\n",
    "    dis, lab = min(\n",
    "        list(\n",
    "            map(\n",
    "                lambda a: shortestPath(G, a, B, xs, distance + 1, threshold, memory),\n",
    "                neighbours,\n",
    "            )\n",
    "        ),\n",
    "        key=lambda x: x[0],\n",
    "    )\n",
    "    visited[label][1] = dis + 1\n",
    "    visited[label][2] = label + lab\n",
    "    return dis + 1, label + lab"
   ]
  },
  {
   "cell_type": "markdown",
   "metadata": {},
   "source": [
    "---\n"
   ]
  },
  {
   "cell_type": "markdown",
   "metadata": {},
   "source": [
    "# Tests\n"
   ]
  },
  {
   "cell_type": "code",
   "execution_count": 13,
   "metadata": {},
   "outputs": [],
   "source": [
    "def testCheckEdge(G, graph, threshold):\n",
    "    count = 0\n",
    "\n",
    "    for n in graph.nodes():\n",
    "        for m in graph.nodes():\n",
    "            if n == m:\n",
    "                continue\n",
    "            exist = graph.has_edge(n, m)\n",
    "            check = checkEdge(\n",
    "                G, graph.nodes[n][\"hdv\"], graph.nodes[m][\"hdv\"], threshold\n",
    "            )\n",
    "            if exist != check:\n",
    "                count += 1\n",
    "                print(n, m, exist, check)\n",
    "\n",
    "    print(count, \"%.5f\" % round(count / EDGES, 5))"
   ]
  },
  {
   "cell_type": "code",
   "execution_count": 14,
   "metadata": {},
   "outputs": [],
   "source": [
    "def testNodeMemoryReconstruction(G, graph, iter=15):\n",
    "    for i in range(iter):\n",
    "        memsi = nodeMemoryReconstruction(\n",
    "            G, list(map(lambda x: graph.nodes[x][\"hdv\"], graph.nodes())), iter=i\n",
    "        )\n",
    "        print(\n",
    "            f\"{0}_{i:02} =>\",\n",
    "            \"%.10f\" % abs(sim(graph.nodes[0][\"mem\"], memsi[0])),\n",
    "        )"
   ]
  },
  {
   "cell_type": "markdown",
   "metadata": {},
   "source": [
    "---\n"
   ]
  },
  {
   "cell_type": "markdown",
   "metadata": {},
   "source": [
    "# Main\n"
   ]
  },
  {
   "cell_type": "code",
   "execution_count": 15,
   "metadata": {},
   "outputs": [],
   "source": [
    "NODES, EDGES = 30, 150\n",
    "DIMENSIONS, THRESHOLD, ITER = 10000, 0.047, 4"
   ]
  },
  {
   "cell_type": "code",
   "execution_count": 16,
   "metadata": {},
   "outputs": [],
   "source": [
    "def main():\n",
    "    graph = nx.gnm_random_graph(NODES, EDGES)\n",
    "    memory = ItemMemory()\n",
    "\n",
    "    initVertices(graph, DIMENSIONS)\n",
    "    initNodeMem(graph, memory)\n",
    "    retrain(graph, memory, THRESHOLD, ITER)\n",
    "    G = initGraph(graph, memory)\n",
    "    print(\"G =>\", G)\n",
    "    # testNodeMemoryReconstruction(G, graph, 1)\n",
    "    # testCheckEdge(G, graph, THRESHOLD)\n",
    "\n",
    "\n",
    "# main()"
   ]
  },
  {
   "cell_type": "code",
   "execution_count": 17,
   "metadata": {},
   "outputs": [],
   "source": [
    "# graph = nx.gnm_random_graph(NODES, EDGES)\n",
    "# memory = ItemMemory()\n",
    "\n",
    "# initVertices(graph, DIMENSIONS)\n",
    "# initNodeMem(graph, memory)\n",
    "# G = initGraph(graph, memory)\n",
    "# print(\"G =>\", G)"
   ]
  },
  {
   "cell_type": "code",
   "execution_count": 18,
   "metadata": {},
   "outputs": [],
   "source": [
    "# testNodeMemoryReconstruction(G, graph, 15)"
   ]
  },
  {
   "cell_type": "code",
   "execution_count": 19,
   "metadata": {},
   "outputs": [],
   "source": [
    "# sim(graph.nodes[0][\"mem\"], graph.nodes[0][\"mem\"])"
   ]
  },
  {
   "cell_type": "markdown",
   "metadata": {},
   "source": [
    "---\n"
   ]
  },
  {
   "cell_type": "code",
   "execution_count": 20,
   "metadata": {},
   "outputs": [
    {
     "name": "stdout",
     "output_type": "stream",
     "text": [
      "[(0, 13), (0, 24), (0, 27)]\n",
      "[(1, 11), (1, 15)]\n",
      "[(2, 27)]\n",
      "[(3, 8)]\n",
      "[(4, 26), (4, 18), (4, 12), (4, 11), (4, 25)]\n",
      "[(5, 7), (5, 20), (5, 13), (5, 8)]\n",
      "[(6, 23), (6, 21), (6, 27), (6, 22)]\n",
      "[(7, 5), (7, 23)]\n",
      "[(8, 3), (8, 5)]\n",
      "[(9, 26), (9, 16), (9, 21), (9, 29), (9, 14)]\n",
      "[(10, 27)]\n",
      "[(11, 1), (11, 4), (11, 21)]\n",
      "[(12, 4)]\n",
      "[(13, 21), (13, 0), (13, 5)]\n",
      "[(14, 9), (14, 23)]\n",
      "[(15, 1), (15, 29)]\n",
      "[(16, 9), (16, 24)]\n",
      "[(17, 29)]\n",
      "[(18, 26), (18, 4), (18, 23)]\n",
      "[(19, 26), (19, 23), (19, 27), (19, 25)]\n",
      "[(20, 23), (20, 5), (20, 21)]\n",
      "[(21, 13), (21, 6), (21, 9), (21, 20), (21, 11)]\n",
      "[(22, 23), (22, 6), (22, 28)]\n",
      "[(23, 7), (23, 6), (23, 20), (23, 22), (23, 19), (23, 18), (23, 14)]\n",
      "[(24, 16), (24, 0), (24, 27)]\n",
      "[(25, 19), (25, 27), (25, 4)]\n",
      "[(26, 9), (26, 18), (26, 19), (26, 4)]\n",
      "[(27, 2), (27, 19), (27, 10), (27, 6), (27, 24), (27, 25), (27, 0)]\n",
      "[(28, 22)]\n",
      "[(29, 17), (29, 9), (29, 15)]\n"
     ]
    }
   ],
   "source": [
    "mem = ItemMemory()\n",
    "\n",
    "g = nx.gnm_random_graph(NODES, 45)\n",
    "initVertices(g, DIMENSIONS)\n",
    "initNodeMem(g, mem)\n",
    "G = initGraph(g, mem)\n",
    "\n",
    "for n in g.nodes():\n",
    "    print(g.edges(n))"
   ]
  },
  {
   "cell_type": "code",
   "execution_count": 21,
   "metadata": {},
   "outputs": [],
   "source": [
    "hdvs = list(map(lambda x: g.nodes[x][\"hdv\"], g.nodes()))\n",
    "origin = 0"
   ]
  },
  {
   "cell_type": "code",
   "execution_count": 27,
   "metadata": {},
   "outputs": [
    {
     "name": "stdout",
     "output_type": "stream",
     "text": [
      "00 => T mem0\n",
      "01 => T mem1\n",
      "02 => T mem2\n",
      "03 => T mem3\n",
      "04 => T mem4\n",
      "05 => T mem5\n",
      "06 => T mem6\n",
      "07 => T mem7\n",
      "08 => T mem8\n",
      "09 => T mem9\n",
      "10 => F mem2\n",
      "11 => T mem11\n",
      "12 => T mem12\n",
      "13 => T mem13\n",
      "14 => T mem14\n",
      "15 => T mem15\n",
      "16 => T mem16\n",
      "17 => T mem17\n",
      "18 => T mem18\n",
      "19 => T mem19\n",
      "20 => T mem20\n",
      "21 => T mem21\n",
      "22 => T mem22\n",
      "23 => T mem23\n",
      "24 => T mem24\n",
      "25 => T mem25\n",
      "26 => T mem26\n",
      "27 => T mem27\n",
      "28 => T mem28\n",
      "29 => T mem29\n"
     ]
    }
   ],
   "source": [
    "for n in g.nodes():\n",
    "    print(\n",
    "        f\"{n:02} =>\",\n",
    "        \"T\" if mem.cleanup(bind([G, hdvs[n]]))[0] == f\"mem{n}\" else \"F\",\n",
    "        mem.cleanup(bind([G, hdvs[n]]))[0],\n",
    "    )"
   ]
  },
  {
   "cell_type": "code",
   "execution_count": 29,
   "metadata": {},
   "outputs": [
    {
     "name": "stdout",
     "output_type": "stream",
     "text": [
      "0_01 => 4 4 T   [0, 13, 21, 11, 1] [0, 13, 21, 11, 1] True\n",
      "0_02 => 2 2 T   [0, 27, 2] [0, 27, 2] True\n",
      "0_03 => 4 4 T   [0, 13, 5, 8, 3] [0, 13, 5, 8, 3] True\n",
      "0_04 => 3 3 T   [0, 27, 25, 4] [0, 27, 25, 4] True\n",
      "0_05 => 2 2 T   [0, 13, 5] [0, 13, 5] True\n",
      "0_06 => 2 2 T   [0, 27, 6] [0, 27, 6] True\n",
      "0_07 => 3 3 T   [0, 13, 5, 7] [0, 13, 5, 7] True\n",
      "0_08 => 3 3 T   [0, 13, 5, 8] [0, 13, 5, 8] True\n",
      "0_09 => 3 3 T   [0, 13, 21, 9] [0, 13, 21, 9] True\n",
      "0_10 => 2 2 T   [0, 27, 10] [0, 27, 2] True\n",
      "0_11 => 3 3 T   [0, 13, 21, 11] [0, 13, 21, 11] True\n",
      "0_12 => 4 4 T   [0, 27, 25, 4, 12] [0, 27, 25, 4, 12] True\n",
      "0_13 => 1 1 T   [0, 13] [0, 13] True\n",
      "0_14 => 4 4 T   [0, 13, 21, 9, 14] [0, 13, 21, 9, 14] True\n",
      "0_15 => 5 5 T   [0, 13, 21, 11, 1, 15] [0, 13, 21, 9, 29, 15] True\n",
      "0_16 => 2 2 T   [0, 24, 16] [0, 24, 16] True\n",
      "0_17 => 5 5 T   [0, 13, 21, 9, 29, 17] [0, 13, 21, 9, 29, 17] True\n",
      "0_18 => 4 4 T   [0, 27, 19, 26, 18] [0, 27, 6, 23, 18] True\n",
      "0_19 => 2 2 T   [0, 27, 19] [0, 27, 19] True\n",
      "0_20 => 3 3 T   [0, 13, 21, 20] [0, 13, 5, 20] True\n",
      "0_21 => 2 2 T   [0, 13, 21] [0, 13, 21] True\n",
      "0_22 => 3 3 T   [0, 27, 6, 22] [0, 27, 6, 22] True\n",
      "0_23 => 3 3 T   [0, 27, 19, 23] [0, 27, 6, 23] True\n",
      "0_24 => 1 1 T   [0, 24] [0, 24] True\n",
      "0_25 => 2 2 T   [0, 27, 25] [0, 27, 25] True\n",
      "0_26 => 3 3 T   [0, 27, 19, 26] [0, 27, 19, 26] True\n",
      "0_27 => 1 1 T   [0, 27] [0, 27] True\n",
      "0_28 => 4 4 T   [0, 27, 6, 22, 28] [0, 27, 6, 22, 28] True\n",
      "0_29 => 4 4 T   [0, 24, 16, 9, 29] [0, 13, 21, 9, 29] True\n"
     ]
    }
   ],
   "source": [
    "for m in g.nodes():\n",
    "    if origin == m:\n",
    "        continue\n",
    "    path = nx.shortest_path(g, origin, m)\n",
    "    oracle = len(path) - 1\n",
    "    visited = {}\n",
    "    test = shortestPath(G, hdvs[origin], hdvs[m], hdvs, 0, THRESHOLD, mem)\n",
    "    testPath = list(map(int, test[1].split(\"mem\")[1:]))\n",
    "    print(\n",
    "        f\"{origin}_{m:02} =>\",\n",
    "        oracle,\n",
    "        test[0],\n",
    "        \"T  \" if oracle == test[0] else \"F X\",\n",
    "        path,\n",
    "        testPath,\n",
    "        nx.is_path(g, testPath),\n",
    "    )"
   ]
  },
  {
   "cell_type": "code",
   "execution_count": 24,
   "metadata": {},
   "outputs": [
    {
     "name": "stdout",
     "output_type": "stream",
     "text": [
      "0 0.00000\n"
     ]
    }
   ],
   "source": [
    "testCheckEdge(G, g, THRESHOLD)"
   ]
  }
 ],
 "metadata": {
  "kernelspec": {
   "display_name": "Python 3",
   "language": "python",
   "name": "python3"
  },
  "language_info": {
   "codemirror_mode": {
    "name": "ipython",
    "version": 3
   },
   "file_extension": ".py",
   "mimetype": "text/x-python",
   "name": "python",
   "nbconvert_exporter": "python",
   "pygments_lexer": "ipython3",
   "version": "3.10.12"
  },
  "orig_nbformat": 4
 },
 "nbformat": 4,
 "nbformat_minor": 2
}
