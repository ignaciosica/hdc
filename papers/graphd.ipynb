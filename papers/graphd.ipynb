{
 "cells": [
  {
   "cell_type": "code",
   "execution_count": 1,
   "metadata": {},
   "outputs": [],
   "source": [
    "import numpy as np\n",
    "import functools as ft\n",
    "import networkx as nx"
   ]
  },
  {
   "cell_type": "code",
   "execution_count": 2,
   "metadata": {},
   "outputs": [],
   "source": [
    "def hdv(d):\n",
    "    return np.random.choice([-1, 1], d)\n",
    "\n",
    "\n",
    "def zero(d):\n",
    "    return np.zeros((d,))\n",
    "\n",
    "\n",
    "def bind(xs):\n",
    "    return ft.reduce(lambda x, y: x * y, xs)\n",
    "\n",
    "\n",
    "def bundle(xs):\n",
    "    return ft.reduce(lambda x, y: x + y, xs)\n",
    "\n",
    "\n",
    "def p(d):\n",
    "    return np.random.shuffle(np.eye(d))\n",
    "\n",
    "\n",
    "def inverse(P):\n",
    "    return np.linalg.inv(P)\n",
    "\n",
    "\n",
    "def permute(P, H):\n",
    "    return P.dot(H)\n",
    "\n",
    "\n",
    "def cosine_similarity(A, B):\n",
    "    norm_A = np.linalg.norm(A)\n",
    "    norm_B = np.linalg.norm(B)\n",
    "\n",
    "    if norm_A == 0 or norm_B == 0:\n",
    "        return 0\n",
    "\n",
    "    return np.dot(A, B) / (norm_A * norm_B)\n",
    "\n",
    "\n",
    "def similarity(A, B):\n",
    "    return np.dot(A, B) / len(A)\n",
    "\n",
    "\n",
    "sim = cosine_similarity"
   ]
  },
  {
   "cell_type": "code",
   "execution_count": 3,
   "metadata": {},
   "outputs": [],
   "source": [
    "class ItemMemory:\n",
    "    def __init__(self, vectors=[]):\n",
    "        self.vectors = vectors\n",
    "\n",
    "    def addVector(self, label, V):\n",
    "        self.vectors.append((label, V))\n",
    "\n",
    "    def getVector(self, label):\n",
    "        return self.vectors[label]\n",
    "\n",
    "    def cleanup(self, V):\n",
    "        return max(self.vectors, key=lambda x: sim(V, x[1]))"
   ]
  },
  {
   "cell_type": "code",
   "execution_count": 4,
   "metadata": {},
   "outputs": [],
   "source": [
    "def initVertices(graph, d=10000):\n",
    "    for n in graph:\n",
    "        graph.nodes[n][\"hdv\"] = hdv(d)"
   ]
  },
  {
   "cell_type": "code",
   "execution_count": 5,
   "metadata": {},
   "outputs": [],
   "source": [
    "def initNodeMem(graph, memory):\n",
    "    for n in graph:\n",
    "        xs = map(lambda x: graph.nodes[x][\"hdv\"], list(graph.neighbors(n)))\n",
    "        graph.nodes[n][\"mem\"] = bundle(xs)\n",
    "        memory.addVector(f\"mem{n}\", graph.nodes[n][\"mem\"])"
   ]
  },
  {
   "cell_type": "code",
   "execution_count": 6,
   "metadata": {},
   "outputs": [],
   "source": [
    "def retrain(graph, memory, threshold, iter=15):\n",
    "    count = 0\n",
    "    for i in range(iter):\n",
    "        for n in graph:\n",
    "            mem = graph.nodes[n][\"mem\"]\n",
    "            finish = True\n",
    "            for neighbor in map(\n",
    "                lambda x: graph.nodes[x][\"hdv\"], list(nx.neighbors(graph, n))\n",
    "            ):\n",
    "                if sim(mem, neighbor) < threshold:\n",
    "                    mem = bundle([mem, neighbor])\n",
    "                    finish = False\n",
    "                    print(\"here\")\n",
    "\n",
    "            for non_neighbor in map(\n",
    "                lambda x: graph.nodes[x][\"hdv\"], list(nx.non_neighbors(graph, n))\n",
    "            ):\n",
    "                if sim(mem, non_neighbor) > threshold:\n",
    "                    mem = bundle([mem, -non_neighbor])\n",
    "                    finish = False\n",
    "                    print(\"here\")\n",
    "\n",
    "            if finish:\n",
    "                return\n",
    "\n",
    "            graph.nodes[n][\"mem\"] = mem\n",
    "            memory.addVector(f\"mem{n}_{i}\", mem)"
   ]
  },
  {
   "cell_type": "code",
   "execution_count": 7,
   "metadata": {},
   "outputs": [],
   "source": [
    "def initGraph(graph, memory):\n",
    "    G = []\n",
    "    for n in graph.nodes():\n",
    "        G.append(bind([graph.nodes[n][\"hdv\"], graph.nodes[n][\"mem\"]]))\n",
    "    G = bundle(G) / 2\n",
    "    memory.addVector(\"g\", G)\n",
    "    return G"
   ]
  },
  {
   "cell_type": "code",
   "execution_count": 8,
   "metadata": {},
   "outputs": [],
   "source": [
    "def checkEdge(G, A, B, threshold):\n",
    "    return sim(B, bind([G, A])) > threshold"
   ]
  },
  {
   "cell_type": "code",
   "execution_count": 9,
   "metadata": {},
   "outputs": [],
   "source": [
    "def nodeMemoryReconstruction(G, xs, iter=15):\n",
    "    if iter == 0:\n",
    "        return list(map(lambda H: bind([G, H]), xs))\n",
    "\n",
    "    mems = nodeMemoryReconstruction(G, xs, iter - 1)\n",
    "\n",
    "    newMems = []\n",
    "    b = [bind(x) for x in zip(mems, xs)]\n",
    "    for i in range(len(xs)):\n",
    "        bmem = bundle(b[:i] + b[i + 1 :])\n",
    "        newMems.append(bind([xs[i], bundle([G, -bmem])]))\n",
    "\n",
    "    return newMems"
   ]
  },
  {
   "cell_type": "code",
   "execution_count": 10,
   "metadata": {},
   "outputs": [],
   "source": [
    "def graphMemoryReconstruction(G, xs, iter=15):\n",
    "    raise NotImplementedError\n",
    "    if iter == 0:\n",
    "        return (G, zeros(len(G)))\n",
    "\n",
    "    (Gi, Ni) = graphMemoryReconstruction(G, xs, iter - 1)\n",
    "    Gii = bundle([Gi, -Ni])\n",
    "\n",
    "    for i in range(iter):\n",
    "        print(i)\n",
    "\n",
    "    return bundle([Gi, -edges])"
   ]
  },
  {
   "cell_type": "code",
   "execution_count": 93,
   "metadata": {},
   "outputs": [],
   "source": [
    "# visited = dict()\n",
    "# visited = {}\n",
    "\n",
    "\n",
    "def shortestPath(G, A, B, xs, distance, threshold, memory):\n",
    "    if np.array_equiv(A, B):\n",
    "        return 0\n",
    "\n",
    "    label, value = memory.cleanup(A)\n",
    "\n",
    "    if label in visited and visited[label][0] <= distance:\n",
    "        return visited[label][1]\n",
    "\n",
    "    visited[label] = [distance, 99]\n",
    "\n",
    "    neighbours = list(filter(lambda x: checkEdge(G, A, x, threshold), xs))\n",
    "\n",
    "    if len(neighbours) == 0:\n",
    "        return 99\n",
    "\n",
    "    dis = min(\n",
    "        list(\n",
    "            map(\n",
    "                lambda a: shortestPath(G, a, B, xs, distance + 1, threshold, memory),\n",
    "                neighbours,\n",
    "            )\n",
    "        )\n",
    "    )\n",
    "    visited[label][1] = dis + 1\n",
    "    return dis + 1"
   ]
  },
  {
   "cell_type": "markdown",
   "metadata": {},
   "source": [
    "---\n"
   ]
  },
  {
   "cell_type": "markdown",
   "metadata": {},
   "source": [
    "# Tests\n"
   ]
  },
  {
   "cell_type": "code",
   "execution_count": 12,
   "metadata": {},
   "outputs": [],
   "source": [
    "def testCheckEdge(G, graph, threshold):\n",
    "    count = 0\n",
    "\n",
    "    for n in graph.nodes():\n",
    "        for m in graph.nodes():\n",
    "            if n == m:\n",
    "                continue\n",
    "            exist = graph.has_edge(n, m)\n",
    "            check = checkEdge(\n",
    "                G, graph.nodes[n][\"hdv\"], graph.nodes[m][\"hdv\"], threshold\n",
    "            )\n",
    "            if exist != check:\n",
    "                count += 1\n",
    "                print(n, m, exist, check)\n",
    "\n",
    "    print(count, \"%.5f\" % round(count / EDGES, 5))"
   ]
  },
  {
   "cell_type": "code",
   "execution_count": 13,
   "metadata": {},
   "outputs": [],
   "source": [
    "def testNodeMemoryReconstruction(G, graph, iter=15):\n",
    "    for i in range(iter):\n",
    "        memsi = nodeMemoryReconstruction(\n",
    "            G, list(map(lambda x: graph.nodes[x][\"hdv\"], graph.nodes())), iter=i\n",
    "        )\n",
    "        print(\n",
    "            f\"{0}_{i:02} =>\",\n",
    "            \"%.10f\" % abs(sim(graph.nodes[0][\"mem\"], memsi[0])),\n",
    "        )"
   ]
  },
  {
   "cell_type": "markdown",
   "metadata": {},
   "source": [
    "---\n"
   ]
  },
  {
   "cell_type": "markdown",
   "metadata": {},
   "source": [
    "# Main\n"
   ]
  },
  {
   "cell_type": "code",
   "execution_count": 14,
   "metadata": {},
   "outputs": [],
   "source": [
    "NODES, EDGES = 30, 150\n",
    "DIMENSIONS, THRESHOLD, ITER = 10000, 0.047, 4"
   ]
  },
  {
   "cell_type": "code",
   "execution_count": 15,
   "metadata": {},
   "outputs": [],
   "source": [
    "def main():\n",
    "    graph = nx.gnm_random_graph(NODES, EDGES)\n",
    "    memory = ItemMemory()\n",
    "\n",
    "    initVertices(graph, DIMENSIONS)\n",
    "    initNodeMem(graph, memory)\n",
    "    retrain(graph, memory, THRESHOLD, ITER)\n",
    "    G = initGraph(graph, memory)\n",
    "    print(\"G =>\", G)\n",
    "    # testNodeMemoryReconstruction(G, graph, 1)\n",
    "    # testCheckEdge(G, graph, THRESHOLD)\n",
    "\n",
    "\n",
    "# main()"
   ]
  },
  {
   "cell_type": "code",
   "execution_count": 16,
   "metadata": {},
   "outputs": [
    {
     "name": "stdout",
     "output_type": "stream",
     "text": [
      "G => [ 4. 10.  0. ... -4. 12. -4.]\n"
     ]
    }
   ],
   "source": [
    "# graph = nx.gnm_random_graph(NODES, EDGES)\n",
    "# memory = ItemMemory()\n",
    "\n",
    "# initVertices(graph, DIMENSIONS)\n",
    "# initNodeMem(graph, memory)\n",
    "# G = initGraph(graph, memory)\n",
    "# print(\"G =>\", G)"
   ]
  },
  {
   "cell_type": "code",
   "execution_count": 17,
   "metadata": {},
   "outputs": [
    {
     "name": "stdout",
     "output_type": "stream",
     "text": [
      "0_00 => 0.2406504797\n",
      "0_01 => 0.2406504797\n",
      "0_02 => 0.2406504797\n",
      "0_03 => 0.2406504797\n",
      "0_04 => 0.2406504797\n",
      "0_05 => 0.2406504797\n",
      "0_06 => 0.2406504797\n",
      "0_07 => 0.2406504797\n",
      "0_08 => 0.2406504797\n",
      "0_09 => 0.2406504797\n",
      "0_10 => 0.2406504797\n",
      "0_11 => 0.2406504797\n",
      "0_12 => 0.2406504797\n",
      "0_13 => 0.2406504797\n",
      "0_14 => 0.2406504797\n"
     ]
    }
   ],
   "source": [
    "# testNodeMemoryReconstruction(G, graph, 15)"
   ]
  },
  {
   "cell_type": "code",
   "execution_count": 18,
   "metadata": {},
   "outputs": [
    {
     "data": {
      "text/plain": [
       "0.9999999999999999"
      ]
     },
     "execution_count": 18,
     "metadata": {},
     "output_type": "execute_result"
    }
   ],
   "source": [
    "# sim(graph.nodes[0][\"mem\"], graph.nodes[0][\"mem\"])"
   ]
  },
  {
   "cell_type": "markdown",
   "metadata": {},
   "source": [
    "---\n"
   ]
  },
  {
   "cell_type": "code",
   "execution_count": 117,
   "metadata": {},
   "outputs": [
    {
     "name": "stdout",
     "output_type": "stream",
     "text": [
      "[(0, 8), (0, 14), (0, 25), (0, 7)]\n",
      "[(1, 4), (1, 19), (1, 14), (1, 7)]\n",
      "[(2, 3), (2, 19), (2, 13), (2, 27), (2, 8)]\n",
      "[(3, 2), (3, 23)]\n",
      "[(4, 1), (4, 29)]\n",
      "[(5, 7), (5, 12), (5, 24)]\n",
      "[(6, 24), (6, 14), (6, 16), (6, 27)]\n",
      "[(7, 5), (7, 17), (7, 1), (7, 0)]\n",
      "[(8, 0), (8, 20), (8, 21), (8, 12), (8, 2)]\n",
      "[(9, 29)]\n",
      "[(10, 13), (10, 11), (10, 25)]\n",
      "[(11, 10)]\n",
      "[(12, 8), (12, 5), (12, 19)]\n",
      "[(13, 10), (13, 2)]\n",
      "[(14, 27), (14, 17), (14, 0), (14, 6), (14, 1)]\n",
      "[(15, 29), (15, 20)]\n",
      "[(16, 29), (16, 25), (16, 18), (16, 6)]\n",
      "[(17, 23), (17, 14), (17, 7), (17, 28)]\n",
      "[(18, 16), (18, 26)]\n",
      "[(19, 2), (19, 1), (19, 12)]\n",
      "[(20, 8), (20, 15)]\n",
      "[(21, 8)]\n",
      "[(22, 25)]\n",
      "[(23, 17), (23, 24), (23, 3)]\n",
      "[(24, 6), (24, 25), (24, 23), (24, 5)]\n",
      "[(25, 22), (25, 16), (25, 24), (25, 10), (25, 26), (25, 0)]\n",
      "[(26, 25), (26, 18)]\n",
      "[(27, 14), (27, 6), (27, 2)]\n",
      "[(28, 17)]\n",
      "[(29, 16), (29, 9), (29, 15), (29, 4)]\n"
     ]
    }
   ],
   "source": [
    "mem = ItemMemory()\n",
    "\n",
    "g = nx.gnm_random_graph(NODES, 45)\n",
    "initVertices(g, DIMENSIONS)\n",
    "initNodeMem(g, mem)\n",
    "G = initGraph(g, mem)\n",
    "\n",
    "for n in g.nodes():\n",
    "    print(g.edges(n))"
   ]
  },
  {
   "cell_type": "code",
   "execution_count": 119,
   "metadata": {},
   "outputs": [
    {
     "name": "stdout",
     "output_type": "stream",
     "text": [
      "9_00 => 4 4 T   [9, 29, 16, 25, 0]\n",
      "9_01 => 3 7 F X [9, 29, 4, 1]\n",
      "9_02 => 5 5 T   [9, 29, 16, 6, 27, 2]\n",
      "9_03 => 6 6 T   [9, 29, 16, 25, 24, 23, 3]\n",
      "9_04 => 2 2 T   [9, 29, 4]\n",
      "9_05 => 5 5 T   [9, 29, 4, 1, 7, 5]\n",
      "9_06 => 3 3 T   [9, 29, 16, 6]\n",
      "9_07 => 4 5 F X [9, 29, 4, 1, 7]\n",
      "9_08 => 4 4 T   [9, 29, 15, 20, 8]\n",
      "9_10 => 4 4 T   [9, 29, 16, 25, 10]\n",
      "9_11 => 5 5 T   [9, 29, 16, 25, 10, 11]\n",
      "9_12 => 5 5 T   [9, 29, 15, 20, 8, 12]\n",
      "9_13 => 5 5 T   [9, 29, 16, 25, 10, 13]\n",
      "9_14 => 4 4 T   [9, 29, 16, 6, 14]\n",
      "9_15 => 2 2 T   [9, 29, 15]\n",
      "9_16 => 2 2 T   [9, 29, 16]\n",
      "9_17 => 5 7 F X [9, 29, 16, 6, 14, 17]\n",
      "9_18 => 3 3 T   [9, 29, 16, 18]\n",
      "9_19 => 4 6 F X [9, 29, 4, 1, 19]\n",
      "9_20 => 3 3 T   [9, 29, 15, 20]\n",
      "9_21 => 5 5 T   [9, 29, 15, 20, 8, 21]\n",
      "9_22 => 4 4 T   [9, 29, 16, 25, 22]\n",
      "9_23 => 5 5 T   [9, 29, 16, 6, 24, 23]\n",
      "9_24 => 4 4 T   [9, 29, 16, 25, 24]\n",
      "9_25 => 3 3 T   [9, 29, 16, 25]\n",
      "9_26 => 4 4 T   [9, 29, 16, 25, 26]\n",
      "9_27 => 4 4 T   [9, 29, 16, 6, 27]\n",
      "9_28 => 6 8 F X [9, 29, 16, 6, 14, 17, 28]\n",
      "9_29 => 1 1 T   [9, 29]\n"
     ]
    }
   ],
   "source": [
    "hdvs = list(map(lambda x: g.nodes[x][\"hdv\"], g.nodes()))\n",
    "origin = 9\n",
    "\n",
    "for m in g.nodes():\n",
    "    if origin == m:\n",
    "        continue\n",
    "    path = nx.shortest_path(g, origin, m)\n",
    "    oracle = len(path) - 1\n",
    "    visited = {}\n",
    "    test = shortestPath(G, hdvs[origin], hdvs[m], hdvs, 0, THRESHOLD, mem)\n",
    "    print(f\"{origin}_{m:02} =>\", oracle, test, \"T  \" if oracle == test else \"F X\", path)"
   ]
  }
 ],
 "metadata": {
  "kernelspec": {
   "display_name": "Python 3",
   "language": "python",
   "name": "python3"
  },
  "language_info": {
   "codemirror_mode": {
    "name": "ipython",
    "version": 3
   },
   "file_extension": ".py",
   "mimetype": "text/x-python",
   "name": "python",
   "nbconvert_exporter": "python",
   "pygments_lexer": "ipython3",
   "version": "3.10.12"
  },
  "orig_nbformat": 4
 },
 "nbformat": 4,
 "nbformat_minor": 2
}
