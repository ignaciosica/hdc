{
 "cells": [
  {
   "cell_type": "code",
   "execution_count": 1,
   "metadata": {},
   "outputs": [],
   "source": [
    "import numpy as np\n",
    "import functools as ft\n",
    "import networkx as nx"
   ]
  },
  {
   "cell_type": "code",
   "execution_count": 2,
   "metadata": {},
   "outputs": [],
   "source": [
    "def hdv(d):\n",
    "    return np.random.choice([-1, 1], d)\n",
    "\n",
    "\n",
    "def zero(d):\n",
    "    return np.zeros((d,))\n",
    "\n",
    "\n",
    "def bind(xs):\n",
    "    return ft.reduce(lambda x, y: x * y, xs)\n",
    "\n",
    "\n",
    "def bundle(xs):\n",
    "    return ft.reduce(lambda x, y: x + y, xs)\n",
    "\n",
    "\n",
    "def p(d):\n",
    "    return np.random.shuffle(np.eye(d))\n",
    "\n",
    "\n",
    "def inverse(P):\n",
    "    return np.linalg.inv(P)\n",
    "\n",
    "\n",
    "def permute(P, H):\n",
    "    return P.dot(H)\n",
    "\n",
    "\n",
    "def cosine_similarity(A, B):\n",
    "    norm_A = np.linalg.norm(A)\n",
    "    norm_B = np.linalg.norm(B)\n",
    "\n",
    "    if norm_A == 0 or norm_B == 0:\n",
    "        return 0\n",
    "\n",
    "    return np.dot(A, B) / (norm_A * norm_B)\n",
    "\n",
    "\n",
    "def similarity(A, B):\n",
    "    return np.dot(A, B) / len(A)\n",
    "\n",
    "\n",
    "sim = cosine_similarity"
   ]
  },
  {
   "cell_type": "code",
   "execution_count": 3,
   "metadata": {},
   "outputs": [],
   "source": [
    "class ItemMemory:\n",
    "    def __init__(self, vectors=[]):\n",
    "        self.vectors = vectors\n",
    "\n",
    "    def addVector(self, label, V):\n",
    "        self.vectors.append((label, V))\n",
    "\n",
    "    def getVector(self, label):\n",
    "        return self.vectors[label]\n",
    "\n",
    "    def cleanup(self, V):\n",
    "        return max(self.vectors, key=lambda x: sim(V, x[1]))"
   ]
  },
  {
   "cell_type": "code",
   "execution_count": 4,
   "metadata": {},
   "outputs": [],
   "source": [
    "def initVertices(graph, d=10000):\n",
    "    for n in graph:\n",
    "        graph.nodes[n][\"hdv\"] = hdv(d)"
   ]
  },
  {
   "cell_type": "code",
   "execution_count": 5,
   "metadata": {},
   "outputs": [],
   "source": [
    "def initNodeMem(graph, memory):\n",
    "    for n in graph:\n",
    "        xs = map(lambda x: graph.nodes[x][\"hdv\"], list(graph.neighbors(n)))\n",
    "        graph.nodes[n][\"mem\"] = bundle(xs)\n",
    "        memory.addVector(f\"mem{n}\", graph.nodes[n][\"mem\"])"
   ]
  },
  {
   "cell_type": "code",
   "execution_count": 6,
   "metadata": {},
   "outputs": [],
   "source": [
    "def retrain(graph, memory, threshold, iter=15):\n",
    "    count = 0\n",
    "    for i in range(iter):\n",
    "        for n in graph:\n",
    "            mem = graph.nodes[n][\"mem\"]\n",
    "            finish = True\n",
    "            for neighbor in map(\n",
    "                lambda x: graph.nodes[x][\"hdv\"], list(nx.neighbors(graph, n))\n",
    "            ):\n",
    "                if sim(mem, neighbor) < threshold:\n",
    "                    mem = bundle([mem, neighbor])\n",
    "                    finish = False\n",
    "                    print(\"here\")\n",
    "\n",
    "            for non_neighbor in map(\n",
    "                lambda x: graph.nodes[x][\"hdv\"], list(nx.non_neighbors(graph, n))\n",
    "            ):\n",
    "                if sim(mem, non_neighbor) > threshold:\n",
    "                    mem = bundle([mem, -non_neighbor])\n",
    "                    finish = False\n",
    "                    print(\"here\")\n",
    "\n",
    "            if finish:\n",
    "                return\n",
    "\n",
    "            graph.nodes[n][\"mem\"] = mem\n",
    "            memory.addVector(f\"mem{n}_{i}\", mem)"
   ]
  },
  {
   "cell_type": "code",
   "execution_count": 7,
   "metadata": {},
   "outputs": [],
   "source": [
    "def initGraph(graph, memory):\n",
    "    G = []\n",
    "    for n in graph.nodes():\n",
    "        G.append(bind([graph.nodes[n][\"hdv\"], graph.nodes[n][\"mem\"]]))\n",
    "    G = bundle(G) / 2\n",
    "    memory.addVector(\"g\", G)\n",
    "    return G"
   ]
  },
  {
   "cell_type": "code",
   "execution_count": 8,
   "metadata": {},
   "outputs": [],
   "source": [
    "def checkEdge(G, A, B, threshold):\n",
    "    return sim(B, bind([G, A])) > threshold"
   ]
  },
  {
   "cell_type": "code",
   "execution_count": 9,
   "metadata": {},
   "outputs": [],
   "source": [
    "def nodeMemoryReconstruction(G, xs, iter=15):\n",
    "    if iter == 0:\n",
    "        return list(map(lambda H: bind([G, H]), xs))\n",
    "\n",
    "    mems = nodeMemoryReconstruction(G, xs, iter - 1)\n",
    "\n",
    "    newMems = []\n",
    "    b = [bind(x) for x in zip(mems, xs)]\n",
    "    for i in range(len(xs)):\n",
    "        bmem = bundle(b[:i] + b[i + 1 :])\n",
    "        newMems.append(bind([xs[i], bundle([G, -bmem])]))\n",
    "\n",
    "    return newMems"
   ]
  },
  {
   "cell_type": "code",
   "execution_count": 10,
   "metadata": {},
   "outputs": [],
   "source": [
    "def graphMemoryReconstruction(G, xs, iter=15):\n",
    "    raise NotImplementedError\n",
    "    if iter == 0:\n",
    "        return (G, zeros(len(G)))\n",
    "\n",
    "    (Gi, Ni) = graphMemoryReconstruction(G, xs, iter - 1)\n",
    "    Gii = bundle([Gi, -Ni])\n",
    "\n",
    "    for i in range(iter):\n",
    "        print(i)\n",
    "\n",
    "    return bundle([Gi, -edges])"
   ]
  },
  {
   "cell_type": "code",
   "execution_count": 11,
   "metadata": {},
   "outputs": [],
   "source": [
    "# visited = dict()\n",
    "visited = {}\n",
    "\n",
    "\n",
    "def shortestPath(G, A, B, xs, distance, threshold, memory):\n",
    "    label, value = memory.cleanup(A)\n",
    "\n",
    "    if np.array_equiv(A, B):\n",
    "        return 0, label\n",
    "\n",
    "    if label in visited and visited[label][0] <= distance:\n",
    "        return visited[label][1], visited[label][2]\n",
    "\n",
    "    visited[label] = [distance, 99, \"memnill\"]\n",
    "\n",
    "    neighbours = list(filter(lambda x: checkEdge(G, A, x, threshold), xs))\n",
    "\n",
    "    if len(neighbours) == 0:\n",
    "        return 99, \"memnill\"\n",
    "\n",
    "    dis, lab = min(\n",
    "        list(\n",
    "            map(\n",
    "                lambda a: shortestPath(G, a, B, xs, distance + 1, threshold, memory),\n",
    "                neighbours,\n",
    "            )\n",
    "        ),\n",
    "        key=lambda x: x[0],\n",
    "    )\n",
    "    visited[label][1] = dis + 1\n",
    "    visited[label][2] = label + lab\n",
    "    return dis + 1, label + lab"
   ]
  },
  {
   "cell_type": "markdown",
   "metadata": {},
   "source": [
    "---\n"
   ]
  },
  {
   "cell_type": "markdown",
   "metadata": {},
   "source": [
    "# Tests\n"
   ]
  },
  {
   "cell_type": "code",
   "execution_count": 12,
   "metadata": {},
   "outputs": [],
   "source": [
    "def testCheckEdge(G, graph, threshold):\n",
    "    count = 0\n",
    "\n",
    "    for n in graph.nodes():\n",
    "        for m in graph.nodes():\n",
    "            if n == m:\n",
    "                continue\n",
    "            exist = graph.has_edge(n, m)\n",
    "            check = checkEdge(\n",
    "                G, graph.nodes[n][\"hdv\"], graph.nodes[m][\"hdv\"], threshold\n",
    "            )\n",
    "            if exist != check:\n",
    "                count += 1\n",
    "                print(n, m, exist, check)\n",
    "\n",
    "    print(count, \"%.5f\" % round(count / EDGES, 5))"
   ]
  },
  {
   "cell_type": "code",
   "execution_count": 13,
   "metadata": {},
   "outputs": [],
   "source": [
    "def testNodeMemoryReconstruction(G, graph, iter=15):\n",
    "    for i in range(iter):\n",
    "        memsi = nodeMemoryReconstruction(\n",
    "            G, list(map(lambda x: graph.nodes[x][\"hdv\"], graph.nodes())), iter=i\n",
    "        )\n",
    "        print(\n",
    "            f\"{0}_{i:02} =>\",\n",
    "            \"%.10f\" % abs(sim(graph.nodes[0][\"mem\"], memsi[0])),\n",
    "        )"
   ]
  },
  {
   "cell_type": "markdown",
   "metadata": {},
   "source": [
    "---\n"
   ]
  },
  {
   "cell_type": "markdown",
   "metadata": {},
   "source": [
    "# Main\n"
   ]
  },
  {
   "cell_type": "code",
   "execution_count": 14,
   "metadata": {},
   "outputs": [],
   "source": [
    "NODES, EDGES = 30, 150\n",
    "DIMENSIONS, THRESHOLD, ITER = 10000, 0.047, 4"
   ]
  },
  {
   "cell_type": "code",
   "execution_count": 15,
   "metadata": {},
   "outputs": [],
   "source": [
    "def main():\n",
    "    graph = nx.gnm_random_graph(NODES, EDGES)\n",
    "    memory = ItemMemory()\n",
    "\n",
    "    initVertices(graph, DIMENSIONS)\n",
    "    initNodeMem(graph, memory)\n",
    "    retrain(graph, memory, THRESHOLD, ITER)\n",
    "    G = initGraph(graph, memory)\n",
    "    print(\"G =>\", G)\n",
    "    # testNodeMemoryReconstruction(G, graph, 1)\n",
    "    # testCheckEdge(G, graph, THRESHOLD)\n",
    "\n",
    "\n",
    "# main()"
   ]
  },
  {
   "cell_type": "code",
   "execution_count": 16,
   "metadata": {},
   "outputs": [],
   "source": [
    "# graph = nx.gnm_random_graph(NODES, EDGES)\n",
    "# memory = ItemMemory()\n",
    "\n",
    "# initVertices(graph, DIMENSIONS)\n",
    "# initNodeMem(graph, memory)\n",
    "# G = initGraph(graph, memory)\n",
    "# print(\"G =>\", G)"
   ]
  },
  {
   "cell_type": "code",
   "execution_count": 17,
   "metadata": {},
   "outputs": [],
   "source": [
    "# testNodeMemoryReconstruction(G, graph, 15)"
   ]
  },
  {
   "cell_type": "code",
   "execution_count": 18,
   "metadata": {},
   "outputs": [],
   "source": [
    "# sim(graph.nodes[0][\"mem\"], graph.nodes[0][\"mem\"])"
   ]
  },
  {
   "cell_type": "markdown",
   "metadata": {},
   "source": [
    "---\n"
   ]
  },
  {
   "cell_type": "code",
   "execution_count": 23,
   "metadata": {},
   "outputs": [
    {
     "name": "stdout",
     "output_type": "stream",
     "text": [
      "[(0, 10), (0, 27), (0, 18), (0, 29), (0, 24)]\n",
      "[(1, 9), (1, 21)]\n",
      "[(2, 16), (2, 7), (2, 4)]\n",
      "[(3, 12)]\n",
      "[(4, 27), (4, 2), (4, 15)]\n",
      "[(5, 23), (5, 6), (5, 21)]\n",
      "[(6, 21), (6, 5), (6, 18), (6, 23), (6, 7)]\n",
      "[(7, 29), (7, 2), (7, 6)]\n",
      "[(8, 19)]\n",
      "[(9, 17), (9, 1)]\n",
      "[(10, 0), (10, 28), (10, 29), (10, 14)]\n",
      "[(11, 13)]\n",
      "[(12, 15), (12, 17), (12, 3)]\n",
      "[(13, 22), (13, 15), (13, 11), (13, 21), (13, 25)]\n",
      "[(14, 10)]\n",
      "[(15, 13), (15, 12), (15, 21), (15, 4)]\n",
      "[(16, 20), (16, 17), (16, 2)]\n",
      "[(17, 9), (17, 12), (17, 16), (17, 19), (17, 29)]\n",
      "[(18, 20), (18, 6), (18, 0)]\n",
      "[(19, 8), (19, 17)]\n",
      "[(20, 16), (20, 18)]\n",
      "[(21, 6), (21, 1), (21, 13), (21, 15), (21, 5)]\n",
      "[(22, 13), (22, 28), (22, 29)]\n",
      "[(23, 5), (23, 25), (23, 26), (23, 6)]\n",
      "[(24, 0)]\n",
      "[(25, 23), (25, 13)]\n",
      "[(26, 23), (26, 29)]\n",
      "[(27, 0), (27, 4)]\n",
      "[(28, 29), (28, 10), (28, 22)]\n",
      "[(29, 28), (29, 7), (29, 10), (29, 17), (29, 0), (29, 22), (29, 26)]\n"
     ]
    }
   ],
   "source": [
    "mem = ItemMemory()\n",
    "\n",
    "g = nx.gnm_random_graph(NODES, 45)\n",
    "initVertices(g, DIMENSIONS)\n",
    "initNodeMem(g, mem)\n",
    "G = initGraph(g, mem)\n",
    "\n",
    "for n in g.nodes():\n",
    "    print(g.edges(n))"
   ]
  },
  {
   "cell_type": "code",
   "execution_count": null,
   "metadata": {},
   "outputs": [],
   "source": [
    "hdvs = list(map(lambda x: g.nodes[x][\"hdv\"], g.nodes()))\n",
    "origin = 0"
   ]
  },
  {
   "cell_type": "code",
   "execution_count": 31,
   "metadata": {},
   "outputs": [
    {
     "name": "stdout",
     "output_type": "stream",
     "text": [
      "00 => mem24 False\n",
      "01 => mem9 False\n",
      "02 => mem7 False\n",
      "03 => mem12 False\n",
      "04 => mem27 False\n",
      "05 => mem23 False\n",
      "06 => mem5 False\n",
      "07 => mem2 False\n",
      "08 => mem19 False\n",
      "09 => mem1 False\n",
      "10 => mem14 False\n",
      "11 => mem13 False\n",
      "12 => mem3 False\n",
      "13 => mem11 False\n",
      "14 => mem10 False\n",
      "15 => mem12 False\n",
      "16 => mem20 False\n",
      "17 => mem19 False\n",
      "18 => mem20 False\n",
      "19 => mem8 False\n",
      "20 => mem16 False\n",
      "21 => mem1 False\n",
      "22 => mem28 False\n",
      "23 => mem25 False\n",
      "24 => mem0 False\n",
      "25 => mem23 False\n",
      "26 => mem23 False\n",
      "27 => mem4 False\n",
      "28 => mem22 False\n",
      "29 => mem26 False\n"
     ]
    }
   ],
   "source": [
    "for n in g.nodes():\n",
    "    print(\n",
    "        f\"{n:02} =>\",\n",
    "        \"T\" if mem.cleanup(hdvs[n])[0] == f\"mem{n}\" else \"F\",\n",
    "        mem.cleanup(hdvs[n])[0],\n",
    "    )"
   ]
  },
  {
   "cell_type": "code",
   "execution_count": 24,
   "metadata": {},
   "outputs": [
    {
     "name": "stdout",
     "output_type": "stream",
     "text": [
      "0_01 => 4 4 T   [0, 18, 6, 21, 1] [24, 20, 5, 1, 9] False\n",
      "0_02 => 3 3 T   [0, 29, 7, 2] [24, 4, 27, 7] False\n",
      "0_03 => 4 4 T   [0, 29, 17, 12, 3] [24, 26, 19, 3, 12] False\n",
      "0_04 => 2 2 T   [0, 27, 4] [24, 4, 27] False\n",
      "0_05 => 3 3 T   [0, 18, 6, 5] [24, 20, 5, 23] False\n",
      "0_06 => 2 2 T   [0, 18, 6] [24, 20, 5] False\n",
      "0_07 => 2 2 T   [0, 29, 7] [24, 26, 2] False\n",
      "0_08 => 4 4 T   [0, 29, 17, 19, 8] [24, 26, 19, 8, 19] False\n",
      "0_09 => 3 3 T   [0, 29, 17, 9] [24, 26, 19, 1] False\n",
      "0_10 => 1 1 T   [0, 10] [24, 14] False\n",
      "0_11 => 4 4 T   [0, 29, 22, 13, 11] [24, 26, 28, 11, 13] False\n",
      "0_12 => 3 3 T   [0, 29, 17, 12] [24, 26, 19, 3] False\n",
      "0_13 => 3 3 T   [0, 29, 22, 13] [24, 26, 28, 11] False\n",
      "0_14 => 2 2 T   [0, 10, 14] [24, 14, 10] False\n",
      "0_15 => 3 3 T   [0, 27, 4, 15] [24, 4, 27, 12] False\n",
      "0_16 => 3 3 T   [0, 18, 20, 16] [24, 20, 16, 20] False\n",
      "0_17 => 2 2 T   [0, 29, 17] [24, 26, 19] False\n",
      "0_18 => 1 1 T   [0, 18] [24, 20] False\n",
      "0_19 => 3 3 T   [0, 29, 17, 19] [24, 26, 19, 8] False\n",
      "0_20 => 2 2 T   [0, 18, 20] [24, 20, 16] False\n",
      "0_21 => 3 3 T   [0, 18, 6, 21] [24, 20, 5, 1] False\n",
      "0_22 => 2 2 T   [0, 29, 22] [24, 26, 28] False\n",
      "0_23 => 3 3 T   [0, 29, 26, 23] [24, 20, 5, 25] False\n",
      "0_24 => 1 1 T   [0, 24] [24, 0] True\n",
      "0_25 => 4 4 T   [0, 18, 6, 23, 25] [24, 20, 5, 25, 23] False\n",
      "0_26 => 2 2 T   [0, 29, 26] [24, 26, 23] False\n",
      "0_27 => 1 1 T   [0, 27] [24, 4] False\n",
      "0_28 => 2 2 T   [0, 29, 28] [24, 14, 22] False\n",
      "0_29 => 1 1 T   [0, 29] [24, 26] False\n"
     ]
    }
   ],
   "source": [
    "for m in g.nodes():\n",
    "    if origin == m:\n",
    "        continue\n",
    "    path = nx.shortest_path(g, origin, m)\n",
    "    oracle = len(path) - 1\n",
    "    visited = {}\n",
    "    test = shortestPath(G, hdvs[origin], hdvs[m], hdvs, 0, THRESHOLD, mem)\n",
    "    testPath = list(map(int, test[1].split(\"mem\")[1:]))\n",
    "    print(\n",
    "        f\"{origin}_{m:02} =>\",\n",
    "        oracle,\n",
    "        test[0],\n",
    "        \"T  \" if oracle == test[0] else \"F X\",\n",
    "        path,\n",
    "        testPath,\n",
    "        nx.is_path(g, testPath),\n",
    "    )"
   ]
  },
  {
   "cell_type": "code",
   "execution_count": null,
   "metadata": {},
   "outputs": [],
   "source": [
    "testCheckEdge(G, g, THRESHOLD)"
   ]
  }
 ],
 "metadata": {
  "kernelspec": {
   "display_name": "Python 3",
   "language": "python",
   "name": "python3"
  },
  "language_info": {
   "codemirror_mode": {
    "name": "ipython",
    "version": 3
   },
   "file_extension": ".py",
   "mimetype": "text/x-python",
   "name": "python",
   "nbconvert_exporter": "python",
   "pygments_lexer": "ipython3",
   "version": "3.10.12"
  },
  "orig_nbformat": 4
 },
 "nbformat": 4,
 "nbformat_minor": 2
}
