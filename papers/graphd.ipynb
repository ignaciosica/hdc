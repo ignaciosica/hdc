{
 "cells": [
  {
   "cell_type": "code",
   "execution_count": 1,
   "metadata": {},
   "outputs": [],
   "source": [
    "import numpy as np\n",
    "import functools as ft\n",
    "import networkx as nx\n",
    "from graph import process_dataset, transform\n",
    "from hdc import hdv, bind, bundle, sbundle, ItemMemory, hdvw, hdva, cosim"
   ]
  },
  {
   "cell_type": "code",
   "execution_count": 2,
   "metadata": {},
   "outputs": [],
   "source": [
    "def init_vertices(graph, d=10000):\n",
    "    for n in graph:\n",
    "        graph.nodes[n][\"hdv\"] = hdv(d)"
   ]
  },
  {
   "cell_type": "code",
   "execution_count": 3,
   "metadata": {},
   "outputs": [],
   "source": [
    "def init_node_mem(graph, memory):\n",
    "    for n in graph:\n",
    "        xs = map(lambda x: graph.nodes[x][\"hdv\"], list(graph.neighbors(n)))\n",
    "        graph.nodes[n][\"mem\"] = bundle(xs)\n",
    "        memory.add_vector(f\"mem{n}\", graph.nodes[n][\"mem\"])"
   ]
  },
  {
   "cell_type": "code",
   "execution_count": 4,
   "metadata": {},
   "outputs": [],
   "source": [
    "def retrain(graph, memory, threshold, iter=15):\n",
    "    count = 0\n",
    "    for i in range(iter):\n",
    "        for n in graph:\n",
    "            mem = graph.nodes[n][\"mem\"]\n",
    "            finish = True\n",
    "            for neighbor in map(\n",
    "                lambda x: graph.nodes[x][\"hdv\"], list(nx.neighbors(graph, n))\n",
    "            ):\n",
    "                if cosim(mem, neighbor) < threshold:\n",
    "                    mem = bundle([mem, neighbor])\n",
    "                    finish = False\n",
    "                    print(\"here\")\n",
    "\n",
    "            for non_neighbor in map(\n",
    "                lambda x: graph.nodes[x][\"hdv\"], list(nx.non_neighbors(graph, n))\n",
    "            ):\n",
    "                if cosim(mem, non_neighbor) > threshold:\n",
    "                    mem = bundle([mem, -non_neighbor])\n",
    "                    finish = False\n",
    "                    print(\"here\")\n",
    "\n",
    "            if finish:\n",
    "                return\n",
    "\n",
    "            graph.nodes[n][\"mem\"] = mem\n",
    "            memory.add_vector(f\"mem{n}_{i}\", mem)"
   ]
  },
  {
   "cell_type": "code",
   "execution_count": 5,
   "metadata": {},
   "outputs": [],
   "source": [
    "def init_graph(graph, memory):\n",
    "    G = []\n",
    "    for n in graph.nodes():\n",
    "        G.append(bind([graph.nodes[n][\"hdv\"], graph.nodes[n][\"mem\"]]))\n",
    "    G = bundle(G) / 2\n",
    "    memory.add_vector(\"G\", G)\n",
    "    return G"
   ]
  },
  {
   "cell_type": "code",
   "execution_count": 6,
   "metadata": {},
   "outputs": [],
   "source": [
    "def check_edge(G, A, B, threshold):\n",
    "    return cosim(B, bind([G, A])) > threshold"
   ]
  },
  {
   "cell_type": "code",
   "execution_count": 7,
   "metadata": {},
   "outputs": [],
   "source": [
    "def node_memory_reconstruction(G, xs, iter=15):\n",
    "    if iter == 0:\n",
    "        return list(map(lambda H: bind([G, H]), xs))\n",
    "\n",
    "    mems = node_memory_reconstruction(G, xs, iter - 1)\n",
    "\n",
    "    newMems = []\n",
    "    b = [bind(x) for x in zip(mems, xs)]\n",
    "    for i in range(len(xs)):\n",
    "        bmem = bundle(b[:i] + b[i + 1 :])\n",
    "        newMems.append(bind([xs[i], bundle([G, -bmem])]))\n",
    "\n",
    "    return newMems"
   ]
  },
  {
   "cell_type": "code",
   "execution_count": 8,
   "metadata": {},
   "outputs": [],
   "source": [
    "def graph_memory_reconstruction(G, xs, iter=15):\n",
    "    raise NotImplementedError\n",
    "    if iter == 0:\n",
    "        return (G, zeros(len(G)))\n",
    "\n",
    "    (Gi, Ni) = graph_memory_reconstruction(G, xs, iter - 1)\n",
    "    Gii = bundle([Gi, -Ni])\n",
    "\n",
    "    for i in range(iter):\n",
    "        print(i)\n",
    "\n",
    "    return bundle([Gi, -edges])"
   ]
  },
  {
   "cell_type": "code",
   "execution_count": 9,
   "metadata": {},
   "outputs": [],
   "source": [
    "# visited = dict()\n",
    "visited = {}\n",
    "\n",
    "\n",
    "def shortest_path(G, A, B, xs, distance, threshold, memory):\n",
    "    label, value, sim = memory.cleanup(bind([G, A]))\n",
    "\n",
    "    if np.array_equiv(A, B):\n",
    "        return 0, label\n",
    "\n",
    "    if label in visited and visited[label][0] <= distance:\n",
    "        return visited[label][1], visited[label][2]\n",
    "\n",
    "    visited[label] = [distance, 99, \"memnill\"]\n",
    "\n",
    "    neighbours = list(filter(lambda x: check_edge(G, A, x, threshold), xs))\n",
    "\n",
    "    if len(neighbours) == 0:\n",
    "        return 99, \"memnill\"\n",
    "\n",
    "    dis, lab = min(\n",
    "        list(\n",
    "            map(\n",
    "                lambda a: shortest_path(G, a, B, xs, distance + 1, threshold, memory),\n",
    "                neighbours,\n",
    "            )\n",
    "        ),\n",
    "        key=lambda x: x[0],\n",
    "    )\n",
    "    visited[label][1] = dis + 1\n",
    "    visited[label][2] = label + lab\n",
    "    return dis + 1, label + lab"
   ]
  },
  {
   "cell_type": "markdown",
   "metadata": {},
   "source": [
    "---\n"
   ]
  },
  {
   "cell_type": "markdown",
   "metadata": {},
   "source": [
    "# Tests\n"
   ]
  },
  {
   "cell_type": "code",
   "execution_count": 10,
   "metadata": {},
   "outputs": [],
   "source": [
    "def test_check_edge(G, graph, threshold):\n",
    "    count = 0\n",
    "\n",
    "    for n in graph.nodes():\n",
    "        for m in graph.nodes():\n",
    "            if n == m:\n",
    "                continue\n",
    "            exist = graph.has_edge(n, m)\n",
    "            check = check_edge(\n",
    "                G, graph.nodes[n][\"hdv\"], graph.nodes[m][\"hdv\"], threshold\n",
    "            )\n",
    "            if exist != check:\n",
    "                count += 1\n",
    "                print(n, m, exist, check)\n",
    "\n",
    "    print(count, \"%.5f\" % round(count / EDGES, 5))"
   ]
  },
  {
   "cell_type": "code",
   "execution_count": 11,
   "metadata": {},
   "outputs": [],
   "source": [
    "def test_node_memory_reconstruction(G, graph, iter=15):\n",
    "    for i in range(iter):\n",
    "        memsi = node_memory_reconstruction(\n",
    "            G, list(map(lambda x: graph.nodes[x][\"hdv\"], graph.nodes())), iter=i\n",
    "        )\n",
    "        print(\n",
    "            f\"{0}_{i:02} =>\",\n",
    "            \"%.10f\" % abs(cosim(graph.nodes[0][\"mem\"], memsi[0])),\n",
    "        )"
   ]
  },
  {
   "cell_type": "code",
   "execution_count": 12,
   "metadata": {},
   "outputs": [],
   "source": [
    "def test_shortest_path():\n",
    "    mem = ItemMemory()\n",
    "\n",
    "    g = nx.gnm_random_graph(NODES, EDGES)\n",
    "    init_vertices(g, DIMENSIONS)\n",
    "    init_node_mem(g, mem)\n",
    "    G = init_graph(g, mem)\n",
    "\n",
    "    for n in g.nodes():\n",
    "        print(g.edges(n))\n",
    "\n",
    "    hdvs = list(map(lambda x: g.nodes[x][\"hdv\"], g.nodes()))\n",
    "    origin = 0\n",
    "\n",
    "    for n in g.nodes():\n",
    "        print(\n",
    "            f\"{n:02} =>\",\n",
    "            \"T\" if mem.cleanup(bind([G, hdvs[n]]))[0] == f\"mem{n}\" else \"F\",\n",
    "            mem.cleanup(bind([G, hdvs[n]]))[0],\n",
    "        )\n",
    "\n",
    "    test_check_edge(G, g, THRESHOLD)\n",
    "\n",
    "    for m in g.nodes():\n",
    "        if origin == m:\n",
    "            continue\n",
    "        path = nx.shortest_path(g, origin, m)\n",
    "        oracle = len(path) - 1\n",
    "        visited = {}\n",
    "        test = shortest_path(G, hdvs[origin], hdvs[m], hdvs, 0, THRESHOLD, mem)\n",
    "        testPath = list(map(int, test[1].split(\"mem\")[1:]))\n",
    "        print(\n",
    "            f\"{origin}_{m:02} =>\",\n",
    "            oracle,\n",
    "            test[0],\n",
    "            \"T  \" if oracle == test[0] else \"F X\",\n",
    "            path,\n",
    "            testPath,\n",
    "            nx.is_path(g, testPath),\n",
    "        )"
   ]
  },
  {
   "cell_type": "markdown",
   "metadata": {},
   "source": [
    "---\n"
   ]
  },
  {
   "cell_type": "markdown",
   "metadata": {},
   "source": [
    "# Main\n"
   ]
  },
  {
   "cell_type": "code",
   "execution_count": 13,
   "metadata": {},
   "outputs": [],
   "source": [
    "NODES, EDGES = 30, 150\n",
    "DIMENSIONS, THRESHOLD, ITER = 10000, 0.047, 4"
   ]
  },
  {
   "cell_type": "code",
   "execution_count": 14,
   "metadata": {},
   "outputs": [
    {
     "name": "stdout",
     "output_type": "stream",
     "text": [
      "[(0, 29), (0, 21), (0, 20), (0, 17), (0, 12), (0, 23), (0, 28), (0, 16), (0, 22), (0, 9), (0, 15), (0, 26)]\n",
      "[(1, 29), (1, 7), (1, 11), (1, 21), (1, 5), (1, 6), (1, 15), (1, 26), (1, 28), (1, 16)]\n",
      "[(2, 22), (2, 3), (2, 24), (2, 15), (2, 7), (2, 23), (2, 4), (2, 11), (2, 18), (2, 14), (2, 19), (2, 16), (2, 13)]\n",
      "[(3, 23), (3, 10), (3, 2), (3, 11), (3, 20), (3, 12), (3, 18), (3, 5), (3, 25), (3, 24), (3, 22), (3, 16), (3, 19), (3, 17), (3, 8), (3, 7)]\n",
      "[(4, 17), (4, 14), (4, 21), (4, 2), (4, 29), (4, 25), (4, 16), (4, 23), (4, 10), (4, 20)]\n",
      "[(5, 9), (5, 22), (5, 3), (5, 17), (5, 14), (5, 8), (5, 1), (5, 7), (5, 11)]\n",
      "[(6, 25), (6, 26), (6, 19), (6, 8), (6, 1), (6, 17), (6, 14), (6, 16)]\n",
      "[(7, 1), (7, 24), (7, 12), (7, 2), (7, 5), (7, 26), (7, 27), (7, 3)]\n",
      "[(8, 21), (8, 26), (8, 16), (8, 6), (8, 19), (8, 5), (8, 28), (8, 9), (8, 3), (8, 11), (8, 25), (8, 15), (8, 17)]\n",
      "[(9, 5), (9, 14), (9, 13), (9, 8), (9, 12), (9, 0), (9, 28), (9, 10), (9, 16)]\n",
      "[(10, 3), (10, 16), (10, 23), (10, 21), (10, 4), (10, 9)]\n",
      "[(11, 3), (11, 14), (11, 24), (11, 1), (11, 27), (11, 5), (11, 2), (11, 8), (11, 16)]\n",
      "[(12, 3), (12, 7), (12, 28), (12, 0), (12, 17), (12, 9), (12, 26), (12, 13)]\n",
      "[(13, 25), (13, 9), (13, 28), (13, 22), (13, 21), (13, 19), (13, 2), (13, 23), (13, 12)]\n",
      "[(14, 9), (14, 25), (14, 11), (14, 26), (14, 5), (14, 22), (14, 4), (14, 2), (14, 28), (14, 24), (14, 6), (14, 20)]\n",
      "[(15, 18), (15, 27), (15, 2), (15, 1), (15, 17), (15, 0), (15, 29), (15, 8)]\n",
      "[(16, 18), (16, 22), (16, 8), (16, 10), (16, 0), (16, 3), (16, 20), (16, 24), (16, 4), (16, 2), (16, 1), (16, 6), (16, 9), (16, 11)]\n",
      "[(17, 4), (17, 23), (17, 0), (17, 25), (17, 5), (17, 12), (17, 6), (17, 22), (17, 15), (17, 3), (17, 8)]\n",
      "[(18, 16), (18, 3), (18, 15), (18, 21), (18, 29), (18, 25), (18, 2), (18, 22), (18, 19)]\n",
      "[(19, 6), (19, 8), (19, 28), (19, 24), (19, 3), (19, 13), (19, 2), (19, 18), (19, 26)]\n",
      "[(20, 0), (20, 3), (20, 22), (20, 26), (20, 16), (20, 28), (20, 21), (20, 14), (20, 4)]\n",
      "[(21, 26), (21, 8), (21, 0), (21, 23), (21, 18), (21, 1), (21, 4), (21, 10), (21, 13), (21, 20)]\n",
      "[(22, 2), (22, 20), (22, 16), (22, 5), (22, 14), (22, 3), (22, 28), (22, 13), (22, 17), (22, 25), (22, 18), (22, 0)]\n",
      "[(23, 3), (23, 17), (23, 21), (23, 0), (23, 2), (23, 10), (23, 25), (23, 4), (23, 13)]\n",
      "[(24, 29), (24, 7), (24, 2), (24, 11), (24, 3), (24, 19), (24, 27), (24, 16), (24, 26), (24, 14)]\n",
      "[(25, 13), (25, 14), (25, 17), (25, 6), (25, 3), (25, 18), (25, 23), (25, 22), (25, 4), (25, 8)]\n",
      "[(26, 21), (26, 8), (26, 27), (26, 14), (26, 6), (26, 20), (26, 7), (26, 1), (26, 0), (26, 24), (26, 19), (26, 12)]\n",
      "[(27, 26), (27, 15), (27, 11), (27, 24), (27, 29), (27, 7)]\n",
      "[(28, 29), (28, 12), (28, 19), (28, 13), (28, 22), (28, 0), (28, 8), (28, 1), (28, 20), (28, 14), (28, 9)]\n",
      "[(29, 1), (29, 24), (29, 0), (29, 28), (29, 18), (29, 4), (29, 27), (29, 15)]\n",
      "00 => T mem0\n",
      "01 => T mem1\n",
      "02 => T mem2\n",
      "03 => T mem3\n",
      "04 => T mem4\n",
      "05 => T mem5\n",
      "06 => T mem6\n",
      "07 => T mem7\n",
      "08 => T mem8\n",
      "09 => T mem9\n",
      "10 => T mem10\n",
      "11 => T mem11\n",
      "12 => T mem12\n",
      "13 => T mem13\n",
      "14 => T mem14\n",
      "15 => T mem15\n",
      "16 => T mem16\n",
      "17 => T mem17\n",
      "18 => T mem18\n",
      "19 => T mem19\n",
      "20 => T mem20\n",
      "21 => T mem21\n",
      "22 => T mem22\n",
      "23 => T mem23\n",
      "24 => T mem24\n",
      "25 => T mem25\n",
      "26 => T mem26\n",
      "27 => T mem27\n",
      "28 => T mem28\n",
      "29 => T mem29\n",
      "0 0.00000\n"
     ]
    },
    {
     "name": "stdout",
     "output_type": "stream",
     "text": [
      "0_01 => 2 2 T   [0, 29, 1] [0, 15, 1] True\n",
      "0_02 => 2 2 T   [0, 22, 2] [0, 15, 1] True\n",
      "0_03 => 2 2 T   [0, 23, 3] [0, 15, 1] True\n",
      "0_04 => 2 2 T   [0, 17, 4] [0, 15, 1] True\n",
      "0_05 => 2 2 T   [0, 9, 5] [0, 15, 1] True\n",
      "0_06 => 2 2 T   [0, 26, 6] [0, 15, 1] True\n",
      "0_07 => 2 2 T   [0, 12, 7] [0, 15, 1] True\n",
      "0_08 => 2 2 T   [0, 21, 8] [0, 15, 1] True\n",
      "0_09 => 1 2 F X [0, 9] [0, 15, 1] True\n",
      "0_10 => 2 2 T   [0, 16, 10] [0, 15, 1] True\n",
      "0_11 => 2 2 T   [0, 16, 11] [0, 15, 1] True\n",
      "0_12 => 1 2 F X [0, 12] [0, 15, 1] True\n",
      "0_13 => 2 2 T   [0, 9, 13] [0, 15, 1] True\n",
      "0_14 => 2 2 T   [0, 9, 14] [0, 15, 1] True\n",
      "0_15 => 1 2 F X [0, 15] [0, 15, 1] True\n",
      "0_16 => 1 2 F X [0, 16] [0, 15, 1] True\n",
      "0_17 => 1 2 F X [0, 17] [0, 15, 1] True\n",
      "0_18 => 2 2 T   [0, 16, 18] [0, 15, 1] True\n",
      "0_19 => 2 2 T   [0, 28, 19] [0, 15, 1] True\n",
      "0_20 => 1 2 F X [0, 20] [0, 15, 1] True\n",
      "0_21 => 1 2 F X [0, 21] [0, 15, 1] True\n",
      "0_22 => 1 2 F X [0, 22] [0, 15, 1] True\n",
      "0_23 => 1 2 F X [0, 23] [0, 15, 1] True\n",
      "0_24 => 2 2 T   [0, 29, 24] [0, 15, 1] True\n",
      "0_25 => 2 2 T   [0, 17, 25] [0, 15, 1] True\n",
      "0_26 => 1 2 F X [0, 26] [0, 15, 1] True\n",
      "0_27 => 2 2 T   [0, 26, 27] [0, 15, 1] True\n",
      "0_28 => 1 2 F X [0, 28] [0, 15, 1] True\n",
      "0_29 => 1 2 F X [0, 29] [0, 15, 1] True\n"
     ]
    }
   ],
   "source": [
    "def main():\n",
    "    graph = nx.gnm_random_graph(NODES, EDGES)\n",
    "    memory = ItemMemory()\n",
    "\n",
    "    init_vertices(graph, DIMENSIONS)\n",
    "    init_node_mem(graph, memory)\n",
    "    retrain(graph, memory, THRESHOLD, ITER)\n",
    "    G = initGraph(graph, memory)\n",
    "    print(\"G =>\", G)\n",
    "    # test_node_memory_reconstruction(G, graph, 1)\n",
    "    # test_check_edge(G, graph, THRESHOLD)\n",
    "\n",
    "\n",
    "# main()\n",
    "test_shortest_path()"
   ]
  },
  {
   "cell_type": "markdown",
   "metadata": {},
   "source": [
    "---\n"
   ]
  }
 ],
 "metadata": {
  "kernelspec": {
   "display_name": "Python 3",
   "language": "python",
   "name": "python3"
  },
  "language_info": {
   "codemirror_mode": {
    "name": "ipython",
    "version": 3
   },
   "file_extension": ".py",
   "mimetype": "text/x-python",
   "name": "python",
   "nbconvert_exporter": "python",
   "pygments_lexer": "ipython3",
   "version": "3.10.12"
  },
  "orig_nbformat": 4
 },
 "nbformat": 4,
 "nbformat_minor": 2
}
