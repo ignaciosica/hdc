{
 "cells": [
  {
   "cell_type": "code",
   "execution_count": 1,
   "metadata": {},
   "outputs": [],
   "source": [
    "import numpy as np\n",
    "import functools as ft\n",
    "import networkx as nx"
   ]
  },
  {
   "cell_type": "code",
   "execution_count": 2,
   "metadata": {},
   "outputs": [],
   "source": [
    "def hdv(d):\n",
    "    return np.random.choice([-1, 1], d)\n",
    "\n",
    "\n",
    "def zero(d):\n",
    "    return np.zeros((d,))\n",
    "\n",
    "\n",
    "def bind(xs):\n",
    "    return ft.reduce(lambda x, y: x * y, xs)\n",
    "\n",
    "\n",
    "def bundle(xs):\n",
    "    return ft.reduce(lambda x, y: x + y, xs)\n",
    "\n",
    "\n",
    "def p(d):\n",
    "    return np.random.shuffle(np.eye(d))\n",
    "\n",
    "\n",
    "def inverse(P):\n",
    "    return np.linalg.inv(P)\n",
    "\n",
    "\n",
    "def permute(P, H):\n",
    "    return P.dot(H)\n",
    "\n",
    "\n",
    "def cosine_similarity(A, B):\n",
    "    norm_A = np.linalg.norm(A)\n",
    "    norm_B = np.linalg.norm(B)\n",
    "\n",
    "    if norm_A == 0 or norm_B == 0:\n",
    "        return 0\n",
    "\n",
    "    return np.dot(A, B) / (norm_A * norm_B)\n",
    "\n",
    "\n",
    "def similarity(A, B):\n",
    "    return np.dot(A, B) / len(A)\n",
    "\n",
    "\n",
    "sim = cosine_similarity"
   ]
  },
  {
   "cell_type": "code",
   "execution_count": 3,
   "metadata": {},
   "outputs": [],
   "source": [
    "class ItemMemory:\n",
    "    def __init__(self, vectors=[]):\n",
    "        self.vectors = vectors\n",
    "\n",
    "    def addVector(self, label, V):\n",
    "        self.vectors.append((label, V))\n",
    "\n",
    "    def getVector(self, label):\n",
    "        return self.vectors[label]\n",
    "\n",
    "    def cleanup(self, V):\n",
    "        return max(self.vectors, key=lambda x: sim(V, x[1]))"
   ]
  },
  {
   "cell_type": "code",
   "execution_count": 4,
   "metadata": {},
   "outputs": [],
   "source": [
    "def initVertices(graph, d=10000):\n",
    "    for n in graph:\n",
    "        graph.nodes[n][\"hdv\"] = hdv(d)"
   ]
  },
  {
   "cell_type": "code",
   "execution_count": 5,
   "metadata": {},
   "outputs": [],
   "source": [
    "def initNodeMem(graph, memory):\n",
    "    for n in graph:\n",
    "        xs = map(lambda x: graph.nodes[x][\"hdv\"], list(graph.neighbors(n)))\n",
    "        graph.nodes[n][\"mem\"] = bundle(xs)\n",
    "        memory.addVector(f\"mem{n}\", graph.nodes[n][\"mem\"])"
   ]
  },
  {
   "cell_type": "code",
   "execution_count": 6,
   "metadata": {},
   "outputs": [],
   "source": [
    "def retrain(graph, memory, threshold, iter=15):\n",
    "    count = 0\n",
    "    for i in range(iter):\n",
    "        for n in graph:\n",
    "            mem = graph.nodes[n][\"mem\"]\n",
    "            finish = True\n",
    "            for neighbor in map(\n",
    "                lambda x: graph.nodes[x][\"hdv\"], list(nx.neighbors(graph, n))\n",
    "            ):\n",
    "                if sim(mem, neighbor) < threshold:\n",
    "                    mem = bundle([mem, neighbor])\n",
    "                    finish = False\n",
    "                    print(\"here\")\n",
    "\n",
    "            for non_neighbor in map(\n",
    "                lambda x: graph.nodes[x][\"hdv\"], list(nx.non_neighbors(graph, n))\n",
    "            ):\n",
    "                if sim(mem, non_neighbor) > threshold:\n",
    "                    mem = bundle([mem, -non_neighbor])\n",
    "                    finish = False\n",
    "                    print(\"here\")\n",
    "\n",
    "            if finish:\n",
    "                return\n",
    "\n",
    "            graph.nodes[n][\"mem\"] = mem\n",
    "            memory.addVector(f\"mem{n}_{i}\", mem)"
   ]
  },
  {
   "cell_type": "code",
   "execution_count": 7,
   "metadata": {},
   "outputs": [],
   "source": [
    "def initGraph(graph, memory):\n",
    "    G = []\n",
    "    for n in graph.nodes():\n",
    "        G.append(bind([graph.nodes[n][\"hdv\"], graph.nodes[n][\"mem\"]]))\n",
    "    G = bundle(G) / 2\n",
    "    memory.addVector(\"g\", G)\n",
    "    return G"
   ]
  },
  {
   "cell_type": "code",
   "execution_count": 8,
   "metadata": {},
   "outputs": [],
   "source": [
    "def checkEdge(G, A, B, threshold):\n",
    "    return sim(B, bind([G, A])) > threshold"
   ]
  },
  {
   "cell_type": "code",
   "execution_count": 9,
   "metadata": {},
   "outputs": [],
   "source": [
    "def nodeMemoryReconstruction(G, xs, iter=15):\n",
    "    if iter == 0:\n",
    "        return list(map(lambda H: bind([G, H]), xs))\n",
    "\n",
    "    mems = nodeMemoryReconstruction(G, xs, iter - 1)\n",
    "\n",
    "    newMems = []\n",
    "    b = [bind(x) for x in zip(mems, xs)]\n",
    "    for i in range(len(xs)):\n",
    "        bmem = bundle(b[:i] + b[i + 1 :])\n",
    "        newMems.append(bind([xs[i], bundle([G, -bmem])]))\n",
    "\n",
    "    return newMems"
   ]
  },
  {
   "cell_type": "code",
   "execution_count": 19,
   "metadata": {},
   "outputs": [],
   "source": [
    "def graphMemoryReconstruction(G, xs, iter=15):\n",
    "    if iter == 0:\n",
    "        return (G, zeros(len(G)))\n",
    "\n",
    "    (Gi, Ni) = graphMemoryReconstruction(G, xs, iter - 1)\n",
    "    Gii = bundle([Gi, -Ni])\n",
    "\n",
    "    for i in range(iter):\n",
    "        print(i)\n",
    "\n",
    "    return bundle([Gi, -edges])"
   ]
  },
  {
   "cell_type": "markdown",
   "metadata": {},
   "source": [
    "---\n"
   ]
  },
  {
   "cell_type": "markdown",
   "metadata": {},
   "source": [
    "# Tests\n"
   ]
  },
  {
   "cell_type": "code",
   "execution_count": 10,
   "metadata": {},
   "outputs": [],
   "source": [
    "def testCheckEdge(G, graph, threshold):\n",
    "    count = 0\n",
    "\n",
    "    for n in graph.nodes():\n",
    "        for m in graph.nodes():\n",
    "            if n == m:\n",
    "                continue\n",
    "            exist = graph.has_edge(n, m)\n",
    "            check = checkEdge(\n",
    "                G, graph.nodes[n][\"hdv\"], graph.nodes[m][\"hdv\"], threshold\n",
    "            )\n",
    "            if exist != check:\n",
    "                count += 1\n",
    "                print(n, m, exist, check)\n",
    "\n",
    "    print(count, \"%.5f\" % round(count / EDGES, 5))"
   ]
  },
  {
   "cell_type": "code",
   "execution_count": 11,
   "metadata": {},
   "outputs": [],
   "source": [
    "def testNodeMemoryReconstruction(G, graph, iter=15):\n",
    "    for i in range(iter):\n",
    "        memsi = nodeMemoryReconstruction(\n",
    "            G, list(map(lambda x: graph.nodes[x][\"hdv\"], graph.nodes())), iter=i\n",
    "        )\n",
    "        print(\n",
    "            f\"{0}_{i:02} =>\",\n",
    "            \"%.10f\" % abs(sim(graph.nodes[0][\"mem\"], memsi[0])),\n",
    "        )"
   ]
  },
  {
   "cell_type": "markdown",
   "metadata": {},
   "source": [
    "---\n"
   ]
  },
  {
   "cell_type": "markdown",
   "metadata": {},
   "source": [
    "# Main\n"
   ]
  },
  {
   "cell_type": "code",
   "execution_count": 12,
   "metadata": {},
   "outputs": [],
   "source": [
    "NODES, EDGES = 30, 150\n",
    "DIMENSIONS, THRESHOLD, ITER = 3500, 0.047, 4"
   ]
  },
  {
   "cell_type": "code",
   "execution_count": 13,
   "metadata": {},
   "outputs": [],
   "source": [
    "def main():\n",
    "    graph = nx.gnm_random_graph(NODES, EDGES)\n",
    "    memory = ItemMemory()\n",
    "\n",
    "    initVertices(graph, DIMENSIONS)\n",
    "    initNodeMem(graph, memory)\n",
    "    retrain(graph, memory, THRESHOLD, ITER)\n",
    "    G = initGraph(graph, memory)\n",
    "    print(\"G =>\", G)\n",
    "    # testNodeMemoryReconstruction(G, graph, 1)\n",
    "    # testCheckEdge(G, graph, THRESHOLD)\n",
    "\n",
    "\n",
    "# main()"
   ]
  },
  {
   "cell_type": "code",
   "execution_count": 14,
   "metadata": {},
   "outputs": [
    {
     "name": "stdout",
     "output_type": "stream",
     "text": [
      "G => [-4.  6.  0. ...  6. 12.  6.]\n"
     ]
    }
   ],
   "source": [
    "graph = nx.gnm_random_graph(NODES, EDGES)\n",
    "memory = ItemMemory()\n",
    "\n",
    "initVertices(graph, DIMENSIONS)\n",
    "initNodeMem(graph, memory)\n",
    "G = initGraph(graph, memory)\n",
    "print(\"G =>\", G)"
   ]
  },
  {
   "cell_type": "code",
   "execution_count": 17,
   "metadata": {},
   "outputs": [
    {
     "name": "stdout",
     "output_type": "stream",
     "text": [
      "0_00 => 0.2920641517\n",
      "0_01 => 0.2920641517\n",
      "0_02 => 0.2920641517\n",
      "0_03 => 0.2920641517\n",
      "0_04 => 0.2920641517\n",
      "0_05 => 0.2920641517\n",
      "0_06 => 0.2920641517\n",
      "0_07 => 0.2920641517\n",
      "0_08 => 0.2920641517\n",
      "0_09 => 0.2920641517\n",
      "0_10 => 0.2920641517\n",
      "0_11 => 0.2920641517\n",
      "0_12 => 0.2920641517\n",
      "0_13 => 0.2920641517\n",
      "0_14 => 0.2920641517\n"
     ]
    }
   ],
   "source": [
    "testNodeMemoryReconstruction(G, graph, 15)"
   ]
  },
  {
   "cell_type": "code",
   "execution_count": 16,
   "metadata": {},
   "outputs": [
    {
     "data": {
      "text/plain": [
       "1.0"
      ]
     },
     "execution_count": 16,
     "metadata": {},
     "output_type": "execute_result"
    }
   ],
   "source": [
    "sim(graph.nodes[0][\"mem\"], graph.nodes[0][\"mem\"])"
   ]
  },
  {
   "cell_type": "markdown",
   "metadata": {},
   "source": [
    "---\n"
   ]
  }
 ],
 "metadata": {
  "kernelspec": {
   "display_name": "Python 3",
   "language": "python",
   "name": "python3"
  },
  "language_info": {
   "codemirror_mode": {
    "name": "ipython",
    "version": 3
   },
   "file_extension": ".py",
   "mimetype": "text/x-python",
   "name": "python",
   "nbconvert_exporter": "python",
   "pygments_lexer": "ipython3",
   "version": "3.10.12"
  },
  "orig_nbformat": 4
 },
 "nbformat": 4,
 "nbformat_minor": 2
}
