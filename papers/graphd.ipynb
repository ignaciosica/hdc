{
 "cells": [
  {
   "cell_type": "code",
   "execution_count": 1,
   "metadata": {},
   "outputs": [],
   "source": [
    "import numpy as np\n",
    "import functools as ft\n",
    "import networkx as nx"
   ]
  },
  {
   "cell_type": "code",
   "execution_count": 2,
   "metadata": {},
   "outputs": [],
   "source": [
    "def hdv(d):\n",
    "    return np.random.choice([-1, 1], d)\n",
    "\n",
    "\n",
    "def zero(d):\n",
    "    return np.zeros((d,))\n",
    "\n",
    "\n",
    "def bind(xs):\n",
    "    return ft.reduce(lambda x, y: x * y, xs)\n",
    "\n",
    "\n",
    "def bundle(xs):\n",
    "    return ft.reduce(lambda x, y: x + y, xs)\n",
    "\n",
    "\n",
    "def p(d):\n",
    "    return np.random.shuffle(np.eye(d))\n",
    "\n",
    "\n",
    "def inverse(P):\n",
    "    return np.linalg.inv(P)\n",
    "\n",
    "\n",
    "def permute(P, H):\n",
    "    return P.dot(H)\n",
    "\n",
    "\n",
    "def cosine_similarity(A, B):\n",
    "    norm_A = np.linalg.norm(A)\n",
    "    norm_B = np.linalg.norm(B)\n",
    "\n",
    "    if norm_A == 0 or norm_B == 0:\n",
    "        return 0\n",
    "\n",
    "    return np.dot(A, B) / (norm_A * norm_B)\n",
    "\n",
    "\n",
    "def similarity(A, B):\n",
    "    return np.dot(A, B) / len(A)\n",
    "\n",
    "\n",
    "sim = cosine_similarity"
   ]
  },
  {
   "cell_type": "code",
   "execution_count": 3,
   "metadata": {},
   "outputs": [],
   "source": [
    "class ItemMemory:\n",
    "    def __init__(self, vectors=[]):\n",
    "        self.vectors = vectors\n",
    "\n",
    "    def addVector(self, label, V):\n",
    "        self.vectors.append((label, V))\n",
    "\n",
    "    def getVector(self, label):\n",
    "        return self.vectors[label]\n",
    "\n",
    "    def cleanup(self, V):\n",
    "        return max(self.vectors, key=lambda x: sim(V, x[1]))"
   ]
  },
  {
   "cell_type": "code",
   "execution_count": 4,
   "metadata": {},
   "outputs": [],
   "source": [
    "def initVertices(graph, d=10000):\n",
    "    for n in graph:\n",
    "        graph.nodes[n][\"hdv\"] = hdv(d)"
   ]
  },
  {
   "cell_type": "code",
   "execution_count": 5,
   "metadata": {},
   "outputs": [],
   "source": [
    "def initNodeMem(graph, memory):\n",
    "    for n in graph:\n",
    "        xs = map(lambda x: graph.nodes[x][\"hdv\"], list(graph.neighbors(n)))\n",
    "        graph.nodes[n][\"mem\"] = bundle(xs)\n",
    "        memory.addVector(f\"mem{n}\", graph.nodes[n][\"mem\"])"
   ]
  },
  {
   "cell_type": "code",
   "execution_count": 6,
   "metadata": {},
   "outputs": [],
   "source": [
    "def retrain(graph, memory, threshold, iter=15):\n",
    "    count = 0\n",
    "    for i in range(iter):\n",
    "        for n in graph:\n",
    "            mem = graph.nodes[n][\"mem\"]\n",
    "            finish = True\n",
    "            for neighbor in map(\n",
    "                lambda x: graph.nodes[x][\"hdv\"], list(nx.neighbors(graph, n))\n",
    "            ):\n",
    "                if sim(mem, neighbor) < threshold:\n",
    "                    mem = bundle([mem, neighbor])\n",
    "                    finish = False\n",
    "                    print(\"here\")\n",
    "\n",
    "            for non_neighbor in map(\n",
    "                lambda x: graph.nodes[x][\"hdv\"], list(nx.non_neighbors(graph, n))\n",
    "            ):\n",
    "                if sim(mem, non_neighbor) > threshold:\n",
    "                    mem = bundle([mem, -non_neighbor])\n",
    "                    finish = False\n",
    "                    print(\"here\")\n",
    "\n",
    "            if finish:\n",
    "                return\n",
    "\n",
    "            graph.nodes[n][\"mem\"] = mem\n",
    "            memory.addVector(f\"mem{n}_{i}\", mem)"
   ]
  },
  {
   "cell_type": "code",
   "execution_count": 7,
   "metadata": {},
   "outputs": [],
   "source": [
    "def initGraph(graph, memory):\n",
    "    G = []\n",
    "    for n in graph.nodes():\n",
    "        G.append(bind([graph.nodes[n][\"hdv\"], graph.nodes[n][\"mem\"]]))\n",
    "    G = bundle(G) / 2\n",
    "    memory.addVector(\"G\", G)\n",
    "    return G"
   ]
  },
  {
   "cell_type": "code",
   "execution_count": 8,
   "metadata": {},
   "outputs": [],
   "source": [
    "def checkEdge(G, A, B, threshold):\n",
    "    return sim(B, bind([G, A])) > threshold"
   ]
  },
  {
   "cell_type": "code",
   "execution_count": 9,
   "metadata": {},
   "outputs": [],
   "source": [
    "def nodeMemoryReconstruction(G, xs, iter=15):\n",
    "    if iter == 0:\n",
    "        return list(map(lambda H: bind([G, H]), xs))\n",
    "\n",
    "    mems = nodeMemoryReconstruction(G, xs, iter - 1)\n",
    "\n",
    "    newMems = []\n",
    "    b = [bind(x) for x in zip(mems, xs)]\n",
    "    for i in range(len(xs)):\n",
    "        bmem = bundle(b[:i] + b[i + 1 :])\n",
    "        newMems.append(bind([xs[i], bundle([G, -bmem])]))\n",
    "\n",
    "    return newMems"
   ]
  },
  {
   "cell_type": "code",
   "execution_count": 10,
   "metadata": {},
   "outputs": [],
   "source": [
    "def graphMemoryReconstruction(G, xs, iter=15):\n",
    "    raise NotImplementedError\n",
    "    if iter == 0:\n",
    "        return (G, zeros(len(G)))\n",
    "\n",
    "    (Gi, Ni) = graphMemoryReconstruction(G, xs, iter - 1)\n",
    "    Gii = bundle([Gi, -Ni])\n",
    "\n",
    "    for i in range(iter):\n",
    "        print(i)\n",
    "\n",
    "    return bundle([Gi, -edges])"
   ]
  },
  {
   "cell_type": "code",
   "execution_count": 11,
   "metadata": {},
   "outputs": [],
   "source": [
    "# visited = dict()\n",
    "visited = {}\n",
    "\n",
    "\n",
    "def shortestPath(G, A, B, xs, distance, threshold, memory):\n",
    "    label, value = memory.cleanup(A)\n",
    "\n",
    "    if np.array_equiv(A, B):\n",
    "        return 0, label\n",
    "\n",
    "    if label in visited and visited[label][0] <= distance:\n",
    "        return visited[label][1], visited[label][2]\n",
    "\n",
    "    visited[label] = [distance, 99, \"memnill\"]\n",
    "\n",
    "    neighbours = list(filter(lambda x: checkEdge(G, A, x, threshold), xs))\n",
    "\n",
    "    if len(neighbours) == 0:\n",
    "        return 99, \"memnill\"\n",
    "\n",
    "    dis, lab = min(\n",
    "        list(\n",
    "            map(\n",
    "                lambda a: shortestPath(G, a, B, xs, distance + 1, threshold, memory),\n",
    "                neighbours,\n",
    "            )\n",
    "        ),\n",
    "        key=lambda x: x[0],\n",
    "    )\n",
    "    visited[label][1] = dis + 1\n",
    "    visited[label][2] = label + lab\n",
    "    return dis + 1, label + lab"
   ]
  },
  {
   "cell_type": "markdown",
   "metadata": {},
   "source": [
    "---\n"
   ]
  },
  {
   "cell_type": "markdown",
   "metadata": {},
   "source": [
    "# Tests\n"
   ]
  },
  {
   "cell_type": "code",
   "execution_count": 12,
   "metadata": {},
   "outputs": [],
   "source": [
    "def testCheckEdge(G, graph, threshold):\n",
    "    count = 0\n",
    "\n",
    "    for n in graph.nodes():\n",
    "        for m in graph.nodes():\n",
    "            if n == m:\n",
    "                continue\n",
    "            exist = graph.has_edge(n, m)\n",
    "            check = checkEdge(\n",
    "                G, graph.nodes[n][\"hdv\"], graph.nodes[m][\"hdv\"], threshold\n",
    "            )\n",
    "            if exist != check:\n",
    "                count += 1\n",
    "                print(n, m, exist, check)\n",
    "\n",
    "    print(count, \"%.5f\" % round(count / EDGES, 5))"
   ]
  },
  {
   "cell_type": "code",
   "execution_count": 13,
   "metadata": {},
   "outputs": [],
   "source": [
    "def testNodeMemoryReconstruction(G, graph, iter=15):\n",
    "    for i in range(iter):\n",
    "        memsi = nodeMemoryReconstruction(\n",
    "            G, list(map(lambda x: graph.nodes[x][\"hdv\"], graph.nodes())), iter=i\n",
    "        )\n",
    "        print(\n",
    "            f\"{0}_{i:02} =>\",\n",
    "            \"%.10f\" % abs(sim(graph.nodes[0][\"mem\"], memsi[0])),\n",
    "        )"
   ]
  },
  {
   "cell_type": "markdown",
   "metadata": {},
   "source": [
    "---\n"
   ]
  },
  {
   "cell_type": "markdown",
   "metadata": {},
   "source": [
    "# Main\n"
   ]
  },
  {
   "cell_type": "code",
   "execution_count": 14,
   "metadata": {},
   "outputs": [],
   "source": [
    "NODES, EDGES = 30, 150\n",
    "DIMENSIONS, THRESHOLD, ITER = 10000, 0.047, 4"
   ]
  },
  {
   "cell_type": "code",
   "execution_count": 15,
   "metadata": {},
   "outputs": [],
   "source": [
    "def main():\n",
    "    graph = nx.gnm_random_graph(NODES, EDGES)\n",
    "    memory = ItemMemory()\n",
    "\n",
    "    initVertices(graph, DIMENSIONS)\n",
    "    initNodeMem(graph, memory)\n",
    "    retrain(graph, memory, THRESHOLD, ITER)\n",
    "    G = initGraph(graph, memory)\n",
    "    print(\"G =>\", G)\n",
    "    # testNodeMemoryReconstruction(G, graph, 1)\n",
    "    # testCheckEdge(G, graph, THRESHOLD)\n",
    "\n",
    "\n",
    "# main()"
   ]
  },
  {
   "cell_type": "code",
   "execution_count": 16,
   "metadata": {},
   "outputs": [],
   "source": [
    "# graph = nx.gnm_random_graph(NODES, EDGES)\n",
    "# memory = ItemMemory()\n",
    "\n",
    "# initVertices(graph, DIMENSIONS)\n",
    "# initNodeMem(graph, memory)\n",
    "# G = initGraph(graph, memory)\n",
    "# print(\"G =>\", G)"
   ]
  },
  {
   "cell_type": "code",
   "execution_count": 17,
   "metadata": {},
   "outputs": [],
   "source": [
    "# testNodeMemoryReconstruction(G, graph, 15)"
   ]
  },
  {
   "cell_type": "code",
   "execution_count": 18,
   "metadata": {},
   "outputs": [],
   "source": [
    "# sim(graph.nodes[0][\"mem\"], graph.nodes[0][\"mem\"])"
   ]
  },
  {
   "cell_type": "markdown",
   "metadata": {},
   "source": [
    "---\n"
   ]
  },
  {
   "cell_type": "code",
   "execution_count": 19,
   "metadata": {},
   "outputs": [
    {
     "name": "stdout",
     "output_type": "stream",
     "text": [
      "[(0, 10), (0, 17), (0, 21)]\n",
      "[(1, 20)]\n",
      "[(2, 10), (2, 20)]\n",
      "[(3, 6), (3, 9), (3, 7), (3, 14), (3, 13)]\n",
      "[(4, 28), (4, 17), (4, 29)]\n",
      "[(5, 7), (5, 21), (5, 14)]\n",
      "[(6, 3), (6, 9), (6, 25)]\n",
      "[(7, 5), (7, 23), (7, 12), (7, 10), (7, 18), (7, 3)]\n",
      "[(8, 15), (8, 20)]\n",
      "[(9, 16), (9, 3), (9, 6), (9, 26)]\n",
      "[(10, 0), (10, 2), (10, 7), (10, 14)]\n",
      "[(11, 20), (11, 21)]\n",
      "[(12, 7), (12, 17), (12, 21), (12, 19)]\n",
      "[(13, 3)]\n",
      "[(14, 18), (14, 23), (14, 5), (14, 3), (14, 10)]\n",
      "[(15, 8)]\n",
      "[(16, 22), (16, 9), (16, 19)]\n",
      "[(17, 0), (17, 12), (17, 4)]\n",
      "[(18, 14), (18, 7), (18, 24)]\n",
      "[(19, 16), (19, 12), (19, 20)]\n",
      "[(20, 1), (20, 28), (20, 11), (20, 2), (20, 27), (20, 8), (20, 19), (20, 22)]\n",
      "[(21, 27), (21, 5), (21, 12), (21, 11), (21, 0)]\n",
      "[(22, 16), (22, 20)]\n",
      "[(23, 7), (23, 14), (23, 25)]\n",
      "[(24, 18), (24, 25)]\n",
      "[(25, 23), (25, 24), (25, 6)]\n",
      "[(26, 9)]\n",
      "[(27, 21), (27, 20)]\n",
      "[(28, 20), (28, 4)]\n",
      "[(29, 4)]\n"
     ]
    }
   ],
   "source": [
    "mem = ItemMemory()\n",
    "\n",
    "g = nx.gnm_random_graph(NODES, 45)\n",
    "initVertices(g, DIMENSIONS)\n",
    "initNodeMem(g, mem)\n",
    "G = initGraph(g, mem)\n",
    "\n",
    "for n in g.nodes():\n",
    "    print(g.edges(n))"
   ]
  },
  {
   "cell_type": "code",
   "execution_count": 20,
   "metadata": {},
   "outputs": [],
   "source": [
    "hdvs = list(map(lambda x: g.nodes[x][\"hdv\"], g.nodes()))\n",
    "origin = 0"
   ]
  },
  {
   "cell_type": "code",
   "execution_count": 21,
   "metadata": {},
   "outputs": [
    {
     "name": "stdout",
     "output_type": "stream",
     "text": [
      "00 => F mem17\n",
      "01 => F mem20\n",
      "02 => F mem10\n",
      "03 => F mem13\n",
      "04 => F mem29\n",
      "05 => F mem21\n",
      "06 => F mem25\n",
      "07 => F mem23\n",
      "08 => F mem15\n",
      "09 => F mem26\n",
      "10 => F mem2\n",
      "11 => F mem21\n",
      "12 => F mem17\n",
      "13 => F mem3\n",
      "14 => F mem5\n",
      "15 => F mem8\n",
      "16 => F mem22\n",
      "17 => F mem0\n",
      "18 => F mem24\n",
      "19 => F mem16\n",
      "20 => F mem1\n",
      "21 => F mem11\n",
      "22 => F mem16\n",
      "23 => F mem25\n",
      "24 => F mem25\n",
      "25 => F mem24\n",
      "26 => F mem9\n",
      "27 => F mem21\n",
      "28 => F mem4\n",
      "29 => F mem4\n"
     ]
    }
   ],
   "source": [
    "for n in g.nodes():\n",
    "    print(\n",
    "        f\"{n:02} =>\",\n",
    "        \"T\" if mem.cleanup(hdvs[n])[0] == f\"mem{n}\" else \"F\",\n",
    "        mem.cleanup(hdvs[n])[0],\n",
    "    )"
   ]
  },
  {
   "cell_type": "code",
   "execution_count": 22,
   "metadata": {},
   "outputs": [
    {
     "name": "stdout",
     "output_type": "stream",
     "text": [
      "0_01 => 4 4 T   [0, 10, 2, 20, 1] [17, 2, 10, 1, 20] False\n",
      "0_02 => 2 2 T   [0, 10, 2] [17, 2, 10] False\n",
      "0_03 => 3 3 T   [0, 10, 7, 3] [17, 2, 23, 13] False\n",
      "0_04 => 2 2 T   [0, 17, 4] [17, 0, 29] False\n"
     ]
    },
    {
     "name": "stdout",
     "output_type": "stream",
     "text": [
      "0_05 => 2 2 T   [0, 21, 5] [17, 11, 21] False\n",
      "0_06 => 4 4 T   [0, 10, 7, 3, 6] [17, 2, 23, 13, 25] False\n",
      "0_07 => 2 2 T   [0, 10, 7] [17, 2, 23] False\n",
      "0_08 => 4 4 T   [0, 10, 2, 20, 8] [17, 2, 10, 1, 15] False\n",
      "0_09 => 4 4 T   [0, 10, 7, 3, 9] [17, 2, 23, 13, 26] False\n",
      "0_10 => 1 1 T   [0, 10] [17, 2] False\n",
      "0_11 => 2 2 T   [0, 21, 11] [17, 11, 21] False\n",
      "0_12 => 2 2 T   [0, 17, 12] [17, 0, 17] True\n",
      "0_13 => 4 4 T   [0, 10, 7, 3, 13] [17, 2, 23, 13, 3] False\n",
      "0_14 => 2 2 T   [0, 10, 14] [17, 2, 5] False\n",
      "0_15 => 5 5 T   [0, 10, 2, 20, 8, 15] [17, 2, 10, 1, 15, 8] False\n",
      "0_16 => 4 5 F X [0, 17, 12, 19, 16] [17, 2, 10, 1, 16, 22] False\n",
      "0_17 => 1 1 T   [0, 17] [17, 0] True\n",
      "0_18 => 3 3 T   [0, 10, 7, 18] [17, 2, 23, 24] False\n",
      "0_19 => 3 4 F X [0, 17, 12, 19] [17, 2, 10, 1, 16] False\n",
      "0_20 => 3 3 T   [0, 10, 2, 20] [17, 2, 10, 1] False\n",
      "0_21 => 1 1 T   [0, 21] [17, 11] False\n",
      "0_22 => 4 4 T   [0, 10, 2, 20, 22] [17, 2, 10, 1, 16] False\n",
      "0_23 => 3 3 T   [0, 10, 7, 23] [17, 2, 23, 25] False\n",
      "0_24 => 4 4 T   [0, 10, 7, 18, 24] [17, 2, 23, 24, 25] False\n",
      "0_25 => 4 4 T   [0, 10, 7, 23, 25] [17, 2, 23, 25, 24] False\n",
      "0_26 => 5 5 T   [0, 10, 7, 3, 9, 26] [17, 2, 23, 13, 26, 9] False\n",
      "0_27 => 2 2 T   [0, 21, 27] [17, 11, 21] False\n",
      "0_28 => 3 3 T   [0, 17, 4, 28] [17, 0, 29, 4] False\n",
      "0_29 => 3 3 T   [0, 17, 4, 29] [17, 0, 29, 4] False\n"
     ]
    }
   ],
   "source": [
    "for m in g.nodes():\n",
    "    if origin == m:\n",
    "        continue\n",
    "    path = nx.shortest_path(g, origin, m)\n",
    "    oracle = len(path) - 1\n",
    "    visited = {}\n",
    "    test = shortestPath(G, hdvs[origin], hdvs[m], hdvs, 0, THRESHOLD, mem)\n",
    "    testPath = list(map(int, test[1].split(\"mem\")[1:]))\n",
    "    print(\n",
    "        f\"{origin}_{m:02} =>\",\n",
    "        oracle,\n",
    "        test[0],\n",
    "        \"T  \" if oracle == test[0] else \"F X\",\n",
    "        path,\n",
    "        testPath,\n",
    "        nx.is_path(g, testPath),\n",
    "    )"
   ]
  },
  {
   "cell_type": "code",
   "execution_count": 23,
   "metadata": {},
   "outputs": [
    {
     "name": "stdout",
     "output_type": "stream",
     "text": [
      "0 0.00000\n"
     ]
    }
   ],
   "source": [
    "testCheckEdge(G, g, THRESHOLD)"
   ]
  }
 ],
 "metadata": {
  "kernelspec": {
   "display_name": "Python 3",
   "language": "python",
   "name": "python3"
  },
  "language_info": {
   "codemirror_mode": {
    "name": "ipython",
    "version": 3
   },
   "file_extension": ".py",
   "mimetype": "text/x-python",
   "name": "python",
   "nbconvert_exporter": "python",
   "pygments_lexer": "ipython3",
   "version": "3.10.12"
  },
  "orig_nbformat": 4
 },
 "nbformat": 4,
 "nbformat_minor": 2
}
