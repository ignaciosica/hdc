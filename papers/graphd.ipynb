{
 "cells": [
  {
   "cell_type": "code",
   "execution_count": 1,
   "metadata": {},
   "outputs": [],
   "source": [
    "import numpy as np\n",
    "import functools as ft\n",
    "import networkx as nx"
   ]
  },
  {
   "cell_type": "code",
   "execution_count": 2,
   "metadata": {},
   "outputs": [],
   "source": [
    "def hdv(d):\n",
    "    return np.random.choice([-1, 1], d)\n",
    "\n",
    "\n",
    "def bind(xs):\n",
    "    return ft.reduce(lambda x, y: x * y, xs)\n",
    "\n",
    "\n",
    "def bundle(xs):\n",
    "    return ft.reduce(lambda x, y: x + y, xs)\n",
    "\n",
    "\n",
    "def p(d):\n",
    "    return np.random.shuffle(np.eye(d))\n",
    "\n",
    "\n",
    "def inverse(P):\n",
    "    return np.linalg.inv(P)\n",
    "\n",
    "\n",
    "def permute(P, H):\n",
    "    return P.dot(H)\n",
    "\n",
    "\n",
    "def cosine_similarity(A, B):\n",
    "    norm_A = np.linalg.norm(A)\n",
    "    norm_B = np.linalg.norm(B)\n",
    "\n",
    "    if norm_A == 0 or norm_B == 0:\n",
    "        return 0\n",
    "\n",
    "    return np.dot(A, B) / (norm_A * norm_B)"
   ]
  },
  {
   "cell_type": "code",
   "execution_count": 3,
   "metadata": {},
   "outputs": [],
   "source": [
    "class ItemMemory:\n",
    "    def __init__(self, vectors=[]):\n",
    "        self.vectors = vectors\n",
    "\n",
    "    def addVector(self, label, V):\n",
    "        self.vectors.append((label, V))\n",
    "\n",
    "    def getVector(self, label):\n",
    "        return self.vectors[label]\n",
    "\n",
    "    def cleanup(self, V):\n",
    "        return max(self.vectors, key=lambda x: cosine_similarity(V, x[1]))"
   ]
  },
  {
   "cell_type": "code",
   "execution_count": 4,
   "metadata": {},
   "outputs": [],
   "source": [
    "def initVertices(graph, d=10000):\n",
    "    for n in graph:\n",
    "        graph.nodes[n][\"hdv\"] = hdv(d)"
   ]
  },
  {
   "cell_type": "code",
   "execution_count": 5,
   "metadata": {},
   "outputs": [],
   "source": [
    "def initNodeMem(graph, memory):\n",
    "    for n in graph:\n",
    "        xs = map(lambda x: graph.nodes[x][\"hdv\"], list(graph.neighbors(n)))\n",
    "        graph.nodes[n][\"mem\"] = bundle(xs)\n",
    "        memory.addVector(f\"mem{n}\", graph.nodes[n][\"mem\"])"
   ]
  },
  {
   "cell_type": "code",
   "execution_count": 6,
   "metadata": {},
   "outputs": [],
   "source": [
    "def retrain(graph, memory, threshold, iter=15):\n",
    "    count = 0\n",
    "    for i in range(iter):\n",
    "        for n in graph:\n",
    "            mem = graph.nodes[n][\"mem\"]\n",
    "            finish = True\n",
    "            for neighbor in map(\n",
    "                lambda x: graph.nodes[x][\"hdv\"], list(nx.neighbors(graph, n))\n",
    "            ):\n",
    "                if cosine_similarity(mem, neighbor) < threshold:\n",
    "                    mem = bundle([mem, neighbor])\n",
    "                    finish = False\n",
    "                    print(\"here\")\n",
    "\n",
    "            for non_neighbor in map(\n",
    "                lambda x: graph.nodes[x][\"hdv\"], list(nx.non_neighbors(graph, n))\n",
    "            ):\n",
    "                if cosine_similarity(mem, non_neighbor) > threshold:\n",
    "                    mem = bundle([mem, -non_neighbor])\n",
    "                    finish = False\n",
    "                    print(\"here\")\n",
    "\n",
    "            if finish:\n",
    "                return\n",
    "\n",
    "            graph.nodes[n][\"mem\"] = mem\n",
    "            memory.addVector(f\"mem{n}_{i}\", mem)"
   ]
  },
  {
   "cell_type": "code",
   "execution_count": 7,
   "metadata": {},
   "outputs": [],
   "source": [
    "def initGraph(graph, memory):\n",
    "    G = []\n",
    "    for n in graph.nodes():\n",
    "        G.append(bind([graph.nodes[n][\"hdv\"], graph.nodes[n][\"mem\"]]))\n",
    "    G = bundle(G) / 2\n",
    "    memory.addVector(\"g\", G)\n",
    "    return G"
   ]
  },
  {
   "cell_type": "code",
   "execution_count": 8,
   "metadata": {},
   "outputs": [],
   "source": [
    "def checkEdge(G, A, B, threshold):\n",
    "    return cosine_similarity(B, bind([G, A])) > threshold"
   ]
  },
  {
   "cell_type": "code",
   "execution_count": 9,
   "metadata": {},
   "outputs": [],
   "source": [
    "def nodeMemoryReconstruction(G, xs, iter=15):\n",
    "    if iter == 0:\n",
    "        return list(map(lambda H: bind([G, H]), xs))\n",
    "\n",
    "    mems = nodeMemoryReconstruction(G, xs, iter - 1)\n",
    "\n",
    "    newMems = []\n",
    "    for i in range(len(xs)):\n",
    "        mjs = mems[:i] + mems[i + 1 :]\n",
    "        mjs = bundle(mjs)\n",
    "\n",
    "        newMems.append(bind([xs[i], bundle([G, -mjs])]))\n",
    "\n",
    "    return newMems"
   ]
  },
  {
   "cell_type": "code",
   "execution_count": 10,
   "metadata": {},
   "outputs": [],
   "source": [
    "NODES, EDGES = 30, 150\n",
    "DIMENSIONS, THRESHOLD, ITER = 3500, 0.047, 15\n",
    "\n",
    "graph = nx.gnm_random_graph(NODES, EDGES)\n",
    "memory = ItemMemory()\n",
    "\n",
    "initVertices(graph, DIMENSIONS)\n",
    "initNodeMem(graph, memory)\n",
    "retrain(graph, memory, THRESHOLD, ITER)\n",
    "G = initGraph(graph, memory)"
   ]
  },
  {
   "cell_type": "markdown",
   "metadata": {},
   "source": [
    "---\n"
   ]
  },
  {
   "cell_type": "code",
   "execution_count": 25,
   "metadata": {},
   "outputs": [
    {
     "name": "stdout",
     "output_type": "stream",
     "text": [
      "29_0 => 0.2619474855578692\n",
      "29_1 => 0.04194196444867849\n",
      "29_2 => 0.0605971713284636\n",
      "29_3 => 0.011130676381696424\n",
      "29_4 => 0.07011056913709665\n",
      "29_5 => 0.01637180079514616\n",
      "29_6 => 0.06276692565046253\n",
      "29_7 => 0.022739220681181557\n",
      "29_8 => 0.058355365603473756\n",
      "29_9 => 0.028874114444678998\n"
     ]
    }
   ],
   "source": [
    "for i in range(10):\n",
    "    memsi = nodeMemoryReconstruction(\n",
    "        G, list(map(lambda x: graph.nodes[x][\"hdv\"], graph.nodes())), iter=i\n",
    "    )\n",
    "    print(\n",
    "        f\"{n}_{i} =>\",\n",
    "        cosine_similarity(graph.nodes[0][\"mem\"], memsi[0]),\n",
    "    )"
   ]
  },
  {
   "cell_type": "code",
   "execution_count": 24,
   "metadata": {},
   "outputs": [
    {
     "name": "stdout",
     "output_type": "stream",
     "text": [
      "0  =>  0.2619474855578692\n",
      "0_1=>  0.04194196444867849\n",
      "0_2=>  0.0605971713284636\n",
      "0_5=>  0.01637180079514616\n",
      "0_8=>  0.058355365603473756\n",
      "1  =>  0.2530784592193749\n",
      "1_1=>  -0.037818793984801445\n",
      "1_2=>  0.031606404540094425\n",
      "1_5=>  -0.03645414572793314\n",
      "1_8=>  0.039188096828158867\n",
      "2  =>  0.24413096523303715\n",
      "2_1=>  0.004276003837705734\n",
      "2_2=>  0.06012376746604741\n",
      "2_5=>  -0.06085553499727113\n",
      "2_8=>  -0.0005952386167542705\n",
      "3  =>  0.23429982146863523\n",
      "3_1=>  -0.007539851229520634\n",
      "3_2=>  0.04549108229652034\n",
      "3_5=>  -0.02058433924276675\n",
      "3_8=>  0.050152829650361774\n",
      "4  =>  0.2605981663356295\n",
      "4_1=>  -0.028540589549511025\n",
      "4_2=>  0.08183136248397392\n",
      "4_5=>  -0.03769926633484615\n",
      "4_8=>  0.06750141424760224\n",
      "5  =>  0.2839503941976691\n",
      "5_1=>  0.053573430179427374\n",
      "5_2=>  0.05392603807831377\n",
      "5_5=>  0.04084658163374551\n",
      "5_8=>  0.01383108924180733\n",
      "6  =>  0.2511102083181977\n",
      "6_1=>  0.07776630446941986\n",
      "6_2=>  0.07554418468946078\n",
      "6_5=>  0.025996949179857096\n",
      "6_8=>  0.055297383878979034\n",
      "7  =>  0.19239744142201662\n",
      "7_1=>  0.02057046543585789\n",
      "7_2=>  0.022141798865158102\n",
      "7_5=>  0.005392459015483998\n",
      "7_8=>  0.03981771728179363\n",
      "8  =>  0.2629109213084999\n",
      "8_1=>  0.028830246506064815\n",
      "8_2=>  0.0816359272734941\n",
      "8_5=>  -0.04920577224271093\n",
      "8_8=>  0.015876625555967645\n",
      "9  =>  0.26995697504126004\n",
      "9_1=>  0.022676066921391534\n",
      "9_2=>  0.08855187762950674\n",
      "9_5=>  -0.004344145755762387\n",
      "9_8=>  0.06120226535070241\n",
      "10  =>  0.27382110787129266\n",
      "10_1=>  -0.006857395956064967\n",
      "10_2=>  0.07945467496154779\n",
      "10_5=>  0.002525560834325065\n",
      "10_8=>  0.07617399402222777\n",
      "11  =>  0.24997769709091774\n",
      "11_1=>  0.01990175474892661\n",
      "11_2=>  0.07263694821654591\n",
      "11_5=>  -0.019149430267123003\n",
      "11_8=>  0.04323824753624804\n",
      "12  =>  0.3076732722386322\n",
      "12_1=>  0.03689298297949426\n",
      "12_2=>  0.14884199774612214\n",
      "12_5=>  -0.012105270636361807\n",
      "12_8=>  0.0833946297807728\n",
      "13  =>  0.19205280259497476\n",
      "13_1=>  0.04459286285650585\n",
      "13_2=>  0.050221465629048855\n",
      "13_5=>  0.02998134394721627\n",
      "13_8=>  0.043598040536959204\n",
      "14  =>  0.2419885408406988\n",
      "14_1=>  0.03673735491325687\n",
      "14_2=>  0.07158170315566269\n",
      "14_5=>  -0.06761603629644844\n",
      "14_8=>  2.7477878784483003e-06\n",
      "15  =>  0.19853725824272322\n",
      "15_1=>  0.016011391813686368\n",
      "15_2=>  0.04718990606016838\n",
      "15_5=>  -0.001837360342627726\n",
      "15_8=>  0.0452608120940009\n",
      "16  =>  0.2663568703450624\n",
      "16_1=>  -0.0036380063580133543\n",
      "16_2=>  0.0698374949989408\n",
      "16_5=>  0.013761789169073007\n",
      "16_8=>  0.03931191770503687\n",
      "17  =>  0.21871752746080403\n",
      "17_1=>  0.026964798447892867\n",
      "17_2=>  0.03962970470588367\n",
      "17_5=>  0.01524294146308957\n",
      "17_8=>  0.02928526031643162\n",
      "18  =>  0.26376576498148674\n",
      "18_1=>  -0.002143786963287229\n",
      "18_2=>  0.08010593985772566\n",
      "18_5=>  0.0005043402393801412\n",
      "18_8=>  0.07194551634910472\n",
      "19  =>  0.29146471036527827\n",
      "19_1=>  -0.014552821608010571\n",
      "19_2=>  0.10274880441201578\n",
      "19_5=>  -0.030232871203861082\n",
      "19_8=>  0.07305258570280483\n",
      "20  =>  0.2531065523564817\n",
      "20_1=>  0.013025552335170429\n",
      "20_2=>  0.08287255689909755\n",
      "20_5=>  -0.015775079142148946\n",
      "20_8=>  0.04561455430273114\n",
      "21  =>  0.27518676979820605\n",
      "21_1=>  0.05329154761657469\n",
      "21_2=>  0.052961852795766845\n",
      "21_5=>  -0.00733673986948571\n",
      "21_8=>  -0.017523512387630242\n",
      "22  =>  0.2610309885127918\n",
      "22_1=>  -0.009062084628580097\n",
      "22_2=>  0.05068060264251677\n",
      "22_5=>  0.010945962646028075\n",
      "22_8=>  0.046548543675528735\n",
      "23  =>  0.2746245553092534\n",
      "23_1=>  0.0017880898177133032\n",
      "23_2=>  0.09355999719285571\n",
      "23_5=>  0.005894114211685711\n",
      "23_8=>  0.08540629421990362\n",
      "24  =>  0.26817857149725216\n",
      "24_1=>  -0.008422545781857992\n",
      "24_2=>  0.0552532098753443\n",
      "24_5=>  -0.04152957097622439\n",
      "24_8=>  -0.012167352105636556\n",
      "25  =>  0.2772238313812471\n",
      "25_1=>  0.03662314833719576\n",
      "25_2=>  0.10368728118682713\n",
      "25_5=>  -0.009128151073433304\n",
      "25_8=>  0.05609812223600605\n",
      "26  =>  0.21219452633797514\n",
      "26_1=>  0.0255145824960406\n",
      "26_2=>  0.0230649139222452\n",
      "26_5=>  0.01613381257161863\n",
      "26_8=>  0.0072915284105897656\n",
      "27  =>  0.26734312275735383\n",
      "27_1=>  0.025249554652878366\n",
      "27_2=>  0.08033808440035699\n",
      "27_5=>  0.00016820294206089167\n",
      "27_8=>  0.0505679558700475\n",
      "28  =>  0.28181060954411236\n",
      "28_1=>  0.004672213520171745\n",
      "28_2=>  0.09703723699702829\n",
      "28_5=>  -0.01561409515979023\n",
      "28_8=>  0.08239907415985921\n",
      "29  =>  0.2614096303079833\n",
      "29_1=>  0.036026817978423775\n",
      "29_2=>  0.05206725186035845\n",
      "29_5=>  -0.02558048382723473\n",
      "29_8=>  0.05348490376463231\n"
     ]
    }
   ],
   "source": [
    "mems1 = nodeMemoryReconstruction(\n",
    "    G, list(map(lambda x: graph.nodes[x][\"hdv\"], graph.nodes())), iter=1\n",
    ")\n",
    "mems2 = nodeMemoryReconstruction(\n",
    "    G, list(map(lambda x: graph.nodes[x][\"hdv\"], graph.nodes())), iter=2\n",
    ")\n",
    "mems5 = nodeMemoryReconstruction(\n",
    "    G, list(map(lambda x: graph.nodes[x][\"hdv\"], graph.nodes())), iter=5\n",
    ")\n",
    "mems8 = nodeMemoryReconstruction(\n",
    "    G, list(map(lambda x: graph.nodes[x][\"hdv\"], graph.nodes())), iter=8\n",
    ")\n",
    "for n in graph.nodes():\n",
    "    print(\n",
    "        f\"{n}  => \",\n",
    "        cosine_similarity(graph.nodes[n][\"mem\"], bind([G, graph.nodes[n][\"hdv\"]])),\n",
    "    )\n",
    "    print(\n",
    "        f\"{n}_1=> \",\n",
    "        cosine_similarity(graph.nodes[n][\"mem\"], mems1[n]),\n",
    "    )\n",
    "    print(\n",
    "        f\"{n}_2=> \",\n",
    "        cosine_similarity(graph.nodes[n][\"mem\"], mems2[n]),\n",
    "    )\n",
    "    print(\n",
    "        f\"{n}_5=> \",\n",
    "        cosine_similarity(graph.nodes[n][\"mem\"], mems5[n]),\n",
    "    )\n",
    "    print(\n",
    "        f\"{n}_8=> \",\n",
    "        cosine_similarity(graph.nodes[n][\"mem\"], mems8[n]),\n",
    "    )"
   ]
  },
  {
   "cell_type": "code",
   "execution_count": 12,
   "metadata": {},
   "outputs": [
    {
     "name": "stdout",
     "output_type": "stream",
     "text": [
      "32.75540167521702\n",
      "0.03052931574203858\n"
     ]
    }
   ],
   "source": [
    "import math\n",
    "\n",
    "SNR = 5 * math.log(DIMENSIONS / (EDGES / NODES))\n",
    "print(SNR)\n",
    "print(1 / SNR)"
   ]
  },
  {
   "cell_type": "code",
   "execution_count": 13,
   "metadata": {},
   "outputs": [
    {
     "name": "stdout",
     "output_type": "stream",
     "text": [
      "mem26\n",
      "0.21219452633797514\n"
     ]
    }
   ],
   "source": [
    "query = bind([G, graph.nodes[26][\"hdv\"]])\n",
    "res = memory.cleanup(query)\n",
    "print(res[0])\n",
    "print(cosine_similarity(res[1], query))"
   ]
  },
  {
   "cell_type": "code",
   "execution_count": 14,
   "metadata": {},
   "outputs": [],
   "source": [
    "# retrain(G, memory, THRESHOLD, )\n",
    "# Gh = initGraph(G, memory)"
   ]
  },
  {
   "cell_type": "code",
   "execution_count": 15,
   "metadata": {},
   "outputs": [
    {
     "name": "stdout",
     "output_type": "stream",
     "text": [
      "2 16 True False\n",
      "15 17 True False\n",
      "16 2 True False\n",
      "17 15 True False\n",
      "4 0.02667\n"
     ]
    }
   ],
   "source": [
    "count = 0\n",
    "\n",
    "for n in graph.nodes():\n",
    "    for m in graph.nodes():\n",
    "        if n == m:\n",
    "            continue\n",
    "        exist = graph.has_edge(n, m)\n",
    "        check = checkEdge(G, graph.nodes[n][\"hdv\"], graph.nodes[m][\"hdv\"], THRESHOLD)\n",
    "        if exist != check:\n",
    "            count += 1\n",
    "            print(n, m, exist, check)\n",
    "\n",
    "print(count, \"%.5f\" % round(count / EDGES, 5))"
   ]
  },
  {
   "cell_type": "code",
   "execution_count": null,
   "metadata": {},
   "outputs": [],
   "source": []
  }
 ],
 "metadata": {
  "kernelspec": {
   "display_name": "Python 3",
   "language": "python",
   "name": "python3"
  },
  "language_info": {
   "codemirror_mode": {
    "name": "ipython",
    "version": 3
   },
   "file_extension": ".py",
   "mimetype": "text/x-python",
   "name": "python",
   "nbconvert_exporter": "python",
   "pygments_lexer": "ipython3",
   "version": "3.10.12"
  },
  "orig_nbformat": 4
 },
 "nbformat": 4,
 "nbformat_minor": 2
}
