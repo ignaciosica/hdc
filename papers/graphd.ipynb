{
 "cells": [
  {
   "cell_type": "code",
   "execution_count": 33,
   "metadata": {},
   "outputs": [],
   "source": [
    "import numpy as np\n",
    "import functools as ft\n",
    "import networkx as nx"
   ]
  },
  {
   "cell_type": "code",
   "execution_count": 34,
   "metadata": {},
   "outputs": [],
   "source": [
    "def hdv(d):\n",
    "    return np.random.choice([-1, 1], d)\n",
    "\n",
    "\n",
    "def zero(d):\n",
    "    return np.zeros((d,))\n",
    "\n",
    "\n",
    "def bind(xs):\n",
    "    return ft.reduce(lambda x, y: x * y, xs)\n",
    "\n",
    "\n",
    "def bundle(xs):\n",
    "    return ft.reduce(lambda x, y: x + y, xs)\n",
    "\n",
    "\n",
    "def p(d):\n",
    "    return np.random.shuffle(np.eye(d))\n",
    "\n",
    "\n",
    "def inverse(P):\n",
    "    return np.linalg.inv(P)\n",
    "\n",
    "\n",
    "def permute(P, H):\n",
    "    return P.dot(H)\n",
    "\n",
    "\n",
    "def cosine_similarity(A, B):\n",
    "    norm_A = np.linalg.norm(A)\n",
    "    norm_B = np.linalg.norm(B)\n",
    "\n",
    "    if norm_A == 0 or norm_B == 0:\n",
    "        return 0\n",
    "\n",
    "    return np.dot(A, B) / (norm_A * norm_B)\n",
    "\n",
    "\n",
    "def similarity(A, B):\n",
    "    return np.dot(A, B) / len(A)\n",
    "\n",
    "\n",
    "sim = cosine_similarity"
   ]
  },
  {
   "cell_type": "code",
   "execution_count": 35,
   "metadata": {},
   "outputs": [],
   "source": [
    "class ItemMemory:\n",
    "    def __init__(self, vectors=[]):\n",
    "        self.vectors = vectors\n",
    "\n",
    "    def addVector(self, label, V):\n",
    "        self.vectors.append((label, V))\n",
    "\n",
    "    def getVector(self, label):\n",
    "        return self.vectors[label]\n",
    "\n",
    "    def cleanup(self, V):\n",
    "        return max(self.vectors, key=lambda x: sim(V, x[1]))"
   ]
  },
  {
   "cell_type": "code",
   "execution_count": 36,
   "metadata": {},
   "outputs": [],
   "source": [
    "def initVertices(graph, d=10000):\n",
    "    for n in graph:\n",
    "        graph.nodes[n][\"hdv\"] = hdv(d)"
   ]
  },
  {
   "cell_type": "code",
   "execution_count": 37,
   "metadata": {},
   "outputs": [],
   "source": [
    "def initNodeMem(graph, memory):\n",
    "    for n in graph:\n",
    "        xs = map(lambda x: graph.nodes[x][\"hdv\"], list(graph.neighbors(n)))\n",
    "        graph.nodes[n][\"mem\"] = bundle(xs)\n",
    "        memory.addVector(f\"mem{n}\", graph.nodes[n][\"mem\"])"
   ]
  },
  {
   "cell_type": "code",
   "execution_count": 38,
   "metadata": {},
   "outputs": [],
   "source": [
    "def retrain(graph, memory, threshold, iter=15):\n",
    "    count = 0\n",
    "    for i in range(iter):\n",
    "        for n in graph:\n",
    "            mem = graph.nodes[n][\"mem\"]\n",
    "            finish = True\n",
    "            for neighbor in map(\n",
    "                lambda x: graph.nodes[x][\"hdv\"], list(nx.neighbors(graph, n))\n",
    "            ):\n",
    "                if sim(mem, neighbor) < threshold:\n",
    "                    mem = bundle([mem, neighbor])\n",
    "                    finish = False\n",
    "                    print(\"here\")\n",
    "\n",
    "            for non_neighbor in map(\n",
    "                lambda x: graph.nodes[x][\"hdv\"], list(nx.non_neighbors(graph, n))\n",
    "            ):\n",
    "                if sim(mem, non_neighbor) > threshold:\n",
    "                    mem = bundle([mem, -non_neighbor])\n",
    "                    finish = False\n",
    "                    print(\"here\")\n",
    "\n",
    "            if finish:\n",
    "                return\n",
    "\n",
    "            graph.nodes[n][\"mem\"] = mem\n",
    "            memory.addVector(f\"mem{n}_{i}\", mem)"
   ]
  },
  {
   "cell_type": "code",
   "execution_count": 39,
   "metadata": {},
   "outputs": [],
   "source": [
    "def initGraph(graph, memory):\n",
    "    G = []\n",
    "    for n in graph.nodes():\n",
    "        G.append(bind([graph.nodes[n][\"hdv\"], graph.nodes[n][\"mem\"]]))\n",
    "    G = bundle(G) / 2\n",
    "    memory.addVector(\"G\", G)\n",
    "    return G"
   ]
  },
  {
   "cell_type": "code",
   "execution_count": 40,
   "metadata": {},
   "outputs": [],
   "source": [
    "def checkEdge(G, A, B, threshold):\n",
    "    return sim(B, bind([G, A])) > threshold"
   ]
  },
  {
   "cell_type": "code",
   "execution_count": 41,
   "metadata": {},
   "outputs": [],
   "source": [
    "def nodeMemoryReconstruction(G, xs, iter=15):\n",
    "    if iter == 0:\n",
    "        return list(map(lambda H: bind([G, H]), xs))\n",
    "\n",
    "    mems = nodeMemoryReconstruction(G, xs, iter - 1)\n",
    "\n",
    "    newMems = []\n",
    "    b = [bind(x) for x in zip(mems, xs)]\n",
    "    for i in range(len(xs)):\n",
    "        bmem = bundle(b[:i] + b[i + 1 :])\n",
    "        newMems.append(bind([xs[i], bundle([G, -bmem])]))\n",
    "\n",
    "    return newMems"
   ]
  },
  {
   "cell_type": "code",
   "execution_count": 42,
   "metadata": {},
   "outputs": [],
   "source": [
    "def graphMemoryReconstruction(G, xs, iter=15):\n",
    "    raise NotImplementedError\n",
    "    if iter == 0:\n",
    "        return (G, zeros(len(G)))\n",
    "\n",
    "    (Gi, Ni) = graphMemoryReconstruction(G, xs, iter - 1)\n",
    "    Gii = bundle([Gi, -Ni])\n",
    "\n",
    "    for i in range(iter):\n",
    "        print(i)\n",
    "\n",
    "    return bundle([Gi, -edges])"
   ]
  },
  {
   "cell_type": "code",
   "execution_count": 43,
   "metadata": {},
   "outputs": [],
   "source": [
    "# visited = dict()\n",
    "visited = {}\n",
    "\n",
    "\n",
    "def shortestPath(G, A, B, xs, distance, threshold, memory):\n",
    "    label, value = memory.cleanup(bind([G, A]))\n",
    "\n",
    "    if np.array_equiv(A, B):\n",
    "        return 0, label\n",
    "\n",
    "    if label in visited and visited[label][0] <= distance:\n",
    "        return visited[label][1], visited[label][2]\n",
    "\n",
    "    visited[label] = [distance, 99, \"memnill\"]\n",
    "\n",
    "    neighbours = list(filter(lambda x: checkEdge(G, A, x, threshold), xs))\n",
    "\n",
    "    if len(neighbours) == 0:\n",
    "        return 99, \"memnill\"\n",
    "\n",
    "    dis, lab = min(\n",
    "        list(\n",
    "            map(\n",
    "                lambda a: shortestPath(G, a, B, xs, distance + 1, threshold, memory),\n",
    "                neighbours,\n",
    "            )\n",
    "        ),\n",
    "        key=lambda x: x[0],\n",
    "    )\n",
    "    visited[label][1] = dis + 1\n",
    "    visited[label][2] = label + lab\n",
    "    return dis + 1, label + lab"
   ]
  },
  {
   "cell_type": "markdown",
   "metadata": {},
   "source": [
    "---\n"
   ]
  },
  {
   "cell_type": "markdown",
   "metadata": {},
   "source": [
    "# Tests\n"
   ]
  },
  {
   "cell_type": "code",
   "execution_count": 44,
   "metadata": {},
   "outputs": [],
   "source": [
    "def testCheckEdge(G, graph, threshold):\n",
    "    count = 0\n",
    "\n",
    "    for n in graph.nodes():\n",
    "        for m in graph.nodes():\n",
    "            if n == m:\n",
    "                continue\n",
    "            exist = graph.has_edge(n, m)\n",
    "            check = checkEdge(\n",
    "                G, graph.nodes[n][\"hdv\"], graph.nodes[m][\"hdv\"], threshold\n",
    "            )\n",
    "            if exist != check:\n",
    "                count += 1\n",
    "                print(n, m, exist, check)\n",
    "\n",
    "    print(count, \"%.5f\" % round(count / EDGES, 5))"
   ]
  },
  {
   "cell_type": "code",
   "execution_count": 45,
   "metadata": {},
   "outputs": [],
   "source": [
    "def testNodeMemoryReconstruction(G, graph, iter=15):\n",
    "    for i in range(iter):\n",
    "        memsi = nodeMemoryReconstruction(\n",
    "            G, list(map(lambda x: graph.nodes[x][\"hdv\"], graph.nodes())), iter=i\n",
    "        )\n",
    "        print(\n",
    "            f\"{0}_{i:02} =>\",\n",
    "            \"%.10f\" % abs(sim(graph.nodes[0][\"mem\"], memsi[0])),\n",
    "        )"
   ]
  },
  {
   "cell_type": "code",
   "execution_count": 46,
   "metadata": {},
   "outputs": [],
   "source": [
    "def testShortestPath():\n",
    "    mem = ItemMemory()\n",
    "\n",
    "    g = nx.gnm_random_graph(NODES, EDGES)\n",
    "    initVertices(g, DIMENSIONS)\n",
    "    initNodeMem(g, mem)\n",
    "    G = initGraph(g, mem)\n",
    "\n",
    "    for n in g.nodes():\n",
    "        print(g.edges(n))\n",
    "\n",
    "    hdvs = list(map(lambda x: g.nodes[x][\"hdv\"], g.nodes()))\n",
    "    origin = 0\n",
    "\n",
    "    for n in g.nodes():\n",
    "        print(\n",
    "            f\"{n:02} =>\",\n",
    "            \"T\" if mem.cleanup(bind([G, hdvs[n]]))[0] == f\"mem{n}\" else \"F\",\n",
    "            mem.cleanup(bind([G, hdvs[n]]))[0],\n",
    "        )\n",
    "\n",
    "    testCheckEdge(G, g, THRESHOLD)\n",
    "\n",
    "    for m in g.nodes():\n",
    "        if origin == m:\n",
    "            continue\n",
    "        path = nx.shortest_path(g, origin, m)\n",
    "        oracle = len(path) - 1\n",
    "        visited = {}\n",
    "        test = shortestPath(G, hdvs[origin], hdvs[m], hdvs, 0, THRESHOLD, mem)\n",
    "        testPath = list(map(int, test[1].split(\"mem\")[1:]))\n",
    "        print(\n",
    "            f\"{origin}_{m:02} =>\",\n",
    "            oracle,\n",
    "            test[0],\n",
    "            \"T  \" if oracle == test[0] else \"F X\",\n",
    "            path,\n",
    "            testPath,\n",
    "            nx.is_path(g, testPath),\n",
    "        )"
   ]
  },
  {
   "cell_type": "markdown",
   "metadata": {},
   "source": [
    "---\n"
   ]
  },
  {
   "cell_type": "markdown",
   "metadata": {},
   "source": [
    "# Main\n"
   ]
  },
  {
   "cell_type": "code",
   "execution_count": 47,
   "metadata": {},
   "outputs": [],
   "source": [
    "NODES, EDGES = 30, 150\n",
    "DIMENSIONS, THRESHOLD, ITER = 10000, 0.047, 4"
   ]
  },
  {
   "cell_type": "code",
   "execution_count": 48,
   "metadata": {},
   "outputs": [
    {
     "name": "stdout",
     "output_type": "stream",
     "text": [
      "[(0, 26), (0, 6), (0, 9), (0, 11), (0, 12), (0, 8), (0, 4), (0, 5), (0, 25), (0, 24), (0, 22)]\n",
      "[(1, 5), (1, 26), (1, 4), (1, 10), (1, 25), (1, 23), (1, 24), (1, 9), (1, 7), (1, 12), (1, 22), (1, 27)]\n",
      "[(2, 13), (2, 28), (2, 25), (2, 8), (2, 27), (2, 15), (2, 17), (2, 12), (2, 20), (2, 18), (2, 22), (2, 9)]\n",
      "[(3, 10), (3, 27), (3, 23), (3, 4), (3, 7), (3, 15), (3, 21), (3, 5), (3, 25), (3, 12)]\n",
      "[(4, 1), (4, 24), (4, 17), (4, 3), (4, 16), (4, 23), (4, 0), (4, 18)]\n",
      "[(5, 11), (5, 1), (5, 27), (5, 13), (5, 17), (5, 14), (5, 15), (5, 3), (5, 26), (5, 0), (5, 28), (5, 9)]\n",
      "[(6, 15), (6, 20), (6, 0), (6, 24), (6, 7), (6, 11), (6, 28), (6, 13), (6, 9)]\n",
      "[(7, 13), (7, 29), (7, 24), (7, 6), (7, 25), (7, 3), (7, 1), (7, 19)]\n",
      "[(8, 15), (8, 17), (8, 9), (8, 2), (8, 20), (8, 10), (8, 0)]\n",
      "[(9, 29), (9, 8), (9, 0), (9, 18), (9, 24), (9, 1), (9, 12), (9, 14), (9, 11), (9, 6), (9, 2), (9, 5)]\n",
      "[(10, 3), (10, 20), (10, 23), (10, 1), (10, 14), (10, 24), (10, 8), (10, 17), (10, 11), (10, 27), (10, 12), (10, 15), (10, 28), (10, 29)]\n",
      "[(11, 5), (11, 18), (11, 17), (11, 19), (11, 16), (11, 6), (11, 0), (11, 26), (11, 10), (11, 15), (11, 9)]\n",
      "[(12, 26), (12, 13), (12, 24), (12, 17), (12, 0), (12, 9), (12, 10), (12, 2), (12, 3), (12, 1)]\n",
      "[(13, 7), (13, 18), (13, 12), (13, 2), (13, 5), (13, 26), (13, 14), (13, 6), (13, 20)]\n",
      "[(14, 18), (14, 28), (14, 10), (14, 5), (14, 13), (14, 26), (14, 9), (14, 22), (14, 15), (14, 29)]\n",
      "[(15, 6), (15, 8), (15, 5), (15, 26), (15, 19), (15, 22), (15, 28), (15, 3), (15, 2), (15, 18), (15, 11), (15, 10), (15, 14), (15, 21)]\n",
      "[(16, 20), (16, 27), (16, 11), (16, 28), (16, 4), (16, 26), (16, 25)]\n",
      "[(17, 21), (17, 8), (17, 22), (17, 5), (17, 11), (17, 29), (17, 4), (17, 12), (17, 10), (17, 26), (17, 25), (17, 2)]\n",
      "[(18, 13), (18, 14), (18, 11), (18, 19), (18, 20), (18, 25), (18, 9), (18, 15), (18, 2), (18, 4)]\n",
      "[(19, 25), (19, 18), (19, 11), (19, 15), (19, 29), (19, 28), (19, 7)]\n",
      "[(20, 10), (20, 25), (20, 6), (20, 16), (20, 18), (20, 8), (20, 24), (20, 27), (20, 13), (20, 2), (20, 26)]\n",
      "[(21, 17), (21, 22), (21, 3), (21, 29), (21, 15)]\n",
      "[(22, 17), (22, 21), (22, 28), (22, 15), (22, 26), (22, 14), (22, 2), (22, 23), (22, 1), (22, 0)]\n",
      "[(23, 10), (23, 29), (23, 25), (23, 1), (23, 3), (23, 4), (23, 22)]\n",
      "[(24, 10), (24, 4), (24, 7), (24, 6), (24, 12), (24, 1), (24, 20), (24, 9), (24, 0)]\n",
      "[(25, 20), (25, 19), (25, 23), (25, 1), (25, 27), (25, 18), (25, 2), (25, 7), (25, 17), (25, 3), (25, 16), (25, 0)]\n",
      "[(26, 12), (26, 1), (26, 0), (26, 13), (26, 15), (26, 22), (26, 11), (26, 17), (26, 16), (26, 14), (26, 5), (26, 29), (26, 20)]\n",
      "[(27, 5), (27, 3), (27, 16), (27, 25), (27, 2), (27, 28), (27, 20), (27, 10), (27, 1)]\n",
      "[(28, 14), (28, 2), (28, 22), (28, 16), (28, 15), (28, 6), (28, 27), (28, 5), (28, 10), (28, 19)]\n",
      "[(29, 9), (29, 7), (29, 23), (29, 17), (29, 19), (29, 21), (29, 26), (29, 14), (29, 10)]\n",
      "00 => T mem0\n",
      "01 => T mem1\n",
      "02 => T mem2\n",
      "03 => T mem3\n",
      "04 => T mem4\n",
      "05 => T mem5\n",
      "06 => T mem6\n",
      "07 => T mem7\n",
      "08 => T mem8\n",
      "09 => T mem9\n",
      "10 => T mem10\n",
      "11 => T mem11\n",
      "12 => T mem12\n",
      "13 => T mem13\n",
      "14 => T mem14\n",
      "15 => T mem15\n",
      "16 => T mem16\n",
      "17 => T mem17\n",
      "18 => T mem18\n",
      "19 => T mem19\n",
      "20 => T mem20\n",
      "21 => T mem21\n",
      "22 => T mem22\n",
      "23 => T mem23\n",
      "24 => T mem24\n",
      "25 => T mem25\n",
      "26 => T mem26\n",
      "27 => T mem27\n",
      "28 => T mem28\n",
      "29 => T mem29\n",
      "0 0.00000\n"
     ]
    },
    {
     "name": "stdout",
     "output_type": "stream",
     "text": [
      "0_01 => 2 2 T   [0, 5, 1] [0, 4, 1] True\n",
      "0_02 => 2 2 T   [0, 25, 2] [0, 4, 1] True\n",
      "0_03 => 2 2 T   [0, 4, 3] [0, 4, 1] True\n",
      "0_04 => 1 2 F X [0, 4] [0, 4, 1] True\n",
      "0_05 => 1 2 F X [0, 5] [0, 4, 1] True\n",
      "0_06 => 1 2 F X [0, 6] [0, 4, 1] True\n",
      "0_07 => 2 2 T   [0, 24, 7] [0, 4, 1] True\n",
      "0_08 => 1 2 F X [0, 8] [0, 4, 1] True\n",
      "0_09 => 1 2 F X [0, 9] [0, 4, 1] True\n",
      "0_10 => 2 2 T   [0, 24, 10] [0, 4, 1] True\n",
      "0_11 => 1 2 F X [0, 11] [0, 4, 1] True\n",
      "0_12 => 1 2 F X [0, 12] [0, 4, 1] True\n",
      "0_13 => 2 2 T   [0, 12, 13] [0, 4, 1] True\n",
      "0_14 => 2 2 T   [0, 5, 14] [0, 4, 1] True\n",
      "0_15 => 2 2 T   [0, 6, 15] [0, 4, 1] True\n",
      "0_16 => 2 2 T   [0, 11, 16] [0, 4, 1] True\n",
      "0_17 => 2 2 T   [0, 8, 17] [0, 4, 1] True\n",
      "0_18 => 2 2 T   [0, 11, 18] [0, 4, 1] True\n",
      "0_19 => 2 2 T   [0, 25, 19] [0, 4, 1] True\n",
      "0_20 => 2 2 T   [0, 25, 20] [0, 4, 1] True\n",
      "0_21 => 2 2 T   [0, 22, 21] [0, 4, 1] True\n",
      "0_22 => 1 2 F X [0, 22] [0, 4, 1] True\n",
      "0_23 => 2 2 T   [0, 25, 23] [0, 4, 1] True\n",
      "0_24 => 1 2 F X [0, 24] [0, 4, 1] True\n",
      "0_25 => 1 2 F X [0, 25] [0, 4, 1] True\n",
      "0_26 => 1 2 F X [0, 26] [0, 4, 1] True\n",
      "0_27 => 2 2 T   [0, 5, 27] [0, 4, 1] True\n",
      "0_28 => 2 2 T   [0, 22, 28] [0, 4, 1] True\n",
      "0_29 => 2 2 T   [0, 9, 29] [0, 4, 1] True\n"
     ]
    }
   ],
   "source": [
    "def main():\n",
    "    graph = nx.gnm_random_graph(NODES, EDGES)\n",
    "    memory = ItemMemory()\n",
    "\n",
    "    initVertices(graph, DIMENSIONS)\n",
    "    initNodeMem(graph, memory)\n",
    "    retrain(graph, memory, THRESHOLD, ITER)\n",
    "    G = initGraph(graph, memory)\n",
    "    print(\"G =>\", G)\n",
    "    # testNodeMemoryReconstruction(G, graph, 1)\n",
    "    # testCheckEdge(G, graph, THRESHOLD)\n",
    "\n",
    "\n",
    "# main()\n",
    "testShortestPath()"
   ]
  },
  {
   "cell_type": "markdown",
   "metadata": {},
   "source": [
    "---\n"
   ]
  }
 ],
 "metadata": {
  "kernelspec": {
   "display_name": "Python 3",
   "language": "python",
   "name": "python3"
  },
  "language_info": {
   "codemirror_mode": {
    "name": "ipython",
    "version": 3
   },
   "file_extension": ".py",
   "mimetype": "text/x-python",
   "name": "python",
   "nbconvert_exporter": "python",
   "pygments_lexer": "ipython3",
   "version": "3.10.12"
  },
  "orig_nbformat": 4
 },
 "nbformat": 4,
 "nbformat_minor": 2
}
