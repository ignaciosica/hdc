{
 "cells": [
  {
   "cell_type": "code",
   "execution_count": 2,
   "metadata": {},
   "outputs": [],
   "source": [
    "import tghdc\n",
    "import hdc\n",
    "import timeit"
   ]
  },
  {
   "cell_type": "code",
   "execution_count": 8,
   "metadata": {},
   "outputs": [],
   "source": [
    "import os\n",
    "\n",
    "os.environ[\"DEBUG\"] = \"4\""
   ]
  },
  {
   "cell_type": "code",
   "execution_count": 9,
   "metadata": {},
   "outputs": [],
   "source": [
    "DIMENSIONS = 10000\n",
    "\n",
    "vs = [hdc.hdv(DIMENSIONS) for i in range(1000)]\n",
    "tgvs = [tghdc.hdv(DIMENSIONS) for i in range(1000)]"
   ]
  },
  {
   "cell_type": "code",
   "execution_count": 12,
   "metadata": {},
   "outputs": [
    {
     "name": "stdout",
     "output_type": "stream",
     "text": [
      "0.012539042999833327\n",
      "0.009523100999786038\n"
     ]
    },
    {
     "ename": "KeyboardInterrupt",
     "evalue": "",
     "output_type": "error",
     "traceback": [
      "\u001b[0;31m---------------------------------------------------------------------------\u001b[0m",
      "\u001b[0;31mKeyboardInterrupt\u001b[0m                         Traceback (most recent call last)",
      "\u001b[1;32m/home/p4ssenger/Src/hdc/papers/compare.ipynb Cell 4\u001b[0m line \u001b[0;36m5\n\u001b[1;32m      <a href='vscode-notebook-cell:/home/p4ssenger/Src/hdc/papers/compare.ipynb#W2sZmlsZQ%3D%3D?line=2'>3</a>\u001b[0m \u001b[39mprint\u001b[39m(timeit\u001b[39m.\u001b[39mtimeit(\u001b[39mlambda\u001b[39;00m: hdc\u001b[39m.\u001b[39mbundle(hdc\u001b[39m.\u001b[39mbind(vs)), number\u001b[39m=\u001b[39m\u001b[39m1\u001b[39m))\n\u001b[1;32m      <a href='vscode-notebook-cell:/home/p4ssenger/Src/hdc/papers/compare.ipynb#W2sZmlsZQ%3D%3D?line=3'>4</a>\u001b[0m \u001b[39mprint\u001b[39m(timeit\u001b[39m.\u001b[39mtimeit(\u001b[39mlambda\u001b[39;00m: hdc\u001b[39m.\u001b[39mbind(hdc\u001b[39m.\u001b[39mbundle(vs)), number\u001b[39m=\u001b[39m\u001b[39m1\u001b[39m))\n\u001b[0;32m----> <a href='vscode-notebook-cell:/home/p4ssenger/Src/hdc/papers/compare.ipynb#W2sZmlsZQ%3D%3D?line=4'>5</a>\u001b[0m \u001b[39mprint\u001b[39m(timeit\u001b[39m.\u001b[39;49mtimeit(\u001b[39mlambda\u001b[39;49;00m: tghdc\u001b[39m.\u001b[39;49mbind(tghdc\u001b[39m.\u001b[39;49mbundle(tgvs)), number\u001b[39m=\u001b[39;49m\u001b[39m1\u001b[39;49m))\n\u001b[1;32m      <a href='vscode-notebook-cell:/home/p4ssenger/Src/hdc/papers/compare.ipynb#W2sZmlsZQ%3D%3D?line=5'>6</a>\u001b[0m \u001b[39mprint\u001b[39m(timeit\u001b[39m.\u001b[39mtimeit(\u001b[39mlambda\u001b[39;00m: tghdc\u001b[39m.\u001b[39mbundle(tghdc\u001b[39m.\u001b[39mbind(tgvs)), number\u001b[39m=\u001b[39m\u001b[39m1\u001b[39m))\n",
      "File \u001b[0;32m/usr/lib/python3.10/timeit.py:234\u001b[0m, in \u001b[0;36mtimeit\u001b[0;34m(stmt, setup, timer, number, globals)\u001b[0m\n\u001b[1;32m    231\u001b[0m \u001b[39mdef\u001b[39;00m \u001b[39mtimeit\u001b[39m(stmt\u001b[39m=\u001b[39m\u001b[39m\"\u001b[39m\u001b[39mpass\u001b[39m\u001b[39m\"\u001b[39m, setup\u001b[39m=\u001b[39m\u001b[39m\"\u001b[39m\u001b[39mpass\u001b[39m\u001b[39m\"\u001b[39m, timer\u001b[39m=\u001b[39mdefault_timer,\n\u001b[1;32m    232\u001b[0m            number\u001b[39m=\u001b[39mdefault_number, \u001b[39mglobals\u001b[39m\u001b[39m=\u001b[39m\u001b[39mNone\u001b[39;00m):\n\u001b[1;32m    233\u001b[0m \u001b[39m    \u001b[39m\u001b[39m\"\"\"Convenience function to create Timer object and call timeit method.\"\"\"\u001b[39;00m\n\u001b[0;32m--> 234\u001b[0m     \u001b[39mreturn\u001b[39;00m Timer(stmt, setup, timer, \u001b[39mglobals\u001b[39;49m)\u001b[39m.\u001b[39;49mtimeit(number)\n",
      "File \u001b[0;32m/usr/lib/python3.10/timeit.py:178\u001b[0m, in \u001b[0;36mTimer.timeit\u001b[0;34m(self, number)\u001b[0m\n\u001b[1;32m    176\u001b[0m gc\u001b[39m.\u001b[39mdisable()\n\u001b[1;32m    177\u001b[0m \u001b[39mtry\u001b[39;00m:\n\u001b[0;32m--> 178\u001b[0m     timing \u001b[39m=\u001b[39m \u001b[39mself\u001b[39;49m\u001b[39m.\u001b[39;49minner(it, \u001b[39mself\u001b[39;49m\u001b[39m.\u001b[39;49mtimer)\n\u001b[1;32m    179\u001b[0m \u001b[39mfinally\u001b[39;00m:\n\u001b[1;32m    180\u001b[0m     \u001b[39mif\u001b[39;00m gcold:\n",
      "File \u001b[0;32m<timeit-src>:6\u001b[0m, in \u001b[0;36minner\u001b[0;34m(_it, _timer, _stmt)\u001b[0m\n",
      "\u001b[1;32m/home/p4ssenger/Src/hdc/papers/compare.ipynb Cell 4\u001b[0m line \u001b[0;36m5\n\u001b[1;32m      <a href='vscode-notebook-cell:/home/p4ssenger/Src/hdc/papers/compare.ipynb#W2sZmlsZQ%3D%3D?line=2'>3</a>\u001b[0m \u001b[39mprint\u001b[39m(timeit\u001b[39m.\u001b[39mtimeit(\u001b[39mlambda\u001b[39;00m: hdc\u001b[39m.\u001b[39mbundle(hdc\u001b[39m.\u001b[39mbind(vs)), number\u001b[39m=\u001b[39m\u001b[39m1\u001b[39m))\n\u001b[1;32m      <a href='vscode-notebook-cell:/home/p4ssenger/Src/hdc/papers/compare.ipynb#W2sZmlsZQ%3D%3D?line=3'>4</a>\u001b[0m \u001b[39mprint\u001b[39m(timeit\u001b[39m.\u001b[39mtimeit(\u001b[39mlambda\u001b[39;00m: hdc\u001b[39m.\u001b[39mbind(hdc\u001b[39m.\u001b[39mbundle(vs)), number\u001b[39m=\u001b[39m\u001b[39m1\u001b[39m))\n\u001b[0;32m----> <a href='vscode-notebook-cell:/home/p4ssenger/Src/hdc/papers/compare.ipynb#W2sZmlsZQ%3D%3D?line=4'>5</a>\u001b[0m \u001b[39mprint\u001b[39m(timeit\u001b[39m.\u001b[39mtimeit(\u001b[39mlambda\u001b[39;00m: tghdc\u001b[39m.\u001b[39;49mbind(tghdc\u001b[39m.\u001b[39;49mbundle(tgvs)), number\u001b[39m=\u001b[39m\u001b[39m1\u001b[39m))\n\u001b[1;32m      <a href='vscode-notebook-cell:/home/p4ssenger/Src/hdc/papers/compare.ipynb#W2sZmlsZQ%3D%3D?line=5'>6</a>\u001b[0m \u001b[39mprint\u001b[39m(timeit\u001b[39m.\u001b[39mtimeit(\u001b[39mlambda\u001b[39;00m: tghdc\u001b[39m.\u001b[39mbundle(tghdc\u001b[39m.\u001b[39mbind(tgvs)), number\u001b[39m=\u001b[39m\u001b[39m1\u001b[39m))\n",
      "File \u001b[0;32m~/Src/hdc/papers/tghdc.py:18\u001b[0m, in \u001b[0;36mbind\u001b[0;34m(vs)\u001b[0m\n\u001b[1;32m     17\u001b[0m \u001b[39mdef\u001b[39;00m \u001b[39mbind\u001b[39m(vs):\n\u001b[0;32m---> 18\u001b[0m     \u001b[39mreturn\u001b[39;00m prod(vs)\n",
      "File \u001b[0;32m~/Src/tinygrad/tinygrad/helpers.py:10\u001b[0m, in \u001b[0;36mprod\u001b[0;34m(x)\u001b[0m\n\u001b[0;32m---> 10\u001b[0m \u001b[39mdef\u001b[39;00m \u001b[39mprod\u001b[39m(x:Iterable[T]) \u001b[39m-\u001b[39m\u001b[39m>\u001b[39m Union[T,\u001b[39mint\u001b[39m]: \u001b[39mreturn\u001b[39;00m functools\u001b[39m.\u001b[39;49mreduce(operator\u001b[39m.\u001b[39;49m\u001b[39m__mul__\u001b[39;49m, x, \u001b[39m1\u001b[39;49m)\n",
      "File \u001b[0;32m~/Src/tinygrad/tinygrad/tensor.py:681\u001b[0m, in \u001b[0;36mTensor.__mul__\u001b[0;34m(self, x)\u001b[0m\n\u001b[0;32m--> 681\u001b[0m \u001b[39mdef\u001b[39;00m \u001b[39m__mul__\u001b[39m(\u001b[39mself\u001b[39m, x) \u001b[39m-\u001b[39m\u001b[39m>\u001b[39m Tensor: \u001b[39mreturn\u001b[39;00m \u001b[39mself\u001b[39;49m\u001b[39m.\u001b[39;49mmul(x)\n",
      "File \u001b[0;32m~/Src/tinygrad/tinygrad/tensor.py:644\u001b[0m, in \u001b[0;36mTensor.mul\u001b[0;34m(self, x, reverse)\u001b[0m\n\u001b[1;32m    642\u001b[0m \u001b[39mif\u001b[39;00m x\u001b[39m.\u001b[39m\u001b[39m__class__\u001b[39m \u001b[39mis\u001b[39;00m \u001b[39mnot\u001b[39;00m Tensor \u001b[39mand\u001b[39;00m x \u001b[39m==\u001b[39m \u001b[39m0.0\u001b[39m: \u001b[39mreturn\u001b[39;00m mlops\u001b[39m.\u001b[39mZero\u001b[39m.\u001b[39mapply(\u001b[39mself\u001b[39m)\n\u001b[1;32m    643\u001b[0m \u001b[39mif\u001b[39;00m x\u001b[39m.\u001b[39m\u001b[39m__class__\u001b[39m \u001b[39mis\u001b[39;00m \u001b[39mnot\u001b[39;00m Tensor \u001b[39mand\u001b[39;00m x \u001b[39m==\u001b[39m \u001b[39m-\u001b[39m\u001b[39m1.0\u001b[39m: \u001b[39mreturn\u001b[39;00m \u001b[39m-\u001b[39m\u001b[39mself\u001b[39m\n\u001b[0;32m--> 644\u001b[0m \u001b[39mreturn\u001b[39;00m mlops\u001b[39m.\u001b[39;49mMul\u001b[39m.\u001b[39;49mapply(\u001b[39m*\u001b[39;49m\u001b[39mself\u001b[39;49m\u001b[39m.\u001b[39;49m_broadcasted(x, reverse)) \u001b[39mif\u001b[39;00m x\u001b[39m.\u001b[39m\u001b[39m__class__\u001b[39m \u001b[39mis\u001b[39;00m Tensor \u001b[39mor\u001b[39;00m x \u001b[39m!=\u001b[39m \u001b[39m1.0\u001b[39m \u001b[39melse\u001b[39;00m \u001b[39mself\u001b[39m\n",
      "File \u001b[0;32m~/Src/tinygrad/tinygrad/tensor.py:30\u001b[0m, in \u001b[0;36mFunction.apply\u001b[0;34m(fxn, *x, **kwargs)\u001b[0m\n\u001b[1;32m     27\u001b[0m \u001b[39m@classmethod\u001b[39m\n\u001b[1;32m     28\u001b[0m \u001b[39mdef\u001b[39;00m \u001b[39mapply\u001b[39m(fxn:Type[Function], \u001b[39m*\u001b[39mx:Tensor, \u001b[39m*\u001b[39m\u001b[39m*\u001b[39mkwargs) \u001b[39m-\u001b[39m\u001b[39m>\u001b[39m Tensor:\n\u001b[1;32m     29\u001b[0m   ctx \u001b[39m=\u001b[39m fxn(x[\u001b[39m0\u001b[39m]\u001b[39m.\u001b[39mdevice, \u001b[39m*\u001b[39mx)\n\u001b[0;32m---> 30\u001b[0m   ret \u001b[39m=\u001b[39m Tensor(ctx\u001b[39m.\u001b[39;49mforward(\u001b[39m*\u001b[39;49m[t\u001b[39m.\u001b[39;49mlazydata \u001b[39mfor\u001b[39;49;00m t \u001b[39min\u001b[39;49;00m x], \u001b[39m*\u001b[39;49m\u001b[39m*\u001b[39;49mkwargs), device\u001b[39m=\u001b[39mctx\u001b[39m.\u001b[39mdevice, requires_grad\u001b[39m=\u001b[39mctx\u001b[39m.\u001b[39mrequires_grad)\n\u001b[1;32m     31\u001b[0m   \u001b[39mif\u001b[39;00m ctx\u001b[39m.\u001b[39mrequires_grad \u001b[39mand\u001b[39;00m \u001b[39mnot\u001b[39;00m Tensor\u001b[39m.\u001b[39mno_grad: ret\u001b[39m.\u001b[39m_ctx \u001b[39m=\u001b[39m ctx    \u001b[39m# used by autograd engine\u001b[39;00m\n\u001b[1;32m     32\u001b[0m   \u001b[39mreturn\u001b[39;00m ret\n",
      "File \u001b[0;32m~/Src/tinygrad/tinygrad/mlops.py:112\u001b[0m, in \u001b[0;36mMul.forward\u001b[0;34m(self, x, y)\u001b[0m\n\u001b[1;32m    110\u001b[0m \u001b[39mdef\u001b[39;00m \u001b[39mforward\u001b[39m(\u001b[39mself\u001b[39m, x:LazyBuffer, y:LazyBuffer) \u001b[39m-\u001b[39m\u001b[39m>\u001b[39m LazyBuffer:\n\u001b[1;32m    111\u001b[0m   \u001b[39mself\u001b[39m\u001b[39m.\u001b[39mx, \u001b[39mself\u001b[39m\u001b[39m.\u001b[39my \u001b[39m=\u001b[39m x, y\n\u001b[0;32m--> 112\u001b[0m   \u001b[39mreturn\u001b[39;00m x\u001b[39m.\u001b[39;49me(BinaryOps\u001b[39m.\u001b[39;49mMUL, y)\n",
      "File \u001b[0;32m~/Src/tinygrad/tinygrad/lazy.py:234\u001b[0m, in \u001b[0;36mLazyBuffer.e\u001b[0;34m(self, op, arg, *srcs)\u001b[0m\n\u001b[1;32m    230\u001b[0m \u001b[39mif\u001b[39;00m MERGE_ELEMENTWISE_OPS:\n\u001b[1;32m    231\u001b[0m   \u001b[39m# remove the buffers from any (childless) BinaryOps that feed into this\u001b[39;00m\n\u001b[1;32m    232\u001b[0m   srcs \u001b[39m=\u001b[39m \u001b[39mtuple\u001b[39m([x\u001b[39m.\u001b[39mop \u001b[39mif\u001b[39;00m x\u001b[39m.\u001b[39moptype \u001b[39m==\u001b[39m BinaryOps \u001b[39mand\u001b[39;00m \u001b[39mnot\u001b[39;00m x\u001b[39m.\u001b[39mchildren \u001b[39mand\u001b[39;00m \u001b[39mnot\u001b[39;00m x\u001b[39m.\u001b[39mrealized \u001b[39melse\u001b[39;00m x \u001b[39mfor\u001b[39;00m x \u001b[39min\u001b[39;00m srcs])  \u001b[39m# type: ignore\u001b[39;00m\n\u001b[0;32m--> 234\u001b[0m \u001b[39mreturn\u001b[39;00m create_lazybuffer(out_device, ShapeTracker\u001b[39m.\u001b[39;49mfrom_shape(out_shape), BinaryOps, LazyOp(op, srcs, arg), out_dtype)\n",
      "File \u001b[0;32m~/Src/tinygrad/tinygrad/lazy.py:92\u001b[0m, in \u001b[0;36mcreate_lazybuffer\u001b[0;34m(device, st, optype, op, dtype, base)\u001b[0m\n\u001b[1;32m     90\u001b[0m \u001b[39m# wop is the deduping key. i feel this used to compare more deeply\u001b[39;00m\n\u001b[1;32m     91\u001b[0m wop \u001b[39m=\u001b[39m (device, dtype, optype, ref(op), ref(base) \u001b[39mif\u001b[39;00m base \u001b[39melse\u001b[39;00m \u001b[39mNone\u001b[39;00m)\n\u001b[0;32m---> 92\u001b[0m \u001b[39mif\u001b[39;00m wop \u001b[39min\u001b[39;49;00m lazycache:\n\u001b[1;32m     93\u001b[0m   \u001b[39mfor\u001b[39;00m x \u001b[39min\u001b[39;00m op\u001b[39m.\u001b[39mbuffers: x\u001b[39m.\u001b[39mchildren\u001b[39m.\u001b[39madd(lazycache[wop])\n\u001b[1;32m     94\u001b[0m   \u001b[39mreturn\u001b[39;00m lazycache[wop]\n",
      "File \u001b[0;32m/usr/lib/python3.10/weakref.py:157\u001b[0m, in \u001b[0;36mWeakValueDictionary.__contains__\u001b[0;34m(self, key)\u001b[0m\n\u001b[1;32m    155\u001b[0m     \u001b[39mself\u001b[39m\u001b[39m.\u001b[39m_commit_removals()\n\u001b[1;32m    156\u001b[0m \u001b[39mtry\u001b[39;00m:\n\u001b[0;32m--> 157\u001b[0m     o \u001b[39m=\u001b[39m \u001b[39mself\u001b[39;49m\u001b[39m.\u001b[39;49mdata[key]()\n\u001b[1;32m    158\u001b[0m \u001b[39mexcept\u001b[39;00m \u001b[39mKeyError\u001b[39;00m:\n\u001b[1;32m    159\u001b[0m     \u001b[39mreturn\u001b[39;00m \u001b[39mFalse\u001b[39;00m\n",
      "File \u001b[0;32m~/Src/tinygrad/tinygrad/ops.py:64\u001b[0m, in \u001b[0;36mLazyOp.__hash__\u001b[0;34m(self)\u001b[0m\n\u001b[0;32m---> 64\u001b[0m \u001b[39mdef\u001b[39;00m \u001b[39m__hash__\u001b[39m(\u001b[39mself\u001b[39m) \u001b[39m-\u001b[39m\u001b[39m>\u001b[39m \u001b[39mint\u001b[39m: \u001b[39mreturn\u001b[39;00m \u001b[39mhash\u001b[39;49m((\u001b[39mself\u001b[39;49m\u001b[39m.\u001b[39;49mop, \u001b[39mself\u001b[39;49m\u001b[39m.\u001b[39;49msrc, \u001b[39mself\u001b[39;49m\u001b[39m.\u001b[39;49marg))\n",
      "File \u001b[0;32m~/Src/tinygrad/tinygrad/ops.py:64\u001b[0m, in \u001b[0;36mLazyOp.__hash__\u001b[0;34m(self)\u001b[0m\n\u001b[0;32m---> 64\u001b[0m \u001b[39mdef\u001b[39;00m \u001b[39m__hash__\u001b[39m(\u001b[39mself\u001b[39m) \u001b[39m-\u001b[39m\u001b[39m>\u001b[39m \u001b[39mint\u001b[39m: \u001b[39mreturn\u001b[39;00m \u001b[39mhash\u001b[39;49m((\u001b[39mself\u001b[39;49m\u001b[39m.\u001b[39;49mop, \u001b[39mself\u001b[39;49m\u001b[39m.\u001b[39;49msrc, \u001b[39mself\u001b[39;49m\u001b[39m.\u001b[39;49marg))\n",
      "    \u001b[0;31m[... skipping similar frames: LazyOp.__hash__ at line 64 (318 times)]\u001b[0m\n",
      "File \u001b[0;32m~/Src/tinygrad/tinygrad/ops.py:64\u001b[0m, in \u001b[0;36mLazyOp.__hash__\u001b[0;34m(self)\u001b[0m\n\u001b[0;32m---> 64\u001b[0m \u001b[39mdef\u001b[39;00m \u001b[39m__hash__\u001b[39m(\u001b[39mself\u001b[39m) \u001b[39m-\u001b[39m\u001b[39m>\u001b[39m \u001b[39mint\u001b[39m: \u001b[39mreturn\u001b[39;00m \u001b[39mhash\u001b[39;49m((\u001b[39mself\u001b[39;49m\u001b[39m.\u001b[39;49mop, \u001b[39mself\u001b[39;49m\u001b[39m.\u001b[39;49msrc, \u001b[39mself\u001b[39;49m\u001b[39m.\u001b[39;49marg))\n",
      "\u001b[0;31mKeyboardInterrupt\u001b[0m: "
     ]
    }
   ],
   "source": [
    "# timeit.timeit(\"tghdc.bundle(tghdc.bind(vs))\", number=1)\n",
    "\n",
    "print(timeit.timeit(lambda: hdc.bundle(hdc.bind(vs)), number=1))\n",
    "print(timeit.timeit(lambda: hdc.bind(hdc.bundle(vs)), number=1))\n",
    "print(timeit.timeit(lambda: tghdc.bind(tghdc.bundle(tgvs)), number=1))\n",
    "print(timeit.timeit(lambda: tghdc.bundle(tghdc.bind(tgvs)), number=1))"
   ]
  }
 ],
 "metadata": {
  "kernelspec": {
   "display_name": "Python 3",
   "language": "python",
   "name": "python3"
  },
  "language_info": {
   "codemirror_mode": {
    "name": "ipython",
    "version": 3
   },
   "file_extension": ".py",
   "mimetype": "text/x-python",
   "name": "python",
   "nbconvert_exporter": "python",
   "pygments_lexer": "ipython3",
   "version": "3.10.12"
  }
 },
 "nbformat": 4,
 "nbformat_minor": 2
}
