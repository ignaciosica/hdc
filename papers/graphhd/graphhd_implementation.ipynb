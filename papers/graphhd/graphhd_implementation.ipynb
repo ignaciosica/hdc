{
 "cells": [
  {
   "cell_type": "code",
   "execution_count": 3,
   "metadata": {},
   "outputs": [
    {
     "name": "stdout",
     "output_type": "stream",
     "text": [
      "Using cpu device\n",
      "encoding edge features: 4\n"
     ]
    },
    {
     "name": "stderr",
     "output_type": "stream",
     "text": [
      "Testing 30 times: 100%|██████████| 30/30 [00:03<00:00,  9.83it/s]"
     ]
    },
    {
     "name": "stdout",
     "output_type": "stream",
     "text": [
      "Test: accuracy of 82.234% with std 2.564%\n",
      "Time: 0.101s with std 0.004s\n"
     ]
    },
    {
     "name": "stderr",
     "output_type": "stream",
     "text": [
      "\n"
     ]
    }
   ],
   "source": [
    "import torch\n",
    "import torch.nn as nn\n",
    "import torch.nn.functional as F\n",
    "from tqdm import tqdm\n",
    "import time\n",
    "\n",
    "\n",
    "# Note: this example requires the torch_geometric library: https://pytorch-geometric.readthedocs.io\n",
    "from torch_geometric.datasets import TUDataset\n",
    "\n",
    "# Note: this example requires the torchmetrics library: https://torchmetrics.readthedocs.io\n",
    "import torchmetrics\n",
    "\n",
    "import torchhd\n",
    "from torchhd import embeddings\n",
    "from torchhd.models import Centroid\n",
    "\n",
    "import numpy as np\n",
    "\n",
    "device = torch.device(\"cuda\" if torch.cuda.is_available() else \"cpu\")\n",
    "print(\"Using {} device\".format(device))\n",
    "\n",
    "\n",
    "def sparse_stochastic_graph(G):\n",
    "    \"\"\"\n",
    "    Returns a sparse adjacency matrix of the graph G.\n",
    "    The values indicate the probability of leaving a vertex.\n",
    "    This means that each column sums up to one.\n",
    "    \"\"\"\n",
    "    _, columns = G.edge_index\n",
    "    # Calculate the probability for each column\n",
    "    values_per_column = 1.0 / torch.bincount(columns, minlength=G.num_nodes)\n",
    "    values_per_node = values_per_column[columns]\n",
    "    size = (G.num_nodes, G.num_nodes)\n",
    "    return torch.sparse_coo_tensor(G.edge_index, values_per_node, size)\n",
    "\n",
    "\n",
    "def pagerank(G, alpha=0.45, max_iter=100, tol=1e-06):\n",
    "    N = G.num_nodes\n",
    "    M = sparse_stochastic_graph(G) * alpha\n",
    "    v = torch.zeros(N, device=G.edge_index.device) + 1 / N\n",
    "    p = torch.zeros(N, device=G.edge_index.device) + 1 / N\n",
    "    for _ in range(max_iter):\n",
    "        v_prev = v\n",
    "        v = M @ v + p * (1 - alpha)\n",
    "\n",
    "        err = (v - v_prev).abs().sum()\n",
    "        if tol != None and err < N * tol:\n",
    "            return v\n",
    "    return v\n",
    "\n",
    "\n",
    "def degree_centrality(G):\n",
    "    \"\"\"\n",
    "    Compute the degree centrality for nodes.\n",
    "    \"\"\"\n",
    "    _, columns = G.edge_index\n",
    "    degree = torch.bincount(columns, minlength=G.num_nodes)\n",
    "    return degree / G.num_nodes\n",
    "\n",
    "\n",
    "def to_undirected(edge_index):\n",
    "    \"\"\"\n",
    "    Returns the undirected edge_index\n",
    "    [[0, 1], [1, 0]] will result in [[0], [1]]\n",
    "    \"\"\"\n",
    "    edge_index = edge_index.sort(dim=0)[0]\n",
    "    edge_index = torch.unique(edge_index, dim=1)\n",
    "    return edge_index\n",
    "\n",
    "\n",
    "def to_undirected_custom(edge_index):\n",
    "    \"\"\"\n",
    "    Returns the undirected edge_index\n",
    "    [[0, 1], [1, 0]] will result in [[0], [1]]\n",
    "    \"\"\"\n",
    "    edge_index = edge_index.sort(dim=0)[0]\n",
    "    edge_index = torch.unique(edge_index, dim=1, return_inverse=True)\n",
    "    return edge_index\n",
    "\n",
    "\n",
    "def min_max_graph_size(graph_dataset):\n",
    "    if len(graph_dataset) == 0:\n",
    "        return None, None\n",
    "\n",
    "    max_num_nodes = float(\"-inf\")\n",
    "    min_num_nodes = float(\"inf\")\n",
    "\n",
    "    for G in graph_dataset:\n",
    "        num_nodes = G.num_nodes\n",
    "        max_num_nodes = max(max_num_nodes, num_nodes)\n",
    "        min_num_nodes = min(min_num_nodes, num_nodes)\n",
    "\n",
    "    return min_num_nodes, max_num_nodes\n",
    "\n",
    "\n",
    "class Default(nn.Module):\n",
    "    def __init__(self, out_features, size):\n",
    "        super(Default, self).__init__()\n",
    "        self.out_features = out_features\n",
    "        self.node_ids = embeddings.Random(size, out_features)\n",
    "\n",
    "    def forward(self, x):\n",
    "        pr = degree_centrality(x)\n",
    "        _, pr_argsort = pr.sort()\n",
    "\n",
    "        node_id_hvs = torch.zeros((x.num_nodes, self.out_features), device=device)\n",
    "        node_id_hvs[pr_argsort] = self.node_ids.weight[: x.num_nodes]\n",
    "\n",
    "        row, col = to_undirected(x.edge_index)\n",
    "\n",
    "        hvs = torchhd.bind(node_id_hvs[row], node_id_hvs[col])\n",
    "        return torchhd.multiset(hvs)\n",
    "\n",
    "\n",
    "class Encoder(nn.Module):\n",
    "    def __init__(self, out_features, size, node_features, edge_features):\n",
    "        super(Encoder, self).__init__()\n",
    "        self.out_features = out_features\n",
    "        self.node_ids = embeddings.Random(size, out_features)\n",
    "        self.node_features = embeddings.Random(node_features, out_features)\n",
    "        self.edge_features = embeddings.Random(edge_features, out_features)\n",
    "        if edge_features >= 1:\n",
    "            print(\"encoding edge features:\", edge_features)\n",
    "\n",
    "    def forward(self, x):\n",
    "        dc = degree_centrality(x)\n",
    "        dc_sort, dc_argsort = dc.sort()\n",
    "\n",
    "        node_id_hvs = torch.zeros((x.num_nodes, self.out_features), device=device)\n",
    "        node_id_hvs[dc_argsort] = self.node_ids.weight[: x.num_nodes]\n",
    "\n",
    "        # mask = x.x.unsqueeze(2).to(device)\n",
    "        # mask = torch.sign(mask)\n",
    "        # features = mask * self.node_features.weight\n",
    "        # features = features.sum(dim=1)\n",
    "\n",
    "        # node_id_hvs = torchhd.bind(node_id_hvs, features)\n",
    "\n",
    "        edge_index = to_undirected_custom(x.edge_index)\n",
    "\n",
    "        row, col = edge_index[0]\n",
    "        edge_hvs = torchhd.bind(node_id_hvs[row], node_id_hvs[col])\n",
    "\n",
    "        return torchhd.multiset(edge_hvs)\n",
    "\n",
    "        if self.edge_features.weight.shape[0] == 0:\n",
    "            return torchhd.multiset(edge_hvs)\n",
    "\n",
    "        edge_mask = torch.zeros(edge_index[0].shape[1], 4)\n",
    "        edge_mask[edge_index[1]] = x.edge_attr\n",
    "        edge_mask = edge_mask.unsqueeze(2).to(device)\n",
    "\n",
    "        edge_features = edge_mask * self.edge_features.weight\n",
    "        edge_features = edge_features.sum(dim=1)\n",
    "\n",
    "        edge_hvs = torchhd.bind(edge_hvs, edge_features)\n",
    "\n",
    "        return torchhd.multiset(edge_hvs)\n",
    "\n",
    "\n",
    "DIMENSIONS = 10000  # hypervectors dimension\n",
    "dataset = \"MUTAG\"\n",
    "\n",
    "graphs = TUDataset(\"../data\", dataset)\n",
    "train_size = int(0.5 * len(graphs))\n",
    "test_size = len(graphs) - train_size\n",
    "\n",
    "default_acc = []\n",
    "test_acc = []\n",
    "comparison_acc = []\n",
    "\n",
    "min_graph_size, max_graph_size = min_max_graph_size(graphs)\n",
    "default_encoder = Default(DIMENSIONS, max_graph_size)\n",
    "default_encoder = default_encoder.to(device)\n",
    "\n",
    "test_encoder = Encoder(DIMENSIONS, max_graph_size, graphs.num_node_features, graphs.num_edge_features)\n",
    "test_encoder = test_encoder.to(device)\n",
    "\n",
    "iters = 30\n",
    "time_acc = []\n",
    "\n",
    "for i in tqdm(range(iters), desc=f\"Testing {iters} times\"):\n",
    "    start = time.time()\n",
    "\n",
    "    train_ld, test_ld = torch.utils.data.random_split(graphs, [train_size, test_size])\n",
    "\n",
    "    model = Centroid(DIMENSIONS, graphs.num_classes)\n",
    "    model = model.to(device)\n",
    "\n",
    "    with torch.no_grad():\n",
    "        for samples in tqdm(train_ld, desc=\"Training\", disable=True):\n",
    "            samples.edge_index = samples.edge_index.to(device)\n",
    "            samples.y = samples.y.to(device)\n",
    "\n",
    "            test_samples_hv = test_encoder(samples).unsqueeze(0)\n",
    "            model.add(test_samples_hv, samples.y)\n",
    "\n",
    "    accuracy = torchmetrics.F1Score(\"multiclass\", num_classes=graphs.num_classes)\n",
    "\n",
    "    with torch.no_grad():\n",
    "        model.normalize()\n",
    "\n",
    "        for index, samples in enumerate(tqdm(test_ld, desc=\"Testing_\", disable=True)):\n",
    "            samples.edge_index = samples.edge_index.to(device)\n",
    "\n",
    "            test_samples_hv = test_encoder(samples).unsqueeze(0)\n",
    "            test_outputs = model(test_samples_hv, dot=True)\n",
    "\n",
    "            accuracy.update(test_outputs.cpu(), samples.y)\n",
    "\n",
    "    test_acc.append(accuracy.compute().item() * 100)\n",
    "    end = time.time()\n",
    "    time_acc.append(end - start)\n",
    "\n",
    "print(f\"Test: accuracy of {(np.mean(test_acc)):.3f}% with std {(np.std(test_acc)):.3f}%\")\n",
    "print(f\"Time: {(np.mean(time_acc)):.3f}s with std {(np.std(time_acc)):.3f}s\")"
   ]
  },
  {
   "cell_type": "code",
   "execution_count": 9,
   "metadata": {},
   "outputs": [],
   "source": [
    "def run(dataset, dimensions, train_size, use_default_encoder=True, iters=30):\n",
    "    graphs = TUDataset(\"../data\", dataset)\n",
    "    train_percentage = train_size\n",
    "    train_size = int(train_size * len(graphs))\n",
    "    test_size = len(graphs) - train_size\n",
    "\n",
    "    _, max_graph_size = min_max_graph_size(graphs)\n",
    "    if use_default_encoder:\n",
    "        encoder = Default(dimensions, max_graph_size)\n",
    "    else:\n",
    "        encoder = Encoder(dimensions, max_graph_size, graphs.num_node_features, graphs.num_edge_features)\n",
    "\n",
    "    encoder = encoder.to(device)\n",
    "\n",
    "    acc = []\n",
    "\n",
    "    for i in tqdm(\n",
    "        range(iters),\n",
    "        desc=f\"Testing {dataset} with train_size {train_percentage}% for {iters} iterations with encoder {'default' if use_default_encoder else 'custom'}\",\n",
    "    ):\n",
    "        train_ld, test_ld = torch.utils.data.random_split(graphs, [train_size, test_size])\n",
    "        model = Centroid(DIMENSIONS, graphs.num_classes)\n",
    "        model = model.to(device)\n",
    "\n",
    "        with torch.no_grad():\n",
    "            for samples in tqdm(train_ld, desc=\"Training\", disable=True):\n",
    "                samples.edge_index = samples.edge_index.to(device)\n",
    "                samples.y = samples.y.to(device)\n",
    "\n",
    "                test_samples_hv = encoder(samples).unsqueeze(0)\n",
    "                model.add(test_samples_hv, samples.y)\n",
    "\n",
    "        accuracy = torchmetrics.F1Score(\"multiclass\", num_classes=graphs.num_classes)\n",
    "\n",
    "        with torch.no_grad():\n",
    "            model.normalize()\n",
    "\n",
    "            for index, samples in enumerate(tqdm(test_ld, desc=\"Testing_\", disable=True)):\n",
    "                samples.edge_index = samples.edge_index.to(device)\n",
    "\n",
    "                test_samples_hv = encoder(samples).unsqueeze(0)\n",
    "                test_outputs = model(test_samples_hv, dot=True)\n",
    "\n",
    "                accuracy.update(test_outputs.cpu(), samples.y)\n",
    "\n",
    "        acc.append(accuracy.compute().item() * 100)\n",
    "\n",
    "    print(f\"Accuracy of {(np.mean(acc)):.3f}% with std {(np.std(acc)):.3f}%\")\n",
    "    return acc"
   ]
  },
  {
   "cell_type": "code",
   "execution_count": null,
   "metadata": {},
   "outputs": [],
   "source": [
    "run(\"MUTAG\", 10000, 0.3, True)"
   ]
  },
  {
   "cell_type": "code",
   "execution_count": 16,
   "metadata": {},
   "outputs": [
    {
     "name": "stderr",
     "output_type": "stream",
     "text": [
      "Testing MUTAG with train_size 0.05% for 15 iterations with encoder default: 100%|██████████| 15/15 [00:01<00:00,  8.39it/s]\n"
     ]
    },
    {
     "name": "stdout",
     "output_type": "stream",
     "text": [
      "Accuracy of 70.689% with std 7.142%\n"
     ]
    },
    {
     "name": "stderr",
     "output_type": "stream",
     "text": [
      "Testing MUTAG with train_size 0.1% for 15 iterations with encoder default: 100%|██████████| 15/15 [00:01<00:00,  8.33it/s]\n"
     ]
    },
    {
     "name": "stdout",
     "output_type": "stream",
     "text": [
      "Accuracy of 77.451% with std 4.447%\n"
     ]
    },
    {
     "name": "stderr",
     "output_type": "stream",
     "text": [
      "Testing MUTAG with train_size 0.2% for 15 iterations with encoder default: 100%|██████████| 15/15 [00:01<00:00,  8.67it/s]\n"
     ]
    },
    {
     "name": "stdout",
     "output_type": "stream",
     "text": [
      "Accuracy of 80.442% with std 3.000%\n"
     ]
    },
    {
     "name": "stderr",
     "output_type": "stream",
     "text": [
      "Testing MUTAG with train_size 0.3% for 15 iterations with encoder default: 100%|██████████| 15/15 [00:01<00:00,  8.86it/s]\n"
     ]
    },
    {
     "name": "stdout",
     "output_type": "stream",
     "text": [
      "Accuracy of 82.576% with std 1.995%\n"
     ]
    },
    {
     "name": "stderr",
     "output_type": "stream",
     "text": [
      "Testing MUTAG with train_size 0.4% for 15 iterations with encoder default: 100%|██████████| 15/15 [00:01<00:00,  8.97it/s]\n"
     ]
    },
    {
     "name": "stdout",
     "output_type": "stream",
     "text": [
      "Accuracy of 83.658% with std 3.780%\n"
     ]
    },
    {
     "name": "stderr",
     "output_type": "stream",
     "text": [
      "Testing MUTAG with train_size 0.5% for 15 iterations with encoder default: 100%|██████████| 15/15 [00:01<00:00,  9.07it/s]\n"
     ]
    },
    {
     "name": "stdout",
     "output_type": "stream",
     "text": [
      "Accuracy of 83.688% with std 2.710%\n"
     ]
    },
    {
     "name": "stderr",
     "output_type": "stream",
     "text": [
      "Testing MUTAG with train_size 0.6% for 15 iterations with encoder default: 100%|██████████| 15/15 [00:01<00:00,  9.24it/s]\n"
     ]
    },
    {
     "name": "stdout",
     "output_type": "stream",
     "text": [
      "Accuracy of 83.947% with std 3.665%\n"
     ]
    },
    {
     "name": "stderr",
     "output_type": "stream",
     "text": [
      "Testing MUTAG with train_size 0.7% for 15 iterations with encoder default: 100%|██████████| 15/15 [00:01<00:00,  9.28it/s]\n"
     ]
    },
    {
     "name": "stdout",
     "output_type": "stream",
     "text": [
      "Accuracy of 83.626% with std 3.182%\n"
     ]
    },
    {
     "name": "stderr",
     "output_type": "stream",
     "text": [
      "Testing MUTAG with train_size 0.8% for 15 iterations with encoder default: 100%|██████████| 15/15 [00:01<00:00,  9.48it/s]\n"
     ]
    },
    {
     "name": "stdout",
     "output_type": "stream",
     "text": [
      "Accuracy of 82.281% with std 4.452%\n"
     ]
    },
    {
     "name": "stderr",
     "output_type": "stream",
     "text": [
      "Testing MUTAG with train_size 0.9% for 15 iterations with encoder default: 100%|██████████| 15/15 [00:01<00:00,  9.78it/s]\n"
     ]
    },
    {
     "name": "stdout",
     "output_type": "stream",
     "text": [
      "Accuracy of 83.158% with std 8.638%\n"
     ]
    },
    {
     "name": "stderr",
     "output_type": "stream",
     "text": [
      "Testing MUTAG with train_size 0.05% for 15 iterations with encoder default: 100%|██████████| 15/15 [00:01<00:00,  8.62it/s]\n"
     ]
    },
    {
     "name": "stdout",
     "output_type": "stream",
     "text": [
      "Accuracy of 74.153% with std 5.187%\n"
     ]
    },
    {
     "name": "stderr",
     "output_type": "stream",
     "text": [
      "Testing MUTAG with train_size 0.1% for 15 iterations with encoder default: 100%|██████████| 15/15 [00:01<00:00,  8.76it/s]\n"
     ]
    },
    {
     "name": "stdout",
     "output_type": "stream",
     "text": [
      "Accuracy of 75.216% with std 5.921%\n"
     ]
    },
    {
     "name": "stderr",
     "output_type": "stream",
     "text": [
      "Testing MUTAG with train_size 0.2% for 15 iterations with encoder default: 100%|██████████| 15/15 [00:01<00:00,  8.86it/s]\n"
     ]
    },
    {
     "name": "stdout",
     "output_type": "stream",
     "text": [
      "Accuracy of 80.265% with std 2.421%\n"
     ]
    },
    {
     "name": "stderr",
     "output_type": "stream",
     "text": [
      "Testing MUTAG with train_size 0.3% for 15 iterations with encoder default: 100%|██████████| 15/15 [00:01<00:00,  8.90it/s]\n"
     ]
    },
    {
     "name": "stdout",
     "output_type": "stream",
     "text": [
      "Accuracy of 82.374% with std 1.527%\n"
     ]
    },
    {
     "name": "stderr",
     "output_type": "stream",
     "text": [
      "Testing MUTAG with train_size 0.4% for 15 iterations with encoder default: 100%|██████████| 15/15 [00:01<00:00,  9.13it/s]\n"
     ]
    },
    {
     "name": "stdout",
     "output_type": "stream",
     "text": [
      "Accuracy of 82.242% with std 2.296%\n"
     ]
    },
    {
     "name": "stderr",
     "output_type": "stream",
     "text": [
      "Testing MUTAG with train_size 0.5% for 15 iterations with encoder default: 100%|██████████| 15/15 [00:01<00:00,  9.10it/s]\n"
     ]
    },
    {
     "name": "stdout",
     "output_type": "stream",
     "text": [
      "Accuracy of 82.695% with std 3.330%\n"
     ]
    },
    {
     "name": "stderr",
     "output_type": "stream",
     "text": [
      "Testing MUTAG with train_size 0.6% for 15 iterations with encoder default: 100%|██████████| 15/15 [00:01<00:00,  9.26it/s]\n"
     ]
    },
    {
     "name": "stdout",
     "output_type": "stream",
     "text": [
      "Accuracy of 83.947% with std 4.111%\n"
     ]
    },
    {
     "name": "stderr",
     "output_type": "stream",
     "text": [
      "Testing MUTAG with train_size 0.7% for 15 iterations with encoder default: 100%|██████████| 15/15 [00:01<00:00,  9.11it/s]\n"
     ]
    },
    {
     "name": "stdout",
     "output_type": "stream",
     "text": [
      "Accuracy of 83.977% with std 3.994%\n"
     ]
    },
    {
     "name": "stderr",
     "output_type": "stream",
     "text": [
      "Testing MUTAG with train_size 0.8% for 15 iterations with encoder default: 100%|██████████| 15/15 [00:01<00:00,  9.45it/s]\n"
     ]
    },
    {
     "name": "stdout",
     "output_type": "stream",
     "text": [
      "Accuracy of 82.982% with std 5.251%\n"
     ]
    },
    {
     "name": "stderr",
     "output_type": "stream",
     "text": [
      "Testing MUTAG with train_size 0.9% for 15 iterations with encoder default: 100%|██████████| 15/15 [00:01<00:00,  9.85it/s]"
     ]
    },
    {
     "name": "stdout",
     "output_type": "stream",
     "text": [
      "Accuracy of 83.860% with std 5.913%\n"
     ]
    },
    {
     "name": "stderr",
     "output_type": "stream",
     "text": [
      "\n"
     ]
    }
   ],
   "source": [
    "import matplotlib.pyplot as plt\n",
    "\n",
    "\n",
    "def learning_curve_data(datasets):\n",
    "    train_sizes = [0.05, 0.1, 0.2, 0.3, 0.4, 0.5, 0.6, 0.7, 0.8, 0.9]  # List of train sizes to test\n",
    "    acc_values = []  # List to store accuracy values\n",
    "    std_values = []  # List to store standard deviation values\n",
    "\n",
    "    for dataset in datasets:\n",
    "        acc_dataset = []  # List to store accuracy values for each dataset\n",
    "        for train_size in train_sizes:\n",
    "            acc = run(dataset, 10000, train_size, True, 15)\n",
    "            acc_dataset.append(np.mean(acc))\n",
    "            std_values.append(np.std(acc))\n",
    "        acc_values.append(acc_dataset)\n",
    "\n",
    "    return acc_values, std_values, train_sizes\n",
    "\n",
    "\n",
    "# Example usage:\n",
    "datasets = [\"MUTAG\", \"MUTAG\"]\n",
    "acc_values, std_values, train_sizes = learning_curve_data(datasets)"
   ]
  },
  {
   "cell_type": "code",
   "execution_count": 18,
   "metadata": {},
   "outputs": [
    {
     "data": {
      "image/png": "[encoded data removed]",
      "text/plain": [
       "<Figure size 640x480 with 1 Axes>"
      ]
     },
     "metadata": {},
     "output_type": "display_data"
    }
   ],
   "source": [
    "def plot_learning_curve(datasets, acc_values, std_values, train_sizes):\n",
    "    colors = [\"green\", \"blue\", \"orange\"]  # List of colors for each dataset\n",
    "\n",
    "    # Plot the learning curve for each dataset\n",
    "    for i, dataset in enumerate(datasets):\n",
    "        plt.plot(train_sizes, acc_values[i], label=dataset, color=colors[i])\n",
    "        plt.fill_between(\n",
    "            train_sizes,\n",
    "            np.array(acc_values[i]) - np.array(std_values[: len(train_sizes)]),\n",
    "            np.array(acc_values[i]) + np.array(std_values[: len(train_sizes)]),\n",
    "            alpha=0.25,\n",
    "            color=colors[i],\n",
    "        )\n",
    "\n",
    "    plt.xlabel(\"Train Size\")\n",
    "    plt.ylabel(\"Accuracy\")\n",
    "    plt.title(\"Learning Curve\")\n",
    "    plt.legend()\n",
    "    plt.show()\n",
    "\n",
    "\n",
    "plot_learning_curve(datasets, acc_values, std_values, train_sizes)"
   ]
  }
 ],
 "metadata": {
  "kernelspec": {
   "display_name": "Python 3",
   "language": "python",
   "name": "python3"
  },
  "language_info": {
   "codemirror_mode": {
    "name": "ipython",
    "version": 3
   },
   "file_extension": ".py",
   "mimetype": "text/x-python",
   "name": "python",
   "nbconvert_exporter": "python",
   "pygments_lexer": "ipython3",
   "version": "3.10.13"
  }
 },
 "nbformat": 4,
 "nbformat_minor": 2
}
