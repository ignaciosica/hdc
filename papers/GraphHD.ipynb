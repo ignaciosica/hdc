{
 "cells": [
  {
   "cell_type": "code",
   "execution_count": 1,
   "metadata": {},
   "outputs": [
    {
     "name": "stderr",
     "output_type": "stream",
     "text": [
      "/home/p4ssenger/.local/lib/python3.10/site-packages/tqdm/auto.py:21: TqdmWarning: IProgress not found. Please update jupyter and ipywidgets. See https://ipywidgets.readthedocs.io/en/stable/user_install.html\n",
      "  from .autonotebook import tqdm as notebook_tqdm\n"
     ]
    }
   ],
   "source": [
    "import numpy as np\n",
    "import networkx as nx\n",
    "import functools as ft\n",
    "import math\n",
    "import random\n",
    "from datasets import load_dataset"
   ]
  },
  {
   "cell_type": "code",
   "execution_count": 2,
   "metadata": {},
   "outputs": [],
   "source": [
    "MUTAG = load_dataset(\"graphs-datasets/MUTAG\")"
   ]
  },
  {
   "cell_type": "code",
   "execution_count": 3,
   "metadata": {},
   "outputs": [],
   "source": [
    "def hdv(d):\n",
    "    return np.random.choice([-1, 1], d)\n",
    "\n",
    "\n",
    "def bind(xs):\n",
    "    return ft.reduce(lambda x, y: x * y, xs)\n",
    "\n",
    "\n",
    "def bundle(xs):\n",
    "    return np.sign(ft.reduce(lambda x, y: x + y, xs))\n",
    "\n",
    "\n",
    "def cosine_similarity(A, B):\n",
    "    dot_product = np.dot(A, B)\n",
    "    norm_A = np.linalg.norm(A)\n",
    "    norm_B = np.linalg.norm(B)\n",
    "\n",
    "    return dot_product / (norm_A * norm_B)\n",
    "\n",
    "\n",
    "class ItemMemory:\n",
    "    def __init__(self, vectors=[]):\n",
    "        self.vectors = vectors\n",
    "\n",
    "    def addVector(self, label, V):\n",
    "        self.vectors.append((label, V))\n",
    "\n",
    "    def count(self):\n",
    "        return len(self.vectors)\n",
    "\n",
    "    def cleanup(self, V):\n",
    "        return max(self.vectors, key=lambda x: cosine_similarity(V, x[1]))"
   ]
  },
  {
   "cell_type": "code",
   "execution_count": 4,
   "metadata": {},
   "outputs": [],
   "source": [
    "def encodeGraph(graph, vertices, dimensions, digits, alpha):\n",
    "    gpr = nx.pagerank(graph, alpha)\n",
    "\n",
    "    for pr in nx.pagerank(graph, alpha).values():\n",
    "        key = str(round(pr, digits))\n",
    "        vertices[key] = hdv(dimensions)\n",
    "\n",
    "    Edges = []\n",
    "\n",
    "    for edge in graph.edges:\n",
    "        keyV1 = str(round(gpr[edge[0]], digits))\n",
    "        keyV2 = str(round(gpr[edge[1]], digits))\n",
    "        v1 = vertices[keyV1]\n",
    "        v2 = vertices[keyV2]\n",
    "        E = bind([v1, v2])\n",
    "        Edges.append(E)\n",
    "\n",
    "    Graph = bundle(Edges)\n",
    "\n",
    "    return Graph"
   ]
  },
  {
   "cell_type": "code",
   "execution_count": 5,
   "metadata": {},
   "outputs": [],
   "source": [
    "from sklearn.base import BaseEstimator, ClassifierMixin\n",
    "\n",
    "\n",
    "class GraphHD(BaseEstimator, ClassifierMixin):\n",
    "    def __init__(self, dimensions=10000, digits=7, alpha=0.85):\n",
    "        self.dimensions = dimensions\n",
    "        self.digits = digits\n",
    "        self.alpha = alpha\n",
    "        self.vertices = dict()\n",
    "\n",
    "    def fit(self, X, y):\n",
    "        self.memory = ItemMemory([])\n",
    "        self.labels = list(set(y))\n",
    "        dictLabels = dict()\n",
    "\n",
    "        for label in self.labels:\n",
    "            dictLabels[label] = []\n",
    "\n",
    "        for i in range(len(y)):\n",
    "            Graph = encodeGraph(\n",
    "                X[i], self.vertices, self.dimensions, self.digits, self.alpha\n",
    "            )\n",
    "            dictLabels[y[i]].append(Graph)\n",
    "\n",
    "        for key, value in dictLabels.items():\n",
    "            Label = bundle(value)\n",
    "            self.memory.addVector(str(key), Label)\n",
    "\n",
    "        return self\n",
    "\n",
    "    def predict(self, X):\n",
    "        predictions = []\n",
    "        similarities = []\n",
    "        for testGraph in X:\n",
    "            queryVector = encodeGraph(\n",
    "                testGraph, self.vertices, self.dimensions, self.digits, self.alpha\n",
    "            )\n",
    "            cleanVector = self.memory.cleanup(queryVector)\n",
    "\n",
    "            predictions.append(int(cleanVector[0]))\n",
    "            similarities.append(cosine_similarity(queryVector, cleanVector[1]))\n",
    "\n",
    "        print(\"%.5f\" % round(np.mean(similarities), 5), predictions)\n",
    "        return predictions"
   ]
  },
  {
   "cell_type": "code",
   "execution_count": 6,
   "metadata": {},
   "outputs": [],
   "source": [
    "def processDataset(dataset):\n",
    "    graphs = []\n",
    "    labels = []\n",
    "\n",
    "    for graph in dataset:\n",
    "        G = nx.Graph()\n",
    "        G.add_edges_from(zip(graph[\"edge_index\"][0], graph[\"edge_index\"][1]))\n",
    "        graphs.append(G)\n",
    "        labels.append(graph[\"y\"][0])\n",
    "\n",
    "    return (graphs, labels)"
   ]
  },
  {
   "cell_type": "code",
   "execution_count": 25,
   "metadata": {},
   "outputs": [
    {
     "name": "stdout",
     "output_type": "stream",
     "text": [
      "0.31831 [1, 1, 1, 1, 0, 0, 1, 1, 1, 1, 1, 1, 1, 1, 1, 1, 1, 1, 1]\n",
      "0.29330 [0, 1, 1, 1, 1, 1, 1, 1, 1, 1, 1, 1, 1, 1, 1, 1, 1, 1, 1]\n",
      "0.34052 [1, 1, 1, 1, 1, 1, 1, 1, 1, 1, 1, 1, 1, 1, 1, 1, 1, 1, 1]\n",
      "0.29670 [1, 1, 1, 1, 1, 1, 1, 1, 1, 1, 1, 1, 1, 1, 1, 1, 1, 1, 1]\n",
      "0.27857 [1, 1, 1, 1, 1, 1, 1, 1, 1, 1, 1, 1, 0, 1, 1, 1, 1, 1, 1]\n",
      "0.23127 [1, 1, 1, 1, 1, 1, 0, 1, 1, 1, 1, 1, 0, 1, 1, 1, 1, 1, 0]\n",
      "0.30314 [1, 1, 1, 1, 1, 1, 0, 1, 1, 1, 1, 1, 1, 1, 1, 1, 1, 1, 1]\n",
      "0.21086 [1, 1, 1, 1, 1, 1, 0, 0, 1, 1, 1, 1, 1, 1, 1, 1, 0, 1, 1]\n",
      "0.30217 [1, 1, 1, 1, 1, 1, 1, 1, 1, 1, 1, 1, 1, 0, 1, 1, 1, 1]\n",
      "0.26473 [1, 1, 1, 1, 1, 1, 1, 0, 1, 1, 0, 0, 1, 1, 1, 1, 1, 1]\n",
      "0.68070\n"
     ]
    }
   ],
   "source": [
    "from sklearn.model_selection import cross_val_score\n",
    "\n",
    "\n",
    "def main():\n",
    "    DIMENSIONS = 10000\n",
    "    DIGITS = 3\n",
    "    ALPHA = 0.40\n",
    "\n",
    "    (graphs, labels) = processDataset(MUTAG[\"train\"])\n",
    "\n",
    "    clf = GraphHD(DIMENSIONS, DIGITS, ALPHA)\n",
    "    scores = cross_val_score(clf, graphs, labels, cv=10)\n",
    "    print(\"%.5f\" % scores.mean())\n",
    "\n",
    "\n",
    "main()"
   ]
  }
 ],
 "metadata": {
  "kernelspec": {
   "display_name": "Python 3",
   "language": "python",
   "name": "python3"
  },
  "language_info": {
   "codemirror_mode": {
    "name": "ipython",
    "version": 3
   },
   "file_extension": ".py",
   "mimetype": "text/x-python",
   "name": "python",
   "nbconvert_exporter": "python",
   "pygments_lexer": "ipython3",
   "version": "3.10.12"
  },
  "orig_nbformat": 4
 },
 "nbformat": 4,
 "nbformat_minor": 2
}
