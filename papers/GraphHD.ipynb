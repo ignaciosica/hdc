{
 "cells": [
  {
   "cell_type": "code",
   "execution_count": 17,
   "metadata": {},
   "outputs": [],
   "source": [
    "import numpy as np\n",
    "import networkx as nx\n",
    "import functools as ft\n",
    "import math\n",
    "import random\n",
    "from datasets import load_dataset"
   ]
  },
  {
   "cell_type": "code",
   "execution_count": 2,
   "metadata": {},
   "outputs": [],
   "source": [
    "MUTAG = load_dataset(\"graphs-datasets/MUTAG\")"
   ]
  },
  {
   "cell_type": "code",
   "execution_count": 18,
   "metadata": {},
   "outputs": [],
   "source": [
    "# Params\n",
    "DIMENSIONS = 10000\n",
    "DIGITS = 7\n",
    "ALPHA = 0.85"
   ]
  },
  {
   "cell_type": "code",
   "execution_count": 19,
   "metadata": {},
   "outputs": [],
   "source": [
    "graphs = []\n",
    "\n",
    "for i in range(150):\n",
    "    graph = MUTAG[\"train\"][i]\n",
    "    egdes = zip(graph[\"edge_index\"][0], graph[\"edge_index\"][1])\n",
    "    G = nx.Graph()\n",
    "    G.add_edges_from(egdes)\n",
    "    graphs.append((G, graph[\"y\"][0]))"
   ]
  },
  {
   "cell_type": "code",
   "execution_count": 20,
   "metadata": {},
   "outputs": [],
   "source": [
    "def generateRandomVector(d):\n",
    "    return np.random.randint(2, size=d)\n",
    "\n",
    "\n",
    "def similarity(A, B):\n",
    "    if A.size != B.size:\n",
    "        raise Exception(\"A and B have different dimensions.\")\n",
    "\n",
    "    count = 0\n",
    "    for i in range(0, (A.size - 1)):\n",
    "        if A[i] == B[i]:\n",
    "            count += 1\n",
    "\n",
    "    return count / A.size\n",
    "\n",
    "\n",
    "def mult(A, B):\n",
    "    return np.bitwise_xor(A, B)\n",
    "\n",
    "\n",
    "def applyThreshold(V, n=2):\n",
    "    if n % 2 == 1:\n",
    "        threshold = lambda x: 1 if x > n / 2 else 0\n",
    "    else:\n",
    "        threshold = (\n",
    "            lambda x: 1\n",
    "            if x > n / 2\n",
    "            else (1 if x == n / 2 and bool(random.getrandbits(1)) else 0)\n",
    "        )\n",
    "\n",
    "    vectorized_threshold = np.vectorize(threshold)\n",
    "    return vectorized_threshold(V)\n",
    "\n",
    "\n",
    "def arithmeticSumVectors(vectors):\n",
    "    sum = ft.reduce(lambda x, y: x + y, vectors)\n",
    "\n",
    "    return applyThreshold(sum, len(vectors))\n",
    "\n",
    "\n",
    "def comparison(A, B):\n",
    "    dividend = sum(A * B)\n",
    "    divisor = math.sqrt(sum(A**2) * sum(B**2))\n",
    "\n",
    "    return dividend / divisor\n",
    "\n",
    "\n",
    "def cosine_similarity(A, B):\n",
    "    dot_product = np.dot(A, B)\n",
    "    norm_A = np.linalg.norm(A)\n",
    "    norm_B = np.linalg.norm(B)\n",
    "\n",
    "    return dot_product / (norm_A * norm_B)\n",
    "\n",
    "\n",
    "class ItemMemory:\n",
    "    def __init__(self, vectors=[]):\n",
    "        self.vectors = vectors\n",
    "\n",
    "    def addVector(self, label, V):\n",
    "        self.vectors.append((label, V))\n",
    "\n",
    "    def count(self):\n",
    "        return len(self.vectors)\n",
    "\n",
    "    def cleanup(self, V):\n",
    "        return max(self.vectors, key=lambda x: cosine_similarity(V, x[1]))"
   ]
  },
  {
   "cell_type": "code",
   "execution_count": 21,
   "metadata": {},
   "outputs": [],
   "source": [
    "def encodeGraph(graph):\n",
    "    gpr = nx.pagerank(graph[0], ALPHA)\n",
    "\n",
    "    for pr in nx.pagerank(graph[0], ALPHA).values():\n",
    "        key = str(round(pr, DIGITS))\n",
    "        vertices[key] = generateRandomVector(DIMENSIONS)\n",
    "\n",
    "    Edges = []\n",
    "\n",
    "    for edge in graph[0].edges:\n",
    "        keyV1 = str(round(gpr[edge[0]], DIGITS))\n",
    "        keyV2 = str(round(gpr[edge[1]], DIGITS))\n",
    "        v1 = vertices[keyV1]\n",
    "        v2 = vertices[keyV2]\n",
    "        E = mult(v1, v2)\n",
    "        Edges.append(E)\n",
    "\n",
    "    Graph = arithmeticSumVectors(Edges)\n",
    "\n",
    "    # c = 0\n",
    "    # for e in Edges:\n",
    "    #     c += cosine_similarity(Graph, e)\n",
    "\n",
    "    #     print(\"comparison Graph with E\", c / len(Edges))\n",
    "\n",
    "    return Graph"
   ]
  },
  {
   "cell_type": "code",
   "execution_count": 22,
   "metadata": {},
   "outputs": [
    {
     "name": "stdout",
     "output_type": "stream",
     "text": [
      "51\n",
      "99\n"
     ]
    }
   ],
   "source": [
    "memory = ItemMemory()\n",
    "vertices = dict()\n",
    "labels = [0, 1]\n",
    "\n",
    "for label in labels:\n",
    "    Graphs = []\n",
    "\n",
    "    for graph in filter(lambda x: x[1] == label, graphs):\n",
    "        Graphs.append(encodeGraph(graph))\n",
    "\n",
    "    print(len(Graphs))\n",
    "    Label = arithmeticSumVectors(Graphs)\n",
    "\n",
    "    # c = 0\n",
    "    # for g in Graphs:\n",
    "    #     sim = similarity(Label, g)\n",
    "    #     print(sim)\n",
    "    #     c += sim\n",
    "\n",
    "    # print(\"comparison Label with G\", c / len(Graphs))\n",
    "\n",
    "    memory.addVector(str(label), Label)"
   ]
  },
  {
   "cell_type": "code",
   "execution_count": 23,
   "metadata": {},
   "outputs": [
    {
     "name": "stdout",
     "output_type": "stream",
     "text": [
      "predicted 0 expected 1\n",
      "predicted 0 expected 1\n",
      "predicted 0 expected 1\n",
      "predicted 0 expected 0\n",
      "predicted 0 expected 0\n",
      "predicted 0 expected 0\n",
      "predicted 0 expected 1\n",
      "predicted 0 expected 1\n",
      "predicted 0 expected 1\n",
      "predicted 0 expected 0\n",
      "predicted 0 expected 1\n",
      "predicted 0 expected 1\n",
      "predicted 0 expected 1\n",
      "predicted 0 expected 1\n",
      "predicted 0 expected 1\n",
      "predicted 0 expected 1\n",
      "predicted 0 expected 1\n",
      "predicted 0 expected 0\n",
      "predicted 0 expected 1\n",
      "predicted 0 expected 1\n",
      "predicted 0 expected 1\n",
      "predicted 0 expected 1\n",
      "predicted 0 expected 1\n",
      "predicted 0 expected 1\n",
      "predicted 0 expected 0\n",
      "predicted 0 expected 1\n",
      "predicted 0 expected 1\n",
      "predicted 0 expected 1\n",
      "predicted 0 expected 0\n",
      "predicted 0 expected 1\n",
      "predicted 0 expected 0\n",
      "predicted 0 expected 0\n",
      "predicted 0 expected 1\n",
      "predicted 0 expected 1\n",
      "predicted 0 expected 0\n",
      "predicted 0 expected 0\n",
      "predicted 0 expected 1\n",
      "predicted 0 expected 0\n",
      "0.3157894736842105\n"
     ]
    }
   ],
   "source": [
    "testGraphs = []\n",
    "\n",
    "for i in range(38):\n",
    "    graph = MUTAG[\"train\"][i + 150]\n",
    "    egdes = zip(graph[\"edge_index\"][0], graph[\"edge_index\"][1])\n",
    "    G = nx.Graph()\n",
    "    G.add_edges_from(egdes)\n",
    "    testGraphs.append((G, graph[\"y\"][0]))\n",
    "\n",
    "count = 0\n",
    "for testGraph in testGraphs:\n",
    "    queryVector = encodeGraph(testGraph)\n",
    "    cleanVector = memory.cleanup(queryVector)\n",
    "    # print(comparison(queryVector, cleanVector[1]))\n",
    "    # print(comparison(queryVector, Labels[0]))\n",
    "    # print(comparison(queryVector, Labels[1]))\n",
    "\n",
    "    print(\"predicted\", cleanVector[0], \"expected\", testGraph[1])\n",
    "\n",
    "    if int(cleanVector[0]) == testGraph[1]:\n",
    "        count += 1\n",
    "\n",
    "    # print(int(cleanVector[0]) == testGraph[1])\n",
    "print(count / len(testGraphs))"
   ]
  },
  {
   "cell_type": "code",
   "execution_count": 24,
   "metadata": {},
   "outputs": [
    {
     "name": "stdout",
     "output_type": "stream",
     "text": [
      "0.4916220512677644\n",
      "0.4916220512677644\n",
      "0.4964\n"
     ]
    }
   ],
   "source": [
    "Av = generateRandomVector(DIMENSIONS)\n",
    "Bv = generateRandomVector(DIMENSIONS)\n",
    "print(comparison(Av, Bv))\n",
    "print(cosine_similarity(Av, Bv))\n",
    "print(similarity(Av, Bv))"
   ]
  },
  {
   "cell_type": "code",
   "execution_count": 29,
   "metadata": {},
   "outputs": [],
   "source": [
    "from sklearn.base import BaseEstimator, ClassifierMixin\n",
    "\n",
    "\n",
    "class GraphHD(BaseEstimator, ClassifierMixin):\n",
    "    def __init__(self, dimensions=10000, digits=7, alpha=0.85):\n",
    "        self.dimensions = dimensions\n",
    "        self.digits = digits\n",
    "        self.alpha = alpha\n",
    "\n",
    "    def fit(self, X, y):\n",
    "        self.memory = ItemMemory()\n",
    "        self.vertices = dict()\n",
    "        self.labels = list(set(y))\n",
    "\n",
    "        for label in self.labels:\n",
    "            Graphs = []\n",
    "\n",
    "            for graph in filter(lambda x: x[1] == label, X):\n",
    "                Graphs.append(encodeGraph(graph))\n",
    "\n",
    "            Label = arithmeticSumVectors(Graphs)\n",
    "\n",
    "            self.memory.addVector(str(label), Label)\n",
    "\n",
    "        return self\n",
    "\n",
    "    def predict(self, X):\n",
    "        predictions = []\n",
    "\n",
    "        for testGraph in X:\n",
    "            queryVector = encodeGraph(testGraph)\n",
    "            cleanVector = self.memory.cleanup(queryVector)\n",
    "\n",
    "            predictions.append(int(cleanVector[0]))\n",
    "\n",
    "        print(predictions)\n",
    "        return predictions"
   ]
  },
  {
   "cell_type": "code",
   "execution_count": 30,
   "metadata": {},
   "outputs": [
    {
     "name": "stdout",
     "output_type": "stream",
     "text": [
      "[0.33333333 0.33333333 0.33333333 0.33333333 0.33333333 0.33333333\n",
      " 0.33333333 0.33333333 0.33333333 0.4       ]\n",
      "0.33999999999999997\n"
     ]
    }
   ],
   "source": [
    "from sklearn.model_selection import cross_val_score\n",
    "\n",
    "clf = GraphHD()\n",
    "scores = cross_val_score(clf, graphs, [x[1] for x in graphs], cv=10)\n",
    "print(scores)\n",
    "print(scores.mean())"
   ]
  }
 ],
 "metadata": {
  "kernelspec": {
   "display_name": "Python 3",
   "language": "python",
   "name": "python3"
  },
  "language_info": {
   "codemirror_mode": {
    "name": "ipython",
    "version": 3
   },
   "file_extension": ".py",
   "mimetype": "text/x-python",
   "name": "python",
   "nbconvert_exporter": "python",
   "pygments_lexer": "ipython3",
   "version": "3.10.12"
  },
  "orig_nbformat": 4
 },
 "nbformat": 4,
 "nbformat_minor": 2
}
