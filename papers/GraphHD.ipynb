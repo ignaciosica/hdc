{
 "cells": [
  {
   "cell_type": "code",
   "execution_count": 93,
   "metadata": {},
   "outputs": [],
   "source": [
    "import numpy as np\n",
    "import networkx as nx\n",
    "import functools as ft\n",
    "import math\n",
    "import random\n",
    "from datasets import load_dataset"
   ]
  },
  {
   "cell_type": "code",
   "execution_count": 2,
   "metadata": {},
   "outputs": [],
   "source": [
    "MUTAG = load_dataset(\"graphs-datasets/MUTAG\")"
   ]
  },
  {
   "cell_type": "code",
   "execution_count": 110,
   "metadata": {},
   "outputs": [],
   "source": [
    "def generateRandomVector(d):\n",
    "    return np.random.randint(2, size=d)\n",
    "\n",
    "\n",
    "def similarity(A, B):\n",
    "    if A.size != B.size:\n",
    "        raise Exception(\"A and B have different dimensions.\")\n",
    "\n",
    "    count = 0\n",
    "    for i in range(0, (A.size - 1)):\n",
    "        if A[i] == B[i]:\n",
    "            count += 1\n",
    "\n",
    "    return count / A.size\n",
    "\n",
    "\n",
    "def mult(A, B):\n",
    "    return np.bitwise_xor(A, B)\n",
    "\n",
    "\n",
    "def applyThreshold(V, n=2):\n",
    "    if n % 2 == 1:\n",
    "        threshold = lambda x: 1 if x > n / 2 else 0\n",
    "    else:\n",
    "        threshold = (\n",
    "            lambda x: 1\n",
    "            if x > n / 2\n",
    "            else (1 if x == n / 2 and bool(random.getrandbits(1)) else 0)\n",
    "        )\n",
    "\n",
    "    vectorized_threshold = np.vectorize(threshold)\n",
    "    return vectorized_threshold(V)\n",
    "\n",
    "\n",
    "def arithmeticSumVectors(vectors):\n",
    "    sum = ft.reduce(lambda x, y: x + y, vectors)\n",
    "\n",
    "    return applyThreshold(sum, len(vectors))\n",
    "\n",
    "\n",
    "def comparison(A, B):\n",
    "    dividend = sum(A * B)\n",
    "    divisor = math.sqrt(sum(A**2) * sum(B**2))\n",
    "\n",
    "    return dividend / divisor\n",
    "\n",
    "\n",
    "def cosine_similarity2(A, B):\n",
    "    dot_product = np.dot(A, B)\n",
    "    divisor = np.sqrt(np.sum(A**2)) * np.sqrt(np.sum(B**2))\n",
    "\n",
    "    return dot_product / divisor\n",
    "\n",
    "\n",
    "def cosine_similarity(A, B):\n",
    "    dot_product = np.dot(A, B)\n",
    "    norm_A = np.linalg.norm(A)\n",
    "    norm_B = np.linalg.norm(B)\n",
    "\n",
    "    return dot_product / (norm_A * norm_B)\n",
    "\n",
    "\n",
    "class ItemMemory:\n",
    "    def __init__(self, vectors=[]):\n",
    "        self.vectors = vectors\n",
    "\n",
    "    def addVector(self, label, V):\n",
    "        self.vectors.append((label, V))\n",
    "\n",
    "    def count(self):\n",
    "        return len(self.vectors)\n",
    "\n",
    "    def cleanup(self, V):\n",
    "        return max(self.vectors, key=lambda x: similarity(V, x[1]))"
   ]
  },
  {
   "cell_type": "code",
   "execution_count": 96,
   "metadata": {},
   "outputs": [],
   "source": [
    "def encodeGraph(graph, vertices, dimensions, digits, alpha):\n",
    "    gpr = nx.pagerank(graph, alpha)\n",
    "\n",
    "    for pr in nx.pagerank(graph, alpha).values():\n",
    "        key = str(round(pr, digits))\n",
    "        vertices[key] = generateRandomVector(dimensions)\n",
    "\n",
    "    Edges = []\n",
    "\n",
    "    for edge in graph.edges:\n",
    "        keyV1 = str(round(gpr[edge[0]], digits))\n",
    "        keyV2 = str(round(gpr[edge[1]], digits))\n",
    "        v1 = vertices[keyV1]\n",
    "        v2 = vertices[keyV2]\n",
    "        E = mult(v1, v2)\n",
    "        Edges.append(E)\n",
    "\n",
    "    Graph = arithmeticSumVectors(Edges)\n",
    "\n",
    "    return Graph"
   ]
  },
  {
   "cell_type": "code",
   "execution_count": 97,
   "metadata": {},
   "outputs": [],
   "source": [
    "from sklearn.base import BaseEstimator, ClassifierMixin\n",
    "\n",
    "\n",
    "class GraphHD(BaseEstimator, ClassifierMixin):\n",
    "    def __init__(self, dimensions=10000, digits=7, alpha=0.85):\n",
    "        self.dimensions = dimensions\n",
    "        self.digits = digits\n",
    "        self.alpha = alpha\n",
    "        self.vertices = dict()\n",
    "\n",
    "    def fit(self, X, y):\n",
    "        self.memory = ItemMemory([])\n",
    "        self.labels = list(set(y))\n",
    "        dictLabels = dict()\n",
    "\n",
    "        for label in self.labels:\n",
    "            dictLabels[label] = []\n",
    "\n",
    "        for i in range(len(y)):\n",
    "            Graph = encodeGraph(\n",
    "                X[i], self.vertices, self.dimensions, self.digits, self.alpha\n",
    "            )\n",
    "            dictLabels[y[i]].append(Graph)\n",
    "\n",
    "        for key, value in dictLabels.items():\n",
    "            Label = arithmeticSumVectors(value)\n",
    "            self.memory.addVector(str(key), Label)\n",
    "\n",
    "        return self\n",
    "\n",
    "    def predict(self, X):\n",
    "        predictions = []\n",
    "        similarities = []\n",
    "        for testGraph in X:\n",
    "            queryVector = encodeGraph(\n",
    "                testGraph, self.vertices, self.dimensions, self.digits, self.alpha\n",
    "            )\n",
    "            cleanVector = self.memory.cleanup(queryVector)\n",
    "\n",
    "            predictions.append(int(cleanVector[0]))\n",
    "            similarities.append(similarity(queryVector, cleanVector[1]))\n",
    "\n",
    "        print(\"%.5f\" % round(np.mean(similarities), 5), predictions)\n",
    "        return predictions"
   ]
  },
  {
   "cell_type": "code",
   "execution_count": 98,
   "metadata": {},
   "outputs": [],
   "source": [
    "def processDataset(dataset):\n",
    "    graphs = []\n",
    "    labels = []\n",
    "\n",
    "    for graph in dataset:\n",
    "        G = nx.Graph()\n",
    "        G.add_edges_from(zip(graph[\"edge_index\"][0], graph[\"edge_index\"][1]))\n",
    "        graphs.append(G)\n",
    "        labels.append(graph[\"y\"][0])\n",
    "\n",
    "    return (graphs, labels)"
   ]
  },
  {
   "cell_type": "code",
   "execution_count": 129,
   "metadata": {},
   "outputs": [
    {
     "name": "stdout",
     "output_type": "stream",
     "text": [
      "[1 0 0 ... 0 1 0]\n",
      "[0 1 0 ... 0 1 1]\n",
      "Cosine Similarity: 0.49541126214899356\n"
     ]
    }
   ],
   "source": [
    "import numpy as np\n",
    "from numpy.linalg import norm\n",
    "\n",
    "# Define your two vectors as NumPy arrays\n",
    "vector_a = np.random.randint(2, size=10000)\n",
    "vector_b = np.random.randint(2, size=10000)\n",
    "print(vector_a)\n",
    "print(vector_b)\n",
    "\n",
    "# Calculate the dot product\n",
    "dot_product = np.dot(vector_a, vector_b)\n",
    "\n",
    "# Calculate the Euclidean norms\n",
    "norm_a = norm(vector_a)\n",
    "norm_b = norm(vector_b)\n",
    "\n",
    "# Calculate the cosine similarity\n",
    "cosine_similarity = dot_product / (norm_a * norm_b)\n",
    "\n",
    "print(\"Cosine Similarity:\", cosine_similarity)"
   ]
  },
  {
   "cell_type": "code",
   "execution_count": 121,
   "metadata": {},
   "outputs": [
    {
     "name": "stdout",
     "output_type": "stream",
     "text": [
      "[1 0 0 ... 0 1 0]\n",
      "0.4954\n",
      "0.4944031134101148\n",
      "0.4944031134101148\n"
     ]
    }
   ],
   "source": [
    "A = generateRandomVector(10000)\n",
    "B = generateRandomVector(10000)\n",
    "\n",
    "print(A)\n",
    "print(similarity(A, B))\n",
    "print(cosine_similarity2(A, B))\n",
    "print(cosine_similarity(A, B))"
   ]
  },
  {
   "cell_type": "code",
   "execution_count": 99,
   "metadata": {},
   "outputs": [
    {
     "name": "stdout",
     "output_type": "stream",
     "text": [
      "0.50611 [1, 1, 1, 0, 0, 1, 0, 1, 0, 0, 0, 0, 1, 0, 0, 1, 1, 0, 0]\n",
      "0.50746 [1, 1, 1, 1, 1, 0, 0, 1, 1, 0, 1, 0, 1, 1, 1, 0, 0, 0, 0]\n",
      "0.50777 [0, 1, 1, 1, 0, 0, 1, 0, 1, 0, 0, 1, 1, 1, 1, 1, 1, 0, 1]\n",
      "0.50911 [1, 0, 0, 1, 1, 0, 1, 0, 1, 0, 0, 1, 1, 1, 1, 0, 0, 1, 0]\n",
      "0.50629 [1, 0, 0, 1, 1, 0, 1, 0, 1, 1, 0, 1, 1, 1, 0, 0, 0, 1, 1]\n",
      "0.50368 [0, 1, 1, 0, 1, 0, 1, 0, 1, 0, 0, 1, 1, 0, 0, 0, 1, 1, 1]\n",
      "0.50923 [1, 0, 1, 1, 1, 1, 0, 0, 0, 1, 0, 0, 1, 0, 1, 0, 1, 0, 1]\n",
      "0.50889 [0, 1, 1, 0, 0, 1, 0, 0, 1, 1, 1, 0, 1, 0, 0, 0, 1, 1, 1]\n",
      "0.51270 [1, 1, 0, 1, 0, 1, 0, 1, 1, 1, 1, 0, 0, 1, 1, 1, 0, 1]\n",
      "0.50856 [1, 1, 0, 1, 0, 1, 1, 0, 0, 1, 1, 0, 1, 0, 0, 1, 1, 0]\n",
      "0.49532\n"
     ]
    }
   ],
   "source": [
    "from sklearn.model_selection import cross_val_score\n",
    "\n",
    "\n",
    "def main():\n",
    "    DIMENSIONS = 10000\n",
    "    DIGITS = 5\n",
    "    ALPHA = 0.65\n",
    "\n",
    "    (graphs, labels) = processDataset(MUTAG[\"train\"])\n",
    "\n",
    "    clf = GraphHD(DIMENSIONS, DIGITS, ALPHA)\n",
    "    scores = cross_val_score(clf, graphs, labels, cv=10, error_score=\"raise\")\n",
    "    print(\"%.5f\" % scores.mean())\n",
    "\n",
    "\n",
    "main()"
   ]
  }
 ],
 "metadata": {
  "kernelspec": {
   "display_name": "Python 3",
   "language": "python",
   "name": "python3"
  },
  "language_info": {
   "codemirror_mode": {
    "name": "ipython",
    "version": 3
   },
   "file_extension": ".py",
   "mimetype": "text/x-python",
   "name": "python",
   "nbconvert_exporter": "python",
   "pygments_lexer": "ipython3",
   "version": "3.10.12"
  },
  "orig_nbformat": 4
 },
 "nbformat": 4,
 "nbformat_minor": 2
}
