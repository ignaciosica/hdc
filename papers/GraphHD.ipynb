{
 "cells": [
  {
   "cell_type": "code",
   "execution_count": 32,
   "metadata": {},
   "outputs": [],
   "source": [
    "import numpy as np\n",
    "import networkx as nx\n",
    "import functools as ft\n",
    "import math\n",
    "import random\n",
    "from datasets import load_dataset"
   ]
  },
  {
   "cell_type": "code",
   "execution_count": 33,
   "metadata": {},
   "outputs": [],
   "source": [
    "MUTAG = load_dataset(\"graphs-datasets/MUTAG\")"
   ]
  },
  {
   "cell_type": "code",
   "execution_count": 34,
   "metadata": {},
   "outputs": [],
   "source": [
    "graphs = []\n",
    "\n",
    "for graph in MUTAG[\"train\"]:\n",
    "    egdes = zip(graph[\"edge_index\"][0], graph[\"edge_index\"][1])\n",
    "    G = nx.Graph()\n",
    "    G.add_edges_from(egdes)\n",
    "    graphs.append((G, graph[\"y\"][0]))"
   ]
  },
  {
   "cell_type": "code",
   "execution_count": 35,
   "metadata": {},
   "outputs": [],
   "source": [
    "DIMENSIONS = 10000\n",
    "\n",
    "\n",
    "def generateRandomVector(d):\n",
    "    return np.random.randint(2, size=d)\n",
    "\n",
    "\n",
    "def similarity(A, B):\n",
    "    if A.size != B.size:\n",
    "        raise Exception(\"A and B have different dimensions.\")\n",
    "\n",
    "    count = 0\n",
    "    for i in range(0, (A.size - 1)):\n",
    "        if A[i] == B[i]:\n",
    "            count += 1\n",
    "\n",
    "    return count / A.size\n",
    "\n",
    "\n",
    "def mult(A, B):\n",
    "    return np.bitwise_xor(A, B)\n",
    "\n",
    "\n",
    "def applyThreshold(V, n=2):\n",
    "    if n % 2 == 1:\n",
    "        threshold = lambda x: 1 if x > n / 2 else 0\n",
    "    else:\n",
    "        threshold = (\n",
    "            lambda x: 1\n",
    "            if x > n / 2\n",
    "            else (1 if x == n / 2 and bool(random.getrandbits(1)) else 0)\n",
    "        )\n",
    "\n",
    "    vectorized_threshold = np.vectorize(threshold)\n",
    "    return vectorized_threshold(V)\n",
    "\n",
    "\n",
    "def arithmeticSumVectors(vectors):\n",
    "    sum = ft.reduce(lambda x, y: x + y, vectors)\n",
    "\n",
    "    return applyThreshold(sum, len(vectors))\n",
    "\n",
    "\n",
    "class ItemMemory:\n",
    "    def __init__(self, vectors=[]):\n",
    "        self.vectors = vectors\n",
    "\n",
    "    def addVector(self, label, V):\n",
    "        self.vectors.append((label, V))\n",
    "\n",
    "    def count(self):\n",
    "        return len(self.vectors)\n",
    "\n",
    "    def cleanup(self, V):\n",
    "        return max(self.vectors, key=lambda x: comparison(V, x[1]))"
   ]
  },
  {
   "cell_type": "code",
   "execution_count": 44,
   "metadata": {},
   "outputs": [
    {
     "data": {
      "text/plain": [
       "1618"
      ]
     },
     "execution_count": 44,
     "metadata": {},
     "output_type": "execute_result"
    }
   ],
   "source": [
    "memory = ItemMemory()\n",
    "vertices = dict()\n",
    "labels = [0, 1]\n",
    "\n",
    "labelsHVs = []\n",
    "for label in labels:\n",
    "    graphsHVs = []\n",
    "\n",
    "    for graph in filter(lambda x: x[1] == label, graphs):\n",
    "        pr = nx.pagerank(graph[0])\n",
    "\n",
    "        for value in pr.values():\n",
    "            key = round(value, 5)\n",
    "            vertices[str(key)] = generateRandomVector(DIMENSIONS)\n",
    "\n",
    "        edgesHVs = []\n",
    "\n",
    "        for edge in graph[0].edges:\n",
    "            v1 = vertices[str(round(pr[edge[0]], 5))]\n",
    "            v2 = vertices[str(round(pr[edge[1]], 5))]\n",
    "            E = mult(v1, v2)\n",
    "            edgesHVs.append(E)\n",
    "\n",
    "        graphsHVs.append(arithmeticSumVectors(edgesHVs))\n",
    "\n",
    "    labelsHVs.append(arithmeticSumVectors(graphsHVs))\n",
    "\n",
    "memory.addVector(\"0\", labelsHVs[0])\n",
    "memory.addVector(\"1\", labelsHVs[1])\n",
    "\n",
    "# pr = nx.pagerank(graphs[0])\n",
    "# for value in pr.values():\n",
    "#     key = round(value, 8)\n",
    "#     memory.addVector(key, generateRandomVector(DIMENSIONS))\n",
    "\n",
    "# memory.count()\n",
    "# memory.vectors\n",
    "\n",
    "# G1 = nx.barabasi_albert_graph(284, 715)\n",
    "# G2 = nx.barabasi_albert_graph(284, 715)\n",
    "# pr1 = nx.pagerank(G1, 0.4)\n",
    "# pr2 = nx.pagerank(G2, 0.4)\n",
    "\n",
    "# # check if pr1 and pr2 share values\n",
    "\n",
    "\n",
    "# for vertex in pr1.values():\n",
    "#     for vertex2 in pr2.values():\n",
    "#         if abs(vertex - vertex2) < 0.00000001:\n",
    "#             print(\"from different graphs\", vertex, vertex2)"
   ]
  }
 ],
 "metadata": {
  "kernelspec": {
   "display_name": "Python 3",
   "language": "python",
   "name": "python3"
  },
  "language_info": {
   "codemirror_mode": {
    "name": "ipython",
    "version": 3
   },
   "file_extension": ".py",
   "mimetype": "text/x-python",
   "name": "python",
   "nbconvert_exporter": "python",
   "pygments_lexer": "ipython3",
   "version": "3.10.12"
  },
  "orig_nbformat": 4
 },
 "nbformat": 4,
 "nbformat_minor": 2
}
