{
 "cells": [
  {
   "cell_type": "code",
   "execution_count": 1,
   "metadata": {},
   "outputs": [
    {
     "name": "stderr",
     "output_type": "stream",
     "text": [
      "/home/p4ssenger/.local/lib/python3.10/site-packages/tqdm/auto.py:21: TqdmWarning: IProgress not found. Please update jupyter and ipywidgets. See https://ipywidgets.readthedocs.io/en/stable/user_install.html\n",
      "  from .autonotebook import tqdm as notebook_tqdm\n"
     ]
    }
   ],
   "source": [
    "import numpy as np\n",
    "import networkx as nx\n",
    "import functools as ft\n",
    "import math\n",
    "import random\n",
    "from datasets import load_dataset"
   ]
  },
  {
   "cell_type": "code",
   "execution_count": 2,
   "metadata": {},
   "outputs": [],
   "source": [
    "MUTAG = load_dataset(\"graphs-datasets/MUTAG\")"
   ]
  },
  {
   "cell_type": "code",
   "execution_count": 3,
   "metadata": {},
   "outputs": [],
   "source": [
    "graphs = []\n",
    "\n",
    "for i in range(150):\n",
    "    graph = MUTAG[\"train\"][i]\n",
    "    egdes = zip(graph[\"edge_index\"][0], graph[\"edge_index\"][1])\n",
    "    G = nx.Graph()\n",
    "    G.add_edges_from(egdes)\n",
    "    graphs.append((G, graph[\"y\"][0]))"
   ]
  },
  {
   "cell_type": "code",
   "execution_count": 4,
   "metadata": {},
   "outputs": [],
   "source": [
    "DIMENSIONS = 10000\n",
    "\n",
    "\n",
    "def generateRandomVector(d):\n",
    "    return np.random.randint(2, size=d)\n",
    "\n",
    "\n",
    "def similarity(A, B):\n",
    "    if A.size != B.size:\n",
    "        raise Exception(\"A and B have different dimensions.\")\n",
    "\n",
    "    count = 0\n",
    "    for i in range(0, (A.size - 1)):\n",
    "        if A[i] == B[i]:\n",
    "            count += 1\n",
    "\n",
    "    return count / A.size\n",
    "\n",
    "\n",
    "def mult(A, B):\n",
    "    return np.bitwise_xor(A, B)\n",
    "\n",
    "\n",
    "def applyThreshold(V, n=2):\n",
    "    if n % 2 == 1:\n",
    "        threshold = lambda x: 1 if x > n / 2 else 0\n",
    "    else:\n",
    "        threshold = (\n",
    "            lambda x: 1\n",
    "            if x > n / 2\n",
    "            else (1 if x == n / 2 and bool(random.getrandbits(1)) else 0)\n",
    "        )\n",
    "\n",
    "    vectorized_threshold = np.vectorize(threshold)\n",
    "    return vectorized_threshold(V)\n",
    "\n",
    "\n",
    "def arithmeticSumVectors(vectors):\n",
    "    sum = ft.reduce(lambda x, y: x + y, vectors)\n",
    "\n",
    "    return applyThreshold(sum, len(vectors))\n",
    "\n",
    "\n",
    "def comparison(A, B):\n",
    "    dividend = sum(A * B)\n",
    "    divisor = math.sqrt(sum(A**2) * sum(B**2))\n",
    "\n",
    "    return dividend / divisor\n",
    "\n",
    "\n",
    "class ItemMemory:\n",
    "    def __init__(self, vectors=[]):\n",
    "        self.vectors = vectors\n",
    "\n",
    "    def addVector(self, label, V):\n",
    "        self.vectors.append((label, V))\n",
    "\n",
    "    def count(self):\n",
    "        return len(self.vectors)\n",
    "\n",
    "    def cleanup(self, V):\n",
    "        return max(self.vectors, key=lambda x: comparison(V, x[1]))"
   ]
  },
  {
   "cell_type": "code",
   "execution_count": 5,
   "metadata": {},
   "outputs": [],
   "source": [
    "def encodeGraph(graph):\n",
    "    pr = nx.pagerank(graph[0])\n",
    "\n",
    "    for value in pr.values():\n",
    "        key = round(value, 5)\n",
    "        vertices[str(key)] = generateRandomVector(DIMENSIONS)\n",
    "\n",
    "    edgesHVs = []\n",
    "\n",
    "    for edge in graph[0].edges:\n",
    "        v1 = vertices[str(round(pr[edge[0]], 5))]\n",
    "        v2 = vertices[str(round(pr[edge[1]], 5))]\n",
    "        E = mult(v1, v2)\n",
    "        edgesHVs.append(E)\n",
    "\n",
    "    return arithmeticSumVectors(edgesHVs)"
   ]
  },
  {
   "cell_type": "code",
   "execution_count": 6,
   "metadata": {},
   "outputs": [],
   "source": [
    "memory = ItemMemory()\n",
    "vertices = dict()\n",
    "labels = [0, 1]\n",
    "\n",
    "labelsHVs = []\n",
    "for label in labels:\n",
    "    graphsHVs = []\n",
    "\n",
    "    for graph in filter(lambda x: x[1] == label, graphs):\n",
    "        graphsHVs.append(encodeGraph(graph))\n",
    "\n",
    "    labelsHVs.append(arithmeticSumVectors(graphsHVs))\n",
    "\n",
    "memory.addVector(\"0\", labelsHVs[0])\n",
    "memory.addVector(\"1\", labelsHVs[1])"
   ]
  },
  {
   "cell_type": "code",
   "execution_count": 7,
   "metadata": {},
   "outputs": [
    {
     "name": "stdout",
     "output_type": "stream",
     "text": [
      "False\n",
      "False\n",
      "False\n",
      "False\n",
      "False\n",
      "False\n",
      "False\n",
      "False\n",
      "False\n",
      "False\n",
      "False\n",
      "False\n",
      "False\n",
      "False\n",
      "False\n",
      "False\n",
      "False\n",
      "False\n",
      "False\n",
      "False\n",
      "False\n",
      "False\n",
      "False\n",
      "False\n",
      "False\n",
      "False\n",
      "False\n",
      "False\n",
      "False\n",
      "False\n"
     ]
    }
   ],
   "source": [
    "testGraphs = []\n",
    "\n",
    "for i in range(30):\n",
    "    graph = MUTAG[\"train\"][i + 150]\n",
    "    egdes = zip(graph[\"edge_index\"][0], graph[\"edge_index\"][1])\n",
    "    G = nx.Graph()\n",
    "    G.add_edges_from(egdes)\n",
    "    testGraphs.append((G, graph[\"y\"][0]))\n",
    "\n",
    "for testGraph in testGraphs:\n",
    "    print(memory.cleanup(encodeGraph(testGraph))[0] == testGraph[1])"
   ]
  }
 ],
 "metadata": {
  "kernelspec": {
   "display_name": "Python 3",
   "language": "python",
   "name": "python3"
  },
  "language_info": {
   "codemirror_mode": {
    "name": "ipython",
    "version": 3
   },
   "file_extension": ".py",
   "mimetype": "text/x-python",
   "name": "python",
   "nbconvert_exporter": "python",
   "pygments_lexer": "ipython3",
   "version": "3.10.12"
  },
  "orig_nbformat": 4
 },
 "nbformat": 4,
 "nbformat_minor": 2
}
