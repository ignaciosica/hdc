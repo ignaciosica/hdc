{
 "cells": [
  {
   "cell_type": "code",
   "execution_count": 2,
   "metadata": {},
   "outputs": [
    {
     "name": "stderr",
     "output_type": "stream",
     "text": [
      "/home/p4ssenger/.local/lib/python3.10/site-packages/tqdm/auto.py:21: TqdmWarning: IProgress not found. Please update jupyter and ipywidgets. See https://ipywidgets.readthedocs.io/en/stable/user_install.html\n",
      "  from .autonotebook import tqdm as notebook_tqdm\n"
     ]
    }
   ],
   "source": [
    "import numpy as np\n",
    "import networkx as nx\n",
    "import math\n",
    "import random\n",
    "from datasets import load_dataset\n",
    "import torch\n",
    "import matplotlib.pyplot as plt\n",
    "import pandas as pd\n",
    "\n",
    "from sklearn.base import BaseEstimator, TransformerMixin, ClassifierMixin\n",
    "from sklearn.pipeline import Pipeline\n",
    "from sklearn.metrics import confusion_matrix, ConfusionMatrixDisplay\n",
    "from sklearn.experimental import enable_halving_search_cv\n",
    "from sklearn.model_selection import (\n",
    "    GridSearchCV,\n",
    "    RandomizedSearchCV,\n",
    "    HalvingGridSearchCV,\n",
    "    LearningCurveDisplay,\n",
    "    learning_curve,\n",
    "    cross_val_score,\n",
    "    GridSearchCV,\n",
    "    RandomizedSearchCV,\n",
    "    cross_val_predict,\n",
    ")"
   ]
  },
  {
   "cell_type": "code",
   "execution_count": 3,
   "metadata": {},
   "outputs": [],
   "source": [
    "torch.set_default_device(\"cuda\" if torch.cuda.is_available() else \"cpu\")"
   ]
  },
  {
   "cell_type": "code",
   "execution_count": 4,
   "metadata": {},
   "outputs": [],
   "source": [
    "def hdv(d):\n",
    "    return torch.sign(torch.randint(-10000000, 10000000, (d,), dtype=torch.float32))\n",
    "\n",
    "\n",
    "def bind(xs):\n",
    "    return torch.prod(torch.stack(xs), axis=0)\n",
    "\n",
    "\n",
    "def bundle(xs):\n",
    "    return torch.sign(torch.sum(torch.stack(xs), axis=0))\n",
    "\n",
    "\n",
    "def cosine_similarity(A, B):\n",
    "    dot_product = torch.dot(A, B)\n",
    "    norm_A = torch.norm(A)\n",
    "    norm_B = torch.norm(B)\n",
    "\n",
    "    if norm_A == 0 or norm_B == 0:\n",
    "        return 0\n",
    "\n",
    "    return dot_product / (norm_A * norm_B)\n",
    "\n",
    "\n",
    "class ItemMemory:\n",
    "    def __init__(self, vectors=[]):\n",
    "        self.vectors = vectors\n",
    "\n",
    "    def addVector(self, label, V):\n",
    "        self.vectors.append((label, V))\n",
    "\n",
    "    def count(self):\n",
    "        return len(self.vectors)\n",
    "\n",
    "    def cleanup(self, V):\n",
    "        return max(self.vectors, key=lambda x: cosine_similarity(V, x[1]))"
   ]
  },
  {
   "cell_type": "code",
   "execution_count": 5,
   "metadata": {},
   "outputs": [],
   "source": [
    "def encodeGraph(graph, vertices, dimensions):\n",
    "    for node in graph.nodes:\n",
    "        if node not in vertices:\n",
    "            vertices[node] = hdv(dimensions)\n",
    "\n",
    "    Edges = []\n",
    "\n",
    "    for edge in graph.edges:\n",
    "        v1 = vertices[edge[0]]\n",
    "        v2 = vertices[edge[1]]\n",
    "        E = bind([v1, v2])\n",
    "        Edges.append(E)\n",
    "\n",
    "    Graph = bundle(Edges)\n",
    "\n",
    "    return Graph"
   ]
  },
  {
   "cell_type": "code",
   "execution_count": 6,
   "metadata": {},
   "outputs": [],
   "source": [
    "def processDataset(dataset):\n",
    "    graphs = []\n",
    "    labels = []\n",
    "\n",
    "    for graph in dataset:\n",
    "        G = nx.Graph()\n",
    "        G.add_edges_from(zip(graph[\"edge_index\"][0], graph[\"edge_index\"][1]))\n",
    "        graphs.append(G)\n",
    "        labels.append(graph[\"y\"][0])\n",
    "\n",
    "    return (graphs, labels)"
   ]
  },
  {
   "cell_type": "code",
   "execution_count": 7,
   "metadata": {},
   "outputs": [],
   "source": [
    "class PagerankTransformer(BaseEstimator, TransformerMixin):\n",
    "    def __init__(self, alpha=0.55):\n",
    "        self.alpha = alpha\n",
    "\n",
    "    def fit(self, X, y=None):\n",
    "        return self\n",
    "\n",
    "    def transform(self, X, y=None):\n",
    "        graphs = []\n",
    "\n",
    "        for graph in X:\n",
    "            gpr = nx.pagerank(graph, self.alpha)\n",
    "            graphs.append((graph, gpr))\n",
    "\n",
    "        return graphs"
   ]
  },
  {
   "cell_type": "code",
   "execution_count": 8,
   "metadata": {},
   "outputs": [],
   "source": [
    "class DigitsTransformer(BaseEstimator, TransformerMixin):\n",
    "    def __init__(self, digits=5):\n",
    "        self.digits = digits\n",
    "\n",
    "    def fit(self, X, y=None):\n",
    "        return self\n",
    "\n",
    "    def transform(self, X, y=None):\n",
    "        graphs = []\n",
    "\n",
    "        for graph, gpr in X:\n",
    "            nodes = dict()\n",
    "            for key, value in gpr.items():\n",
    "                nodes[key] = str(round(value, self.digits))\n",
    "            H = nx.relabel_nodes(graph, nodes)\n",
    "            graphs.append(H)\n",
    "\n",
    "        return graphs"
   ]
  },
  {
   "cell_type": "code",
   "execution_count": 9,
   "metadata": {},
   "outputs": [],
   "source": [
    "class GraphHD(BaseEstimator, ClassifierMixin):\n",
    "    def __init__(self, dimensions=10000, step=20):\n",
    "        self.dimensions = dimensions\n",
    "        self.step = step\n",
    "        self.vertices = dict()\n",
    "\n",
    "    def fit(self, X, y):\n",
    "        self.memory = ItemMemory([])\n",
    "        self.labels = list(set(y))\n",
    "        dictLabels = dict()\n",
    "\n",
    "        for label in self.labels:\n",
    "            dictLabels[label] = []\n",
    "\n",
    "        for i in range(len(X)):\n",
    "            Graph = encodeGraph(X[i], self.vertices, self.dimensions)\n",
    "            dictLabels[y[i]].append(Graph)\n",
    "\n",
    "        for key, value in dictLabels.items():\n",
    "            for i in range(0, len(value), self.step):\n",
    "                H = bundle(value[i : i + self.step])\n",
    "                self.memory.addVector(str(key), H)\n",
    "\n",
    "        return self\n",
    "\n",
    "    def predict(self, X):\n",
    "        p = []\n",
    "        s = []\n",
    "        for testGraph in X:\n",
    "            queryVector = encodeGraph(testGraph, self.vertices, self.dimensions)\n",
    "            cleanVector = self.memory.cleanup(queryVector)\n",
    "\n",
    "            p.append(int(cleanVector[0]))\n",
    "            s.append(cosine_similarity(queryVector, cleanVector[1]))\n",
    "\n",
    "        # print(\"%.5f\" % round(np.mean(s), 5),\"0:\",p.count(0),\"1:\",p.count(1))\n",
    "        return p"
   ]
  },
  {
   "cell_type": "code",
   "execution_count": 10,
   "metadata": {},
   "outputs": [],
   "source": [
    "# MUTAG = load_dataset(\"graphs-datasets/MUTAG\")\n",
    "PROTEINS = load_dataset(\"graphs-datasets/PROTEINS\")\n",
    "# AIDS = load_dataset(\"graphs-datasets/AIDS\")\n",
    "# DATASET = MUTAG[\"train\"]\n",
    "DATASET = PROTEINS[\"train\"]\n",
    "# DATASET = AIDS[\"full\"]\n",
    "\n",
    "(graphs, labels) = processDataset(DATASET)"
   ]
  },
  {
   "cell_type": "code",
   "execution_count": null,
   "metadata": {},
   "outputs": [
    {
     "ename": "NameError",
     "evalue": "name 'Pipeline' is not defined",
     "output_type": "error",
     "traceback": [
      "\u001b[0;31m---------------------------------------------------------------------------\u001b[0m",
      "\u001b[0;31mNameError\u001b[0m                                 Traceback (most recent call last)",
      "\u001b[1;32m/home/p4ssenger/Src/hdc/papers/GraphHD.ipynb Cell 10\u001b[0m line \u001b[0;36m7\n\u001b[1;32m     <a href='vscode-notebook-cell:/home/p4ssenger/Src/hdc/papers/GraphHD.ipynb#X12sZmlsZQ%3D%3D?line=66'>67</a>\u001b[0m     confusionMatrix(pipe, graphs, labels)\n\u001b[1;32m     <a href='vscode-notebook-cell:/home/p4ssenger/Src/hdc/papers/GraphHD.ipynb#X12sZmlsZQ%3D%3D?line=67'>68</a>\u001b[0m     \u001b[39m# learningCurve(pipe, graphs, labels)\u001b[39;00m\n\u001b[0;32m---> <a href='vscode-notebook-cell:/home/p4ssenger/Src/hdc/papers/GraphHD.ipynb#X12sZmlsZQ%3D%3D?line=70'>71</a>\u001b[0m main()\n",
      "\u001b[1;32m/home/p4ssenger/Src/hdc/papers/GraphHD.ipynb Cell 10\u001b[0m line \u001b[0;36m5\n\u001b[1;32m     <a href='vscode-notebook-cell:/home/p4ssenger/Src/hdc/papers/GraphHD.ipynb#X12sZmlsZQ%3D%3D?line=56'>57</a>\u001b[0m \u001b[39mdef\u001b[39;00m \u001b[39mmain\u001b[39m():\n\u001b[0;32m---> <a href='vscode-notebook-cell:/home/p4ssenger/Src/hdc/papers/GraphHD.ipynb#X12sZmlsZQ%3D%3D?line=57'>58</a>\u001b[0m     pipe \u001b[39m=\u001b[39m Pipeline(\n\u001b[1;32m     <a href='vscode-notebook-cell:/home/p4ssenger/Src/hdc/papers/GraphHD.ipynb#X12sZmlsZQ%3D%3D?line=58'>59</a>\u001b[0m         [\n\u001b[1;32m     <a href='vscode-notebook-cell:/home/p4ssenger/Src/hdc/papers/GraphHD.ipynb#X12sZmlsZQ%3D%3D?line=59'>60</a>\u001b[0m             (\u001b[39m\"\u001b[39m\u001b[39mpagerank\u001b[39m\u001b[39m\"\u001b[39m, PagerankTransformer(ALPHA)),\n\u001b[1;32m     <a href='vscode-notebook-cell:/home/p4ssenger/Src/hdc/papers/GraphHD.ipynb#X12sZmlsZQ%3D%3D?line=60'>61</a>\u001b[0m             (\u001b[39m\"\u001b[39m\u001b[39mdigits\u001b[39m\u001b[39m\"\u001b[39m, DigitsTransformer(DIGITS)),\n\u001b[1;32m     <a href='vscode-notebook-cell:/home/p4ssenger/Src/hdc/papers/GraphHD.ipynb#X12sZmlsZQ%3D%3D?line=61'>62</a>\u001b[0m             (\u001b[39m\"\u001b[39m\u001b[39mclassifier\u001b[39m\u001b[39m\"\u001b[39m, GraphHD(DIMENSIONS, STEP)),\n\u001b[1;32m     <a href='vscode-notebook-cell:/home/p4ssenger/Src/hdc/papers/GraphHD.ipynb#X12sZmlsZQ%3D%3D?line=62'>63</a>\u001b[0m         ],\n\u001b[1;32m     <a href='vscode-notebook-cell:/home/p4ssenger/Src/hdc/papers/GraphHD.ipynb#X12sZmlsZQ%3D%3D?line=63'>64</a>\u001b[0m     )\n\u001b[1;32m     <a href='vscode-notebook-cell:/home/p4ssenger/Src/hdc/papers/GraphHD.ipynb#X12sZmlsZQ%3D%3D?line=65'>66</a>\u001b[0m     reps(pipe, graphs, labels)\n\u001b[1;32m     <a href='vscode-notebook-cell:/home/p4ssenger/Src/hdc/papers/GraphHD.ipynb#X12sZmlsZQ%3D%3D?line=66'>67</a>\u001b[0m     confusionMatrix(pipe, graphs, labels)\n",
      "\u001b[0;31mNameError\u001b[0m: name 'Pipeline' is not defined"
     ]
    }
   ],
   "source": [
    "ALPHA = 0.27\n",
    "DIGITS = 5\n",
    "DIMENSIONS = 10000\n",
    "STEP = 1\n",
    "\n",
    "FOLDS = 10\n",
    "REPS = 3\n",
    "\n",
    "\n",
    "def reps(pipe, graphs, labels):\n",
    "    sum = 0\n",
    "    for i in range(REPS):\n",
    "        scores = cross_val_score(pipe, graphs, labels, n_jobs=-1, cv=FOLDS)\n",
    "        sum += scores.mean()\n",
    "        print(i, \"->\", \"%.5f\" % scores.mean())\n",
    "        del scores\n",
    "\n",
    "    print(\"S => %.5f\" % (sum / REPS))\n",
    "\n",
    "\n",
    "def confusionMatrix(pipe, graphs, labels):\n",
    "    y_pred = cross_val_predict(pipe, graphs, labels, n_jobs=-1, cv=FOLDS)\n",
    "    print(confusion_matrix(labels, y_pred))\n",
    "\n",
    "\n",
    "def hpSearch():\n",
    "    cachedir = mkdtemp()\n",
    "    pipe = Pipeline(\n",
    "        [\n",
    "            (\"pagerank\", PagerankTransformer()),\n",
    "            (\"digits\", DigitsTransformer()),\n",
    "            (\"classifier\", GraphHD()),\n",
    "        ],\n",
    "    )\n",
    "    distributions = dict(\n",
    "        pagerank__alpha=[0.25, 0.35, 0.45, 0.55, 0.65, 0.75, 0.85],\n",
    "        digits__digits=[2, 3, 4, 5, 6, 7],\n",
    "        classifier__dimensions=[10000],\n",
    "        classifier__step=[1, 2, 4, 8, 16, 32, 64, 124, 256],\n",
    "    )\n",
    "    clf = HalvingGridSearchCV(pipe, distributions, n_jobs=-1, verbose=3, refit=True)\n",
    "    search = clf.fit(graphs, labels)\n",
    "    print(\"Search P =>\", search.best_params_)\n",
    "    print(\"Search S => %.5f\" % search.best_score_)\n",
    "    return search.best_estimator_\n",
    "\n",
    "\n",
    "def learningCurve(pipe, graphs, labels):\n",
    "    tr_si, tr_sc, te_sc = learning_curve(\n",
    "        pipe, graphs, labels, cv=10, n_jobs=-1, train_sizes=np.linspace(0.1, 1.0, 10)\n",
    "    )\n",
    "    LearningCurveDisplay(\n",
    "        train_sizes=tr_si, train_scores=tr_sc, test_scores=te_sc, score_name=\"Score\"\n",
    "    ).plot(std_display_style=\"errorbar\")\n",
    "\n",
    "\n",
    "def main():\n",
    "    pipe = Pipeline(\n",
    "        [\n",
    "            (\"pagerank\", PagerankTransformer(ALPHA)),\n",
    "            (\"digits\", DigitsTransformer(DIGITS)),\n",
    "            (\"classifier\", GraphHD(DIMENSIONS, STEP)),\n",
    "        ],\n",
    "    )\n",
    "\n",
    "    reps(pipe, graphs, labels)\n",
    "    confusionMatrix(pipe, graphs, labels)\n",
    "    # learningCurve(pipe, graphs, labels)\n",
    "\n",
    "\n",
    "main()"
   ]
  },
  {
   "cell_type": "code",
   "execution_count": null,
   "metadata": {},
   "outputs": [
    {
     "data": {
      "text/plain": [
       "0"
      ]
     },
     "execution_count": 15,
     "metadata": {},
     "output_type": "execute_result"
    }
   ],
   "source": [
    "import gc\n",
    "\n",
    "gc.collect()"
   ]
  }
 ],
 "metadata": {
  "kernelspec": {
   "display_name": "Python 3",
   "language": "python",
   "name": "python3"
  },
  "language_info": {
   "codemirror_mode": {
    "name": "ipython",
    "version": 3
   },
   "file_extension": ".py",
   "mimetype": "text/x-python",
   "name": "python",
   "nbconvert_exporter": "python",
   "pygments_lexer": "ipython3",
   "version": "3.10.12"
  },
  "orig_nbformat": 4
 },
 "nbformat": 4,
 "nbformat_minor": 2
}
