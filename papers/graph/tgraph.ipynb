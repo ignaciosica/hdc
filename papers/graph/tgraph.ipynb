{
 "cells": [
  {
   "cell_type": "code",
   "execution_count": 1,
   "metadata": {},
   "outputs": [],
   "source": [
    "import torch\n",
    "import numpy as np\n",
    "import networkx as nx\n",
    "from sklearn.base import BaseEstimator, ClassifierMixin\n",
    "from sklearn.model_selection import cross_val_score, ShuffleSplit\n",
    "from datasets import load_dataset\n",
    "from graph import process_dataset, centrality\n",
    "from IPython.display import clear_output\n",
    "from functools import partial\n",
    "\n",
    "import sys\n",
    "\n",
    "sys.path.append(\"../\")\n",
    "\n",
    "from thdc import hdv, bind, bundle, hdvsc, ItemMemory\n",
    "\n",
    "torch.set_default_device(\"cuda\" if torch.cuda.is_available() else \"cpu\")"
   ]
  },
  {
   "cell_type": "code",
   "execution_count": 2,
   "metadata": {},
   "outputs": [],
   "source": [
    "# encode_graphe -> graphHD (graph, vertices, dimensions)\n",
    "DIMENSIONS = 10000\n",
    "\n",
    "\n",
    "def encode_graphe(graph, vertices):\n",
    "    for node in graph.nodes:\n",
    "        if node not in vertices:\n",
    "            vertices[node] = hdv(DIMENSIONS)\n",
    "\n",
    "    Es = []\n",
    "\n",
    "    for edge in graph.edges:\n",
    "        Es.append(bind([vertices[edge[0]], vertices[edge[1]]]))\n",
    "\n",
    "    return bundle(Es)"
   ]
  },
  {
   "cell_type": "code",
   "execution_count": 12,
   "metadata": {},
   "outputs": [],
   "source": [
    "# encode_graphvc -> (graph, vs)\n",
    "DIMENSIONS = 2000\n",
    "N = 100\n",
    "\n",
    "vs = hdvsc(N, DIMENSIONS, side=10, iter=4)"
   ]
  },
  {
   "cell_type": "code",
   "execution_count": 13,
   "metadata": {},
   "outputs": [],
   "source": [
    "def encode_graphvc(graph):\n",
    "    return bundle(list(map(lambda n: vs[round(float(n) * len(vs))], graph.nodes)))"
   ]
  },
  {
   "cell_type": "code",
   "execution_count": 5,
   "metadata": {},
   "outputs": [],
   "source": [
    "class GraphClassifier(BaseEstimator, ClassifierMixin):\n",
    "    def __init__(self):\n",
    "        self.memory = ItemMemory()\n",
    "        self.vertices = dict()\n",
    "\n",
    "    def fit(self, X, y):\n",
    "        for i in range(len(X)):\n",
    "            self.memory.add_vector(y[i], encode_graphvc(X[i]))\n",
    "        return self\n",
    "\n",
    "    def predict(self, X):\n",
    "        p = []\n",
    "\n",
    "        for query in X:\n",
    "            p.append(self.memory.cleanup(encode_graphvc(query))[0])\n",
    "\n",
    "        return p"
   ]
  },
  {
   "cell_type": "code",
   "execution_count": 6,
   "metadata": {},
   "outputs": [],
   "source": [
    "DATASET = load_dataset(\"graphs-datasets/MUTAG\")[\"train\"]"
   ]
  },
  {
   "cell_type": "code",
   "execution_count": 21,
   "metadata": {},
   "outputs": [],
   "source": [
    "(graphs, labels) = process_dataset(DATASET)"
   ]
  },
  {
   "cell_type": "code",
   "execution_count": 22,
   "metadata": {},
   "outputs": [
    {
     "name": "stdout",
     "output_type": "stream",
     "text": [
      "0.10769230769230786\n",
      "0.10769230769230809\n",
      "0.12307692307692379\n",
      "0.12307692307692335\n",
      "0.2153846153846154\n",
      "0.20000000000000012\n",
      "0.2153846153846155\n",
      "0.12307692307692346\n",
      "0.1230769230769239\n",
      "0.1384615384615382\n",
      "0.12307692307692303\n",
      "0.12307692307692324\n",
      "0.1999999999999999\n",
      "0.16923076923076938\n",
      "0.06153846153846173\n"
     ]
    }
   ],
   "source": [
    "# graphs = centrality(graphs, rank=partial(nx.pagerank, alpha=0.85))\n",
    "graphs = centrality(graphs, rank=partial(nx.laplacian_centrality))\n",
    "\n",
    "for n in graphs[0]:\n",
    "    print(n)"
   ]
  },
  {
   "cell_type": "code",
   "execution_count": 9,
   "metadata": {},
   "outputs": [
    {
     "name": "stdout",
     "output_type": "stream",
     "text": [
      "[CV] END ................................ score: (test=0.789) total time=   0.9s\n",
      "[CV] END ................................ score: (test=0.737) total time=   0.4s\n",
      "[CV] END ................................ score: (test=0.684) total time=   0.4s\n",
      "[CV] END ................................ score: (test=0.684) total time=   0.4s\n",
      "[CV] END ................................ score: (test=0.789) total time=   0.4s\n",
      "[CV] END ................................ score: (test=0.895) total time=   0.4s\n",
      "[CV] END ................................ score: (test=0.842) total time=   0.4s\n",
      "[CV] END ................................ score: (test=0.947) total time=   0.4s\n",
      "[CV] END ................................ score: (test=0.842) total time=   0.4s\n",
      "[CV] END ................................ score: (test=0.842) total time=   0.4s\n",
      "Acc => 0.8052631578947368\n",
      "[CV] END ................................ score: (test=0.842) total time=   0.4s\n",
      "[CV] END ................................ score: (test=0.895) total time=   0.4s\n",
      "[CV] END ................................ score: (test=0.895) total time=   0.4s\n",
      "[CV] END ................................ score: (test=0.895) total time=   0.4s\n",
      "[CV] END ................................ score: (test=0.842) total time=   0.4s\n",
      "[CV] END ................................ score: (test=0.684) total time=   0.4s\n",
      "[CV] END ................................ score: (test=0.895) total time=   0.4s\n",
      "[CV] END ................................ score: (test=0.842) total time=   0.4s\n",
      "[CV] END ................................ score: (test=0.895) total time=   0.4s\n",
      "[CV] END ................................ score: (test=0.895) total time=   0.4s\n",
      "Acc => 0.8578947368421052\n",
      "[CV] END ................................ score: (test=0.842) total time=   0.4s\n",
      "[CV] END ................................ score: (test=1.000) total time=   0.4s\n",
      "[CV] END ................................ score: (test=0.895) total time=   0.4s\n",
      "[CV] END ................................ score: (test=0.789) total time=   0.4s\n",
      "[CV] END ................................ score: (test=0.842) total time=   0.4s\n",
      "[CV] END ................................ score: (test=0.789) total time=   0.3s\n",
      "[CV] END ................................ score: (test=0.895) total time=   0.3s\n",
      "[CV] END ................................ score: (test=0.842) total time=   0.4s\n",
      "[CV] END ................................ score: (test=0.947) total time=   0.3s\n",
      "[CV] END ................................ score: (test=0.895) total time=   0.3s\n",
      "Acc => 0.8736842105263157\n",
      "Avg Acc => 0.8456140350877193\n"
     ]
    }
   ],
   "source": [
    "FOLDS, REPS = 10, 3\n",
    "\n",
    "\n",
    "def main():\n",
    "    sum = 0\n",
    "    for _ in range(REPS):\n",
    "        clf = GraphClassifier()\n",
    "        scores = cross_val_score(\n",
    "            clf,\n",
    "            graphs,\n",
    "            labels,\n",
    "            cv=ShuffleSplit(n_splits=FOLDS),\n",
    "            n_jobs=1,\n",
    "            verbose=4,\n",
    "        )\n",
    "        print(\"Acc =>\", scores.mean())\n",
    "        sum += scores.mean()\n",
    "\n",
    "    print(\"Avg Acc =>\", sum / REPS)\n",
    "\n",
    "\n",
    "main()"
   ]
  }
 ],
 "metadata": {
  "kernelspec": {
   "display_name": "Python 3",
   "language": "python",
   "name": "python3"
  },
  "language_info": {
   "codemirror_mode": {
    "name": "ipython",
    "version": 3
   },
   "file_extension": ".py",
   "mimetype": "text/x-python",
   "name": "python",
   "nbconvert_exporter": "python",
   "pygments_lexer": "ipython3",
   "version": "3.10.12"
  }
 },
 "nbformat": 4,
 "nbformat_minor": 2
}
