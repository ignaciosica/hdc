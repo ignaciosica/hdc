{
 "cells": [
  {
   "cell_type": "code",
   "execution_count": null,
   "metadata": {},
   "outputs": [],
   "source": [
    "import torch\n",
    "import numpy as np\n",
    "import networkx as nx\n",
    "from sklearn.base import BaseEstimator, ClassifierMixin\n",
    "from datasets import load_dataset\n",
    "from graph import process_dataset\n",
    "from IPython.display import clear_output\n",
    "\n",
    "torch.set_default_device(\"cuda\" if torch.cuda.is_available() else \"cpu\")"
   ]
  },
  {
   "cell_type": "code",
   "execution_count": null,
   "metadata": {},
   "outputs": [],
   "source": [
    "def encode_graphvc(graph, vertices, vs):  # [0-1] encoded into hvds with precision n\n",
    "    return bundle(map(lambda n: vs[round(float(n) * len(vs))], graph.nodes))"
   ]
  },
  {
   "cell_type": "code",
   "execution_count": null,
   "metadata": {},
   "outputs": [],
   "source": [
    "class GraphClassifier(BaseEstimator, ClassifierMixin):\n",
    "    def __init__(self, encoder, transformer, step=20):\n",
    "        self.encoder = encoder\n",
    "        self.transformer = transformer\n",
    "        self.step = step\n",
    "        self.memory = ItemMemory()\n",
    "        self.vertices = dict()\n",
    "\n",
    "    def fit(self, X, y):\n",
    "        classes = {label: [] for label in set(y)}\n",
    "\n",
    "        for i, graph in enumerate(self.transformer(X)):\n",
    "            classes[y[i]].append(self.encoder(graph, self.vertices))\n",
    "\n",
    "        for key, value in classes.items():\n",
    "            for i in range(0, len(value), self.step):\n",
    "                H = bundle(value[i : i + self.step])\n",
    "                self.memory.add_vector(str(key), H)\n",
    "\n",
    "        return self\n",
    "\n",
    "    def predict(self, X):\n",
    "        p = []\n",
    "        for query in self.transformer(X):\n",
    "            (label, _, _) = self.memory.cleanup(self.encoder(query, self.vertices))\n",
    "            p.append(int(label))\n",
    "\n",
    "        return p"
   ]
  },
  {
   "cell_type": "code",
   "execution_count": null,
   "metadata": {},
   "outputs": [],
   "source": [
    "DATASET = load_dataset(\"graphs-datasets/MUTAG\")[\"train\"]"
   ]
  },
  {
   "cell_type": "code",
   "execution_count": null,
   "metadata": {},
   "outputs": [],
   "source": [
    "(graphs, labels) = process_dataset(DATASET)"
   ]
  }
 ],
 "metadata": {
  "language_info": {
   "name": "python"
  }
 },
 "nbformat": 4,
 "nbformat_minor": 2
}
