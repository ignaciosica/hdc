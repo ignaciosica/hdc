{
 "cells": [
  {
   "cell_type": "code",
   "execution_count": 1,
   "metadata": {},
   "outputs": [],
   "source": [
    "# Dependencies\n",
    "\n",
    "import torch\n",
    "import networkx as nx\n",
    "from sklearn.base import BaseEstimator, ClassifierMixin\n",
    "from datasets import load_dataset\n",
    "from sklearn.model_selection import cross_val_score, ShuffleSplit, cross_val_predict\n",
    "from graph import process_dataset\n",
    "from sklearn.metrics import confusion_matrix, accuracy_score\n",
    "import sys\n",
    "\n",
    "\n",
    "sys.path.append(\"../\")\n",
    "\n",
    "import thdc\n",
    "from hdc import pm\n",
    "\n",
    "\n",
    "torch.set_default_device(\"cuda\" if torch.cuda.is_available() else \"cpu\")"
   ]
  },
  {
   "cell_type": "code",
   "execution_count": null,
   "metadata": {},
   "outputs": [],
   "source": [
    "DATASET = load_dataset(\"graphs-datasets/MUTAG\")[\"train\"]\n",
    "# DATASET = load_dataset(\"graphs-datasets/AIDS\")[\"full\"]\n",
    "# DATASET = load_dataset(\"graphs-datasets/PROTEINS\")[\"train\"]"
   ]
  },
  {
   "cell_type": "code",
   "execution_count": null,
   "metadata": {},
   "outputs": [],
   "source": [
    "FOLDS, REPS, DIMENSIONS = 10, 3, 10000\n",
    "(graphs, labels) = process_dataset(DATASET)\n",
    "VECTORS = torch.randint(0, 2, (31, DIMENSIONS), dtype=torch.float64).cuda()\n",
    "VECTORS[VECTORS == 0] = -1\n",
    "\n",
    "MAT = torch.from_numpy(pm(DIMENSIONS)).cuda()"
   ]
  },
  {
   "cell_type": "code",
   "execution_count": null,
   "metadata": {},
   "outputs": [],
   "source": [
    "import random\n",
    "\n",
    "\n",
    "def create_map(length):\n",
    "    if length > 1000:\n",
    "        raise ValueError(\"Length should be less than or equal to 29\")\n",
    "\n",
    "    m = {}\n",
    "    a = random.sample(range(1000), length)\n",
    "    for i in range(length):\n",
    "        m[i] = a[i]\n",
    "\n",
    "    return m\n",
    "\n",
    "\n",
    "def encode(graph, vectors, mat):\n",
    "    nx.relabel_nodes(graph, create_map(len(list(graph))))\n",
    "\n",
    "    G = None\n",
    "    for vs in nx.bfs_layers(graph, [list(graph)[0]]):\n",
    "        if G is None:\n",
    "            G = torch.sum(\n",
    "                torch.index_select(vectors, 0, torch.tensor(vs)),\n",
    "                dim=0,\n",
    "            )\n",
    "        else:\n",
    "            G = torch.sum(\n",
    "                torch.cat(\n",
    "                    [\n",
    "                        torch.matmul(G, mat)[None, :],\n",
    "                        torch.index_select(vectors, 0, torch.tensor(vs)),\n",
    "                    ],\n",
    "                    0,\n",
    "                ),\n",
    "                dim=0,\n",
    "            )\n",
    "    yield G"
   ]
  },
  {
   "cell_type": "code",
   "execution_count": null,
   "metadata": {},
   "outputs": [],
   "source": [
    "class GraphClassifier(BaseEstimator, ClassifierMixin):\n",
    "    def __init__(self):\n",
    "        self.memory = thdc.ItemMemory()\n",
    "\n",
    "    def fit(self, X, y):\n",
    "        for i in range(len(X)):\n",
    "            for x in encode(X[i], VECTORS, MAT):\n",
    "                self.memory.add_vector(str(y[i]), x)\n",
    "        return self\n",
    "\n",
    "    def predict(self, X):\n",
    "        p = []\n",
    "        for query in X:\n",
    "            for x in encode(query, VECTORS, MAT):\n",
    "                vs = self.memory.cleanup_all(x, 5)\n",
    "                p.append(\n",
    "                    1\n",
    "                    if sum(1 * v[2] ** 4 if v[0] == \"1\" else -1 * v[2] ** 4 for v in vs)\n",
    "                    >= 0\n",
    "                    else 0\n",
    "                )\n",
    "\n",
    "        return p"
   ]
  },
  {
   "cell_type": "code",
   "execution_count": null,
   "metadata": {},
   "outputs": [],
   "source": [
    "def main():\n",
    "    sum = 0\n",
    "    for _ in range(REPS):\n",
    "        clf = GraphClassifier()\n",
    "        scores = cross_val_score(\n",
    "            clf,\n",
    "            graphs,\n",
    "            labels,\n",
    "            cv=ShuffleSplit(),\n",
    "            n_jobs=1,\n",
    "            verbose=4,\n",
    "        )\n",
    "        print(\"Acc =>\", scores.mean())\n",
    "        sum += scores.mean()\n",
    "    print(\"Avg Acc =>\", sum / REPS)\n",
    "\n",
    "\n",
    "def conf():\n",
    "    clf = GraphClassifier()\n",
    "    y_pred = cross_val_predict(clf, graphs, labels, cv=5, n_jobs=1, verbose=4)\n",
    "    print(confusion_matrix(labels, y_pred))\n",
    "    print(accuracy_score(labels, y_pred))\n",
    "\n",
    "\n",
    "main()\n",
    "# conf()"
   ]
  }
 ],
 "metadata": {
  "kernelspec": {
   "display_name": "Python 3",
   "language": "python",
   "name": "python3"
  },
  "language_info": {
   "codemirror_mode": {
    "name": "ipython",
    "version": 3
   },
   "file_extension": ".py",
   "mimetype": "text/x-python",
   "name": "python",
   "nbconvert_exporter": "python",
   "pygments_lexer": "ipython3",
   "version": "3.10.12"
  }
 },
 "nbformat": 4,
 "nbformat_minor": 2
}
