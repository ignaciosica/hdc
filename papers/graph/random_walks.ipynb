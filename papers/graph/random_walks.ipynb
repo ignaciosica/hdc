{
 "cells": [
  {
   "cell_type": "code",
   "execution_count": 1,
   "metadata": {},
   "outputs": [],
   "source": [
    "# Dependencies\n",
    "\n",
    "import torch\n",
    "import networkx as nx\n",
    "from sklearn.base import BaseEstimator, ClassifierMixin\n",
    "from datasets import load_dataset\n",
    "from sklearn.model_selection import cross_val_score\n",
    "from graph import process_dataset\n",
    "import sys\n",
    "\n",
    "sys.path.append(\"../\")\n",
    "\n",
    "import thdc\n",
    "from hdc import pm\n",
    "\n",
    "\n",
    "torch.set_default_device(\"cuda\" if torch.cuda.is_available() else \"cpu\")\n",
    "# torch.cuda.empty_cache()\n",
    "# torch.set_default_tensor_type(torch.cuda.FloatTensor)"
   ]
  },
  {
   "cell_type": "code",
   "execution_count": 2,
   "metadata": {},
   "outputs": [],
   "source": [
    "# DATASET = load_dataset(\"graphs-datasets/MUTAG\")[\"train\"]\n",
    "DATASET = load_dataset(\"graphs-datasets/PROTEINS\")[\"train\"]"
   ]
  },
  {
   "cell_type": "code",
   "execution_count": 3,
   "metadata": {},
   "outputs": [],
   "source": [
    "FOLDS, DIMENSIONS = 10, 2000\n",
    "(graphs, labels) = process_dataset(DATASET)\n",
    "VECTORS = torch.randint(0, 2, (101, DIMENSIONS), dtype=torch.float64).cuda()\n",
    "VECTORS[VECTORS == 0] = -1\n",
    "\n",
    "MAT = torch.from_numpy(pm(DIMENSIONS)).cuda()\n",
    "# MAT.type(torch.int8)"
   ]
  },
  {
   "cell_type": "code",
   "execution_count": 4,
   "metadata": {},
   "outputs": [
    {
     "data": {
      "text/plain": [
       "tensor([-1., -1., -1.,  ...,  1., -1., -1.], device='cuda:0',\n",
       "       dtype=torch.float64)"
      ]
     },
     "execution_count": 4,
     "metadata": {},
     "output_type": "execute_result"
    }
   ],
   "source": [
    "torch.matmul(VECTORS[0], MAT)"
   ]
  },
  {
   "cell_type": "code",
   "execution_count": 5,
   "metadata": {},
   "outputs": [],
   "source": [
    "def encode(graph, vectors, mat):\n",
    "    G = None\n",
    "    for vs in nx.bfs_layers(graph, [1]):\n",
    "        if len(vs) == 0:\n",
    "            continue\n",
    "\n",
    "        # indices = torch.tensor(vs)\n",
    "        if G is None:\n",
    "            G = torch.sum(\n",
    "                torch.index_select(vectors, 0, torch.tensor(vs)),\n",
    "                dim=0,\n",
    "            )\n",
    "        else:\n",
    "            G = torch.sum(\n",
    "                torch.cat(\n",
    "                    [\n",
    "                        torch.matmul(G, mat)[None, :],\n",
    "                        torch.index_select(vectors, 0, torch.tensor(vs)),\n",
    "                    ],\n",
    "                    0,\n",
    "                ),\n",
    "                dim=0,\n",
    "            )\n",
    "    return G"
   ]
  },
  {
   "cell_type": "code",
   "execution_count": 6,
   "metadata": {},
   "outputs": [],
   "source": [
    "class GraphClassifier(BaseEstimator, ClassifierMixin):\n",
    "    def __init__(self):\n",
    "        self.memory = thdc.ItemMemory()\n",
    "\n",
    "    def fit(self, X, y):\n",
    "        for i in range(len(X)):\n",
    "            self.memory.add_vector(str(y[i]), encode(X[i], VECTORS, MAT, 0))\n",
    "\n",
    "        return self\n",
    "\n",
    "    def predict(self, X):\n",
    "        p = []\n",
    "        for query in X:\n",
    "            (label, _, _) = self.memory.cleanup(encode(query, VECTORS, MAT, 0))\n",
    "            p.append(int(label))\n",
    "\n",
    "        return p"
   ]
  },
  {
   "cell_type": "code",
   "execution_count": 7,
   "metadata": {},
   "outputs": [],
   "source": [
    "def main():\n",
    "    clf = GraphClassifier()\n",
    "    scores = cross_val_score(\n",
    "        clf,\n",
    "        graphs,\n",
    "        labels,\n",
    "        cv=5,\n",
    "        n_jobs=1,\n",
    "        verbose=4,\n",
    "        error_score=\"raise\",\n",
    "    )\n",
    "    print(\"Acc =>\", scores.mean())\n",
    "\n",
    "\n",
    "main()"
   ]
  }
 ],
 "metadata": {
  "kernelspec": {
   "display_name": "Python 3",
   "language": "python",
   "name": "python3"
  },
  "language_info": {
   "codemirror_mode": {
    "name": "ipython",
    "version": 3
   },
   "file_extension": ".py",
   "mimetype": "text/x-python",
   "name": "python",
   "nbconvert_exporter": "python",
   "pygments_lexer": "ipython3",
   "version": "3.10.12"
  }
 },
 "nbformat": 4,
 "nbformat_minor": 2
}
