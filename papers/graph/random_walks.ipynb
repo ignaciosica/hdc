{
 "cells": [
  {
   "cell_type": "code",
   "execution_count": null,
   "metadata": {},
   "outputs": [],
   "source": [
    "# Dependencies\n",
    "\n",
    "\n",
    "import numpy as np\n",
    "import networkx as nx\n",
    "from sklearn.base import BaseEstimator, ClassifierMixin\n",
    "from datasets import load_dataset\n",
    "from sklearn.model_selection import cross_val_score, ShuffleSplit\n",
    "from graph import process_dataset, transform, centrality\n",
    "from IPython.display import clear_output\n",
    "import sklearn\n",
    "from sklearn.metrics import accuracy_score\n",
    "from functools import partial\n",
    "import sys\n",
    "import time\n",
    "\n",
    "\n",
    "sys.path.append(\"../\")\n",
    "\n",
    "import thdc\n",
    "\n",
    "from hdc import (\n",
    "    hdv,\n",
    "    bind,\n",
    "    bundle,\n",
    "    sbundle,\n",
    "    ItemMemory,\n",
    "    hdvw,\n",
    "    hdva,\n",
    "    cosim,\n",
    "    hdvsc,\n",
    "    zero,\n",
    "    hdvs,\n",
    "    pm,\n",
    "    permute,\n",
    ")\n",
    "\n",
    "import torch\n",
    "\n",
    "torch.set_default_device(\"cuda\" if torch.cuda.is_available() else \"cpu\")"
   ]
  },
  {
   "cell_type": "code",
   "execution_count": null,
   "metadata": {},
   "outputs": [],
   "source": [
    "DATASET = load_dataset(\"graphs-datasets/MUTAG\")[\"train\"]"
   ]
  },
  {
   "cell_type": "code",
   "execution_count": null,
   "metadata": {},
   "outputs": [],
   "source": [
    "FOLDS, REPS = 10, 3\n",
    "DIMENSIONS, STEP = 10000, 20"
   ]
  },
  {
   "cell_type": "code",
   "execution_count": null,
   "metadata": {},
   "outputs": [],
   "source": [
    "tensor = torch.randint(0, 2, (30, DIMENSIONS), dtype=torch.float64).cuda()"
   ]
  },
  {
   "cell_type": "code",
   "execution_count": null,
   "metadata": {},
   "outputs": [],
   "source": [
    "tensor[tensor == 0] = -1"
   ]
  },
  {
   "cell_type": "code",
   "execution_count": null,
   "metadata": {},
   "outputs": [],
   "source": [
    "tensor\n",
    "print(tensor)\n",
    "indices = torch.tensor([0, 2])\n",
    "sum = torch.sum(torch.index_select(tensor, 0, indices), dim=0)\n",
    "print(sum)"
   ]
  },
  {
   "cell_type": "code",
   "execution_count": null,
   "metadata": {},
   "outputs": [],
   "source": [
    "FOLDS, REPS = 10, 3\n",
    "DIMENSIONS, STEP = 10000, 20\n",
    "\n",
    "# HVs = hdvs(30, DIMENSIONS)\n",
    "P = pm(DIMENSIONS)\n",
    "\n",
    "tvs = tensor\n",
    "tp = torch.from_numpy(P).cuda()\n",
    "\n",
    "memory = ItemMemory()\n",
    "\n",
    "(graphs, labels) = process_dataset(DATASET)"
   ]
  },
  {
   "cell_type": "code",
   "execution_count": null,
   "metadata": {},
   "outputs": [],
   "source": [
    "# torch.matmul(tensor[0], tp)"
   ]
  },
  {
   "cell_type": "code",
   "execution_count": null,
   "metadata": {},
   "outputs": [],
   "source": [
    "def encode(graph, vectors):\n",
    "    G = None\n",
    "    for vs in nx.bfs_layers(graph, 0):\n",
    "        indices = torch.tensor(vs)\n",
    "        if G is None:\n",
    "            G = torch.sum(torch.index_select(tensor, 0, indices), dim=0)\n",
    "        else:\n",
    "            # print(G[None, :].shape)\n",
    "            # print(G)\n",
    "            # print(torch.index_select(tensor, 0, indices).shape)\n",
    "            # print(torch.index_select(tensor, 0, indices))\n",
    "            G = torch.sum(\n",
    "                torch.cat(\n",
    "                    [\n",
    "                        torch.matmul(G, tp)[None, :],\n",
    "                        torch.index_select(tensor, 0, indices),\n",
    "                    ],\n",
    "                    0,\n",
    "                ),\n",
    "                dim=0,\n",
    "            )\n",
    "\n",
    "        # if G is None:\n",
    "        #     G = thdc.bundle([*list(map(lambda v: vectors[v], vs))])\n",
    "        #     print(G)\n",
    "        # else:\n",
    "        #     G = thdc.bundle([torch.matmul(tp, G), *list(map(lambda v: vectors[v], vs))])\n",
    "\n",
    "        # s = torch.sum(\n",
    "        #     vectors,\n",
    "        #     where=np.atleast_2d(\n",
    "        #         [True if v in vs else False for v in range(len(vectors))]\n",
    "        #     ).T,\n",
    "        #     axis=0,\n",
    "        # # )\n",
    "\n",
    "        # G = torch.sum([tp.dot(G), s], axis=0)\n",
    "        # G = torch.sum([tp.dot(G), *list(map(lambda v: vectors[v], vs))], axis=0)\n",
    "        # G = torch.sum([tp.dot(G), *list(map(lambda v: vectors[v], vs))], axis=0)\n",
    "    return G\n",
    "\n",
    "\n",
    "for graph in graphs[:20]:\n",
    "    encode(graph, tensor)"
   ]
  },
  {
   "cell_type": "code",
   "execution_count": null,
   "metadata": {},
   "outputs": [],
   "source": [
    "class GraphClassifier(BaseEstimator, ClassifierMixin):\n",
    "    def __init__(self, step=20):\n",
    "        self.step = step\n",
    "        self.memory = ItemMemory()\n",
    "        self.vectors = hdvs(100, DIMENSIONS)\n",
    "\n",
    "    def fit(self, X, y):\n",
    "        classes = {label: [] for label in set(y)}\n",
    "\n",
    "        for i in range(len(X)):\n",
    "            classes[y[i]].append(encode(X[i], self.vectors))\n",
    "\n",
    "        for key, value in classes.items():\n",
    "            for i in range(0, len(value), self.step):\n",
    "                H = bundle(value[i : i + self.step])\n",
    "                self.memory.add_vector(str(key), H)\n",
    "\n",
    "        return self\n",
    "\n",
    "    def predict(self, X):\n",
    "        p = []\n",
    "        for query in X:\n",
    "            (label, _, _) = self.memory.cleanup(encode(query, self.vectors))\n",
    "            p.append(int(label))\n",
    "\n",
    "        return p"
   ]
  },
  {
   "cell_type": "code",
   "execution_count": null,
   "metadata": {},
   "outputs": [],
   "source": [
    "def main():\n",
    "    clf = GraphClassifier(step=STEP)\n",
    "    sum = 0\n",
    "    start_time = time.time()\n",
    "    for i in range(REPS):\n",
    "        scores = cross_val_score(\n",
    "            clf, graphs, labels, cv=ShuffleSplit(), n_jobs=-1, verbose=4\n",
    "        )\n",
    "        sum += scores.mean()\n",
    "        print(sum)\n",
    "        del scores\n",
    "    end_time = time.time()\n",
    "    print(\n",
    "        \"  Acc => %.5f\" % (sum / REPS),\n",
    "        \"T => %.5f\" % ((end_time - start_time) / REPS),\n",
    "    )\n",
    "\n",
    "\n",
    "main()"
   ]
  }
 ],
 "metadata": {
  "kernelspec": {
   "display_name": "Python 3",
   "language": "python",
   "name": "python3"
  },
  "language_info": {
   "codemirror_mode": {
    "name": "ipython",
    "version": 3
   },
   "file_extension": ".py",
   "mimetype": "text/x-python",
   "name": "python",
   "nbconvert_exporter": "python",
   "pygments_lexer": "ipython3",
   "version": "3.10.12"
  }
 },
 "nbformat": 4,
 "nbformat_minor": 2
}
