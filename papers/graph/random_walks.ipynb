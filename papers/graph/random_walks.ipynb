{
 "cells": [
  {
   "cell_type": "code",
   "execution_count": 1,
   "metadata": {},
   "outputs": [
    {
     "name": "stderr",
     "output_type": "stream",
     "text": [
      "/home/p4ssenger/.local/lib/python3.10/site-packages/torch/cuda/__init__.py:107: UserWarning: CUDA initialization: Unexpected error from cudaGetDeviceCount(). Did you run some cuda functions before calling NumCudaDevices() that might have already set an error? Error 804: forward compatibility was attempted on non supported HW (Triggered internally at ../c10/cuda/CUDAFunctions.cpp:109.)\n",
      "  return torch._C._cuda_getDeviceCount() > 0\n"
     ]
    }
   ],
   "source": [
    "# Dependencies\n",
    "\n",
    "import torch\n",
    "import networkx as nx\n",
    "from sklearn.base import BaseEstimator, ClassifierMixin\n",
    "from datasets import load_dataset\n",
    "from sklearn.model_selection import cross_val_score, ShuffleSplit, cross_val_predict\n",
    "from graph import process_dataset\n",
    "from sklearn.metrics import confusion_matrix, accuracy_score, balanced_accuracy_score\n",
    "import sys\n",
    "import random\n",
    "\n",
    "\n",
    "sys.path.append(\"../\")\n",
    "\n",
    "import thdc\n",
    "from hdc import pm\n",
    "\n",
    "\n",
    "torch.set_default_device(\"cuda\" if torch.cuda.is_available() else \"cpu\")\n",
    "torch.set_default_dtype(torch.half)"
   ]
  },
  {
   "cell_type": "code",
   "execution_count": 2,
   "metadata": {},
   "outputs": [],
   "source": [
    "DATASET = load_dataset(\"graphs-datasets/MUTAG\")[\"train\"]\n",
    "# DATASET = load_dataset(\"graphs-datasets/AIDS\")[\"full\"]\n",
    "# DATASET = load_dataset(\"graphs-datasets/PROTEINS\")[\"train\"]"
   ]
  },
  {
   "cell_type": "code",
   "execution_count": 3,
   "metadata": {},
   "outputs": [],
   "source": [
    "def create_map(length):\n",
    "    m = {}\n",
    "    a = random.sample(range(length), length)\n",
    "    for i in range(length):\n",
    "        m[i] = a[i]\n",
    "\n",
    "    return m"
   ]
  },
  {
   "cell_type": "code",
   "execution_count": 4,
   "metadata": {},
   "outputs": [
    {
     "name": "stdout",
     "output_type": "stream",
     "text": [
      "[0, 1, 5, 2, 3, 4, 9, 6, 7, 8, 13, 10, 11, 12, 14, 15, 16]\n",
      "[13, 8, 15, 14, 2, 12, 11, 6, 3, 7, 1, 16, 9, 4, 5, 0, 10]\n"
     ]
    },
    {
     "ename": "RuntimeError",
     "evalue": "Unexpected error from cudaGetDeviceCount(). Did you run some cuda functions before calling NumCudaDevices() that might have already set an error? Error 804: forward compatibility was attempted on non supported HW",
     "output_type": "error",
     "traceback": [
      "\u001b[0;31m---------------------------------------------------------------------------\u001b[0m",
      "\u001b[0;31mRuntimeError\u001b[0m                              Traceback (most recent call last)",
      "\u001b[1;32m/home/p4ssenger/Src/hdc/papers/graph/random_walks.ipynb Cell 4\u001b[0m line \u001b[0;36m1\n\u001b[1;32m      <a href='vscode-notebook-cell:/home/p4ssenger/Src/hdc/papers/graph/random_walks.ipynb#W3sZmlsZQ%3D%3D?line=8'>9</a>\u001b[0m     graphs[i] \u001b[39m=\u001b[39m nx\u001b[39m.\u001b[39mrelabel_nodes(graphs[i], create_map(\u001b[39mlen\u001b[39m(\u001b[39mlist\u001b[39m(graphs[i]))))\n\u001b[1;32m     <a href='vscode-notebook-cell:/home/p4ssenger/Src/hdc/papers/graph/random_walks.ipynb#W3sZmlsZQ%3D%3D?line=9'>10</a>\u001b[0m \u001b[39mprint\u001b[39m(\u001b[39mlist\u001b[39m(graphs[\u001b[39m0\u001b[39m]))\n\u001b[0;32m---> <a href='vscode-notebook-cell:/home/p4ssenger/Src/hdc/papers/graph/random_walks.ipynb#W3sZmlsZQ%3D%3D?line=12'>13</a>\u001b[0m VECTORS \u001b[39m=\u001b[39m torch\u001b[39m.\u001b[39;49mrandint(\u001b[39m0\u001b[39;49m, \u001b[39m2\u001b[39;49m, (NODES, DIMENSIONS), dtype\u001b[39m=\u001b[39;49mtorch\u001b[39m.\u001b[39;49mint32, device\u001b[39m=\u001b[39;49m\u001b[39m\"\u001b[39;49m\u001b[39mcuda\u001b[39;49m\u001b[39m\"\u001b[39;49m)\n\u001b[1;32m     <a href='vscode-notebook-cell:/home/p4ssenger/Src/hdc/papers/graph/random_walks.ipynb#W3sZmlsZQ%3D%3D?line=13'>14</a>\u001b[0m VECTORS[VECTORS \u001b[39m==\u001b[39m \u001b[39m0\u001b[39m] \u001b[39m=\u001b[39m \u001b[39m-\u001b[39m\u001b[39m1\u001b[39m\n\u001b[1;32m     <a href='vscode-notebook-cell:/home/p4ssenger/Src/hdc/papers/graph/random_walks.ipynb#W3sZmlsZQ%3D%3D?line=15'>16</a>\u001b[0m \u001b[39m# MAT = torch.from_numpy(pm(DIMENSIONS)).cuda()\u001b[39;00m\n",
      "File \u001b[0;32m~/.local/lib/python3.10/site-packages/torch/utils/_device.py:62\u001b[0m, in \u001b[0;36mDeviceContext.__torch_function__\u001b[0;34m(self, func, types, args, kwargs)\u001b[0m\n\u001b[1;32m     60\u001b[0m \u001b[39mif\u001b[39;00m func \u001b[39min\u001b[39;00m _device_constructors() \u001b[39mand\u001b[39;00m kwargs\u001b[39m.\u001b[39mget(\u001b[39m'\u001b[39m\u001b[39mdevice\u001b[39m\u001b[39m'\u001b[39m) \u001b[39mis\u001b[39;00m \u001b[39mNone\u001b[39;00m:\n\u001b[1;32m     61\u001b[0m     kwargs[\u001b[39m'\u001b[39m\u001b[39mdevice\u001b[39m\u001b[39m'\u001b[39m] \u001b[39m=\u001b[39m \u001b[39mself\u001b[39m\u001b[39m.\u001b[39mdevice\n\u001b[0;32m---> 62\u001b[0m \u001b[39mreturn\u001b[39;00m func(\u001b[39m*\u001b[39;49margs, \u001b[39m*\u001b[39;49m\u001b[39m*\u001b[39;49mkwargs)\n",
      "File \u001b[0;32m~/.local/lib/python3.10/site-packages/torch/cuda/__init__.py:247\u001b[0m, in \u001b[0;36m_lazy_init\u001b[0;34m()\u001b[0m\n\u001b[1;32m    245\u001b[0m \u001b[39mif\u001b[39;00m \u001b[39m'\u001b[39m\u001b[39mCUDA_MODULE_LOADING\u001b[39m\u001b[39m'\u001b[39m \u001b[39mnot\u001b[39;00m \u001b[39min\u001b[39;00m os\u001b[39m.\u001b[39menviron:\n\u001b[1;32m    246\u001b[0m     os\u001b[39m.\u001b[39menviron[\u001b[39m'\u001b[39m\u001b[39mCUDA_MODULE_LOADING\u001b[39m\u001b[39m'\u001b[39m] \u001b[39m=\u001b[39m \u001b[39m'\u001b[39m\u001b[39mLAZY\u001b[39m\u001b[39m'\u001b[39m\n\u001b[0;32m--> 247\u001b[0m torch\u001b[39m.\u001b[39;49m_C\u001b[39m.\u001b[39;49m_cuda_init()\n\u001b[1;32m    248\u001b[0m \u001b[39m# Some of the queued calls may reentrantly call _lazy_init();\u001b[39;00m\n\u001b[1;32m    249\u001b[0m \u001b[39m# we need to just return without initializing in that case.\u001b[39;00m\n\u001b[1;32m    250\u001b[0m \u001b[39m# However, we must not let any *other* threads in!\u001b[39;00m\n\u001b[1;32m    251\u001b[0m _tls\u001b[39m.\u001b[39mis_initializing \u001b[39m=\u001b[39m \u001b[39mTrue\u001b[39;00m\n",
      "\u001b[0;31mRuntimeError\u001b[0m: Unexpected error from cudaGetDeviceCount(). Did you run some cuda functions before calling NumCudaDevices() that might have already set an error? Error 804: forward compatibility was attempted on non supported HW"
     ]
    }
   ],
   "source": [
    "DIMENSIONS = 2500\n",
    "NODES = 28\n",
    "\n",
    "(graphs, labels) = process_dataset(DATASET)\n",
    "\n",
    "print(list(graphs[0]))\n",
    "for i in range(len(graphs)):\n",
    "    # graphs[i] = nx.relabel_nodes(graphs[i], create_map(NODES))\n",
    "    graphs[i] = nx.relabel_nodes(graphs[i], create_map(len(list(graphs[i]))))\n",
    "print(list(graphs[0]))\n",
    "\n",
    "\n",
    "VECTORS = torch.randint(0, 2, (NODES, DIMENSIONS), dtype=torch.int32, device=\"cuda\")\n",
    "VECTORS[VECTORS == 0] = -1\n",
    "\n",
    "# MAT = torch.from_numpy(pm(DIMENSIONS)).cuda()"
   ]
  },
  {
   "cell_type": "code",
   "execution_count": null,
   "metadata": {},
   "outputs": [],
   "source": [
    "def encode(graph):\n",
    "    G = torch.zeros(DIMENSIONS, device=\"cuda\")\n",
    "    for n in random.sample(list(graph), 1):\n",
    "        for vs in nx.bfs_layers(graph, [0]):\n",
    "            # for vs in nx.dfs_preorder_nodes(graph, 0):\n",
    "            # for vs in nx.bfs_layers(g, [list(g)[0]]):\n",
    "            # for vs in nx.bfs_layers(graph, [n]):\n",
    "            # for vs in nx.bfs_layers(graph, list(graph)):\n",
    "            # if G is None:\n",
    "            #     G = torch.sum(\n",
    "            #         torch.index_select(vectors, 0, torch.tensor(vs)),\n",
    "            #         dim=0,\n",
    "            #     )\n",
    "            # else:\n",
    "            G = torch.sum(\n",
    "                torch.cat(\n",
    "                    [\n",
    "                        # torch.matmul(G, MAT)[None, :],\n",
    "                        G[None, :],\n",
    "                        torch.index_select(VECTORS, 0, torch.tensor(vs)),\n",
    "                    ],\n",
    "                    0,\n",
    "                ),\n",
    "                dim=0,\n",
    "            )\n",
    "        yield G"
   ]
  },
  {
   "cell_type": "code",
   "execution_count": null,
   "metadata": {},
   "outputs": [],
   "source": [
    "class GraphClassifier(BaseEstimator, ClassifierMixin):\n",
    "    def __init__(self):\n",
    "        self.memory = thdc.ItemMemory()\n",
    "\n",
    "    def fit(self, X, y):\n",
    "        for i in range(len(X)):\n",
    "            for x in encode(X[i]):\n",
    "                self.memory.add_vector_wn(y[i], x)\n",
    "        return self\n",
    "\n",
    "    def predict(self, X):\n",
    "        p = []\n",
    "        for query in X:\n",
    "            max_score = 0\n",
    "\n",
    "            for x in encode(query):\n",
    "                # p.append(self.memory.cleanup(x)[0])\n",
    "                vs = self.memory.cleanup_all(x, 1)\n",
    "                s = sum(1 * (v[2] ** 4) if v[0] == 1 else -1 * (v[2] ** 4) for v in vs)\n",
    "                if abs(s) > max_score:\n",
    "                    max_score = s\n",
    "\n",
    "            p.append(1 if max_score >= 0 else 0)\n",
    "\n",
    "        return p"
   ]
  },
  {
   "cell_type": "code",
   "execution_count": null,
   "metadata": {},
   "outputs": [
    {
     "ename": "NameError",
     "evalue": "name 'balanced_accuracy_score' is not defined",
     "output_type": "error",
     "traceback": [
      "\u001b[0;31m---------------------------------------------------------------------------\u001b[0m",
      "\u001b[0;31mNameError\u001b[0m                                 Traceback (most recent call last)",
      "\u001b[1;32m/home/p4ssenger/Src/hdc/papers/graph/random_walks.ipynb Cell 7\u001b[0m line \u001b[0;36m3\n\u001b[1;32m     <a href='vscode-notebook-cell:/home/p4ssenger/Src/hdc/papers/graph/random_walks.ipynb#W6sZmlsZQ%3D%3D?line=26'>27</a>\u001b[0m     \u001b[39mprint\u001b[39m(accuracy_score(labels, y_pred))\n\u001b[1;32m     <a href='vscode-notebook-cell:/home/p4ssenger/Src/hdc/papers/graph/random_walks.ipynb#W6sZmlsZQ%3D%3D?line=29'>30</a>\u001b[0m \u001b[39m# main()\u001b[39;00m\n\u001b[0;32m---> <a href='vscode-notebook-cell:/home/p4ssenger/Src/hdc/papers/graph/random_walks.ipynb#W6sZmlsZQ%3D%3D?line=30'>31</a>\u001b[0m conf()\n",
      "\u001b[1;32m/home/p4ssenger/Src/hdc/papers/graph/random_walks.ipynb Cell 7\u001b[0m line \u001b[0;36m2\n\u001b[1;32m     <a href='vscode-notebook-cell:/home/p4ssenger/Src/hdc/papers/graph/random_walks.ipynb#W6sZmlsZQ%3D%3D?line=22'>23</a>\u001b[0m clf \u001b[39m=\u001b[39m GraphClassifier()\n\u001b[1;32m     <a href='vscode-notebook-cell:/home/p4ssenger/Src/hdc/papers/graph/random_walks.ipynb#W6sZmlsZQ%3D%3D?line=23'>24</a>\u001b[0m y_pred \u001b[39m=\u001b[39m cross_val_predict(clf, graphs, labels, cv\u001b[39m=\u001b[39mFOLDS, n_jobs\u001b[39m=\u001b[39m\u001b[39m1\u001b[39m)\n\u001b[0;32m---> <a href='vscode-notebook-cell:/home/p4ssenger/Src/hdc/papers/graph/random_walks.ipynb#W6sZmlsZQ%3D%3D?line=24'>25</a>\u001b[0m \u001b[39mprint\u001b[39m(balanced_accuracy_score(labels, y_pred, adjusted\u001b[39m=\u001b[39m\u001b[39mFalse\u001b[39;00m))\n\u001b[1;32m     <a href='vscode-notebook-cell:/home/p4ssenger/Src/hdc/papers/graph/random_walks.ipynb#W6sZmlsZQ%3D%3D?line=25'>26</a>\u001b[0m \u001b[39mprint\u001b[39m(confusion_matrix(labels, y_pred))\n\u001b[1;32m     <a href='vscode-notebook-cell:/home/p4ssenger/Src/hdc/papers/graph/random_walks.ipynb#W6sZmlsZQ%3D%3D?line=26'>27</a>\u001b[0m \u001b[39mprint\u001b[39m(accuracy_score(labels, y_pred))\n",
      "\u001b[0;31mNameError\u001b[0m: name 'balanced_accuracy_score' is not defined"
     ]
    }
   ],
   "source": [
    "FOLDS, REPS = 10, 3\n",
    "\n",
    "\n",
    "def main():\n",
    "    sum = 0\n",
    "    for _ in range(REPS):\n",
    "        clf = GraphClassifier()\n",
    "        scores = cross_val_score(\n",
    "            clf,\n",
    "            graphs,\n",
    "            labels,\n",
    "            cv=ShuffleSplit(n_splits=FOLDS),\n",
    "            n_jobs=1,\n",
    "            verbose=4,\n",
    "        )\n",
    "        print(\"Acc =>\", scores.mean())\n",
    "        sum += scores.mean()\n",
    "\n",
    "    print(\"Avg Acc =>\", sum / REPS)\n",
    "\n",
    "\n",
    "def conf():\n",
    "    clf = GraphClassifier()\n",
    "    y_pred = cross_val_predict(clf, graphs, labels, cv=FOLDS, n_jobs=1)\n",
    "    print(balanced_accuracy_score(labels, y_pred, adjusted=False))\n",
    "    print(confusion_matrix(labels, y_pred))\n",
    "    print(accuracy_score(labels, y_pred))\n",
    "\n",
    "\n",
    "# main()\n",
    "conf()"
   ]
  }
 ],
 "metadata": {
  "kernelspec": {
   "display_name": "Python 3",
   "language": "python",
   "name": "python3"
  },
  "language_info": {
   "codemirror_mode": {
    "name": "ipython",
    "version": 3
   },
   "file_extension": ".py",
   "mimetype": "text/x-python",
   "name": "python",
   "nbconvert_exporter": "python",
   "pygments_lexer": "ipython3",
   "version": "3.10.12"
  }
 },
 "nbformat": 4,
 "nbformat_minor": 2
}
