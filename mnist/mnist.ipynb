{
 "cells": [
  {
   "cell_type": "code",
   "execution_count": 1,
   "metadata": {},
   "outputs": [],
   "source": [
    "import torch\n",
    "import pandas as pd\n",
    "import numpy as np\n",
    "\n",
    "from sklearn.base import BaseEstimator, ClassifierMixin\n",
    "from sklearn.model_selection import cross_val_score\n",
    "\n",
    "import sys\n",
    "\n",
    "sys.path.append(\".././papers/\")\n",
    "\n",
    "from thdc import ItemMemory"
   ]
  },
  {
   "cell_type": "code",
   "execution_count": 2,
   "metadata": {},
   "outputs": [],
   "source": [
    "data = pd.read_csv(\"../datasets/mnist_train.csv\")\n",
    "data = np.array(data)\n",
    "np.random.shuffle(data)\n",
    "data = torch.from_numpy(data)\n",
    "\n",
    "\n",
    "labels = data[:10000, 0]\n",
    "data = data[:10000, 1:]"
   ]
  },
  {
   "cell_type": "code",
   "execution_count": 3,
   "metadata": {},
   "outputs": [],
   "source": [
    "vals = torch.randint(0, 2, (256, 10000), dtype=torch.float, device=\"cuda\")\n",
    "vals[vals == 0] = -1\n",
    "\n",
    "board = torch.randint(0, 2, (784, 10000), dtype=torch.float, device=\"cuda\")\n",
    "board[board == 0] = -1"
   ]
  },
  {
   "cell_type": "code",
   "execution_count": 4,
   "metadata": {},
   "outputs": [],
   "source": [
    "def encode(image):\n",
    "    values = image[image != 0]\n",
    "    indices = (image > 0).nonzero().reshape((values.shape[0],))\n",
    "\n",
    "    vs = vals[values]\n",
    "    bs = board[indices]\n",
    "\n",
    "    base = torch.stack((vs, bs), dim=1)\n",
    "    bin = torch.prod(base, 1)\n",
    "    G = torch.sum(bin, 0)\n",
    "\n",
    "    return G"
   ]
  },
  {
   "cell_type": "code",
   "execution_count": 5,
   "metadata": {},
   "outputs": [],
   "source": [
    "class MnistClassifier(BaseEstimator, ClassifierMixin):\n",
    "    def __init__(self):\n",
    "        self.memory = ItemMemory()\n",
    "\n",
    "    def fit(self, X, y):\n",
    "        for i in range(len(X)):\n",
    "            self.memory.add_vector(y[i], encode(X[i]))\n",
    "        return self\n",
    "\n",
    "    def predict(self, X):\n",
    "        p = []\n",
    "\n",
    "        for query in X:\n",
    "            p.append(self.memory.cleanup(encode(query))[0])\n",
    "\n",
    "        return p"
   ]
  },
  {
   "cell_type": "code",
   "execution_count": 6,
   "metadata": {},
   "outputs": [
    {
     "name": "stdout",
     "output_type": "stream",
     "text": [
      "[CV] END ................................ score: (test=0.669) total time=37.0min\n",
      "[CV] END ................................ score: (test=0.693) total time=35.8min\n",
      "[CV] END ................................ score: (test=0.693) total time=35.8min\n",
      "0.6853015835476768\n"
     ]
    }
   ],
   "source": [
    "def main():\n",
    "    clf = MnistClassifier()\n",
    "    scores = cross_val_score(clf, data, labels, cv=3, n_jobs=1, verbose=4)\n",
    "    print(scores.mean())\n",
    "\n",
    "\n",
    "main()"
   ]
  }
 ],
 "metadata": {
  "kernelspec": {
   "display_name": "Python 3",
   "language": "python",
   "name": "python3"
  },
  "language_info": {
   "codemirror_mode": {
    "name": "ipython",
    "version": 3
   },
   "file_extension": ".py",
   "mimetype": "text/x-python",
   "name": "python",
   "nbconvert_exporter": "python",
   "pygments_lexer": "ipython3",
   "version": "3.10.12"
  }
 },
 "nbformat": 4,
 "nbformat_minor": 2
}
