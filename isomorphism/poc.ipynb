{
 "cells": [
  {
   "cell_type": "code",
   "execution_count": 1,
   "metadata": {},
   "outputs": [],
   "source": [
    "import torchhd\n",
    "import networkx as nx"
   ]
  },
  {
   "cell_type": "code",
   "execution_count": 4,
   "metadata": {},
   "outputs": [],
   "source": [
    "def min_max_graph_size(graphs):\n",
    "    if len(graphs) == 0:\n",
    "        return None, None\n",
    "\n",
    "    max_num_nodes = float(\"-inf\")\n",
    "    min_num_nodes = float(\"inf\")\n",
    "\n",
    "    for graph in graphs:\n",
    "        num_nodes = graph.num_nodes\n",
    "        max_num_nodes = max(max_num_nodes, num_nodes)\n",
    "        min_num_nodes = min(min_num_nodes, num_nodes)\n",
    "\n",
    "    return min_num_nodes, max_num_nodes"
   ]
  },
  {
   "cell_type": "code",
   "execution_count": 38,
   "metadata": {},
   "outputs": [
    {
     "name": "stdout",
     "output_type": "stream",
     "text": [
      "0\n",
      "7\n"
     ]
    },
    {
     "ename": "TypeError",
     "evalue": "set_node_attributes() takes from 2 to 3 positional arguments but 4 were given",
     "output_type": "error",
     "traceback": [
      "\u001b[0;31m---------------------------------------------------------------------------\u001b[0m",
      "\u001b[0;31mTypeError\u001b[0m                                 Traceback (most recent call last)",
      "\u001b[1;32m/home/p4ssenger/Src/hdc/isomorphism/poc.ipynb Cell 3\u001b[0m line \u001b[0;36m2\n\u001b[1;32m     <a href='vscode-notebook-cell:/home/p4ssenger/Src/hdc/isomorphism/poc.ipynb#W2sZmlsZQ%3D%3D?line=19'>20</a>\u001b[0m degree_hvs \u001b[39m=\u001b[39m torchhd\u001b[39m.\u001b[39mrandom(\u001b[39m25\u001b[39m, DIMENSIONS)\n\u001b[1;32m     <a href='vscode-notebook-cell:/home/p4ssenger/Src/hdc/isomorphism/poc.ipynb#W2sZmlsZQ%3D%3D?line=21'>22</a>\u001b[0m g \u001b[39m=\u001b[39m nx\u001b[39m.\u001b[39mgnm_random_graph(NODES, EDGES)\n\u001b[0;32m---> <a href='vscode-notebook-cell:/home/p4ssenger/Src/hdc/isomorphism/poc.ipynb#W2sZmlsZQ%3D%3D?line=22'>23</a>\u001b[0m encode(g, degree_hvs)\n",
      "\u001b[1;32m/home/p4ssenger/Src/hdc/isomorphism/poc.ipynb Cell 3\u001b[0m line \u001b[0;36m6\n\u001b[1;32m      <a href='vscode-notebook-cell:/home/p4ssenger/Src/hdc/isomorphism/poc.ipynb#W2sZmlsZQ%3D%3D?line=3'>4</a>\u001b[0m     \u001b[39mprint\u001b[39m(graph\u001b[39m.\u001b[39mdegree[node])\n\u001b[1;32m      <a href='vscode-notebook-cell:/home/p4ssenger/Src/hdc/isomorphism/poc.ipynb#W2sZmlsZQ%3D%3D?line=4'>5</a>\u001b[0m     degree_dict \u001b[39m=\u001b[39m graph\u001b[39m.\u001b[39mdegree[node]\n\u001b[0;32m----> <a href='vscode-notebook-cell:/home/p4ssenger/Src/hdc/isomorphism/poc.ipynb#W2sZmlsZQ%3D%3D?line=5'>6</a>\u001b[0m     nx\u001b[39m.\u001b[39;49mset_node_attributes(graph, node, \u001b[39m\"\u001b[39;49m\u001b[39mdegree\u001b[39;49m\u001b[39m\"\u001b[39;49m, degree_hvs[graph\u001b[39m.\u001b[39;49mdegree[node]])\n\u001b[1;32m      <a href='vscode-notebook-cell:/home/p4ssenger/Src/hdc/isomorphism/poc.ipynb#W2sZmlsZQ%3D%3D?line=6'>7</a>\u001b[0m     \u001b[39mprint\u001b[39m(degree_hvs[graph\u001b[39m.\u001b[39mdegree[node]])\n\u001b[1;32m      <a href='vscode-notebook-cell:/home/p4ssenger/Src/hdc/isomorphism/poc.ipynb#W2sZmlsZQ%3D%3D?line=7'>8</a>\u001b[0m \u001b[39mprint\u001b[39m(graph\u001b[39m.\u001b[39mdegree)\n",
      "\u001b[0;31mTypeError\u001b[0m: set_node_attributes() takes from 2 to 3 positional arguments but 4 were given"
     ]
    }
   ],
   "source": [
    "def encode(graph, degree_hvs: torchhd.VSATensor):\n",
    "    for node in graph.nodes:\n",
    "        print(node)\n",
    "        print(graph.degree[node])\n",
    "        degree_dict = graph.degree[node]\n",
    "\n",
    "        nx.set_node_attributes(graph, node, \"degree\", degree_hvs[graph.degree[node]])\n",
    "        print(degree_hvs[graph.degree[node]])\n",
    "    print(graph.degree)\n",
    "    # nx.set_node_attributes(graph, nx.degree(graph), \"degree\")\n",
    "    # print(graph.nodes.data())\n",
    "\n",
    "\n",
    "DIMENSIONS = 10000\n",
    "NODES, EDGES = 30, 100\n",
    "\n",
    "# graphs = []\n",
    "\n",
    "# _, max = min_max_graph_size(graphs)\n",
    "\n",
    "degree_hvs = torchhd.random(25, DIMENSIONS)\n",
    "\n",
    "g = nx.gnm_random_graph(NODES, EDGES)\n",
    "encode(g, degree_hvs)"
   ]
  }
 ],
 "metadata": {
  "kernelspec": {
   "display_name": "Python 3",
   "language": "python",
   "name": "python3"
  },
  "language_info": {
   "codemirror_mode": {
    "name": "ipython",
    "version": 3
   },
   "file_extension": ".py",
   "mimetype": "text/x-python",
   "name": "python",
   "nbconvert_exporter": "python",
   "pygments_lexer": "ipython3",
   "version": "3.10.12"
  }
 },
 "nbformat": 4,
 "nbformat_minor": 2
}
