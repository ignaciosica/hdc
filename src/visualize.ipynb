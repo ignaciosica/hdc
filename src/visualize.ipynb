{
 "cells": [
  {
   "cell_type": "code",
   "execution_count": 10,
   "metadata": {},
   "outputs": [
    {
     "name": "stdout",
     "output_type": "stream",
     "text": [
      "Using cuda device\n"
     ]
    }
   ],
   "source": [
    "import torch\n",
    "import torch.nn as nn\n",
    "import torch.nn.functional as F\n",
    "from tqdm import tqdm\n",
    "import time\n",
    "\n",
    "from torch_geometric.datasets import TUDataset\n",
    "import torchmetrics\n",
    "\n",
    "import torchhd\n",
    "from torchhd import embeddings\n",
    "from torchhd.models import Centroid\n",
    "\n",
    "import numpy as np\n",
    "\n",
    "device = torch.device(\"cuda\" if torch.cuda.is_available() else \"cpu\")\n",
    "print(\"Using {} device\".format(device))\n",
    "\n",
    "\n",
    "import pandas as pd\n",
    "from sklearn.manifold import TSNE, MDS\n",
    "import numpy as np\n",
    "from ast import literal_eval\n",
    "\n",
    "\n",
    "import matplotlib.pyplot as plt\n",
    "import matplotlib\n",
    "import numpy as np\n",
    "\n",
    "from IPython.display import clear_output\n",
    "\n",
    "import pandas as pd\n",
    "\n",
    "\n",
    "RANDOM_SEED = 42"
   ]
  },
  {
   "cell_type": "code",
   "execution_count": 36,
   "metadata": {},
   "outputs": [
    {
     "name": "stdout",
     "output_type": "stream",
     "text": [
      "Testing NCI1\n"
     ]
    },
    {
     "name": "stderr",
     "output_type": "stream",
     "text": [
      "Training: 100%|██████████| 2877/2877 [00:02<00:00, 977.09it/s]\n",
      "Testing_: 100%|██████████| 1233/1233 [00:01<00:00, 679.04it/s]\n"
     ]
    },
    {
     "name": "stdout",
     "output_type": "stream",
     "text": [
      "Test: f1-score of 65.126%\n"
     ]
    }
   ],
   "source": [
    "def degree_centrality(G):\n",
    "    \"\"\"\n",
    "    Compute the degree centrality for nodes.\n",
    "    \"\"\"\n",
    "    _, columns = G.edge_index\n",
    "    degree = torch.bincount(columns, minlength=G.num_nodes)\n",
    "    return degree / G.num_nodes\n",
    "\n",
    "\n",
    "def to_undirected(edge_index):\n",
    "    \"\"\"\n",
    "    Returns the undirected edge_index\n",
    "    [[0, 1], [1, 0]] will result in [[0], [1]]\n",
    "    \"\"\"\n",
    "    edge_index = edge_index.sort(dim=0)[0]\n",
    "    edge_index = torch.unique(edge_index, dim=1)\n",
    "    return edge_index\n",
    "\n",
    "\n",
    "def min_max_graph_size(graph_dataset):\n",
    "    if len(graph_dataset) == 0:\n",
    "        return None, None\n",
    "\n",
    "    max_num_nodes = float(\"-inf\")\n",
    "    min_num_nodes = float(\"inf\")\n",
    "\n",
    "    for G in graph_dataset:\n",
    "        num_nodes = G.num_nodes\n",
    "        max_num_nodes = max(max_num_nodes, num_nodes)\n",
    "        min_num_nodes = min(min_num_nodes, num_nodes)\n",
    "\n",
    "    return min_num_nodes, max_num_nodes\n",
    "\n",
    "\n",
    "# def encode_features():\n",
    "\n",
    "\n",
    "class Encoder(nn.Module):\n",
    "    def __init__(self, out_features, size, node_features=1):\n",
    "        super(Encoder, self).__init__()\n",
    "        self.out_features = out_features\n",
    "        self.node_ids = embeddings.Random(size, out_features)\n",
    "        self.node_features = embeddings.Random(node_features, out_features)\n",
    "\n",
    "    def forward(self, x):\n",
    "        pr = degree_centrality(x)\n",
    "        _, pr_argsort = pr.sort()\n",
    "\n",
    "        node_id_hvs = torch.zeros((x.num_nodes, self.out_features), device=device)\n",
    "        node_id_hvs[pr_argsort] = self.node_ids.weight[: x.num_nodes]\n",
    "\n",
    "        features = torch.unsqueeze(self.node_features.weight, 0).expand(x.num_nodes, -1, -1)\n",
    "        features = features[x.x.bool(), :]\n",
    "\n",
    "        node_id_hvs = torchhd.bind(node_id_hvs, features)\n",
    "\n",
    "        row, col = to_undirected(x.edge_index)\n",
    "\n",
    "        hvs = torchhd.bind(node_id_hvs[row], node_id_hvs[col])\n",
    "        return torchhd.multiset(hvs)\n",
    "\n",
    "\n",
    "DIMENSIONS = 10000\n",
    "\n",
    "dataset = \"NCI1\"\n",
    "print(f\"Testing {dataset}\")\n",
    "\n",
    "graphs = TUDataset(\"../data\", dataset)\n",
    "train_size = int(0.7 * len(graphs))\n",
    "test_size = len(graphs) - train_size\n",
    "\n",
    "torch.manual_seed(RANDOM_SEED)\n",
    "train_ld, test_ld = torch.utils.data.random_split(graphs, [train_size, test_size])\n",
    "\n",
    "min_graph_size, max_graph_size = min_max_graph_size(graphs)\n",
    "\n",
    "encoder = Encoder(DIMENSIONS, max_graph_size, node_features=graphs.num_node_features)\n",
    "encoder = encoder.to(device)\n",
    "\n",
    "model = Centroid(DIMENSIONS, graphs.num_classes)\n",
    "model = model.to(device)\n",
    "\n",
    "matrix = torch.zeros((len(test_ld) + len(train_ld), DIMENSIONS), device=device)\n",
    "true_labels = torch.zeros((len(test_ld) + len(train_ld),))\n",
    "\n",
    "\n",
    "with torch.no_grad():\n",
    "    for index, samples in enumerate(tqdm(train_ld, desc=\"Training\")):\n",
    "        samples.edge_index = samples.edge_index.to(device)\n",
    "        samples.y = samples.y.to(device)\n",
    "\n",
    "        test_samples_hv = encoder(samples).unsqueeze(0)\n",
    "        model.add(test_samples_hv, samples.y)\n",
    "\n",
    "        matrix[index] = test_samples_hv\n",
    "        true_labels[index] = samples.y.item()\n",
    "\n",
    "\n",
    "f1score = torchmetrics.F1Score(\"multiclass\", num_classes=graphs.num_classes)\n",
    "\n",
    "model.normalize()\n",
    "incorrect = torch.zeros((0,), dtype=torch.int)\n",
    "\n",
    "for index, samples in enumerate(tqdm(test_ld, desc=\"Testing_\")):\n",
    "    samples.edge_index = samples.edge_index.to(device)\n",
    "\n",
    "    test_samples_hv = encoder(samples).unsqueeze(0)\n",
    "    matrix[index + len(train_ld)] = test_samples_hv\n",
    "    test_outputs = model(test_samples_hv, dot=True)\n",
    "\n",
    "    true_labels[index + len(train_ld)] = samples.y.item()\n",
    "\n",
    "    f1score.update(test_outputs.cpu(), samples.y)\n",
    "    if test_outputs.cpu().argmax() != samples.y:\n",
    "        incorrect = torch.cat((incorrect, torch.tensor([index])), 0)\n",
    "\n",
    "print(f\"Test: f1-score of {f1score.compute().item() * 100:.3f}%\")\n",
    "\n",
    "mat = torch.cat((model.weight, matrix))"
   ]
  },
  {
   "cell_type": "code",
   "execution_count": 28,
   "metadata": {},
   "outputs": [
    {
     "name": "stdout",
     "output_type": "stream",
     "text": [
      "TUDataset (#graphs=1113):\n",
      "+------------+----------+----------+\n",
      "|            |   #nodes |   #edges |\n",
      "|------------+----------+----------|\n",
      "| mean       |     39.1 |    145.6 |\n",
      "| std        |     45.8 |    169.3 |\n",
      "| min        |      4   |     10   |\n",
      "| quantile25 |     15   |     56   |\n",
      "| median     |     26   |     98   |\n",
      "| quantile75 |     45   |    174   |\n",
      "| max        |    620   |   2098   |\n",
      "+------------+----------+----------+\n"
     ]
    }
   ],
   "source": [
    "graphs.print_summary()"
   ]
  },
  {
   "cell_type": "code",
   "execution_count": 89,
   "metadata": {},
   "outputs": [
    {
     "data": {
      "image/png": "[encoded data removed]",
      "text/plain": [
       "<Figure size 640x480 with 1 Axes>"
      ]
     },
     "metadata": {},
     "output_type": "display_data"
    }
   ],
   "source": [
    "tsne = TSNE(n_components=2, metric=\"cosine\", random_state=RANDOM_SEED, perplexity=15)\n",
    "vis_dims = tsne.fit_transform(mat.cpu())\n",
    "colors = [\"blue\", \"green\"]\n",
    "X = np.array([x for x, _ in vis_dims])\n",
    "xtrain = X[model.weight.size(0) : len(train_ld) + model.weight.size(0)]\n",
    "xtest = X[len(train_ld) + model.weight.size(0) :]\n",
    "Y = np.array([y for _, y in vis_dims])\n",
    "ytrain = Y[model.weight.size(0) : len(train_ld) + model.weight.size(0)]\n",
    "ytest = Y[len(train_ld) + model.weight.size(0) :]\n",
    "\n",
    "color_indices = true_labels\n",
    "ci_train = color_indices[: len(train_ld)]\n",
    "ci_test = color_indices[len(train_ld) :]\n",
    "\n",
    "\n",
    "colormap = matplotlib.colors.ListedColormap(colors)\n",
    "\n",
    "mask = np.ones(len(test_ld), dtype=bool)\n",
    "mask[incorrect] = False\n",
    "\n",
    "plt.scatter(xtest[mask], ytest[mask], c=ci_test[mask], cmap=colormap, alpha=0.3)\n",
    "\n",
    "plt.scatter(xtest[incorrect], ytest[incorrect], c=ci_test[incorrect], cmap=colormap, alpha=0.6, marker=\"x\")\n",
    "\n",
    "plt.scatter(xtrain, ytrain, c=ci_train, cmap=colormap, alpha=0.2, marker=\".\")\n",
    "\n",
    "plt.scatter(X[: model.weight.size(0)], Y[: model.weight.size(0)], c=[0, 1], cmap=colormap, marker=\"s\")\n",
    "\n",
    "plt.show(block=True)"
   ]
  },
  {
   "cell_type": "code",
   "execution_count": 37,
   "metadata": {},
   "outputs": [
    {
     "ename": "IndexError",
     "evalue": "boolean index did not match indexed array along dimension 0; dimension is 1113 but corresponding boolean dimension is 334",
     "output_type": "error",
     "traceback": [
      "\u001b[0;31m---------------------------------------------------------------------------\u001b[0m",
      "\u001b[0;31mIndexError\u001b[0m                                Traceback (most recent call last)",
      "\u001b[1;32m/home/p4ssenger/Src/hdc/src/visualize.ipynb Cell 4\u001b[0m line \u001b[0;36m1\n\u001b[1;32m     <a href='vscode-notebook-cell:/home/p4ssenger/Src/hdc/src/visualize.ipynb#W3sZmlsZQ%3D%3D?line=12'>13</a>\u001b[0m mask \u001b[39m=\u001b[39m np\u001b[39m.\u001b[39mones(\u001b[39mlen\u001b[39m(test_ld), dtype\u001b[39m=\u001b[39m\u001b[39mbool\u001b[39m)\n\u001b[1;32m     <a href='vscode-notebook-cell:/home/p4ssenger/Src/hdc/src/visualize.ipynb#W3sZmlsZQ%3D%3D?line=13'>14</a>\u001b[0m mask[incorrect] \u001b[39m=\u001b[39m \u001b[39mFalse\u001b[39;00m\n\u001b[0;32m---> <a href='vscode-notebook-cell:/home/p4ssenger/Src/hdc/src/visualize.ipynb#W3sZmlsZQ%3D%3D?line=15'>16</a>\u001b[0m plt\u001b[39m.\u001b[39mscatter(x[mask], y[mask], c\u001b[39m=\u001b[39mcolor_indices[mask], cmap\u001b[39m=\u001b[39mcolormap, alpha\u001b[39m=\u001b[39m\u001b[39m0.3\u001b[39m)\n\u001b[1;32m     <a href='vscode-notebook-cell:/home/p4ssenger/Src/hdc/src/visualize.ipynb#W3sZmlsZQ%3D%3D?line=17'>18</a>\u001b[0m plt\u001b[39m.\u001b[39mscatter(x[incorrect], y[incorrect], c\u001b[39m=\u001b[39mcolor_indices[incorrect], cmap\u001b[39m=\u001b[39mcolormap, alpha\u001b[39m=\u001b[39m\u001b[39m0.6\u001b[39m, marker\u001b[39m=\u001b[39m\u001b[39m\"\u001b[39m\u001b[39mx\u001b[39m\u001b[39m\"\u001b[39m)\n\u001b[1;32m     <a href='vscode-notebook-cell:/home/p4ssenger/Src/hdc/src/visualize.ipynb#W3sZmlsZQ%3D%3D?line=19'>20</a>\u001b[0m plt\u001b[39m.\u001b[39mscatter(X[: model\u001b[39m.\u001b[39mweight\u001b[39m.\u001b[39msize(\u001b[39m0\u001b[39m)], Y[: model\u001b[39m.\u001b[39mweight\u001b[39m.\u001b[39msize(\u001b[39m0\u001b[39m)], c\u001b[39m=\u001b[39m[\u001b[39m0\u001b[39m, \u001b[39m1\u001b[39m], cmap\u001b[39m=\u001b[39mcolormap, marker\u001b[39m=\u001b[39m\u001b[39m\"\u001b[39m\u001b[39ms\u001b[39m\u001b[39m\"\u001b[39m)\n",
      "\u001b[0;31mIndexError\u001b[0m: boolean index did not match indexed array along dimension 0; dimension is 1113 but corresponding boolean dimension is 334"
     ]
    }
   ],
   "source": [
    "tsne = TSNE(n_components=2, metric=\"cosine\", random_state=42, perplexity=15)\n",
    "vis_dims = tsne.fit_transform(mat.cpu())\n",
    "colors = [\"blue\", \"green\"]\n",
    "X = np.array([x for x, _ in vis_dims])\n",
    "x = X[model.weight.size(0) :]\n",
    "Y = np.array([y for _, y in vis_dims])\n",
    "y = Y[model.weight.size(0) :]\n",
    "color_indices = true_labels\n",
    "\n",
    "\n",
    "colormap = matplotlib.colors.ListedColormap(colors)\n",
    "\n",
    "mask = np.ones(len(test_ld), dtype=bool)\n",
    "mask[incorrect] = False\n",
    "\n",
    "plt.scatter(x[mask], y[mask], c=color_indices[mask], cmap=colormap, alpha=0.3)\n",
    "\n",
    "plt.scatter(x[incorrect], y[incorrect], c=color_indices[incorrect], cmap=colormap, alpha=0.6, marker=\"x\")\n",
    "\n",
    "plt.scatter(X[: model.weight.size(0)], Y[: model.weight.size(0)], c=[0, 1], cmap=colormap, marker=\"s\")\n",
    "\n",
    "plt.show(block=True)"
   ]
  },
  {
   "cell_type": "code",
   "execution_count": 9,
   "metadata": {},
   "outputs": [
    {
     "ename": "ValueError",
     "evalue": "DataFrame constructor not properly called!",
     "output_type": "error",
     "traceback": [
      "\u001b[0;31m---------------------------------------------------------------------------\u001b[0m",
      "\u001b[0;31mValueError\u001b[0m                                Traceback (most recent call last)",
      "\u001b[0;32m/tmp/ipykernel_24500/3402379824.py\u001b[0m in \u001b[0;36m?\u001b[0;34m()\u001b[0m\n\u001b[1;32m      1\u001b[0m \u001b[0;32mimport\u001b[0m \u001b[0mpandas\u001b[0m \u001b[0;32mas\u001b[0m \u001b[0mpd\u001b[0m\u001b[0;34m\u001b[0m\u001b[0;34m\u001b[0m\u001b[0m\n\u001b[1;32m      2\u001b[0m \u001b[0;34m\u001b[0m\u001b[0m\n\u001b[0;32m----> 3\u001b[0;31m \u001b[0mpd\u001b[0m\u001b[0;34m.\u001b[0m\u001b[0mDataFrame\u001b[0m\u001b[0;34m(\u001b[0m\u001b[0mgraphs\u001b[0m\u001b[0;34m)\u001b[0m\u001b[0;34m\u001b[0m\u001b[0;34m\u001b[0m\u001b[0m\n\u001b[0m",
      "\u001b[0;32m~/.local/lib/python3.10/site-packages/pandas/core/frame.py\u001b[0m in \u001b[0;36m?\u001b[0;34m(self, data, index, columns, dtype, copy)\u001b[0m\n\u001b[1;32m    813\u001b[0m                 )\n\u001b[1;32m    814\u001b[0m         \u001b[0;31m# For data is scalar\u001b[0m\u001b[0;34m\u001b[0m\u001b[0;34m\u001b[0m\u001b[0m\n\u001b[1;32m    815\u001b[0m         \u001b[0;32melse\u001b[0m\u001b[0;34m:\u001b[0m\u001b[0;34m\u001b[0m\u001b[0;34m\u001b[0m\u001b[0m\n\u001b[1;32m    816\u001b[0m             \u001b[0;32mif\u001b[0m \u001b[0mindex\u001b[0m \u001b[0;32mis\u001b[0m \u001b[0;32mNone\u001b[0m \u001b[0;32mor\u001b[0m \u001b[0mcolumns\u001b[0m \u001b[0;32mis\u001b[0m \u001b[0;32mNone\u001b[0m\u001b[0;34m:\u001b[0m\u001b[0;34m\u001b[0m\u001b[0;34m\u001b[0m\u001b[0m\n\u001b[0;32m--> 817\u001b[0;31m                 \u001b[0;32mraise\u001b[0m \u001b[0mValueError\u001b[0m\u001b[0;34m(\u001b[0m\u001b[0;34m\"DataFrame constructor not properly called!\"\u001b[0m\u001b[0;34m)\u001b[0m\u001b[0;34m\u001b[0m\u001b[0;34m\u001b[0m\u001b[0m\n\u001b[0m\u001b[1;32m    818\u001b[0m \u001b[0;34m\u001b[0m\u001b[0m\n\u001b[1;32m    819\u001b[0m             \u001b[0mindex\u001b[0m \u001b[0;34m=\u001b[0m \u001b[0mensure_index\u001b[0m\u001b[0;34m(\u001b[0m\u001b[0mindex\u001b[0m\u001b[0;34m)\u001b[0m\u001b[0;34m\u001b[0m\u001b[0;34m\u001b[0m\u001b[0m\n\u001b[1;32m    820\u001b[0m             \u001b[0mcolumns\u001b[0m \u001b[0;34m=\u001b[0m \u001b[0mensure_index\u001b[0m\u001b[0;34m(\u001b[0m\u001b[0mcolumns\u001b[0m\u001b[0;34m)\u001b[0m\u001b[0;34m\u001b[0m\u001b[0;34m\u001b[0m\u001b[0m\n",
      "\u001b[0;31mValueError\u001b[0m: DataFrame constructor not properly called!"
     ]
    }
   ],
   "source": []
  }
 ],
 "metadata": {
  "kernelspec": {
   "display_name": "Python 3",
   "language": "python",
   "name": "python3"
  },
  "language_info": {
   "codemirror_mode": {
    "name": "ipython",
    "version": 3
   },
   "file_extension": ".py",
   "mimetype": "text/x-python",
   "name": "python",
   "nbconvert_exporter": "python",
   "pygments_lexer": "ipython3",
   "version": "3.10.12"
  }
 },
 "nbformat": 4,
 "nbformat_minor": 2
}
