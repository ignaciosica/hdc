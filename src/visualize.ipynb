{
 "cells": [
  {
   "cell_type": "code",
   "execution_count": 2,
   "metadata": {},
   "outputs": [
    {
     "name": "stdout",
     "output_type": "stream",
     "text": [
      "Using cuda device\n"
     ]
    }
   ],
   "source": [
    "import torch\n",
    "import torch.nn as nn\n",
    "import torch.nn.functional as F\n",
    "from tqdm import tqdm\n",
    "import time\n",
    "\n",
    "from torch_geometric.datasets import TUDataset\n",
    "import torchmetrics\n",
    "\n",
    "import torchhd\n",
    "from torchhd import embeddings\n",
    "from torchhd.models import Centroid\n",
    "\n",
    "import numpy as np\n",
    "\n",
    "device = torch.device(\"cuda\" if torch.cuda.is_available() else \"cpu\")\n",
    "print(\"Using {} device\".format(device))\n",
    "\n",
    "import pandas as pd\n",
    "from sklearn.manifold import TSNE\n",
    "import numpy as np\n",
    "from ast import literal_eval\n",
    "\n",
    "\n",
    "import matplotlib.pyplot as plt\n",
    "import matplotlib\n",
    "import numpy as np"
   ]
  },
  {
   "cell_type": "code",
   "execution_count": 3,
   "metadata": {},
   "outputs": [
    {
     "name": "stdout",
     "output_type": "stream",
     "text": [
      "Testing PROTEINS\n"
     ]
    },
    {
     "name": "stderr",
     "output_type": "stream",
     "text": [
      "Training: 100%|██████████| 779/779 [00:00<00:00, 1642.74it/s]\n",
      "Testing_: 100%|██████████| 334/334 [00:00<00:00, 435.74it/s]"
     ]
    },
    {
     "name": "stdout",
     "output_type": "stream",
     "text": [
      "Test: f1-score of 66.168%\n",
      "Time: 1.246s\n"
     ]
    },
    {
     "name": "stderr",
     "output_type": "stream",
     "text": [
      "\n"
     ]
    }
   ],
   "source": [
    "def degree_centrality(G):\n",
    "    \"\"\"\n",
    "    Compute the degree centrality for nodes.\n",
    "    \"\"\"\n",
    "    _, columns = G.edge_index\n",
    "    degree = torch.bincount(columns, minlength=G.num_nodes)\n",
    "    return degree / G.num_nodes\n",
    "\n",
    "\n",
    "def to_undirected(edge_index):\n",
    "    \"\"\"\n",
    "    Returns the undirected edge_index\n",
    "    [[0, 1], [1, 0]] will result in [[0], [1]]\n",
    "    \"\"\"\n",
    "    edge_index = edge_index.sort(dim=0)[0]\n",
    "    edge_index = torch.unique(edge_index, dim=1)\n",
    "    return edge_index\n",
    "\n",
    "\n",
    "def min_max_graph_size(graph_dataset):\n",
    "    if len(graph_dataset) == 0:\n",
    "        return None, None\n",
    "\n",
    "    max_num_nodes = float(\"-inf\")\n",
    "    min_num_nodes = float(\"inf\")\n",
    "\n",
    "    for G in graph_dataset:\n",
    "        num_nodes = G.num_nodes\n",
    "        max_num_nodes = max(max_num_nodes, num_nodes)\n",
    "        min_num_nodes = min(min_num_nodes, num_nodes)\n",
    "\n",
    "    return min_num_nodes, max_num_nodes\n",
    "\n",
    "\n",
    "class Encoder(nn.Module):\n",
    "    def __init__(self, out_features, size):\n",
    "        super(Encoder, self).__init__()\n",
    "        self.out_features = out_features\n",
    "        self.node_ids = embeddings.Random(size, out_features)\n",
    "\n",
    "    def forward(self, x):\n",
    "        pr = degree_centrality(x)\n",
    "        _, pr_argsort = pr.sort()\n",
    "\n",
    "        node_id_hvs = torch.zeros((x.num_nodes, self.out_features), device=device)\n",
    "        node_id_hvs[pr_argsort] = self.node_ids.weight[: x.num_nodes]\n",
    "\n",
    "        row, col = to_undirected(x.edge_index)\n",
    "\n",
    "        hvs = torchhd.bind(node_id_hvs[row], node_id_hvs[col])\n",
    "        return torchhd.multiset(hvs)\n",
    "\n",
    "\n",
    "DIMENSIONS = 10000\n",
    "\n",
    "dataset = \"PROTEINS\"\n",
    "print(f\"Testing {dataset}\")\n",
    "\n",
    "graphs = TUDataset(\"../data\", dataset)\n",
    "train_size = int(0.7 * len(graphs))\n",
    "test_size = len(graphs) - train_size\n",
    "\n",
    "train_ld, test_ld = torch.utils.data.random_split(graphs, [train_size, test_size])\n",
    "\n",
    "min_graph_size, max_graph_size = min_max_graph_size(graphs)\n",
    "\n",
    "encoder = Encoder(DIMENSIONS, max_graph_size)\n",
    "encoder = encoder.to(device)\n",
    "\n",
    "model = Centroid(DIMENSIONS, graphs.num_classes)\n",
    "model = model.to(device)\n",
    "\n",
    "start = time.time()\n",
    "\n",
    "with torch.no_grad():\n",
    "    for samples in tqdm(train_ld, desc=\"Training\"):\n",
    "        samples.edge_index = samples.edge_index.to(device)\n",
    "        samples.y = samples.y.to(device)\n",
    "\n",
    "        test_samples_hv = encoder(samples).unsqueeze(0)\n",
    "        model.add(test_samples_hv, samples.y)\n",
    "\n",
    "f1score = torchmetrics.F1Score(\"multiclass\", num_classes=graphs.num_classes)\n",
    "\n",
    "with torch.no_grad():\n",
    "    model.normalize()\n",
    "\n",
    "    for index, samples in enumerate(tqdm(test_ld, desc=\"Testing_\")):\n",
    "        samples.edge_index = samples.edge_index.to(device)\n",
    "\n",
    "        test_samples_hv = encoder(samples).unsqueeze(0)\n",
    "        test_outputs = model(test_samples_hv, dot=True)\n",
    "\n",
    "        f1score.update(test_outputs.cpu(), samples.y)\n",
    "\n",
    "end = time.time()\n",
    "\n",
    "print(f\"Test: f1-score of {f1score.compute().item() * 100:.3f}%\")\n",
    "print(f\"Time: {(end - start):.3f}s\")"
   ]
  },
  {
   "cell_type": "code",
   "execution_count": 73,
   "metadata": {},
   "outputs": [
    {
     "name": "stdout",
     "output_type": "stream",
     "text": [
      "Testing PTC_FM\n"
     ]
    },
    {
     "name": "stderr",
     "output_type": "stream",
     "text": [
      "Training: 100%|██████████| 244/244 [00:00<00:00, 1616.44it/s]\n",
      "Testing_: 100%|██████████| 105/105 [00:00<00:00, 1024.47it/s]"
     ]
    },
    {
     "name": "stdout",
     "output_type": "stream",
     "text": [
      "Test: f1-score of 60.000%\n",
      "Time: 0.258s\n"
     ]
    },
    {
     "name": "stderr",
     "output_type": "stream",
     "text": [
      "\n"
     ]
    }
   ],
   "source": [
    "DIMENSIONS = 10000\n",
    "\n",
    "dataset = \"PTC_FM\"\n",
    "print(f\"Testing {dataset}\")\n",
    "\n",
    "graphs = TUDataset(\"../data\", dataset)\n",
    "train_size = int(0.7 * len(graphs))\n",
    "test_size = len(graphs) - train_size\n",
    "\n",
    "train_ld, test_ld = torch.utils.data.random_split(graphs, [train_size, test_size])\n",
    "\n",
    "min_graph_size, max_graph_size = min_max_graph_size(graphs)\n",
    "\n",
    "encoder = Encoder(DIMENSIONS, max_graph_size)\n",
    "encoder = encoder.to(device)\n",
    "\n",
    "model = Centroid(DIMENSIONS, graphs.num_classes)\n",
    "model = model.to(device)\n",
    "\n",
    "start = time.time()\n",
    "\n",
    "with torch.no_grad():\n",
    "    for samples in tqdm(train_ld, desc=\"Training\"):\n",
    "        samples.edge_index = samples.edge_index.to(device)\n",
    "        samples.y = samples.y.to(device)\n",
    "\n",
    "        test_samples_hv = encoder(samples).unsqueeze(0)\n",
    "        model.add(test_samples_hv, samples.y)\n",
    "\n",
    "\n",
    "f1score = torchmetrics.F1Score(\"multiclass\", num_classes=graphs.num_classes)\n",
    "\n",
    "model.normalize()\n",
    "matrix = torch.zeros((len(test_ld), DIMENSIONS))\n",
    "incorrect = torch.zeros((0,), dtype=torch.int)\n",
    "true_labels = torch.zeros((len(test_ld),))\n",
    "\n",
    "\n",
    "for index, samples in enumerate(tqdm(test_ld, desc=\"Testing_\")):\n",
    "    samples.edge_index = samples.edge_index.to(device)\n",
    "\n",
    "    test_samples_hv = encoder(samples).unsqueeze(0)\n",
    "    matrix[index] = test_samples_hv\n",
    "    test_outputs = model(test_samples_hv, dot=True)\n",
    "\n",
    "    true_labels[index] = samples.y.item()\n",
    "\n",
    "    f1score.update(test_outputs.cpu(), samples.y)\n",
    "    if test_outputs.cpu().argmax() != samples.y:\n",
    "        incorrect = torch.cat((incorrect, torch.tensor([index])), 0)\n",
    "        # incorrect_prediction[index] = index\n",
    "\n",
    "\n",
    "end = time.time()\n",
    "\n",
    "print(f\"Test: f1-score of {f1score.compute().item() * 100:.3f}%\")\n",
    "print(f\"Time: {(end - start):.3f}s\")"
   ]
  },
  {
   "cell_type": "code",
   "execution_count": 79,
   "metadata": {},
   "outputs": [
    {
     "data": {
      "image/png": "[encoded data removed]",
      "text/plain": [
       "<Figure size 640x480 with 1 Axes>"
      ]
     },
     "metadata": {},
     "output_type": "display_data"
    }
   ],
   "source": [
    "tsne = TSNE(n_components=2, metric=\"cosine\", random_state=42, perplexity=(len(test_ld) - 1) / 2)\n",
    "vis_dims = tsne.fit_transform(matrix)\n",
    "colors = [\"blue\", \"green\"]\n",
    "x = np.array([x for x, _ in vis_dims])\n",
    "y = np.array([y for _, y in vis_dims])\n",
    "color_indices = true_labels\n",
    "\n",
    "colormap = matplotlib.colors.ListedColormap(colors)\n",
    "\n",
    "mask = np.ones(len(test_ld), dtype=bool)\n",
    "mask[incorrect] = False\n",
    "\n",
    "plt.scatter(x[mask], y[mask], c=color_indices[mask], cmap=colormap, alpha=0.3)\n",
    "\n",
    "plt.scatter(x[incorrect], y[incorrect], c=color_indices[incorrect], cmap=colormap, alpha=0.6, marker=\"x\")\n",
    "\n",
    "plt.show(block=True)"
   ]
  }
 ],
 "metadata": {
  "kernelspec": {
   "display_name": "Python 3",
   "language": "python",
   "name": "python3"
  },
  "language_info": {
   "codemirror_mode": {
    "name": "ipython",
    "version": 3
   },
   "file_extension": ".py",
   "mimetype": "text/x-python",
   "name": "python",
   "nbconvert_exporter": "python",
   "pygments_lexer": "ipython3",
   "version": "3.10.12"
  }
 },
 "nbformat": 4,
 "nbformat_minor": 2
}
